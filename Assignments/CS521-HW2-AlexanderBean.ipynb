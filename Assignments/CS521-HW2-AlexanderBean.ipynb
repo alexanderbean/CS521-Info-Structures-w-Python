{
 "cells": [
  {
   "cell_type": "markdown",
   "metadata": {},
   "source": [
    "# CS521 - Homework 2 - Alexander Bean"
   ]
  },
  {
   "cell_type": "markdown",
   "metadata": {},
   "source": [
    "### 1. The PEMDAS Rule\n",
    "\n",
    "Evaluate the following expressions. Explain step-by-step how you arrived at the solution. Points will not be given unless you explain exactly how you employed the operator precedence table in Table 2.2 of the textbook to solve the problem. Read Sec. 2.2.4 and 2.2.5 carefully before answering this question."
   ]
  },
  {
   "cell_type": "code",
   "execution_count": 1,
   "metadata": {},
   "outputs": [
    {
     "data": {
      "text/plain": [
       "True"
      ]
     },
     "execution_count": 1,
     "metadata": {},
     "output_type": "execute_result"
    }
   ],
   "source": [
    "# a. (3 ** 2 * 2 + 1 > 10) and (15 / 3 - 2 == 3)\n",
    "\n",
    "# (3 ** 2 * 2 + 1 > 10) and (15 / 3 - 2 == 3)\n",
    "# (9 * 2 + 1 > 10) and (15 / 3 - 2 == 3)\n",
    "# (18 + 1 > 10) and (5 - 2 == 3)\n",
    "# (19 > 10) and (3 == 3)\n",
    "#   True    and   True\n",
    "#          TRUE\n",
    "\n",
    "(3 ** 2 * 2 + 1 > 10) and (15 / 3 - 2 == 3)"
   ]
  },
  {
   "cell_type": "code",
   "execution_count": 11,
   "metadata": {},
   "outputs": [
    {
     "data": {
      "text/plain": [
       "True"
      ]
     },
     "execution_count": 11,
     "metadata": {},
     "output_type": "execute_result"
    }
   ],
   "source": [
    "# b. (8 + 2 * 3) > (5 ** 2 / 5) or (6 - 1) == 4\n",
    "\n",
    "# (8 + 2 * 3) > (5 ** 2 / 5) or (6 - 1) == 4\n",
    "# (8 + 2 * 3) > (25 / 5) or (6 - 1) == 4\n",
    "# (8 + 6) > 5 or (6 - 1) == 4\n",
    "# 14 > 5 or 5 == 4\n",
    "#  True  or False\n",
    "#       TRUE\n",
    "\n",
    "(8 + 2 * 3) > (5 ** 2 / 5) or (6 - 1) == 4"
   ]
  },
  {
   "cell_type": "code",
   "execution_count": 10,
   "metadata": {},
   "outputs": [
    {
     "data": {
      "text/plain": [
       "False"
      ]
     },
     "execution_count": 10,
     "metadata": {},
     "output_type": "execute_result"
    }
   ],
   "source": [
    "# c. 4 + 6 ** 2 / 3 == 18 > 2 ** 4 - 5 ≤ 30\n",
    "\n",
    "# 4 + 6 ** 2 / 3 == 18 > 2 ** 4 - 5 <= 30\n",
    "# 4 + 36 / 3 == 18 > 16 - 5 <= 30\n",
    "# 4 + 12 == 18 > 16 - 5 <= 30\n",
    "# 16 == 18 > 11 <= 30\n",
    "\n",
    "4 + 6 ** 2 / 3 == 18 > 2 ** 4 - 5 <= 30"
   ]
  },
  {
   "cell_type": "code",
   "execution_count": 12,
   "metadata": {},
   "outputs": [
    {
     "data": {
      "text/plain": [
       "12.0"
      ]
     },
     "execution_count": 12,
     "metadata": {},
     "output_type": "execute_result"
    }
   ],
   "source": [
    "# d. value = not False and ((102%100) + 2 ** ((1 / 3) * (5 + 4)) + 5 // 2)\n",
    "\n",
    "# value = not False and ((102%100) + 2 ** ((1 / 3) * (5 + 4)) + 5 // 2)\n",
    "#                       \n",
    "\n",
    "value = not False and ((102%100) + 2 ** ((1 / 3) * (5 + 4)) + 5 // 2)\n"
   ]
  },
  {
   "cell_type": "code",
   "execution_count": 13,
   "metadata": {},
   "outputs": [
    {
     "data": {
      "text/plain": [
       "2"
      ]
     },
     "execution_count": 13,
     "metadata": {},
     "output_type": "execute_result"
    }
   ],
   "source": [
    "102%100"
   ]
  },
  {
   "cell_type": "markdown",
   "metadata": {},
   "source": [
    "### 2. Sets"
   ]
  },
  {
   "cell_type": "code",
   "execution_count": null,
   "metadata": {},
   "outputs": [],
   "source": [
    "# a. Given the sets:\n",
    "s1 = {'a','e','i','o','u'}\n",
    "s2 = {'a','e','i'}\n",
    "s3 = {'a','e','f','o'}\n",
    "# How will you use built-in set methods to find if s2 and s3 are subsets of s1? \n"
   ]
  },
  {
   "cell_type": "code",
   "execution_count": null,
   "metadata": {},
   "outputs": [],
   "source": [
    "# Given two sets 𝐴 and 𝐵, the Symmetric Difference between the two is defined as 𝐴ΔB = (𝐴 ∪ 𝐵) ∖ (𝐴𝐴 ∩𝐵𝐵).\n",
    "# Give two different methods by which you will find the symmetric difference between s1 and s3 above.\n",
    "# What built-in functions will you use for each method? \n",
    "\n"
   ]
  },
  {
   "cell_type": "markdown",
   "metadata": {},
   "source": [
    "### 3. Control Flow | Questions from Chapter 2"
   ]
  },
  {
   "cell_type": "code",
   "execution_count": 14,
   "metadata": {},
   "outputs": [
    {
     "name": "stdout",
     "output_type": "stream",
     "text": [
      "8\n"
     ]
    }
   ],
   "source": [
    "# 5. Control:\n",
    "\n",
    "# if my_var % 2:\n",
    "#   if my_var ** 3 != 27:\n",
    "#       my_var = my_var + 4\n",
    "#   else:\n",
    "#       my_var != 1.5\n",
    "# else:\n",
    "#   if my_var < 10:\n",
    "#       my_var *= 2\n",
    "#   else:\n",
    "#       my_var -= 2\n",
    "# print(my_var)\n",
    "\n",
    "# a. Find four values of my_var so each of the four assignment statements will be executed\n",
    "#    Each value should cause one assignment statement to be executed\n",
    "\n",
    "my_var = 10\n",
    "\n",
    "if my_var % 2:\n",
    "    if my_var ** 3 != 27:\n",
    "        my_var = my_var + 4\n",
    "    else:\n",
    "        my_var != 1.5\n",
    "else:\n",
    "    if my_var < 10:\n",
    "        my_var *= 2\n",
    "    else:\n",
    "        my_var -= 2\n",
    "print(my_var)\n",
    "\n",
    "# 1st: if my_var**3 != 27, my_var = my_var + 4\n",
    "#   \n",
    "# 2nd: else, my_var != 1.5\n",
    "#   This would be 3, because it is the only number where x ** 3 = 27. All other vars will not equal that.\n",
    "# 3rd: if my_var < 10, my_var *= 2\n",
    "#   \n",
    "# 4th: else, my_var -= 2\n",
    "#   \n",
    "\n",
    "# b. Find four *ranges* of my_var values that will cause each of the four assignment statements to be executed\n",
    "\n",
    "# 1st: if my_var**3 != 27, my_var = my_var + 4\n",
    "#   Any odd number, because any odd number % 2 will produce a 1 and the condition will be True.\n",
    "# 2nd: else, my_var != 1.5\n",
    "#   As mentioned in part a, 3 is the only number that satisfies these conditions.\n",
    "# 3rd:\n",
    "#   Any even number less than 10, so: 2, 4, 6, 8\n",
    "# 4th:\n",
    "#   Any even number above (and including) 10."
   ]
  },
  {
   "cell_type": "code",
   "execution_count": null,
   "metadata": {},
   "outputs": [],
   "source": [
    "# 27. (Quadratic formula) This formula that calculates roots for a quadratic equation \"ax**2 + bx + c\"\n",
    "#     is the quadratic formula \"x = [-b ± √(b2 - 4ac)]/2a\". Because the square root of a negative is\n",
    "#     imaginary, one can use the expression under the square root (known as the discriminant) to check\n",
    "#     for the type of root. If the discriminant is negative, the roots are imaginary. If the discriminant\n",
    "#     is zero, there is only one root. If the discriminant is positive, there are two roots.\n",
    "\n",
    "# a. Write a program that uses the quadratic formula to generate real roots, that is, ignores imaginary roots.\n",
    "#    Use the discriminant to determine whether there is one root or two roots and then prints the appropriate answer.\n",
    "\n",
    "\n",
    "\n",
    "# b. Python uses the lettler 'j' to represent the mathematical imaginary number 'i' (a convention used in electrical\n",
    "#    engineering). However, the Python 'j' must always be preceded by a number. That is, '1j' is equivalent to the\n",
    "#    mathematical 'i'. Add the ability to handle imaginary roots to your program.\n",
    "\n"
   ]
  },
  {
   "cell_type": "markdown",
   "metadata": {},
   "source": [
    "### 4. Flower Garden | Programming Project"
   ]
  },
  {
   "cell_type": "markdown",
   "metadata": {},
   "source": [
    "We will now continue from the “Simple Python Program” we discussed in Class 2 (see class notes on the website, or pages 38 – 41 of the textbook).\n",
    "\n",
    "This assignment will give you experience on the use of\n",
    "- Integers and floats\n",
    "- Mathematical operations\n",
    "- The float(), int(), round(), print(), and input()functions\n",
    "- Importing a Python module "
   ]
  }
 ],
 "metadata": {
  "kernelspec": {
   "display_name": "Python 3",
   "language": "python",
   "name": "python3"
  },
  "language_info": {
   "codemirror_mode": {
    "name": "ipython",
    "version": 3
   },
   "file_extension": ".py",
   "mimetype": "text/x-python",
   "name": "python",
   "nbconvert_exporter": "python",
   "pygments_lexer": "ipython3",
   "version": "3.12.5"
  }
 },
 "nbformat": 4,
 "nbformat_minor": 2
}
