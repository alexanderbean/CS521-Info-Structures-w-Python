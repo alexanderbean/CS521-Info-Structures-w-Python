{
 "cells": [
  {
   "cell_type": "markdown",
   "metadata": {},
   "source": [
    "#  CS521 - Class #13 - 12/05/24"
   ]
  },
  {
   "cell_type": "markdown",
   "metadata": {},
   "source": [
    "FINAL:\n",
    "- 50 questions\n",
    "- 100 minutes\n",
    "\n",
    "Practice questions\n",
    "- File I/O\n",
    "- Any() and all() function\n",
    "- OOP (only today's class and HW8)\n",
    "- ONE sorting question, just like the midterm\n",
    "\n",
    "---------------------------------------------------------------------------------------------------------------"
   ]
  },
  {
   "cell_type": "markdown",
   "metadata": {},
   "source": [
    "### Object Oriented Programming in Python\n",
    "\n",
    "Python has several built-in classes such as:\n",
    "- string\n",
    "- tuple\n",
    "- list\n",
    "- function\n",
    "- etc.\n",
    "\n",
    "Essentially, every time the user creates a Python object like a string or a list, they're creating an **instance** of a certain built-in class."
   ]
  },
  {
   "cell_type": "code",
   "execution_count": 2,
   "metadata": {},
   "outputs": [
    {
     "name": "stdout",
     "output_type": "stream",
     "text": [
      "<class 'str'>\n"
     ]
    }
   ],
   "source": [
    "my_string = \"Hello\"\n",
    "\n",
    "print(type(my_string))"
   ]
  },
  {
   "cell_type": "code",
   "execution_count": 3,
   "metadata": {},
   "outputs": [
    {
     "name": "stdout",
     "output_type": "stream",
     "text": [
      "<class 'tuple'>\n"
     ]
    }
   ],
   "source": [
    "my_tuple = (1, 3, 4, 5)\n",
    "\n",
    "print(type(my_tuple))"
   ]
  },
  {
   "cell_type": "code",
   "execution_count": 4,
   "metadata": {},
   "outputs": [
    {
     "name": "stdout",
     "output_type": "stream",
     "text": [
      "<class 'function'>\n"
     ]
    }
   ],
   "source": [
    "def my_function():\n",
    "    return 1 + 2 * 3\n",
    "\n",
    "print(type(my_function))"
   ]
  },
  {
   "cell_type": "markdown",
   "metadata": {},
   "source": [
    "### Associated with classes are functions, known as **methods**.\n",
    "\n",
    "- These methods use information about the object, as well as the object itself to return results, or change the current object.\n",
    "- NOTE how the method is called: <name_of_variable>.<name_of_method>()\n",
    "    - variables are instances of the class"
   ]
  },
  {
   "cell_type": "code",
   "execution_count": 5,
   "metadata": {},
   "outputs": [
    {
     "name": "stdout",
     "output_type": "stream",
     "text": [
      "[1, 2, 3, 4, 5]\n"
     ]
    }
   ],
   "source": [
    "my_list = [1, 4, 3, 2, 5]\n",
    "\n",
    "my_list.sort()\n",
    "\n",
    "print(my_list)"
   ]
  },
  {
   "cell_type": "markdown",
   "metadata": {},
   "source": [
    "Two Programming Paradigms\n",
    "- Procedural (or Functional) Programming\n",
    "- Object-Oriented Programming (OOP)\n",
    "\n",
    "- They differ significantly in their approach and structure"
   ]
  },
  {
   "cell_type": "markdown",
   "metadata": {},
   "source": [
    "- Procedural\n",
    "    - Focuses on functions (procedures) to perform tasks\n",
    "    - Program organized as a series of steps or tasks\n",
    "    - Functions, iteration, selection (control flow), etc.\n",
    "    - Data Handling: data generally separate from functions\n",
    "        - Functions operate on data passed to them as arguments\n",
    "        - ex. def my_func(x=10): return x ** 2\n",
    "    - ex. Fortran, Cobol, C (early on), etc.\n",
    "    \n",
    "    - Limitations:\n",
    "        - Scalability: does not scale to very large projects\n",
    "        - Reusability: functions can be reused, but require manual effort to ensure they work in different environments\n",
    "            - Modularizaton: even with functions, large programs can get complex enough that tracking program flow becomes challenging\n",
    "            - Large chunks of code (data and functions) might sometimes need to be customized and reused in different situations (inheritance)\n",
    "                - Inheritence: create own class based on another class and add code/features\n",
    "        - Poor data security and maintenance challenges due to the global nature of data\n",
    "        - Redefining operators: built-in operators cannot be redefined to expand their scope and functions"
   ]
  },
  {
   "cell_type": "markdown",
   "metadata": {},
   "source": [
    "- Object-Oriented\n",
    "    - Focuses on objects, which combine data (attributes) and behavior (methods), encapsulating them into cohesive units\n",
    "        - Classes: blueprints for objects\n",
    "        - Objects: specific instances of classes\n",
    "    - Key Concepts: objects, classes, encapsulation, inheritance, polymorphism, abstraction\n",
    "    - Program organized into classes, objects, and overarching code that handles interaction between them\n",
    "    - ex. C++, Java, Python"
   ]
  },
  {
   "cell_type": "markdown",
   "metadata": {},
   "source": [
    "### **User-defined Classes**\n",
    "\n",
    "Our discussion will review around how one can created **user-defined classes**.\n",
    "\n",
    "- Why are user-defined classes useful?\n",
    "    - What advantages does defining your own classes give you?\n",
    "- How do you build your own classes?\n",
    "- What can you imbue your class with?\n",
    "    - Attributes\n",
    "    - Methods\n",
    "\n",
    "------\n",
    "\n",
    "**Class**\n",
    "\n",
    "- A blueprint or template for creating objects\n",
    "- Defines attributes (data) and methods (behavior) common to all objects created from it\n",
    "- Does not occupy memory by itself, as it represents a general concept.\n",
    "    - In Python, the class by itself, being a *blueprint*, does not occupy memory in the same way that *instances* (objects) of the class do\n",
    "    - When you create an instance of a class, memory is allocated for that specific instance\n",
    "    "
   ]
  },
  {
   "cell_type": "markdown",
   "metadata": {},
   "source": [
    "**Step 1:**"
   ]
  },
  {
   "cell_type": "code",
   "execution_count": 10,
   "metadata": {},
   "outputs": [],
   "source": [
    "class Car:\n",
    "    pass    #Placeholder\n",
    "\n",
    "my_car = Car()"
   ]
  },
  {
   "cell_type": "markdown",
   "metadata": {},
   "source": [
    "**Step 2: Add the __init__() Method**\n",
    "\n",
    "This is a constructor. Automatically called when your create an instance of the class\n",
    "\n",
    "- **Attributes:** Variables that hold data about the object (ex. color, fuel, self_driving, etc.)\n",
    "- **self Keyword:** A reference to the current instance of the class. It ensures each instance has its own copy of the attributes.\n",
    "\n",
    "NOTE: The first argument of every method defined with a class should be \"self\".\n",
    "- Python automatically assumes that the first argument of every method refers to the instance of the class.\n",
    "- While the first argument can be called *anything*, \"self\" is the default."
   ]
  },
  {
   "cell_type": "code",
   "execution_count": null,
   "metadata": {},
   "outputs": [],
   "source": [
    "class Car:\n",
    "    def __init__(self, argument_color):\n",
    "        self.color = argument_color\n",
    "        "
   ]
  },
  {
   "cell_type": "code",
   "execution_count": null,
   "metadata": {},
   "outputs": [
    {
     "ename": "TypeError",
     "evalue": "Car.__init__() missing 1 required positional argument: 'arg_color'",
     "output_type": "error",
     "traceback": [
      "\u001b[1;31m---------------------------------------------------------------------------\u001b[0m",
      "\u001b[1;31mTypeError\u001b[0m                                 Traceback (most recent call last)",
      "Cell \u001b[1;32mIn[12], line 1\u001b[0m\n\u001b[1;32m----> 1\u001b[0m my_car \u001b[38;5;241m=\u001b[39m \u001b[43mCar\u001b[49m\u001b[43m(\u001b[49m\u001b[43m)\u001b[49m\n",
      "\u001b[1;31mTypeError\u001b[0m: Car.__init__() missing 1 required positional argument: 'arg_color'"
     ]
    }
   ],
   "source": [
    "my_car = Car()\n",
    "\n",
    "# This will error because the color argument has not been provided"
   ]
  },
  {
   "cell_type": "code",
   "execution_count": 17,
   "metadata": {},
   "outputs": [
    {
     "data": {
      "text/plain": [
       "'Red'"
      ]
     },
     "execution_count": 17,
     "metadata": {},
     "output_type": "execute_result"
    }
   ],
   "source": [
    "my_car = Car(\"Red\")\n",
    "# By running this command ^, the ATTRIBUTE \"color\" associated with the instance \"my_car\" has been given the value \"Red\"\n",
    "\n",
    "my_car.color"
   ]
  },
  {
   "cell_type": "code",
   "execution_count": 19,
   "metadata": {},
   "outputs": [],
   "source": [
    "class Car:\n",
    "    def __init__(self, color, fuel, fsd):\n",
    "        self.color = color\n",
    "        self.fuel = fuel\n",
    "        self.fsd = fsd"
   ]
  },
  {
   "cell_type": "code",
   "execution_count": 23,
   "metadata": {},
   "outputs": [
    {
     "name": "stdout",
     "output_type": "stream",
     "text": [
      "Red\n",
      "Gas\n",
      "False\n"
     ]
    }
   ],
   "source": [
    "my_car = Car(color = \"Red\", fuel = \"Gas\", fsd = False)\n",
    "\n",
    "print(my_car.color)\n",
    "print(my_car.fuel)\n",
    "print(my_car.fsd)"
   ]
  },
  {
   "cell_type": "code",
   "execution_count": 24,
   "metadata": {},
   "outputs": [
    {
     "name": "stdout",
     "output_type": "stream",
     "text": [
      "Blue\n",
      "Diesel\n",
      "True\n"
     ]
    }
   ],
   "source": [
    "my_second_car = Car(color = \"Blue\", fuel = \"Diesel\", fsd = True)\n",
    "\n",
    "print(my_second_car.color)\n",
    "print(my_second_car.fuel)\n",
    "print(my_second_car.fsd)"
   ]
  },
  {
   "cell_type": "markdown",
   "metadata": {},
   "source": [
    "**Step 3: Add Methods**\n",
    "\n",
    "A method is a function that operates on the instance of the class. Recall that the first parameter is \"self\", which refers to the instance calling the method.\n",
    "- NOTE: Functions defined within objects is called a method"
   ]
  },
  {
   "cell_type": "code",
   "execution_count": 28,
   "metadata": {},
   "outputs": [],
   "source": [
    "class Car:\n",
    "    '''\n",
    "    Doc string for my Car class.\n",
    "    This has 3 attributes and 1 method\n",
    "    '''\n",
    "    def __init__(self, color, fuel, fsd):\n",
    "        '''\n",
    "        Initializer doc string.\n",
    "        Inputs are color (str), fuel (str), fsd (bool)\n",
    "        '''\n",
    "        self.color = color\n",
    "        self.fuel = fuel\n",
    "        self.fsd = fsd\n",
    "\n",
    "    def print_car_specs(self):\n",
    "        '''\n",
    "        Print car specs doc string.\n",
    "        Prints all attributes\n",
    "        '''\n",
    "        print(\"Color:\\t\", self.color)\n",
    "        print(\"Fuel:\\t\", self.fuel)\n",
    "        print(\"FSD:\\t\", self.fsd)"
   ]
  },
  {
   "cell_type": "code",
   "execution_count": 29,
   "metadata": {},
   "outputs": [
    {
     "name": "stdout",
     "output_type": "stream",
     "text": [
      "Color:\t Red\n",
      "Fuel:\t Electric\n",
      "FSD:\t True\n"
     ]
    }
   ],
   "source": [
    "my_third_car = Car(color = \"Red\", fuel = \"Electric\", fsd = True)\n",
    "\n",
    "my_third_car.print_car_specs()"
   ]
  },
  {
   "cell_type": "markdown",
   "metadata": {},
   "source": [
    "**Step 4: Create Instances**\n",
    "\n",
    "Create objects (instances) of the class by calling the class name and passing the required arguments.\n",
    "\n",
    "This can be done in two ways:\n",
    "1. Since the constructor is automatically called when you create an instance, you can pass all initialization to the class while constructing it.\n",
    "2. The class constructor can have explicit \"input()\" statements to get the initial values of all its attributes."
   ]
  },
  {
   "cell_type": "markdown",
   "metadata": {},
   "source": [
    "### Problem 1\n",
    "\n",
    "Calculate the length and slope of a line segment in a two dimensional space. To accomplish this, you will create a \"line\" class that will accept two coordinates as tuples of the form (x1, y1) and (x2, y2), and compute the length and slope of the line segment between these two points.\n",
    "- Recall that thr slope of the line segment is given by:\n",
    "    - (y2 - y1) / (x2 - x1)\n",
    "- Also recall that the length of the line segment between (x1, y1) and (x2, y2) is given by:\n",
    "    - sqrt((x2 - x1)^2 + (y2 - y1)^2)\n",
    "- Fill the \"line\" class methods to accept coordinates as a pair of tuples and return the slope and distance of the line.\n",
    "- While defining the methods of the class, including the constructor, take special note of where the \"self\" keyword has been used."
   ]
  },
  {
   "cell_type": "code",
   "execution_count": 13,
   "metadata": {},
   "outputs": [],
   "source": [
    "from math import sqrt\n",
    "\n",
    "class Line:\n",
    "    def __init__(self, coor1, coor2):\n",
    "        self.coor1 = coor1\n",
    "        self.coor2 = coor2\n",
    "\n",
    "    def distance(self):\n",
    "        return sqrt((self.coor2[0] - self.coor1[0]) **2 + (self.coor2[1] - self.coor1[1]) ** 2)\n",
    "    \n",
    "    def slope(self):\n",
    "        return (self.coor2[1] - self.coor1[1]) / (self.coor2[0] - self.coor1[0])"
   ]
  },
  {
   "cell_type": "code",
   "execution_count": 20,
   "metadata": {},
   "outputs": [
    {
     "name": "stdout",
     "output_type": "stream",
     "text": [
      "Dist:\t 9.43\n",
      "Slope:\t 1.6\n"
     ]
    }
   ],
   "source": [
    "coor1 = (3, 2)\n",
    "coor2 = (8, 10)\n",
    "\n",
    "my_line = Line(coor1, coor2)\n",
    "\n",
    "print(\"Dist:\\t\", round(my_line.distance(), 2))\n",
    "print(\"Slope:\\t\", my_line.slope())"
   ]
  },
  {
   "cell_type": "markdown",
   "metadata": {},
   "source": [
    "### Problem 2\n",
    "\n",
    "In this problem, calculate the volume and surface area of a cylinder, given its radius and height.\n",
    "- To accomplish this, you will create a \"Cylinder\" class. The class has:\n",
    "    - Two attributes: \"radius\" and \"height\", and\n",
    "    - Two methods: \"volume()\" and \"surface_area\"\n",
    "\n",
    "- Recall that the volume of a cylinder of radius and height is given by:\n",
    "    - pi * r**2 * h\n",
    "- and its surface area is given by\n",
    "    - 2 * pi * r * h + 2 * pi * r**2"
   ]
  },
  {
   "cell_type": "code",
   "execution_count": 13,
   "metadata": {},
   "outputs": [],
   "source": [
    "from math import pi\n",
    "\n",
    "class Cylinder:\n",
    "    def __init__(self, height=1, radius=1):\n",
    "        self.height = height\n",
    "        self.radius = radius\n",
    "\n",
    "    def volume(self):\n",
    "        return round(pi * (self.radius ** 2) * self.height, 2)\n",
    "\n",
    "    def surface_area(self):\n",
    "        return round((2 * pi * self.radius * self.height) + 2 * pi * (self.radius ** 2), 2)"
   ]
  },
  {
   "cell_type": "code",
   "execution_count": 14,
   "metadata": {},
   "outputs": [
    {
     "name": "stdout",
     "output_type": "stream",
     "text": [
      "Volume: \t 56.55\n",
      "Sfc Area:\t 94.25\n"
     ]
    }
   ],
   "source": [
    "my_cylinder = Cylinder(height = 2, radius = 3)\n",
    "\n",
    "print(\"Volume: \\t\", my_cylinder.volume())\n",
    "print(\"Sfc Area:\\t\", my_cylinder.surface_area())"
   ]
  },
  {
   "cell_type": "markdown",
   "metadata": {},
   "source": [
    "### Problem 3\n",
    "\n",
    "For this problem, create a \"BankAccount\" class that has two attributes:\n",
    "- \"owner\"\n",
    "- \"balance\"\n",
    "\n",
    "and two methods:\n",
    "- \"deposit()\"\n",
    "- \"withdraw()\"\n",
    "    - As an added requirement, withdrawals MAY NOT exceed the available balance.\n",
    "\n",
    "Instantiate your class, make serveral deposits and withdrawals, and test to make sure the account can't be overdrawn."
   ]
  },
  {
   "cell_type": "code",
   "execution_count": 84,
   "metadata": {},
   "outputs": [],
   "source": [
    "class BankAccount:\n",
    "    def __init__(self, owner, balance):\n",
    "        self.owner = owner\n",
    "        self.balance = balance\n",
    "\n",
    "    def deposit(self, amount):\n",
    "        print(f\"The current balance of {self.owner}'s account is: ${self.balance}\")\n",
    "        self.balance += amount\n",
    "        print(f\"\\nThe new balance of {self.owner}'s account is: ${self.balance}\")\n",
    "\n",
    "    def withdraw(self, amount):\n",
    "        print(f\"The current balance of {self.owner}'s account is: ${self.balance}\")\n",
    "        if self.balance > amount:\n",
    "            self.balance -= amount\n",
    "            print(f\"\\nThe new balance of {self.owner}'s account is: ${self.balance}\")\n",
    "        else:\n",
    "            print(\"\\nTransaction cancelled. This account may not be overdrawn.\")\n"
   ]
  },
  {
   "cell_type": "code",
   "execution_count": 85,
   "metadata": {},
   "outputs": [
    {
     "data": {
      "text/plain": [
       "100"
      ]
     },
     "execution_count": 85,
     "metadata": {},
     "output_type": "execute_result"
    }
   ],
   "source": [
    "my_account = BankAccount(\"Alex\", 100)\n",
    "\n",
    "my_account.balance"
   ]
  },
  {
   "cell_type": "code",
   "execution_count": 86,
   "metadata": {},
   "outputs": [
    {
     "name": "stdout",
     "output_type": "stream",
     "text": [
      "The current balance of Alex's account is: $100\n",
      "\n",
      "The new balance of Alex's account is: $120\n"
     ]
    }
   ],
   "source": [
    "my_account.deposit(20)"
   ]
  },
  {
   "cell_type": "code",
   "execution_count": 87,
   "metadata": {},
   "outputs": [
    {
     "name": "stdout",
     "output_type": "stream",
     "text": [
      "The current balance of Alex's account is: $120\n",
      "\n",
      "Transaction cancelled. This account may not be overdrawn.\n"
     ]
    }
   ],
   "source": [
    "my_account.withdraw(150)"
   ]
  },
  {
   "cell_type": "code",
   "execution_count": 88,
   "metadata": {},
   "outputs": [
    {
     "name": "stdout",
     "output_type": "stream",
     "text": [
      "The current balance of Alex's account is: $120\n",
      "\n",
      "The new balance of Alex's account is: $50\n"
     ]
    }
   ],
   "source": [
    "my_account.withdraw(70)"
   ]
  },
  {
   "cell_type": "code",
   "execution_count": 89,
   "metadata": {},
   "outputs": [
    {
     "data": {
      "text/plain": [
       "50"
      ]
     },
     "execution_count": 89,
     "metadata": {},
     "output_type": "execute_result"
    }
   ],
   "source": [
    "my_account.balance"
   ]
  }
 ],
 "metadata": {
  "kernelspec": {
   "display_name": "Python 3",
   "language": "python",
   "name": "python3"
  },
  "language_info": {
   "codemirror_mode": {
    "name": "ipython",
    "version": 3
   },
   "file_extension": ".py",
   "mimetype": "text/x-python",
   "name": "python",
   "nbconvert_exporter": "python",
   "pygments_lexer": "ipython3",
   "version": "3.12.5"
  }
 },
 "nbformat": 4,
 "nbformat_minor": 2
}
