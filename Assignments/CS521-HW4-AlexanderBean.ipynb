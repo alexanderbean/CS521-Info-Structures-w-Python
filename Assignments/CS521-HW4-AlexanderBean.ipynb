{
 "cells": [
  {
   "cell_type": "markdown",
   "metadata": {},
   "source": [
    "# CS521 - Homework 4 - Alexander Bean"
   ]
  },
  {
   "cell_type": "markdown",
   "metadata": {},
   "source": [
    "### 1. List Comprehension with Multiple Conditions\n",
    "\n",
    "Use list comprehension to generate a list of all numbers from 1 to 1000 that are either divisible by 3 or end with the digit 7.\n",
    "\n",
    "The solution should not use any loops or additional libraries. The output should be a list of the form:\n",
    "- [3, 6, 7, 9, 12, 15, 17, 18, 21, 24, 27, …, 993, 996, 997]"
   ]
  },
  {
   "cell_type": "code",
   "execution_count": 33,
   "metadata": {},
   "outputs": [
    {
     "name": "stdout",
     "output_type": "stream",
     "text": [
      "[3, 6, 7, 9, 12, 15, 17, 18, 21, 24, 27, 30, 33, 36, 37, 39, 42, 45, 47, 48, 51, 54, 57, 60, 63, 66, 67, 69, 72, 75, 77, 78, 81, 84, 87, 90, 93, 96, 97, 99, 102, 105, 107, 108, 111, 114, 117, 120, 123, 126, 127, 129, 132, 135, 137, 138, 141, 144, 147, 150, 153, 156, 157, 159, 162, 165, 167, 168, 171, 174, 177, 180, 183, 186, 187, 189, 192, 195, 197, 198, 201, 204, 207, 210, 213, 216, 217, 219, 222, 225, 227, 228, 231, 234, 237, 240, 243, 246, 247, 249, 252, 255, 257, 258, 261, 264, 267, 270, 273, 276, 277, 279, 282, 285, 287, 288, 291, 294, 297, 300, 303, 306, 307, 309, 312, 315, 317, 318, 321, 324, 327, 330, 333, 336, 337, 339, 342, 345, 347, 348, 351, 354, 357, 360, 363, 366, 367, 369, 372, 375, 377, 378, 381, 384, 387, 390, 393, 396, 397, 399, 402, 405, 407, 408, 411, 414, 417, 420, 423, 426, 427, 429, 432, 435, 437, 438, 441, 444, 447, 450, 453, 456, 457, 459, 462, 465, 467, 468, 471, 474, 477, 480, 483, 486, 487, 489, 492, 495, 497, 498, 501, 504, 507, 510, 513, 516, 517, 519, 522, 525, 527, 528, 531, 534, 537, 540, 543, 546, 547, 549, 552, 555, 557, 558, 561, 564, 567, 570, 573, 576, 577, 579, 582, 585, 587, 588, 591, 594, 597, 600, 603, 606, 607, 609, 612, 615, 617, 618, 621, 624, 627, 630, 633, 636, 637, 639, 642, 645, 647, 648, 651, 654, 657, 660, 663, 666, 667, 669, 672, 675, 677, 678, 681, 684, 687, 690, 693, 696, 697, 699, 702, 705, 707, 708, 711, 714, 717, 720, 723, 726, 727, 729, 732, 735, 737, 738, 741, 744, 747, 750, 753, 756, 757, 759, 762, 765, 767, 768, 771, 774, 777, 780, 783, 786, 787, 789, 792, 795, 797, 798, 801, 804, 807, 810, 813, 816, 817, 819, 822, 825, 827, 828, 831, 834, 837, 840, 843, 846, 847, 849, 852, 855, 857, 858, 861, 864, 867, 870, 873, 876, 877, 879, 882, 885, 887, 888, 891, 894, 897, 900, 903, 906, 907, 909, 912, 915, 917, 918, 921, 924, 927, 930, 933, 936, 937, 939, 942, 945, 947, 948, 951, 954, 957, 960, 963, 966, 967, 969, 972, 975, 977, 978, 981, 984, 987, 990, 993, 996, 997, 999]\n"
     ]
    }
   ],
   "source": [
    "list = [num for num in range(1, 1001) if num % 3 == 0 or str(num)[len(str(num))-1::] == '7']\n",
    "\n",
    "print(list)"
   ]
  },
  {
   "cell_type": "markdown",
   "metadata": {},
   "source": [
    "### 2. Nested List Comprehension\n",
    "\n",
    "Nested List Comprehension is a technique in Python that allows you to generate nested lists (lists of lists) or process elements from nested lists in a concise and readable way. It essentially involves placing one list comprehension inside another.\n",
    "\n",
    "The general form of nested list comprehension is: [expression for item in outer_iterable for item2 in inner_iterable] Using nested list comprehension transpose (i.e., swap the rows and columns of) a given matrix.\n",
    "\n",
    "For example, if the input is\n",
    "- matrix = [\n",
    "- [1, 2, 3],\n",
    "- [4, 5, 6],\n",
    "- [7, 8, 9],\n",
    "- [10, 11, 12] ]\n",
    "\n",
    "...the output should be\n",
    "- transposed_matrix = [\n",
    "- [1, 4, 7, 10],\n",
    "- [2, 5, 8, 11],\n",
    "- [3, 6, 9, 12] ] "
   ]
  },
  {
   "cell_type": "code",
   "execution_count": 35,
   "metadata": {},
   "outputs": [
    {
     "name": "stdout",
     "output_type": "stream",
     "text": [
      "Original:\t [[1, 2, 3], [4, 5, 6], [7, 8, 9], [10, 11, 12]] \n",
      "Transposed:\t [[1, 4, 7, 10], [2, 5, 8, 11], [3, 6, 9, 12]]\n"
     ]
    }
   ],
   "source": [
    "matrix = [ [1, 2, 3], [4, 5, 6], [7, 8, 9], [10, 11, 12] ]\n",
    "\n",
    "transposed_matrix = [[list[index] for list in matrix] for index in range(len(matrix[0]))]\n",
    "\n",
    "print(\"Original:\\t\", matrix,\n",
    "      \"\\nTransposed:\\t\", transposed_matrix)"
   ]
  },
  {
   "cell_type": "markdown",
   "metadata": {},
   "source": [
    "### 3. Nested List Comprehension (Cont.)\n",
    "\n",
    "Write a program that uses nested list comprehension to “flatten” a give matrix, i.e., convert a nested list into a 1D list.\n",
    "\n",
    "For example, if the input is:\n",
    "- matrix = [\n",
    "- [1, 2, 3],\n",
    "- [4, 5, 6],\n",
    "- [7, 8, 9] ]\n",
    "\n",
    "...the program should output:\n",
    "- flattened_matrix = [1,2,3,4,5,6,7,8,9]"
   ]
  },
  {
   "cell_type": "code",
   "execution_count": 34,
   "metadata": {},
   "outputs": [
    {
     "name": "stdout",
     "output_type": "stream",
     "text": [
      "Original:\t [[1, 2, 3], [4, 5, 6], [7, 8, 9]] \n",
      "Flattened:\t [1, 2, 3, 4, 5, 6, 7, 8, 9]\n"
     ]
    }
   ],
   "source": [
    "matrix = [ [1, 2, 3], [4, 5, 6], [7, 8, 9] ]\n",
    "\n",
    "flattened_matrix = [list[index] for list in matrix for index in range(len(matrix[0]))]\n",
    "\n",
    "print(\"Original:\\t\", matrix,\n",
    "      \"\\nFlattened:\\t\", flattened_matrix)"
   ]
  },
  {
   "cell_type": "markdown",
   "metadata": {},
   "source": [
    "### 4. Dictionary Comprehension\n",
    "\n",
    "Given a string, use dictionary comprehension to create a frequency dictionary where the keys are characters and the values are the counts of how many times each character appears in the string.\n",
    "\n",
    "Example:\n",
    "- input: string = \"supercalifragilisticexpialidocious\"\n",
    "- Output: {'s': 3, 'u': 2, 'p': 2, 'e': 2, 'r': 2, 'c': 2, 'a': 2, 'l': 3, 'i': 7, 'f': 1, 'g': 1, 't': 1, 'x': 1, 'o': 2, 'd': 1}\n",
    "\n",
    "Hints:\n",
    "- What is the difference between a string and a set? How does one convert a string to a set?\n",
    "- What does the string method .count() return? "
   ]
  },
  {
   "cell_type": "code",
   "execution_count": 38,
   "metadata": {},
   "outputs": [
    {
     "name": "stdout",
     "output_type": "stream",
     "text": [
      "Input:\t supercalifragilisticexpialidocious \n",
      "Output:\t {'s': 3, 'u': 2, 'p': 2, 'e': 2, 'r': 2, 'c': 3, 'a': 3, 'l': 3, 'i': 7, 'f': 1, 'g': 1, 't': 1, 'x': 1, 'd': 1, 'o': 2}\n"
     ]
    }
   ],
   "source": [
    "string = \"supercalifragilisticexpialidocious\"\n",
    "\n",
    "dict = {char:string.count(char) for char in string}\n",
    "\n",
    "print(\"Input:\\t\", string,\n",
    "      \"\\nOutput:\\t\", dict)\n"
   ]
  },
  {
   "cell_type": "markdown",
   "metadata": {},
   "source": [
    "### 5. Search Algorithms\n",
    "\n",
    "Search algorithms are a fundamental concept in computer science, used to locate a specific element or set of elements in a collection of data. These collections can be unsorted or sorted arrays, trees, graphs, or databases. The goal of search algorithms is to find a target element with minimal computational effort, often measured by time complexity. In this problem, we will focus only on searching over lists (aka “arrays”). \n",
    "\n",
    "\n",
    "Consider a search algorithm that finds the position of a target value within a sorted array. The algorithm compares the target value to the middle element of the array. If they are not equal, it eliminates half of the array from consideration and continues the search in the remaining half. Implement this search algorithm.\n",
    "\n",
    "- Towards this end, import the random module and use the randint() method to generate a random array of 1000 elements in the range (0, 500).\n",
    "- Sort the array in ascending order and implement the search algorithm to determine if the number 27 is in the list\n",
    "- If yes, print the location of its first occurrence. If no, print “Number not found in list\".\n",
    "\n",
    "Key Points:\n",
    "- The array must be sorted before performing the search.\n",
    "- The algorithm works by repeatedly dividing the search interval in half.\n",
    "- If the target value is equal to the middle element, the search is successful.\n",
    "- If the target value is smaller than the middle element, the search continues in the left half; otherwise, it continues in the right half. "
   ]
  },
  {
   "cell_type": "code",
   "execution_count": 5,
   "metadata": {},
   "outputs": [],
   "source": [
    "from random import randint"
   ]
  }
 ],
 "metadata": {
  "kernelspec": {
   "display_name": "Python 3",
   "language": "python",
   "name": "python3"
  },
  "language_info": {
   "codemirror_mode": {
    "name": "ipython",
    "version": 3
   },
   "file_extension": ".py",
   "mimetype": "text/x-python",
   "name": "python",
   "nbconvert_exporter": "python",
   "pygments_lexer": "ipython3",
   "version": "3.11.9"
  }
 },
 "nbformat": 4,
 "nbformat_minor": 2
}
