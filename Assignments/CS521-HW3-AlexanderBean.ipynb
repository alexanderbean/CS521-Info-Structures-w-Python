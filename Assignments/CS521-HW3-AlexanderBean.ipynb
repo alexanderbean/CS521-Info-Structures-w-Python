{
 "cells": [
  {
   "cell_type": "markdown",
   "metadata": {},
   "source": [
    "# CS521 - Homework 3 - Alexander Bean"
   ]
  },
  {
   "cell_type": "markdown",
   "metadata": {},
   "source": [
    "### 1. Prime or Composite?\n",
    "\n",
    "Solve problem 2.22 in the textbook. Justify why the question requires you to only check until √𝑁\n",
    "\n",
    "Write a program that checks to see if a number 𝑁 is prime. A simple approach checks all numbers from 2 up to 𝑁, but after some point numbers are checked that need not be checked. For example, numbers greater than √𝑁 need not be checked. Write a program that checks for primality and avoid those unnecessary checks. Remember to import the math module"
   ]
  },
  {
   "cell_type": "code",
   "execution_count": 281,
   "metadata": {},
   "outputs": [
    {
     "name": "stdout",
     "output_type": "stream",
     "text": [
      "Please enter a number: \n",
      "True\n"
     ]
    }
   ],
   "source": [
    "# Chapter 2, Problem 22\n",
    "\n",
    "import math\n",
    "\n",
    "input_num = int(input(print(\"Please enter a number: \")))\n",
    "\n",
    "# Using trial division for calculation\n",
    "\n",
    "if input_num <= 1:\n",
    "    prime = True\n",
    "\n",
    "for num in range(2, int(math.sqrt(input_num)) + 1):\n",
    "    if num % input_num == 0:\n",
    "        prime = False\n",
    "    else:\n",
    "        prime = True\n",
    "\n",
    "print(prime)\n",
    "\n",
    "#for num in range(2, int(math.sqrt(input_num)) + 1):\n",
    "#    if (input_num % num == 0):\n",
    "#        prime = 1\n",
    "#        break\n",
    "#if prime == 0:\n",
    "#    print(f\"The entered number [{input_num}] is a prime number!\")\n",
    "#else:\n",
    "#    print(f\"The entered number [{input_num}] is NOT a prime number.\")\n"
   ]
  },
  {
   "cell_type": "code",
   "execution_count": 238,
   "metadata": {},
   "outputs": [
    {
     "name": "stdout",
     "output_type": "stream",
     "text": [
      "True\n"
     ]
    }
   ],
   "source": [
    "from math import sqrt\n",
    "# n is the number to be check whether it is prime or not\n",
    "n = 5\n",
    "\n",
    "# this flag maintains status whether the n is prime or not\n",
    "prime_flag = 0\n",
    "\n",
    "if(n > 1):\n",
    "    for i in range(2, int(sqrt(n)) + 1):\n",
    "        if (n % i == 0):\n",
    "            prime_flag = 1\n",
    "            break\n",
    "    if (prime_flag == 0):\n",
    "        print(\"True\")\n",
    "    else:\n",
    "        print(\"False\")\n",
    "else:\n",
    "    print(\"False\")"
   ]
  },
  {
   "cell_type": "markdown",
   "metadata": {},
   "source": [
    "### 2. Nested \"For\" Loops\n",
    "\n",
    "Write a program to multiply two matrices and print their product. This article: https://en.wikipedia.org/wiki/Matrix_multiplication explains how to obtain the product of multiplying two matrices 𝐴𝑚×𝑛 and 𝐵𝑛×𝑝 "
   ]
  },
  {
   "cell_type": "code",
   "execution_count": 202,
   "metadata": {},
   "outputs": [],
   "source": [
    "# Assume that the two matrices are stored as nested lists. For example, with\n",
    "\n",
    "# A = [[1,2,0],[-1,2,1]],\n",
    "# B = [[1,2],[1,0],[-1,-2]], and\n",
    "# their product, C = AB = [[3,2],[0,-4]]  "
   ]
  },
  {
   "cell_type": "code",
   "execution_count": 213,
   "metadata": {},
   "outputs": [
    {
     "name": "stdout",
     "output_type": "stream",
     "text": [
      "[[3, 2], [0, -4]]\n"
     ]
    }
   ],
   "source": [
    "# Problem 2\n",
    "\n",
    "A = [[1, 2, 0], [-1, 2, 1]]\n",
    "B = [[1, 2], [1, 0], [-1, -2]]\n",
    "\n",
    "# Dot product\n",
    "# (1 * 1) + ( 2 * 1) + (0 * -1)\n",
    "#    1    +     2    +     0\n",
    "#               3\n",
    "\n",
    "# (1 * 2) + ( 2 * 0) + (0 * -2)\n",
    "#    2    +     0    +     0\n",
    "#               2\n",
    "\n",
    "# (-1 * 1) + ( 2 * 1) + (1 * -1)\n",
    "#    -1    +     2    +     -1\n",
    "#               0\n",
    "\n",
    "# (-1 * 2) + ( 2 * 0) + (1 * -2)\n",
    "#    -2    +     0    +     -2\n",
    "#               -4\n",
    "\n",
    "# Following the dot product method, the frame will be 2 x 2\n",
    "\n",
    "C = [[0, 0], [0, 0]]\n",
    "\n",
    "for A_row in range(len(A)):\n",
    "    for B_col in range(len(B[0])):\n",
    "        for B_row in range(len(B)):\n",
    "            C[A_row][B_col] += (A[A_row][B_row] * B[B_row][B_col])\n",
    "\n",
    "print(C)\n",
    "\n",
    "\n",
    "# I created a frame list in the same format as the matrix list to allow for easy insertion of values.\n",
    "\n",
    "\n",
    "# I established a frame for the C matrix\n",
    "\n",
    "# To determine the \n",
    "\n",
    "# The numerous for loops follow as such: The first loop goes through each item in A\n",
    "# The second loop goes through \n",
    "# The third loop \n",
    "\n",
    "\n",
    "# I use the range() method to \n"
   ]
  },
  {
   "cell_type": "markdown",
   "metadata": {},
   "source": [
    "### 3. \"For\" Loops with Enumeration\n",
    "\n",
    "Write a program that takes a square matrix and rotates it by 90 degrees.\n",
    "\n",
    "This problem should be solved with the use of nested for loops, and the enumerate() function to access the row and column indices of the elements of the matrix."
   ]
  },
  {
   "cell_type": "code",
   "execution_count": 204,
   "metadata": {},
   "outputs": [],
   "source": [
    "# Given:\n",
    "# matrix = [[1, 2, 3], [4, 5, 6], [7, 8, 9]]\n",
    "\n",
    "# the program should output:\n",
    "# rotated_matrix = [[7, 4, 1], [8, 5, 2], [9, 6, 3]]"
   ]
  },
  {
   "cell_type": "code",
   "execution_count": 205,
   "metadata": {},
   "outputs": [
    {
     "name": "stdout",
     "output_type": "stream",
     "text": [
      "\n",
      "\t Matrix 1\n",
      "\t [1, 2, 3]\n",
      "\t [4, 5, 6]\n",
      "\t [7, 8, 9]\n",
      "\n",
      "\t Matrix 2\n",
      "\t [7, 4, 1]\n",
      "\t [8, 5, 2]\n",
      "\t [9, 6, 3]\n"
     ]
    }
   ],
   "source": [
    "# Problem 3\n",
    "\n",
    "matrix = [[1, 2, 3],  [4, 5, 6],  [7, 8, 9]]\n",
    "rotated_matrix = [[],[],[]]\n",
    "\n",
    "for index in enumerate(matrix):\n",
    "    for rotated_index, val in enumerate(matrix[index[0]]):\n",
    "        rotated_matrix[rotated_index].insert(0, val)\n",
    "\n",
    "# Print statement loop utilizing the same concepts\n",
    "\n",
    "matrices = [matrix, rotated_matrix]\n",
    "\n",
    "for index, matrix in enumerate(matrices):\n",
    "    print(\"\\n\\t Matrix\", index+1)\n",
    "    for list in matrix:\n",
    "        print(\"\\t\", list)\n",
    "        "
   ]
  },
  {
   "cell_type": "markdown",
   "metadata": {},
   "source": [
    "### 4. Two Digit Squaring Loop\n",
    "\n",
    "Write a program to find all two-digit numbers such that when you square them, the resulting three-digit number has its rightmost two digits the same as the original two-digit number.\n",
    "\n",
    "That is, for a number in the form 𝐴𝐵, 𝐴𝐵 × 𝐴𝐵 = 𝐶𝐴𝐵 for some 𝐶.  "
   ]
  },
  {
   "cell_type": "code",
   "execution_count": 206,
   "metadata": {},
   "outputs": [],
   "source": [
    "# Problem 4\n",
    "\n",
    "\n",
    "\n",
    "\n",
    "\n",
    "\n"
   ]
  },
  {
   "cell_type": "markdown",
   "metadata": {},
   "source": [
    "### 5. Decimal to Binary Conversion\n",
    "\n",
    "We are going to do some conversions, from integer to binary and then from binary back to integer. It will give us a chance to play with if-elif-else and while statements, as well as a little string slicing.\n",
    "\n",
    "You prompt the user for an integer, convert the integer to a binary number string (there is no type for actual binary numbers so we just represent it as a string). Then take the string and turn it back into a regular integer.\n",
    "\n",
    "Things to remember:\n",
    "1. If the integer is 0, then we are done since conversion back and forth of 0 is still 0. The program simply prints a note saying it is 0 and quits.\n",
    "2. If the integer is negative, then we probably don’t know how to do it, so the program prints a message saying it is negative and quits.\n",
    "3. Otherwise, we do the conversion of the integer to a binary string (a string of 1’s and 0’s) and then convert that same string back to an integer to make sure we did it right. "
   ]
  },
  {
   "cell_type": "code",
   "execution_count": 3,
   "metadata": {},
   "outputs": [
    {
     "name": "stdout",
     "output_type": "stream",
     "text": [
      "Please enter an integer between 0 and 255: \n",
      "Hi\n"
     ]
    }
   ],
   "source": [
    "# Problem 5\n",
    "\n",
    "bin_num = int(input(print(\"Please enter an integer between 0 and 255: \")))\n",
    "\n",
    "\n",
    "\n",
    "if bin_num == 0:\n",
    "     print(f\"The number is 0 and is 00000000 in binary.\")\n",
    "elif bin_num < 0:\n",
    "    print(f\"The number is a negative and cannot be converted.\")\n",
    "else:\n",
    "    print(\"Hi\")"
   ]
  }
 ],
 "metadata": {
  "kernelspec": {
   "display_name": "Python 3",
   "language": "python",
   "name": "python3"
  },
  "language_info": {
   "codemirror_mode": {
    "name": "ipython",
    "version": 3
   },
   "file_extension": ".py",
   "mimetype": "text/x-python",
   "name": "python",
   "nbconvert_exporter": "python",
   "pygments_lexer": "ipython3",
   "version": "3.12.5"
  }
 },
 "nbformat": 4,
 "nbformat_minor": 2
}
