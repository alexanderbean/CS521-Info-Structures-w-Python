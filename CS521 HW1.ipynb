{
 "cells": [
  {
   "cell_type": "code",
   "execution_count": 1,
   "metadata": {},
   "outputs": [
    {
     "name": "stdout",
     "output_type": "stream",
     "text": [
      "[2, 99]\n",
      "(1, 2, 99)\n",
      "[1, 2, 99]\n"
     ]
    }
   ],
   "source": [
    "# CHAPTER 7, QUESTION 6\n",
    "\n",
    "list1 = [1, 2, 99]\n",
    "list2 = list1\n",
    "list3 = list2\n",
    "list1 = list1.remove(1)\n",
    "\n",
    "print(list3)\n",
    "\n",
    "# a. What is printed?\n",
    "\n",
    "# This prints the same list of [1, 2, 99] because lists are mutable (aka they can be changed/altered)\n",
    "\n",
    "# b. How can you change the code so list3 is unchanged?\n",
    "\n",
    "# You can use the tuple() function to assign the example list as a tuple to list3.\n",
    "# Since tuples are immutable, they cannot be dynamically altered like lists can.\n",
    "# This will result in list3 being unchanged.\n",
    "\n",
    "list1 = [1, 2, 99]\n",
    "list2 = list1\n",
    "list3 = tuple(list2)\n",
    "list1 = list1.remove(1)\n",
    "\n",
    "print(list3)\n",
    "\n",
    "# You may say \"it's technically different because it's a TUPLE and not a list.\"\n",
    "# You can easily use the list() function to turn list3 back into a list from a tuple.\n",
    "\n",
    "list3 = list(list3)\n",
    "print(list3)"
   ]
  },
  {
   "cell_type": "code",
   "execution_count": 2,
   "metadata": {},
   "outputs": [
    {
     "name": "stdout",
     "output_type": "stream",
     "text": [
      "[1, 2, 99]\n"
     ]
    }
   ],
   "source": [
    "# Alternatively, you can do this in one line with: list3 = list(tuple(list2)) and it will produce [1, 2, 99].\n",
    "\n",
    "list1 = [1, 2, 99]\n",
    "list2 = list1\n",
    "list3 = list(tuple(list2))\n",
    "list1 = list1.remove(1)\n",
    "\n",
    "print(list3)\n",
    "\n",
    "# I believe this works because: Since when the list becomes a tuple, it is no longer mutable and is treated as a separate object\n",
    "# And transforming it back into a list still treats it as a separate object.\n",
    "# These are just my thoughts--I am curious to see if I'm on the right track here."
   ]
  },
  {
   "cell_type": "markdown",
   "metadata": {},
   "source": [
    "CHAPTER 7, QUESTION 7\n",
    "\n",
    "Consider:\n",
    "\n",
    "ListA = [1, 2, 3, 4, 5]\n",
    "\n",
    "ListB = ListA\n",
    "\n",
    "ListA[2] = 10\n",
    "\n",
    "What is the value of ListB[2]?"
   ]
  },
  {
   "cell_type": "code",
   "execution_count": 3,
   "metadata": {},
   "outputs": [
    {
     "name": "stdout",
     "output_type": "stream",
     "text": [
      "10\n"
     ]
    }
   ],
   "source": [
    "# CHAPTER 7, QUESTION 7\n",
    "\n",
    "# Consider:\n",
    "ListA = [1, 2, 3, 4, 5]\n",
    "ListB = ListA\n",
    "ListA[2] = 10\n",
    "# What is the value of ListB[2]?\n",
    "\n",
    "print(ListB[2])\n",
    "\n",
    "# The value of ListB[2] is 10\n",
    "# This is because lists are immutable, meaning they can be dynamically changed.\n",
    "# If you assign a list to a variable (or multiple variables), that variable's value will dynamically change with the list."
   ]
  },
  {
   "cell_type": "code",
   "execution_count": 4,
   "metadata": {},
   "outputs": [
    {
     "name": "stdout",
     "output_type": "stream",
     "text": [
      "[1, (5, 6), 4]\n"
     ]
    }
   ],
   "source": [
    "# CHAPTER 7, QUESTION 19\n",
    "\n",
    "# If a tuple is immutable, why are we able to modify x = [1, (2, 3), 4] into x = [1, (5, 6), 4] ?\n",
    "# Are we changing the tuple or changing the list?\n",
    "\n",
    "x = [1, (2, 3), 4]\n",
    "\n",
    "# We are changing the list, NOT the tuple.\n",
    "# If we attempt to directly change the first value of the tuple, it will produce an error. Running either of the two lines below will produce an error.\n",
    "# x[1][0] = 5 # or\n",
    "# x[1][1] = 6\n",
    "\n",
    "# However, if we attempt to change the values at the list level vs directly in the tuple:\n",
    "x[1] = (5, 6)\n",
    "print(x)\n",
    "# It will successfully change from (2, 3) to (5, 6). We are changing the value of x[1] in the list and not directly interacting with the current value.\n",
    "# So, we are changing the list itself, NOT the tuple.\n"
   ]
  },
  {
   "cell_type": "code",
   "execution_count": 6,
   "metadata": {},
   "outputs": [
    {
     "name": "stdout",
     "output_type": "stream",
     "text": [
      "L:  [1, 3, 5, 7, 9] \n",
      "L2:  [1, 5, 7, 9]\n"
     ]
    }
   ],
   "source": [
    "# CHAPTER 7, QUESTION 23\n",
    "\n",
    "# Given the list L = [1, 3, 5, 7, 9], use slicing to create a new list without the value 3. That is, L2 = [1, 5, 7, 9]\n",
    "\n",
    "L = [1, 3, 5, 7, 9]\n",
    "\n",
    "# To do this, I can slice the list into two pieces.\n",
    "# The first one, L[:1], to include up to but not including index 1 (which is the value 3)\n",
    "# The second one, L[2:], to include values starting at index 2 (which is the value 5)\n",
    "# Then we can concatenate the two lists and assign to L2\n",
    "\n",
    "L2 = L[:1] + L[2:]\n",
    "\n",
    "print(\"L: \", L, \"\\nL2: \", L2)"
   ]
  }
 ],
 "metadata": {
  "kernelspec": {
   "display_name": "Python 3",
   "language": "python",
   "name": "python3"
  },
  "language_info": {
   "codemirror_mode": {
    "name": "ipython",
    "version": 3
   },
   "file_extension": ".py",
   "mimetype": "text/x-python",
   "name": "python",
   "nbconvert_exporter": "python",
   "pygments_lexer": "ipython3",
   "version": "3.12.4"
  }
 },
 "nbformat": 4,
 "nbformat_minor": 2
}
