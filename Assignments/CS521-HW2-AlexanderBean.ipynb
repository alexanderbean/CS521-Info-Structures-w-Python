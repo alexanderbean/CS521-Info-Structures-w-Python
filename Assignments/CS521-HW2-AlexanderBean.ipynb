{
 "cells": [
  {
   "cell_type": "markdown",
   "metadata": {},
   "source": [
    "# CS521 - Homework 2 - Alexander Bean"
   ]
  },
  {
   "cell_type": "markdown",
   "metadata": {},
   "source": [
    "### 1. The PEMDAS Rule\n",
    "\n",
    "Evaluate the following expressions. Explain step-by-step how you arrived at the solution. Points will not be given unless you explain exactly how you employed the operator precedence table in Table 2.2 of the textbook to solve the problem. Read Sec. 2.2.4 and 2.2.5 carefully before answering this question."
   ]
  },
  {
   "cell_type": "code",
   "execution_count": 31,
   "metadata": {},
   "outputs": [
    {
     "data": {
      "text/plain": [
       "True"
      ]
     },
     "execution_count": 31,
     "metadata": {},
     "output_type": "execute_result"
    }
   ],
   "source": [
    "# a. (3 ** 2 * 2 + 1 > 10) and (15 / 3 - 2 == 3)\n",
    "\n",
    "# (3 ** 2 * 2 + 1 > 10) and (15 / 3 - 2 == 3)\n",
    "# (9 * 2 + 1 > 10) and (15 / 3 - 2 == 3)\n",
    "# (18 + 1 > 10) and (5 - 2 == 3)\n",
    "# (19 > 10) and (3 == 3)\n",
    "#   True    and   True\n",
    "#          TRUE\n",
    "\n",
    "(3 ** 2 * 2 + 1 > 10) and (15 / 3 - 2 == 3)"
   ]
  },
  {
   "cell_type": "code",
   "execution_count": 32,
   "metadata": {},
   "outputs": [
    {
     "data": {
      "text/plain": [
       "True"
      ]
     },
     "execution_count": 32,
     "metadata": {},
     "output_type": "execute_result"
    }
   ],
   "source": [
    "# b. (8 + 2 * 3) > (5 ** 2 / 5) or (6 - 1) == 4\n",
    "\n",
    "# (8 + 2 * 3) > (5 ** 2 / 5) or (6 - 1) == 4\n",
    "# (8 + 2 * 3) > (25 / 5) or (6 - 1) == 4\n",
    "# (8 + 6) > 5 or (6 - 1) == 4\n",
    "# 14 > 5 or 5 == 4\n",
    "#  True  or False\n",
    "#       TRUE\n",
    "\n",
    "(8 + 2 * 3) > (5 ** 2 / 5) or (6 - 1) == 4"
   ]
  },
  {
   "cell_type": "code",
   "execution_count": 75,
   "metadata": {},
   "outputs": [
    {
     "data": {
      "text/plain": [
       "False"
      ]
     },
     "execution_count": 75,
     "metadata": {},
     "output_type": "execute_result"
    }
   ],
   "source": [
    "# c. 4 + 6 ** 2 / 3 == 18 > 2 ** 4 - 5 ≤ 30\n",
    "\n",
    "# 4 + 6 ** 2 / 3 == 18 > 2 ** 4 - 5 <= 30\n",
    "# 4 + 36 / 3 == 18 > 16 - 5 <= 30\n",
    "# 4 + 12 == 18 > 16 - 5 <= 30\n",
    "# 16 == 18 > 11 <= 30\n",
    "# False & True & True  \n",
    "#       FALSE     \n",
    "\n",
    "4 + 6 ** 2 / 3 == 18 > 2 ** 4 - 5 <= 30"
   ]
  },
  {
   "cell_type": "code",
   "execution_count": 108,
   "metadata": {},
   "outputs": [
    {
     "data": {
      "text/plain": [
       "12.0"
      ]
     },
     "execution_count": 108,
     "metadata": {},
     "output_type": "execute_result"
    }
   ],
   "source": [
    "# d. value = not False and ((102%100) + 2 ** ((1 / 3) * (5 + 4)) + 5 // 2)\n",
    "\n",
    "# value = not False and ((102%100) + 2 ** ((1 / 3) * (5 + 4)) + 5 // 2)\n",
    "# value = not False and    (2 + 2 ** ((1 / 3) * (5 + 4)) + 5 // 2)\n",
    "# value = not False and    (2 + 2 ** (.33 rep * (5 + 4)) + 5 // 2)\n",
    "# value = not False and    (2 + 2 ** (.33 rep * 9) + 5 // 2)\n",
    "# value = not False and           (2 + 2 ** 3 + 5 // 2)\n",
    "# value = not False and             (2 + 8 + 5 // 2)\n",
    "# value = not False and               (2 + 8 + 2)\n",
    "# value = not False and                    12\n",
    "# value =   TRUE    and                    12\n",
    "# value =                                  12\n",
    "\n",
    "value = not False and ((102%100) + 2 ** ((1 / 3) * (5 + 4)) + 5 // 2)\n",
    "value"
   ]
  },
  {
   "cell_type": "markdown",
   "metadata": {},
   "source": [
    "### 2. Sets"
   ]
  },
  {
   "cell_type": "code",
   "execution_count": 109,
   "metadata": {},
   "outputs": [
    {
     "name": "stdout",
     "output_type": "stream",
     "text": [
      "S2 is a subset of S1: True\n",
      "S3 is a subset of S1: False\n"
     ]
    }
   ],
   "source": [
    "# QUESTION A\n",
    "\n",
    "# Given the sets:\n",
    "S1 = {'a','e','i','o','u'}\n",
    "S2 = {'a','e','i'}\n",
    "S3 = {'a','e','f','o'}\n",
    "# How will you use built-in set methods to find if s2 and s3 are subsets of s1? \n",
    "\n",
    "print(f\"S2 is a subset of S1: {S2.issubset(S1)}\") # True\n",
    "\n",
    "print(f\"S3 is a subset of S1: {S3.issubset(S1)}\") # False"
   ]
  },
  {
   "cell_type": "code",
   "execution_count": 111,
   "metadata": {},
   "outputs": [
    {
     "name": "stdout",
     "output_type": "stream",
     "text": [
      "Method 1: symmetric_difference()\n",
      "The symmetric difference of S1 and S3 is: {'u', 'i', 'f'}\n",
      "\n",
      "Method 2: ^ operator\n",
      "The symmetric difference of S1 and S3 is: {'u', 'i', 'f'}\n"
     ]
    }
   ],
   "source": [
    "# QUESTION B\n",
    "\n",
    "# Given two sets 𝐴 and 𝐵, the Symmetric Difference between the two is defined as 𝐴ΔB = (𝐴 ∪ 𝐵) ∖ (𝐴𝐴 ∩𝐵𝐵).\n",
    "# Give two different methods by which you will find the symmetric difference between s1 and s3 above.\n",
    "# What built-in functions will you use for each method? \n",
    "\n",
    "# 1. symmetric_difference()\n",
    "print(f\"Method 1: symmetric_difference()\\nThe symmetric difference of S1 and S3 is: {S3.symmetric_difference(S1)}\")\n",
    "\n",
    "# 2. ^ operator\n",
    "print(f\"\\nMethod 2: ^ operator\\nThe symmetric difference of S1 and S3 is: {S3 ^ S1}\")\n"
   ]
  },
  {
   "cell_type": "markdown",
   "metadata": {},
   "source": [
    "### 3. Control Flow | Questions from Chapter 2"
   ]
  },
  {
   "cell_type": "code",
   "execution_count": 113,
   "metadata": {},
   "outputs": [
    {
     "name": "stdout",
     "output_type": "stream",
     "text": [
      "Assignment 1: 9\n",
      "Assignment 2: 2.0\n",
      "Assignment 3: 8\n",
      "Assignment 4: 10\n"
     ]
    }
   ],
   "source": [
    "# 5. Control:\n",
    "\n",
    "# if my_var % 2:\n",
    "#   if my_var ** 3 != 27:\n",
    "#       my_var = my_var + 4\n",
    "#   else:\n",
    "#       my_var != 1.5\n",
    "# else:\n",
    "#   if my_var < 10:\n",
    "#       my_var *= 2\n",
    "#   else:\n",
    "#       my_var -= 2\n",
    "# print(my_var)\n",
    "\n",
    "# a. Find four values of my_var so each of the four assignment statements will be executed\n",
    "#    Each value should cause one assignment statement to be executed\n",
    "\n",
    "var_list = [5, 3, 4, 12]\n",
    "var_count = 0\n",
    "\n",
    "for my_var in var_list:\n",
    "    if my_var % 2:\n",
    "        if my_var ** 3 != 27:\n",
    "            my_var += 4\n",
    "        else:\n",
    "            my_var /= 1.5\n",
    "    else:\n",
    "        if my_var < 10:\n",
    "            my_var *= 2\n",
    "        else:\n",
    "            my_var -= 2\n",
    "    var_count = var_count + 1\n",
    "    print(f\"Assignment {var_count}: {my_var}\")"
   ]
  },
  {
   "cell_type": "code",
   "execution_count": 112,
   "metadata": {},
   "outputs": [
    {
     "name": "stdout",
     "output_type": "stream",
     "text": [
      "\n",
      "Assignment 1: my_var += 4\n",
      "\tInput: 1 -> Output: 5\n",
      "\tInput: 5 -> Output: 9\n",
      "\tInput: 7 -> Output: 11\n",
      "\tInput: 9 -> Output: 13\n",
      "\tInput: 11 -> Output: 15\n",
      "\n",
      "Assignment 2: my_var /= 1.5\n",
      "\tInput: 3 -> Output: 2.0\n",
      "\n",
      "Assignment 3: my_var *= 2\n",
      "\tInput: 2 -> Output: 4\n",
      "\tInput: 4 -> Output: 8\n",
      "\tInput: 6 -> Output: 12\n",
      "\tInput: 8 -> Output: 16\n",
      "\n",
      "Assignment 4: my_var -= 2\n",
      "\tInput: 10 -> Output: 8\n",
      "\tInput: 12 -> Output: 10\n",
      "\tInput: 14 -> Output: 12\n",
      "\tInput: 16 -> Output: 14\n"
     ]
    }
   ],
   "source": [
    "# b. Find four *ranges* of my_var values that will cause each of the four assignment statements to be executed\n",
    "\n",
    "assignment_1 = [\"my_var += 4\", [1, 5, 7, 9, 11]]\n",
    "assignment_2 = [\"my_var /= 1.5\", [3]]\n",
    "assignment_3 = [\"my_var *= 2\", [2, 4, 6, 8]]\n",
    "assignment_4 = [\"my_var -= 2\", [10, 12, 14, 16]]\n",
    "\n",
    "var_list = (assignment_1, assignment_2, assignment_3, assignment_4)\n",
    "var_count = 0\n",
    "\n",
    "for var in var_list:\n",
    "    var_count = var_count + 1\n",
    "    print(f\"\\nAssignment {var_count}: {var[0]}\")\n",
    "    for my_var in var[1]:\n",
    "        start_var = my_var\n",
    "        if my_var % 2:\n",
    "            if my_var ** 3 != 27:\n",
    "                my_var += 4\n",
    "            else:\n",
    "                my_var /= 1.5\n",
    "        else:\n",
    "            if my_var < 10:\n",
    "                my_var *= 2\n",
    "            else:\n",
    "                my_var -= 2\n",
    "        end_var = my_var\n",
    "        print(f\"\\tInput: {start_var} -> Output: {end_var}\")"
   ]
  },
  {
   "cell_type": "code",
   "execution_count": 132,
   "metadata": {},
   "outputs": [
    {
     "name": "stdout",
     "output_type": "stream",
     "text": [
      "There is one real root: 0.0\n"
     ]
    }
   ],
   "source": [
    "# 27. (Quadratic formula) This formula that calculates roots for a quadratic equation \"ax**2 + bx + c\"\n",
    "#     is the quadratic formula \"x = [-b ± √(b2 - 4ac)]/2a\". Because the square root of a negative is\n",
    "#     imaginary, one can use the expression under the square root (known as the discriminant) to check\n",
    "#     for the type of root. If the discriminant is negative, the roots are imaginary. If the discriminant\n",
    "#     is zero, there is only one root. If the discriminant is positive, there are two roots.\n",
    "\n",
    "# a. Write a program that uses the quadratic formula to generate real roots, that is, ignores imaginary roots.\n",
    "#    Use the discriminant to determine whether there is one root or two roots and then prints the appropriate answer.\n",
    "\n",
    "import math\n",
    "\n",
    "a = float(input(\"Enter 'A': \"))\n",
    "b = float(input(\"Enter 'B': \"))\n",
    "c = float(input(\"Enter 'C': \"))\n",
    "\n",
    "discriminant = b ** 2 - (4 * a * c)\n",
    "\n",
    "if discriminant == 0:\n",
    "    print(f\"There is one real root: {-b *(math.sqrt(discriminant)) / 2 * a}\")\n",
    "elif discriminant > 0:\n",
    "    print(f\"There are two real roots: {round(-b * (math.sqrt(discriminant)) / 2 * a, 2)} and {round(-b * -(math.sqrt(discriminant)) / 2 * a, 2)}\")\n",
    "else:\n",
    "    print(\"There are no real roots, only imaginary. Cannot find the square root of a negative number.\")\n",
    "\n",
    "\n",
    "# b. Python uses the lettler 'j' to represent the mathematical imaginary number 'i' (a convention used in electrical\n",
    "#    engineering). However, the Python 'j' must always be preceded by a number. That is, '1j' is equivalent to the\n",
    "#    mathematical 'i'. Add the ability to handle imaginary roots to your program. (You can use complex() for this)\n",
    "\n",
    "\n"
   ]
  },
  {
   "cell_type": "markdown",
   "metadata": {},
   "source": [
    "### 4. Flower Garden | Programming Project"
   ]
  },
  {
   "cell_type": "markdown",
   "metadata": {},
   "source": [
    "We will now continue from the “Simple Python Program” we discussed in Class 2 (see class notes on the website, or pages 38 – 41 of the textbook).\n",
    "\n",
    "This assignment will give you experience on the use of\n",
    "- Integers and floats\n",
    "- Mathematical operations\n",
    "- The float(), int(), round(), print(), and input()functions\n",
    "- Importing a Python module "
   ]
  },
  {
   "cell_type": "code",
   "execution_count": 2,
   "metadata": {},
   "outputs": [
    {
     "name": "stdout",
     "output_type": "stream",
     "text": [
      "Soil for each semicircile garden: cubic yards \n",
      "Soil for each circle garden: cubic yards \n",
      "Total soil for the garden: cubic yards \n",
      "Total filler for the garden: cubic yards\n"
     ]
    }
   ],
   "source": [
    "side_length = float(input(\"Enter the length of the side of garden (in feet): \"))\n",
    "soil_depth = float(input(\"Enter the depth of garden soil (in feet): \"))\n",
    "filler_depth = float(input(\"Enter the depth of filler (in feet): \"))\n",
    "\n",
    "\n",
    "\n",
    "print(\"Soil for each semicircile garden: \" + \"cubic yards\",\n",
    "      \"\\nSoil for each circle garden: \" + \"cubic yards\",\n",
    "      \"\\nTotal soil for the garden: \" + \"cubic yards\",\n",
    "      \"\\nTotal filler for the garden: \" + \"cubic yards\"\n",
    "      )"
   ]
  },
  {
   "cell_type": "code",
   "execution_count": null,
   "metadata": {},
   "outputs": [],
   "source": [
    "# Example\n",
    "# Calculate Garden requirements\n",
    "# \n",
    "# Enter length of side of garden (feet): 10\n",
    "# Enter depth of garden soil (feet): 0.8333\n",
    "# Enter depth of filler (feet): 0.8333\n",
    "# -----------------------------\n",
    "# Requirements\n",
    "#\n",
    "# Soil for each semicircle garden: 0.3 cubic yards\n",
    "# Soil for the circle garden: 0.6 cubic yards\n",
    "# Total soil for the garden: 1.8 cubic yards\n",
    "# Total filler for the garden: 1.3 cubic yards "
   ]
  }
 ],
 "metadata": {
  "kernelspec": {
   "display_name": "Python 3",
   "language": "python",
   "name": "python3"
  },
  "language_info": {
   "codemirror_mode": {
    "name": "ipython",
    "version": 3
   },
   "file_extension": ".py",
   "mimetype": "text/x-python",
   "name": "python",
   "nbconvert_exporter": "python",
   "pygments_lexer": "ipython3",
   "version": "3.11.9"
  }
 },
 "nbformat": 4,
 "nbformat_minor": 2
}
