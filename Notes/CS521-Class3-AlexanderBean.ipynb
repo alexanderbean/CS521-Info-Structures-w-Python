{
 "cells": [
  {
   "cell_type": "markdown",
   "metadata": {},
   "source": [
    "# CS521 - Class #3 - 09/19/24"
   ]
  },
  {
   "cell_type": "markdown",
   "metadata": {},
   "source": [
    "DICTIONARIES\n",
    "\n",
    "- Not indexable\n",
    "- Are mutable"
   ]
  },
  {
   "cell_type": "markdown",
   "metadata": {},
   "source": [
    "1. Constructing a dictionary"
   ]
  },
  {
   "cell_type": "code",
   "execution_count": 25,
   "metadata": {},
   "outputs": [
    {
     "name": "stdout",
     "output_type": "stream",
     "text": [
      "{'key1': 1, 'key2': 2, 'key3': 3}\n"
     ]
    }
   ],
   "source": [
    "# Dictionaries use {} in which key:value pairs are included\n",
    "# Key MUST be a string\n",
    "# Value can be any data type, including dictionaries\n",
    "\n",
    "new_dict = {\"key1\": 1, \"key2\": 2, \"key3\": 3}\n",
    "print(new_dict)"
   ]
  },
  {
   "cell_type": "code",
   "execution_count": 26,
   "metadata": {},
   "outputs": [
    {
     "name": "stdout",
     "output_type": "stream",
     "text": [
      "{'key1': 1, 'key2': [2, 3, 4]}\n"
     ]
    }
   ],
   "source": [
    "array_dict = {\"key1\": 1, \"key2\": [2, 3, 4]}\n",
    "print(array_dict)"
   ]
  },
  {
   "cell_type": "markdown",
   "metadata": {},
   "source": [
    "2. Accessing Objects from a Dictionary"
   ]
  },
  {
   "cell_type": "code",
   "execution_count": 27,
   "metadata": {},
   "outputs": [
    {
     "data": {
      "text/plain": [
       "3"
      ]
     },
     "execution_count": 27,
     "metadata": {},
     "output_type": "execute_result"
    }
   ],
   "source": [
    "# Dictionaries are UNORDERED. Meaning they cannot be indexed.\n",
    "# To index, you must refer to it by the key\n",
    "\n",
    "# If dictionary item is a list, you can use indexing once inside it\n",
    "\n",
    "array_dict[\"key2\"][1]"
   ]
  },
  {
   "cell_type": "code",
   "execution_count": 28,
   "metadata": {},
   "outputs": [
    {
     "name": "stdout",
     "output_type": "stream",
     "text": [
      "[2, 3, 4, 5]\n"
     ]
    }
   ],
   "source": [
    "# You can even append to a list\n",
    "\n",
    "array_dict[\"key2\"].append(5)\n",
    "print(array_dict[\"key2\"])"
   ]
  },
  {
   "cell_type": "markdown",
   "metadata": {},
   "source": [
    "Dictionaries are Mutable"
   ]
  },
  {
   "cell_type": "code",
   "execution_count": 29,
   "metadata": {},
   "outputs": [
    {
     "name": "stdout",
     "output_type": "stream",
     "text": [
      "{'key1': 'Hello!', 'key2': [2, 3, 4, 5]}\n"
     ]
    }
   ],
   "source": [
    "array_dict[\"key1\"] = \"Hello!\"\n",
    "\n",
    "print(array_dict)"
   ]
  },
  {
   "cell_type": "markdown",
   "metadata": {},
   "source": [
    "Arithmetic operations on the values"
   ]
  },
  {
   "cell_type": "code",
   "execution_count": 36,
   "metadata": {},
   "outputs": [
    {
     "name": "stdout",
     "output_type": "stream",
     "text": [
      "<class 'dict'>\n",
      "<class 'int'>\n"
     ]
    }
   ],
   "source": [
    "# You can do this because:\n",
    "\n",
    "int_dict = {\"key0\": 200, \"key1\": 125, \"key2\": 300}\n",
    "\n",
    "print(type(int_dict))\n",
    "\n",
    "print(type(int_dict[\"key1\"]))\n",
    "\n",
    "# The value associated with key1 is an integer"
   ]
  },
  {
   "cell_type": "code",
   "execution_count": 37,
   "metadata": {},
   "outputs": [
    {
     "name": "stdout",
     "output_type": "stream",
     "text": [
      "Before:\t {'key0': 200, 'key1': 125, 'key2': 300}\n",
      "After:\t {'key0': 200, 'key1': 2, 'key2': 300}\n"
     ]
    }
   ],
   "source": [
    "# Subtract 123 from the value\n",
    "\n",
    "int_dict = {\"key0\": 200, \"key1\": 125, \"key2\": 300}\n",
    "print(\"Before:\\t\", int_dict)\n",
    "\n",
    "int_dict[\"key1\"] -= 123\n",
    "\n",
    "print(\"After:\\t\", int_dict)"
   ]
  },
  {
   "cell_type": "markdown",
   "metadata": {},
   "source": [
    "Creating dictionaries through assignment"
   ]
  },
  {
   "cell_type": "code",
   "execution_count": 38,
   "metadata": {},
   "outputs": [
    {
     "name": "stdout",
     "output_type": "stream",
     "text": [
      "{'course_ID': 'CS521', 'course_name': 'Information Structures in Python'}\n",
      "CS521\n",
      "Information Structures in Python\n"
     ]
    }
   ],
   "source": [
    "dictionary_new = {}\n",
    "\n",
    "dictionary_new[\"course_ID\"] = \"CS521\"\n",
    "\n",
    "dictionary_new[\"course_name\"] = \"Information Structures in Python\"\n",
    "\n",
    "print(dictionary_new)\n",
    "print(dictionary_new[\"course_ID\"])\n",
    "print(dictionary_new[\"course_name\"])"
   ]
  },
  {
   "cell_type": "markdown",
   "metadata": {},
   "source": [
    "3. Nesting Dictionaries"
   ]
  },
  {
   "cell_type": "code",
   "execution_count": 41,
   "metadata": {},
   "outputs": [],
   "source": [
    "# Dictionary nested inside a dictionary nested inside a dictionary\n",
    "\n",
    "d = {'key1':{'nestkey':{'subnestkey':'value'}}}"
   ]
  },
  {
   "cell_type": "code",
   "execution_count": 42,
   "metadata": {},
   "outputs": [
    {
     "data": {
      "text/plain": [
       "'value'"
      ]
     },
     "execution_count": 42,
     "metadata": {},
     "output_type": "execute_result"
    }
   ],
   "source": [
    "# Call all the keys\n",
    "\n",
    "d['key1']['nestkey']['subnestkey']"
   ]
  },
  {
   "cell_type": "markdown",
   "metadata": {},
   "source": [
    "4. Basic Dictionary Methods"
   ]
  },
  {
   "cell_type": "markdown",
   "metadata": {},
   "source": [
    "- keys()\n",
    "- values()\n",
    "- items()\n",
    "- pop()"
   ]
  },
  {
   "cell_type": "code",
   "execution_count": 56,
   "metadata": {},
   "outputs": [],
   "source": [
    "cities = {'Massachusetts': 'Boston', 'Maine': 'Augusta', 'Rhode Island': 'Providence', 'New Hampshire': 'Concord'}"
   ]
  },
  {
   "cell_type": "code",
   "execution_count": 57,
   "metadata": {},
   "outputs": [
    {
     "data": {
      "text/plain": [
       "dict_keys(['Massachusetts', 'Maine', 'Rhode Island', 'New Hampshire'])"
      ]
     },
     "execution_count": 57,
     "metadata": {},
     "output_type": "execute_result"
    }
   ],
   "source": [
    "cities.keys()"
   ]
  },
  {
   "cell_type": "code",
   "execution_count": 58,
   "metadata": {},
   "outputs": [
    {
     "data": {
      "text/plain": [
       "dict_values(['Boston', 'Augusta', 'Providence', 'Concord'])"
      ]
     },
     "execution_count": 58,
     "metadata": {},
     "output_type": "execute_result"
    }
   ],
   "source": [
    "cities.values()"
   ]
  },
  {
   "cell_type": "code",
   "execution_count": 59,
   "metadata": {},
   "outputs": [
    {
     "data": {
      "text/plain": [
       "dict_items([('Massachusetts', 'Boston'), ('Maine', 'Augusta'), ('Rhode Island', 'Providence'), ('New Hampshire', 'Concord')])"
      ]
     },
     "execution_count": 59,
     "metadata": {},
     "output_type": "execute_result"
    }
   ],
   "source": [
    "cities.items()"
   ]
  },
  {
   "cell_type": "code",
   "execution_count": 60,
   "metadata": {},
   "outputs": [
    {
     "data": {
      "text/plain": [
       "'Concord'"
      ]
     },
     "execution_count": 60,
     "metadata": {},
     "output_type": "execute_result"
    }
   ],
   "source": [
    "# Prints and removes item from the dictionary\n",
    "\n",
    "cities.pop('New Hampshire')"
   ]
  },
  {
   "cell_type": "code",
   "execution_count": 61,
   "metadata": {},
   "outputs": [
    {
     "data": {
      "text/plain": [
       "{'Massachusetts': 'Boston', 'Maine': 'Augusta', 'Rhode Island': 'Providence'}"
      ]
     },
     "execution_count": 61,
     "metadata": {},
     "output_type": "execute_result"
    }
   ],
   "source": [
    "cities"
   ]
  },
  {
   "cell_type": "markdown",
   "metadata": {},
   "source": [
    "SETS:\n",
    "\n",
    "Unordered collection of unique objects"
   ]
  },
  {
   "cell_type": "code",
   "execution_count": 71,
   "metadata": {},
   "outputs": [],
   "source": [
    "my_set = set()"
   ]
  },
  {
   "cell_type": "code",
   "execution_count": 72,
   "metadata": {},
   "outputs": [
    {
     "data": {
      "text/plain": [
       "{5}"
      ]
     },
     "execution_count": 72,
     "metadata": {},
     "output_type": "execute_result"
    }
   ],
   "source": [
    "my_set.add(5)\n",
    "\n",
    "my_set"
   ]
  },
  {
   "cell_type": "code",
   "execution_count": 73,
   "metadata": {},
   "outputs": [
    {
     "data": {
      "text/plain": [
       "{5, 7}"
      ]
     },
     "execution_count": 73,
     "metadata": {},
     "output_type": "execute_result"
    }
   ],
   "source": [
    "my_set.add(7)\n",
    "\n",
    "my_set"
   ]
  },
  {
   "cell_type": "code",
   "execution_count": 74,
   "metadata": {},
   "outputs": [
    {
     "data": {
      "text/plain": [
       "{5, 7}"
      ]
     },
     "execution_count": 74,
     "metadata": {},
     "output_type": "execute_result"
    }
   ],
   "source": [
    "# UNIQUENESS IN SETS\n",
    "# Duplicate values are IGNORED in sets.\n",
    "\n",
    "my_set.add(5)\n",
    "\n",
    "my_set"
   ]
  },
  {
   "cell_type": "code",
   "execution_count": 78,
   "metadata": {},
   "outputs": [
    {
     "name": "stdout",
     "output_type": "stream",
     "text": [
      "[1, 1, 2, 2, 3, 4, 3, 4, 3, 5, 5, 7, 8, 9]\n",
      "2\n",
      "{1, 2, 3, 4, 5, 7, 8, 9}\n"
     ]
    }
   ],
   "source": [
    "# You can convert a list to a set to clean duplicate values\n",
    "\n",
    "my_list = [1, 1, 2, 2, 3, 4, 3, 4, 3, 5, 5, 7, 8, 9]\n",
    "\n",
    "print(my_list)\n",
    "print(my_list[3])\n",
    "\n",
    "list2set = set(my_list)\n",
    "# print(list2set[3]) -- You cannot index on a set, as it is unordered.\n",
    "\n",
    "print(list2set)"
   ]
  },
  {
   "cell_type": "markdown",
   "metadata": {},
   "source": [
    "BOOLEANS:\n",
    "\n",
    "True or False, integers 1 and 0\n",
    "\n",
    "These are simple, but important to use for loop control in the future\n",
    "\n",
    "It also has a placeholder object called None"
   ]
  },
  {
   "cell_type": "code",
   "execution_count": 79,
   "metadata": {},
   "outputs": [
    {
     "name": "stdout",
     "output_type": "stream",
     "text": [
      "True\n"
     ]
    }
   ],
   "source": [
    "a = True\n",
    "\n",
    "print(a)"
   ]
  },
  {
   "cell_type": "code",
   "execution_count": 86,
   "metadata": {},
   "outputs": [
    {
     "name": "stdout",
     "output_type": "stream",
     "text": [
      "True\n",
      "<class 'bool'>\n",
      "False\n",
      "<class 'bool'>\n"
     ]
    }
   ],
   "source": [
    "# Generate through comparisons\n",
    "\n",
    "print(1 <= 2)\n",
    "print(type(1 <= 2))\n",
    "\n",
    "print(1 >= 2)\n",
    "print(type(1 >= 2))"
   ]
  },
  {
   "cell_type": "code",
   "execution_count": 88,
   "metadata": {},
   "outputs": [
    {
     "name": "stdout",
     "output_type": "stream",
     "text": [
      "None\n",
      "<class 'NoneType'>\n"
     ]
    }
   ],
   "source": [
    "# We can use None as a placeholder for an object that we don't want to assign yet\n",
    "\n",
    "b = None\n",
    "\n",
    "print(b)\n",
    "\n",
    "print(type(b))"
   ]
  },
  {
   "cell_type": "markdown",
   "metadata": {},
   "source": [
    "Break Question"
   ]
  },
  {
   "cell_type": "code",
   "execution_count": 111,
   "metadata": {},
   "outputs": [
    {
     "name": "stdout",
     "output_type": "stream",
     "text": [
      "Hiding your treasure! X marks the spot.\n",
      "[' ⬜ ', ' ⬜ ', ' ⬜ ']\n",
      "['  X  ', ' ⬜ ', ' ⬜ ']\n",
      "[' ⬜ ', ' ⬜ ', ' ⬜ ']\n"
     ]
    }
   ],
   "source": [
    "line1 = [\" ⬜ \",\" ⬜ \",\" ⬜ \"]\n",
    "line2 = [\" ⬜ \",\" ⬜ \",\" ⬜ \"]\n",
    "line3 = [\" ⬜ \",\" ⬜ \",\" ⬜ \"]\n",
    "\n",
    "map = [line1, line2, line3]\n",
    "\n",
    "print(\"Hiding your treasure! X marks the spot.\")\n",
    "position = input()\n",
    "\n",
    "row = int(position[-1]) - 1\n",
    "col = ord(position[0]) - ord(\"A\")\n",
    "\n",
    "map[row][col] = \"  X  \"\n",
    "\n",
    "print(f\"{line1}\\n{line2}\\n{line3}\")"
   ]
  },
  {
   "cell_type": "markdown",
   "metadata": {},
   "source": [
    "COMPARISSON OPERATORS:\n",
    "\n",
    "- They test over int/float values\n",
    "- Output a boolean based on the test result"
   ]
  },
  {
   "cell_type": "markdown",
   "metadata": {},
   "source": [
    "1. Equality"
   ]
  },
  {
   "cell_type": "code",
   "execution_count": 117,
   "metadata": {},
   "outputs": [
    {
     "name": "stdout",
     "output_type": "stream",
     "text": [
      "True\n",
      "False\n",
      "False\n"
     ]
    }
   ],
   "source": [
    "print( 1 == 1 )\n",
    "print( 1 == -5 )\n",
    "\n",
    "# Multiple parameters\n",
    "print ( (1 == 1) & (1 == -5) )\n"
   ]
  },
  {
   "cell_type": "markdown",
   "metadata": {},
   "source": [
    "2. Greater Than"
   ]
  },
  {
   "cell_type": "code",
   "execution_count": 118,
   "metadata": {},
   "outputs": [
    {
     "name": "stdout",
     "output_type": "stream",
     "text": [
      "False\n",
      "True\n",
      "False\n"
     ]
    }
   ],
   "source": [
    "print( 1 > 5 )\n",
    "print( 1 > -3 )\n",
    "print ( (1 > 5) & (1 > -3) )"
   ]
  },
  {
   "cell_type": "markdown",
   "metadata": {},
   "source": [
    "3. Less Than"
   ]
  },
  {
   "cell_type": "code",
   "execution_count": 122,
   "metadata": {},
   "outputs": [
    {
     "name": "stdout",
     "output_type": "stream",
     "text": [
      "True\n",
      "False\n",
      "False\n"
     ]
    }
   ],
   "source": [
    "print( 1 < 5 )\n",
    "print( 1 < -3 )\n",
    "print ( (1 < 5) & (1 < -3) )"
   ]
  },
  {
   "cell_type": "markdown",
   "metadata": {},
   "source": [
    "4. Greater Equals"
   ]
  },
  {
   "cell_type": "code",
   "execution_count": 123,
   "metadata": {},
   "outputs": [
    {
     "name": "stdout",
     "output_type": "stream",
     "text": [
      "True\n",
      "True\n",
      "False\n"
     ]
    }
   ],
   "source": [
    "print( 3 >= 3 )\n",
    "print( 1 >= -3 )\n",
    "print ( (1 >= 5) & (1 >= -3) )"
   ]
  },
  {
   "cell_type": "markdown",
   "metadata": {},
   "source": [
    "5. Less Equals"
   ]
  },
  {
   "cell_type": "code",
   "execution_count": 124,
   "metadata": {},
   "outputs": [
    {
     "name": "stdout",
     "output_type": "stream",
     "text": [
      "True\n",
      "False\n",
      "False\n"
     ]
    }
   ],
   "source": [
    "print( 3 <= 3 )\n",
    "print( 1 <= -3 )\n",
    "print ( (1 <= 5) & (1 <= -3) )"
   ]
  },
  {
   "cell_type": "code",
   "execution_count": 125,
   "metadata": {},
   "outputs": [
    {
     "name": "stdout",
     "output_type": "stream",
     "text": [
      "False\n",
      "True\n"
     ]
    }
   ],
   "source": [
    "# Booleans can be used too\n",
    "\n",
    "# True = 1, False = 0\n",
    "\n",
    "print(False > 2)\n",
    "\n",
    "print(True == 1)"
   ]
  },
  {
   "cell_type": "code",
   "execution_count": 127,
   "metadata": {},
   "outputs": [
    {
     "name": "stdout",
     "output_type": "stream",
     "text": [
      "7\n"
     ]
    }
   ],
   "source": [
    "# This leads to some interesting calculations\n",
    "\n",
    "a = 6 + (1 < 5)\n",
    "print(a)\n",
    "\n",
    "# This is 7 because (1 < 5) has a value of True which equals 1"
   ]
  },
  {
   "cell_type": "markdown",
   "metadata": {},
   "source": [
    "LOGICAL OPERATORS:\n",
    "\n",
    "1. and\n",
    "2. or\n",
    "3. not\n",
    "\n",
    "Order of priority is:\n",
    "- not > and > or\n",
    "\n",
    "Treat ^ like an order of operations"
   ]
  },
  {
   "cell_type": "code",
   "execution_count": 129,
   "metadata": {},
   "outputs": [
    {
     "name": "stdout",
     "output_type": "stream",
     "text": [
      "False\n"
     ]
    }
   ],
   "source": [
    "# Example\n",
    "\n",
    "ex1 = True\n",
    "ex2 = False"
   ]
  },
  {
   "cell_type": "code",
   "execution_count": 132,
   "metadata": {},
   "outputs": [
    {
     "name": "stdout",
     "output_type": "stream",
     "text": [
      "False\n",
      "True\n",
      "False\n"
     ]
    }
   ],
   "source": [
    "# \"and\" operator\n",
    "\n",
    "print(ex1 and ex2 == True)\n",
    "\n",
    "# \"or\" operator\n",
    "\n",
    "print(ex1 or ex2 == True)\n",
    "\n",
    "# not operator\n",
    "\n",
    "print(not ex1 and ex2 == True)"
   ]
  },
  {
   "cell_type": "code",
   "execution_count": 138,
   "metadata": {},
   "outputs": [
    {
     "data": {
      "text/plain": [
       "True"
      ]
     },
     "execution_count": 138,
     "metadata": {},
     "output_type": "execute_result"
    }
   ],
   "source": [
    "# Order of priority\n",
    "\n",
    "x = -5\n",
    "y = 10\n",
    "\n",
    "(x < -10) and (y == 10) or (x < -3)\n",
    "\n",
    "#( False  and   True )  or   True\n",
    "#       False           or   True\n",
    "#                            True"
   ]
  },
  {
   "cell_type": "markdown",
   "metadata": {},
   "source": [
    "CONTROL FLOW\n",
    "\n",
    "Statements are:\n",
    "\n",
    "- if\n",
    "- elif\n",
    "- else\n",
    "\n",
    "These statements tell the computer to perform an action based on a set of results.\n",
    "- Ex. If this = that, do these next steps"
   ]
  },
  {
   "cell_type": "code",
   "execution_count": 139,
   "metadata": {},
   "outputs": [
    {
     "name": "stdout",
     "output_type": "stream",
     "text": [
      "The statement was True!\n"
     ]
    }
   ],
   "source": [
    "if True:\n",
    "    print(\"The statement was True!\")"
   ]
  },
  {
   "cell_type": "code",
   "execution_count": 140,
   "metadata": {},
   "outputs": [
    {
     "name": "stdout",
     "output_type": "stream",
     "text": [
      "This printed because the statement was NOT true.\n"
     ]
    }
   ],
   "source": [
    "x = False\n",
    "\n",
    "if x:\n",
    "    print(\"The statement was True!\")\n",
    "else:\n",
    "    print(\"This printed because the statement was NOT true.\")"
   ]
  },
  {
   "cell_type": "code",
   "execution_count": 146,
   "metadata": {},
   "outputs": [
    {
     "name": "stdout",
     "output_type": "stream",
     "text": [
      "The variable is not 1 or 0.\n"
     ]
    }
   ],
   "source": [
    "x = 2\n",
    "\n",
    "if x == True:\n",
    "    print(\"The variable X equals 1.\")\n",
    "elif x == False:\n",
    "    print(\"The variable X equals 0.\")\n",
    "else:\n",
    "    print(\"The variable is not 1 or 0.\")"
   ]
  },
  {
   "cell_type": "code",
   "execution_count": 147,
   "metadata": {},
   "outputs": [
    {
     "name": "stdout",
     "output_type": "stream",
     "text": [
      "Welcome, Alexander!\n"
     ]
    }
   ],
   "source": [
    "person = \"Alexander\"\n",
    "\n",
    "if person == \"Alexander\":\n",
    "    print(f\"Welcome, {person}!\")\n",
    "else:\n",
    "    print(\"Welcome, what is your name?\")"
   ]
  },
  {
   "cell_type": "markdown",
   "metadata": {},
   "source": [
    "Break Problem 2"
   ]
  },
  {
   "cell_type": "code",
   "execution_count": 154,
   "metadata": {},
   "outputs": [
    {
     "name": "stdout",
     "output_type": "stream",
     "text": [
      "Thank you for choosing PyZa Pizza Deliveries!\n",
      "What size pizza do you want? (Enter S, M, or L): \n",
      "Would you like pepperoni? (Enter Y or N): \n",
      "What you like extra cheese? (Enter Y or N): \n",
      "Thank you for choosing PyZa Pizza Deliveries! Your final bill is: $23.\n"
     ]
    }
   ],
   "source": [
    "# My solution\n",
    "\n",
    "print(\"Thank you for choosing PyZa Pizza Deliveries!\")\n",
    "\n",
    "total = 0\n",
    "\n",
    "size = input(print(\"What size pizza do you want? (Enter S, M, or L): \"))\n",
    "\n",
    "if size == \"S\":\n",
    "    total += 15\n",
    "elif size == \"M\":\n",
    "    total += 20\n",
    "else:\n",
    "    total += 25\n",
    "\n",
    "toppings = input(print(\"Would you like pepperoni? (Enter Y or N): \"))\n",
    "\n",
    "if size == \"S\":\n",
    "    total += 2\n",
    "else:\n",
    "    total += 3\n",
    "\n",
    "cheese = input(print(\"What you like extra cheese? (Enter Y or N): \"))\n",
    "\n",
    "if cheese == \"Y\":\n",
    "    total += 1\n",
    "\n",
    "print(f\"Thank you for choosing PyZa Pizza Deliveries! Your final bill is: ${total}.\")"
   ]
  },
  {
   "cell_type": "code",
   "execution_count": 165,
   "metadata": {},
   "outputs": [
    {
     "name": "stdout",
     "output_type": "stream",
     "text": [
      "Thank you for choosing PyZa Pizza Deliveries! \n",
      "What size pizza do you want? (Enter S, M, or L): \n",
      "Would you like pepperoni? (Enter Y or N:) \n",
      "Would you like extra cheese? (Enter Y or N): \n",
      "\n",
      "Thank you for choosing PyZa Pizza Deliveries! Your total is: $24.\n"
     ]
    }
   ],
   "source": [
    "# Professor's solution -- WITH explicit control flow statements\n",
    "\n",
    "size = input(print(\"Thank you for choosing PyZa Pizza Deliveries! \\nWhat size pizza do you want? (Enter S, M, or L): \"))\n",
    "add_pepperoni = input(print(\"Would you like pepperoni? (Enter Y or N:) \"))\n",
    "add_cheese = input(print(\"Would you like extra cheese? (Enter Y or N): \"))\n",
    "\n",
    "if size == \"S\":\n",
    "    total = 15 + 2 * (add_pepperoni == \"Y\")\n",
    "elif size == \"M\":\n",
    "    total = 20 + 3 * (add_pepperoni == \"Y\")\n",
    "elif size == \"L\":\n",
    "    total = 25 + 3 * (add_pepperoni == \"Y\")\n",
    "total += (add_cheese == \"Y\")\n",
    "\n",
    "print(f\"\\nThank you for choosing PyZa Pizza Deliveries! Your total is: ${total}.\")"
   ]
  },
  {
   "cell_type": "code",
   "execution_count": 166,
   "metadata": {},
   "outputs": [
    {
     "name": "stdout",
     "output_type": "stream",
     "text": [
      "Thank you for choosing PyZa Pizza Deliveries! \n",
      "What size pizza do you want? (Enter S, M, or L): \n",
      "Would you like pepperoni? (Enter Y or N): \n",
      "Would you like extra cheese? (Enter Y or N): \n",
      "Thank you for choosing PyZa Pizza Deliveries! Your total is $24.\n"
     ]
    }
   ],
   "source": [
    "# Professor's solution -- WITHOUT using explicit control flow statements\n",
    "\n",
    "user_response_dict = {\"y\": 1, \"n\": 0}\n",
    "size_cost_dict = {\"s\": 15, \"m\": 20, \"l\": 25}\n",
    "\n",
    "size = input(print(\"Thank you for choosing PyZa Pizza Deliveries! \\nWhat size pizza do you want? (Enter S, M, or L): \")).lower()\n",
    "add_pepperoni = user_response_dict[input(print(\"Would you like pepperoni? (Enter Y or N): \")).lower()]\n",
    "add_cheese = user_response_dict[input(print(\"Would you like extra cheese? (Enter Y or N): \")).lower()]\n",
    "\n",
    "total = size_cost_dict[size] + add_pepperoni * (2 * (size == 's') + 3 * (size == 'm' or size == 'l')) + add_cheese\n",
    "\n",
    "print(f\"Thank you for choosing PyZa Pizza Deliveries! Your total is ${total}.\")"
   ]
  },
  {
   "cell_type": "code",
   "execution_count": null,
   "metadata": {},
   "outputs": [],
   "source": []
  }
 ],
 "metadata": {
  "kernelspec": {
   "display_name": "Python 3",
   "language": "python",
   "name": "python3"
  },
  "language_info": {
   "codemirror_mode": {
    "name": "ipython",
    "version": 3
   },
   "file_extension": ".py",
   "mimetype": "text/x-python",
   "name": "python",
   "nbconvert_exporter": "python",
   "pygments_lexer": "ipython3",
   "version": "3.12.5"
  }
 },
 "nbformat": 4,
 "nbformat_minor": 2
}
