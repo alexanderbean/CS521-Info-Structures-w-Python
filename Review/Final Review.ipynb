{
 "cells": [
  {
   "cell_type": "markdown",
   "metadata": {},
   "source": [
    "# Final Review - 12/19/24\n",
    "\n",
    "- 100 minutes\n",
    "- 50 questions\n",
    "\n",
    "Will include:\n",
    "- EVERYTHING from midterm\n",
    "- File I/O\n",
    "- Any() and all() function\n",
    "- Object-Oriented Programming\n",
    "- Open response on sorting algorithms"
   ]
  },
  {
   "cell_type": "markdown",
   "metadata": {},
   "source": [
    "### Object-Oriented Programming"
   ]
  },
  {
   "cell_type": "code",
   "execution_count": null,
   "metadata": {},
   "outputs": [],
   "source": [
    "# Q1. What is the main purpose of the '__init()' function in a class?\n",
    "# a. To initialize class methods\n",
    "# b. To create class attributes\n",
    "# c. To construct an instance of a class\n",
    "# d. To define the class name\n",
    "\n",
    "# C - __init__() is a CONSTRUCTOR method that is called when you create an instance of a class"
   ]
  },
  {
   "cell_type": "code",
   "execution_count": null,
   "metadata": {},
   "outputs": [],
   "source": [
    "# Q2. What keyword is used to refer to the current instance of a class?\n",
    "# a. cls\n",
    "# b. this\n",
    "# c. instance\n",
    "# d. self\n",
    "\n",
    "# D - self is a reference to the current instance of a class\n",
    "\n",
    "class Car:\n",
    "    def __init__(self, color):\n",
    "        self.color = color"
   ]
  },
  {
   "cell_type": "code",
   "execution_count": null,
   "metadata": {},
   "outputs": [],
   "source": [
    "# Q3. How do you define a class in Python?\n",
    "# a. def ClassName:\n",
    "# b. class ClassName:\n",
    "# c. create ClassName:\n",
    "# d. class className():\n",
    "\n",
    "# B - class ClassName:\n",
    "\n",
    "class Car:\n",
    "    def __init__(self, color):\n",
    "        self.color = color"
   ]
  },
  {
   "cell_type": "code",
   "execution_count": null,
   "metadata": {},
   "outputs": [],
   "source": [
    "# Q4. What does the `self` keyword represent in a class?\n",
    "# a. The class itself\n",
    "# b. The superclass\n",
    "# c. The current instance of the class\n",
    "# d. The parent module\n",
    "\n",
    "# C - \"self\" keyword refers to the instance calling the method"
   ]
  },
  {
   "cell_type": "code",
   "execution_count": null,
   "metadata": {},
   "outputs": [],
   "source": [
    "# Q5. Which method is automatically called when a new object is created?\n",
    "# a. __new__()\n",
    "# b. __init__()\n",
    "# c. __create__()\n",
    "# d. __start__()\n",
    "\n",
    "# B - '__init__()' is a constructor--it is automatically called when a new object is created"
   ]
  },
  {
   "cell_type": "code",
   "execution_count": null,
   "metadata": {},
   "outputs": [
    {
     "data": {
      "text/plain": [
       "'red'"
      ]
     },
     "execution_count": 1,
     "metadata": {},
     "output_type": "execute_result"
    }
   ],
   "source": [
    "# Q6. How do you access an attribute of an instance?\n",
    "# a. instance:attribute\n",
    "# b. instance->attribute\n",
    "# c. instance.attribute\n",
    "# d. instance|attribute\n",
    "\n",
    "# C - instance.attribute\n",
    "\n",
    "class Car:\n",
    "    def __init__(self, color):\n",
    "        self.color = color\n",
    "\n",
    "car = Car('red')\n",
    "car.color"
   ]
  },
  {
   "cell_type": "code",
   "execution_count": null,
   "metadata": {},
   "outputs": [],
   "source": [
    "# Q7. What is the correct syntax to create an instance of a class named `Car`?\n",
    "# a. car = Car[]\n",
    "# b. car = Car()\n",
    "# c. car = new Car()\n",
    "# d. car = Car.create()\n",
    "\n",
    "# B - car = Car()\n",
    "\n",
    "# see Q6 for example"
   ]
  },
  {
   "cell_type": "code",
   "execution_count": 3,
   "metadata": {},
   "outputs": [
    {
     "name": "stdout",
     "output_type": "stream",
     "text": [
      "5\n"
     ]
    }
   ],
   "source": [
    "# Q8. What is the output of the following code?\n",
    "\n",
    "class A:\n",
    "    def __init__(self):\n",
    "        self.x = 5\n",
    "a = A()\n",
    "print(a.x)\n",
    "\n",
    "# a. 0\n",
    "# b. None\n",
    "# c. 5\n",
    "# d. Error\n",
    "\n",
    "# C - 5\n",
    "\n",
    "# Class A has an attribute called x that has a static value of 5\n",
    "# An instance of class A is created and assigned to variable 'a'\n",
    "# Because Class A has an attribute with the static value, and 'a' is an instance of Class A, calling a.x will return the value 5 "
   ]
  },
  {
   "cell_type": "code",
   "execution_count": 4,
   "metadata": {},
   "outputs": [
    {
     "name": "stdout",
     "output_type": "stream",
     "text": [
      "Color:\t Red\n",
      "Fuel:\t Electric\n",
      "FSD:\t True\n"
     ]
    }
   ],
   "source": [
    "# Q9. Which of the following is/are true about class methods in Python?\n",
    "# a. They do not take any parameters.\n",
    "# b. The first argument must always be the class name itself.\n",
    "# c. They take the self parameter as their first argument.\n",
    "# d. They are defined without the def keyword.\n",
    "\n",
    "# C - They take the self parameter as their first argument.\n",
    "\n",
    "class Car:\n",
    "    '''\n",
    "    Doc string for my Car class.\n",
    "    This has 3 attributes and 1 method\n",
    "    '''\n",
    "    def __init__(self, color, fuel, fsd):\n",
    "        '''\n",
    "        Initializer doc string.\n",
    "        Inputs are color (str), fuel (str), fsd (bool)\n",
    "        '''\n",
    "        self.color = color\n",
    "        self.fuel = fuel\n",
    "        self.fsd = fsd\n",
    "\n",
    "    def print_car_specs(self):\n",
    "        '''\n",
    "        Print car specs doc string.\n",
    "        Prints all attributes\n",
    "        '''\n",
    "        print(\"Color:\\t\", self.color)\n",
    "        print(\"Fuel:\\t\", self.fuel)\n",
    "        print(\"FSD:\\t\", self.fsd)\n",
    "\n",
    "my_third_car = Car(color = \"Red\", fuel = \"Electric\", fsd = True)\n",
    "my_third_car.print_car_specs()"
   ]
  },
  {
   "cell_type": "code",
   "execution_count": null,
   "metadata": {},
   "outputs": [],
   "source": [
    "# - Note, don't run this cell\n",
    "# Q10. Analyze the following code:\n",
    "\n",
    "class A:\n",
    "    def __init__(self, s):\n",
    "        self.s = s\n",
    "    def print(self):\n",
    "        print(s)\n",
    "\n",
    "a = A(\"Welcome\")\n",
    "a.print()\n",
    "\n",
    "# a. The program has an error because class A does not have a constructor.\n",
    "# b. The program has an error because class A should have a print method with signature print(self, s).\n",
    "# c. The program has an error because class A should have a print method with signature print(s).\n",
    "# d. The program will be correct if you change print(s) to print(self.s)."
   ]
  },
  {
   "cell_type": "code",
   "execution_count": null,
   "metadata": {},
   "outputs": [
    {
     "name": "stdout",
     "output_type": "stream",
     "text": [
      "Welcome\n"
     ]
    }
   ],
   "source": [
    "# Q10 ANS\n",
    "\n",
    "# D - The program will be correct if you changes print(s) to print(self.s)\n",
    "# You must always identify the instance 'self' within the method, otherwise the program is not sure what 's' is.\n",
    "\n",
    "class A:\n",
    "    def __init__(self, s):\n",
    "        self.s = s\n",
    "    def print(self):\n",
    "        print(self.s)\n",
    "\n",
    "a = A(\"Welcome\")\n",
    "a.print()"
   ]
  },
  {
   "cell_type": "code",
   "execution_count": null,
   "metadata": {},
   "outputs": [],
   "source": [
    "# - Note, don't run this cell\n",
    "# Q12. Analyze the following code:\n",
    "\n",
    "class A:\n",
    "    def __init__(self, s):\n",
    "        self.s = s\n",
    "    def print(self):\n",
    "        print(self.s)\n",
    "\n",
    "a = A()\n",
    "a.print()\n",
    "\n",
    "# a. The program has an error because class A does not have a constructor.\n",
    "# b. The program has an error because s is not defined in print(s).\n",
    "# c. The program runs fine and prints nothing.\n",
    "# d. The program has an error because the constructor is invoked without an argument."
   ]
  },
  {
   "cell_type": "code",
   "execution_count": 9,
   "metadata": {},
   "outputs": [
    {
     "name": "stdout",
     "output_type": "stream",
     "text": [
      "Added argument\n"
     ]
    }
   ],
   "source": [
    "# Q12 ANS\n",
    "\n",
    "# D - The program has an error because the constructor is invoked without an argument.\n",
    "# This class is defined as needing argument 's', and this instance called the constructor without the argument.\n",
    "\n",
    "class A:\n",
    "    def __init__(self, s):\n",
    "        self.s = s\n",
    "    def print(self):\n",
    "        print(self.s)\n",
    "\n",
    "a = A(\"Added argument\")\n",
    "a.print()"
   ]
  },
  {
   "cell_type": "code",
   "execution_count": null,
   "metadata": {},
   "outputs": [
    {
     "name": "stdout",
     "output_type": "stream",
     "text": [
      "Ashley Pan\n"
     ]
    }
   ],
   "source": [
    "# Q13. What will the following program output?\n",
    "\n",
    "class Name:\n",
    "    def __init__(self, firstName, mi, lastName):\n",
    "        self.firstName = firstName\n",
    "        self.mi = mi\n",
    "        self.lastName = lastName\n",
    "\n",
    "firstName = \"Ashley\"\n",
    "name = Name(firstName, 'F', \"Weaver\")\n",
    "firstName = \"Peter\"\n",
    "name.lastName = \"Pan\"\n",
    "print(name.firstName, name.lastName)\n",
    "\n",
    "# a. The program displays Peter Pan.\n",
    "# b. The program displays Ashley Pan.\n",
    "# c. The program displays Peter Weaver.\n",
    "# d. The program displays Ashley Weaver.\n",
    "\n",
    "# B - The program displays Ashley Pan\n",
    "\n",
    "# The instance was constructed with the firstName variable as \"Ashley\", 'F' for middle, and 'Weaver' for last\n",
    "# Then, the last name value was directly accessed and changed via name.lastName = 'Pan'\n",
    "# Therefore, the program will display 'Ashley Pan'."
   ]
  },
  {
   "cell_type": "code",
   "execution_count": null,
   "metadata": {},
   "outputs": [
    {
     "name": "stdout",
     "output_type": "stream",
     "text": [
      "-1 0\n",
      "-1 -1\n"
     ]
    }
   ],
   "source": [
    "# Q14. What, if anything, will the following code output?\n",
    "\n",
    "class test:\n",
    "    def __init__(self, x, y):\n",
    "        self.x = x\n",
    "        self.y = y\n",
    "\n",
    "my_test = test(-1, 0)\n",
    "for i in range(2):\n",
    "    print(my_test.x, my_test.y)\n",
    "    my_test.x += i\n",
    "    my_test.y += my_test.x + i\n",
    "\n",
    "# A. -1 0, -1 -1\n",
    "# B. -1 0, 0 1\n",
    "# C. -1 0, 0 0\n",
    "# D. Error\n",
    "\n",
    "# A - -1 0, -1 -1\n",
    "\n",
    "# X and Y are defined as -1 and 0 in the instantiation\n",
    "# There are 2 iterations of the loop with range(2). First loop, i = 0, second loop, i = 1\n",
    "# The initial values are printed (-1 0). After that, X is redefined as -1 += 0 = -1 and Y as new X value (-1) + i (0) = -1.\n",
    "# In the second iteration, it will print -1 0, -1 -1."
   ]
  },
  {
   "cell_type": "markdown",
   "metadata": {},
   "source": [
    "### File Input/Output (I/O)"
   ]
  },
  {
   "cell_type": "code",
   "execution_count": null,
   "metadata": {},
   "outputs": [],
   "source": [
    "# Q1. Which of the following is the correct way to open a file in read mode using the open() method?\n",
    "# a. open('file.txt', 'r')\n",
    "# b. open('file.txt', 'w')\n",
    "# c. open('file.txt', 'a')\n",
    "# d. open('file.txt', 'x')\n",
    "\n",
    "# A - open('file.txt', 'r')\n",
    "# This method opens the file and specifies the read mode. You can also just say open('file.txt'), as read mode is the default argument for the method."
   ]
  },
  {
   "cell_type": "code",
   "execution_count": null,
   "metadata": {},
   "outputs": [],
   "source": [
    "# Q2. What does the 'with' statement ensure when working with files?\n",
    "# a. Files are closed automatically after the block of code is executed.\n",
    "# b. Files are opened in append mode by default.\n",
    "# c. The file pointer is reset to the beginning of the file.\n",
    "# d. File operations are cached.\n",
    "\n",
    "# A - Files are closed automatically after the block of code is executed.\n",
    "# When used with file I/O, it ensures that files are properly opened and closed, even if an error occurs while the file is being processed."
   ]
  },
  {
   "cell_type": "code",
   "execution_count": null,
   "metadata": {},
   "outputs": [],
   "source": [
    "# Q3. Which method is used to write data to a file in Python?\n",
    "# a. write()\n",
    "# b. read()\n",
    "# c. readline()\n",
    "# d. writeline()\n",
    "\n",
    "# A - write()"
   ]
  },
  {
   "cell_type": "code",
   "execution_count": null,
   "metadata": {},
   "outputs": [],
   "source": [
    "# Q4. What is the primary difference between mode='w' and mode='a' in file operations?\n",
    "# a. mode='w' overwrites the file, mode='a' appends to the file.\n",
    "# b. mode='w' appends to the file, mode='a' overwrites the file.\n",
    "# c. mode='w' creates a new file, mode='a' cannot create files.\n",
    "# d. mode='w' opens the file in read-only mode, mode='a' opens it in write-only mode.\n",
    "\n",
    "# A - mode='w' overwrites the file, mode='a' appends to the file.\n",
    "\n",
    "# 'w', or write mode, will erase and overwrite any existing data in the file\n",
    "# 'a', or append mode, will start adding at the end of the existing data in the file"
   ]
  },
  {
   "cell_type": "code",
   "execution_count": null,
   "metadata": {},
   "outputs": [
    {
     "name": "stdout",
     "output_type": "stream",
     "text": [
      "Here is a\n",
      "new line\n"
     ]
    }
   ],
   "source": [
    "# Q5. What does the '\\n' escape sequence represent?\n",
    "# a. Tab space\n",
    "# b. Newline\n",
    "# c. Backspace\n",
    "# d. New page\n",
    "\n",
    "# B - Newline\n",
    "\n",
    "print(\"Here is a\\nnew line\")"
   ]
  },
  {
   "cell_type": "code",
   "execution_count": 19,
   "metadata": {},
   "outputs": [
    {
     "ename": "FileNotFoundError",
     "evalue": "[Errno 2] No such file or directory: 'hi.txt'",
     "output_type": "error",
     "traceback": [
      "\u001b[1;31m---------------------------------------------------------------------------\u001b[0m",
      "\u001b[1;31mFileNotFoundError\u001b[0m                         Traceback (most recent call last)",
      "Cell \u001b[1;32mIn[19], line 10\u001b[0m\n\u001b[0;32m      1\u001b[0m \u001b[38;5;66;03m# Q6. What will happen if you try to read a file that does not exist using mode='r'?\u001b[39;00m\n\u001b[0;32m      2\u001b[0m \u001b[38;5;66;03m# a. A new file is created.\u001b[39;00m\n\u001b[0;32m      3\u001b[0m \u001b[38;5;66;03m# b. An empty file is returned.\u001b[39;00m\n\u001b[1;32m   (...)\u001b[0m\n\u001b[0;32m      8\u001b[0m \n\u001b[0;32m      9\u001b[0m \u001b[38;5;66;03m# If the file does not exist, it will raise a FileNotFoundError.\u001b[39;00m\n\u001b[1;32m---> 10\u001b[0m \u001b[38;5;28;43mopen\u001b[39;49m\u001b[43m(\u001b[49m\u001b[38;5;124;43m\"\u001b[39;49m\u001b[38;5;124;43mhi.txt\u001b[39;49m\u001b[38;5;124;43m\"\u001b[39;49m\u001b[43m,\u001b[49m\u001b[43m \u001b[49m\u001b[43mmode\u001b[49m\u001b[38;5;241;43m=\u001b[39;49m\u001b[38;5;124;43m'\u001b[39;49m\u001b[38;5;124;43mr\u001b[39;49m\u001b[38;5;124;43m'\u001b[39;49m\u001b[43m)\u001b[49m\n",
      "File \u001b[1;32m~\\AppData\\Local\\Packages\\PythonSoftwareFoundation.Python.3.11_qbz5n2kfra8p0\\LocalCache\\local-packages\\Python311\\site-packages\\IPython\\core\\interactiveshell.py:324\u001b[0m, in \u001b[0;36m_modified_open\u001b[1;34m(file, *args, **kwargs)\u001b[0m\n\u001b[0;32m    317\u001b[0m \u001b[38;5;28;01mif\u001b[39;00m file \u001b[38;5;129;01min\u001b[39;00m {\u001b[38;5;241m0\u001b[39m, \u001b[38;5;241m1\u001b[39m, \u001b[38;5;241m2\u001b[39m}:\n\u001b[0;32m    318\u001b[0m     \u001b[38;5;28;01mraise\u001b[39;00m \u001b[38;5;167;01mValueError\u001b[39;00m(\n\u001b[0;32m    319\u001b[0m         \u001b[38;5;124mf\u001b[39m\u001b[38;5;124m\"\u001b[39m\u001b[38;5;124mIPython won\u001b[39m\u001b[38;5;124m'\u001b[39m\u001b[38;5;124mt let you open fd=\u001b[39m\u001b[38;5;132;01m{\u001b[39;00mfile\u001b[38;5;132;01m}\u001b[39;00m\u001b[38;5;124m by default \u001b[39m\u001b[38;5;124m\"\u001b[39m\n\u001b[0;32m    320\u001b[0m         \u001b[38;5;124m\"\u001b[39m\u001b[38;5;124mas it is likely to crash IPython. If you know what you are doing, \u001b[39m\u001b[38;5;124m\"\u001b[39m\n\u001b[0;32m    321\u001b[0m         \u001b[38;5;124m\"\u001b[39m\u001b[38;5;124myou can use builtins\u001b[39m\u001b[38;5;124m'\u001b[39m\u001b[38;5;124m open.\u001b[39m\u001b[38;5;124m\"\u001b[39m\n\u001b[0;32m    322\u001b[0m     )\n\u001b[1;32m--> 324\u001b[0m \u001b[38;5;28;01mreturn\u001b[39;00m \u001b[43mio_open\u001b[49m\u001b[43m(\u001b[49m\u001b[43mfile\u001b[49m\u001b[43m,\u001b[49m\u001b[43m \u001b[49m\u001b[38;5;241;43m*\u001b[39;49m\u001b[43margs\u001b[49m\u001b[43m,\u001b[49m\u001b[43m \u001b[49m\u001b[38;5;241;43m*\u001b[39;49m\u001b[38;5;241;43m*\u001b[39;49m\u001b[43mkwargs\u001b[49m\u001b[43m)\u001b[49m\n",
      "\u001b[1;31mFileNotFoundError\u001b[0m: [Errno 2] No such file or directory: 'hi.txt'"
     ]
    }
   ],
   "source": [
    "# Q6. What will happen if you try to read a file that does not exist using mode='r'?\n",
    "# a. A new file is created.\n",
    "# b. An empty file is returned.\n",
    "# c. An error is raised.\n",
    "# d. None of the above.\n",
    "\n",
    "# C - An error is raised\n",
    "\n",
    "# If the file does not exist, it will raise a FileNotFoundError.\n",
    "open(\"hi.txt\", mode='r')"
   ]
  },
  {
   "cell_type": "code",
   "execution_count": null,
   "metadata": {},
   "outputs": [],
   "source": [
    "# Q7. How can you close a file explicitly in Python?\n",
    "# a. Using the close() method.\n",
    "# b. Using the terminate() method.\n",
    "# c. Using the stop() method.\n",
    "# d. Python files do not need to be closed.\n",
    "\n",
    "# A - Using the close() method."
   ]
  },
  {
   "cell_type": "code",
   "execution_count": null,
   "metadata": {},
   "outputs": [],
   "source": [
    "# Q8. What is the default mode for opening a file using open()?\n",
    "# a. Write mode\n",
    "# b. Read mode\n",
    "# c. Append mode\n",
    "# d. Execute mode\n",
    "\n",
    "# B - Read mode"
   ]
  },
  {
   "cell_type": "code",
   "execution_count": null,
   "metadata": {},
   "outputs": [],
   "source": [
    "# Q9. What happens when you attempt to open a file in mode='w' if the file does not exist?\n",
    "# a. The file is truncated.\n",
    "# b. A Does Not Exist is raised.\n",
    "# c. A new file is created.\n",
    "# d. The file is overwritten.\n",
    "\n",
    "# C - A new file is created"
   ]
  },
  {
   "cell_type": "code",
   "execution_count": null,
   "metadata": {},
   "outputs": [
    {
     "name": "stdout",
     "output_type": "stream",
     "text": [
      "Here is a\ttab break\n"
     ]
    }
   ],
   "source": [
    "# Q10. Which escape sequence is used to add a horizontal tab in a string?\n",
    "# a. \\t\n",
    "# b. \\n\n",
    "# c. \\r\n",
    "# d. \\b\n",
    "\n",
    "# A - \\t\n",
    "\n",
    "print(\"Here is a\\ttab break\")"
   ]
  },
  {
   "cell_type": "code",
   "execution_count": null,
   "metadata": {},
   "outputs": [],
   "source": [
    "# Q11. Which of the following statements will overwrite a file named 'data.txt'?\n",
    "# a. open('data.txt', 'w')\n",
    "# b. open('data.txt', 'a')\n",
    "# c. open('data.txt', 'r')\n",
    "# d. open('data.txt', 'x')\n",
    "\n",
    "# A - open('data.txt', 'w')\n",
    "# Opening in write mode will overwrite the data in a file"
   ]
  },
  {
   "cell_type": "code",
   "execution_count": null,
   "metadata": {},
   "outputs": [],
   "source": [
    "# Q12. What method reads the entire content of a file as a string?\n",
    "# a. read()\n",
    "# b. readline()\n",
    "# c. readlines()\n",
    "# d. getlines()\n",
    "\n",
    "# A - read()\n",
    "\n",
    "# See tests below\n",
    "# read() reads the entire content of a file as a singular string\n",
    "# readline() reads only the first line of a file as a singular string\n",
    "# readlines() reads the entire content of a file, but returns as a list of strings for each line"
   ]
  },
  {
   "cell_type": "code",
   "execution_count": null,
   "metadata": {},
   "outputs": [
    {
     "name": "stdout",
     "output_type": "stream",
     "text": [
      "The read() method:\n",
      "Here is\n",
      "some sample\n",
      "text! \n",
      "\n",
      "The readline() method:\n",
      "Here is\n",
      "\n",
      "The readlines() method:\n",
      "['Here is\\n', 'some sample\\n', 'text!']\n"
     ]
    }
   ],
   "source": [
    "#Q12 tests\n",
    "\n",
    "from os import getcwd\n",
    "path = getcwd()\n",
    "\n",
    "with open(path+\"text.txt\", \"w\") as file_obj:\n",
    "    file_obj.write(\"Here is\\nsome sample\\ntext!\")\n",
    "\n",
    "with open(path+\"text.txt\", \"r\") as file_obj:\n",
    "    print(\"The read() method:\")\n",
    "    line = (file_obj.read())\n",
    "    print(line, \"\\n\")\n",
    "\n",
    "with open(path+\"text.txt\", \"r\") as file_obj:\n",
    "    print(\"The readline() method:\")\n",
    "    line = (file_obj.readline())\n",
    "    print(line)\n",
    "\n",
    "with open(path+\"text.txt\", \"r\") as file_obj:\n",
    "    print(\"The readlines() method:\")\n",
    "    line = (file_obj.readlines())\n",
    "    print(line)"
   ]
  },
  {
   "cell_type": "code",
   "execution_count": null,
   "metadata": {},
   "outputs": [],
   "source": [
    "# Q13. Which method reads a single line from a file?\n",
    "# a. readline()\n",
    "# b. read()\n",
    "# c. readlines()\n",
    "# d. readone()\n",
    "\n",
    "# A - readline()\n",
    "# See tests above"
   ]
  },
  {
   "cell_type": "code",
   "execution_count": null,
   "metadata": {},
   "outputs": [],
   "source": [
    "# Q14. What is the correct syntax to write a line 'Hello, World!' to a file?\n",
    "# a. file.write('Hello, World!\\n')\n",
    "# b. file.write('Hello, World!')\n",
    "# c. file.append('Hello, World!\\n')\n",
    "# d. file.append('Hello, World!')\n",
    "\n",
    "# B - file.write('Hello, World!')\n",
    "\n",
    "# There is no .append() method, just write().\n",
    "# There is no need to create a newline, as the newline will be created automatically when new data is added."
   ]
  },
  {
   "cell_type": "markdown",
   "metadata": {},
   "source": [
    "### The any() and all() Functions"
   ]
  },
  {
   "cell_type": "code",
   "execution_count": null,
   "metadata": {},
   "outputs": [
    {
     "name": "stdout",
     "output_type": "stream",
     "text": [
      "False\n",
      "True\n"
     ]
    }
   ],
   "source": [
    "# Q1. What does the any() function return when all elements in an iterable are False?\n",
    "# A. True\n",
    "# B. False\n",
    "# C. None\n",
    "# D. Error\n",
    "\n",
    "# B - False\n",
    "\n",
    "print(any([False, False, False])) # This is the only scenario where any() will return false--if all elements are false.\n",
    "print(any([False, False, True])) # Even just one True will return True"
   ]
  },
  {
   "cell_type": "code",
   "execution_count": null,
   "metadata": {},
   "outputs": [],
   "source": [
    "# Q2. Which of the following is the correct syntax for the any() function?\n",
    "# A. any(iterable)\n",
    "# B. any(object)\n",
    "# C. any(sequence, condition)\n",
    "# D. any()\n",
    "\n",
    "# A - any(iterable)\n",
    "# Just like all() -- the argument in the function is a list of values to iterate over"
   ]
  },
  {
   "cell_type": "code",
   "execution_count": null,
   "metadata": {},
   "outputs": [
    {
     "data": {
      "text/plain": [
       "True"
      ]
     },
     "execution_count": 44,
     "metadata": {},
     "output_type": "execute_result"
    }
   ],
   "source": [
    "# Q3. What will all([]) return?\n",
    "\n",
    "all([])\n",
    "\n",
    "# A. True\n",
    "# B. False\n",
    "# C. None\n",
    "# D. Error\n",
    "\n",
    "# A - True\n",
    "# This is because all() searches for any Falses. Since there are no Falses in the empty list, it returns True"
   ]
  },
  {
   "cell_type": "code",
   "execution_count": null,
   "metadata": {},
   "outputs": [],
   "source": [
    "# Q4. Which of the following statements about the all() function is True?\n",
    "# A. It returns True if all elements are True or iterable is empty.\n",
    "# B. It returns False if the iterable is empty.\n",
    "# C. It raises an exception if the iterable is empty.\n",
    "# D. It can only be used with lists.\n",
    "\n",
    "# A - It returns True if all elements are True or iterable is empty.\n",
    "# See Q3 for example"
   ]
  },
  {
   "cell_type": "code",
   "execution_count": null,
   "metadata": {},
   "outputs": [
    {
     "data": {
      "text/plain": [
       "False"
      ]
     },
     "execution_count": 45,
     "metadata": {},
     "output_type": "execute_result"
    }
   ],
   "source": [
    "# Q5. What is the output of the following code?:\n",
    " \n",
    "any([0, False, None])\n",
    "\n",
    "# A. True\n",
    "# B. False\n",
    "# C. Error\n",
    "# D. None\n",
    "\n",
    "# B - False\n",
    "# any(), opposite of all(), searches for any Trues. Since there are no Trues in the list, it returns False"
   ]
  },
  {
   "cell_type": "code",
   "execution_count": null,
   "metadata": {},
   "outputs": [
    {
     "ename": "TypeError",
     "evalue": "all() takes exactly one argument (0 given)",
     "output_type": "error",
     "traceback": [
      "\u001b[1;31m---------------------------------------------------------------------------\u001b[0m",
      "\u001b[1;31mTypeError\u001b[0m                                 Traceback (most recent call last)",
      "Cell \u001b[1;32mIn[52], line 5\u001b[0m\n\u001b[0;32m      1\u001b[0m \u001b[38;5;66;03m# 6. Which of the following will cause an error?\u001b[39;00m\n\u001b[0;32m      2\u001b[0m \u001b[38;5;66;03m# A. any(['a', '', 'c'])\u001b[39;00m\n\u001b[0;32m      3\u001b[0m \u001b[38;5;66;03m# B. any({'key1': True, 'key2': False})\u001b[39;00m\n\u001b[0;32m      4\u001b[0m \u001b[38;5;66;03m# C. all([True, False, True])\u001b[39;00m\n\u001b[1;32m----> 5\u001b[0m \u001b[38;5;28;43mall\u001b[39;49m\u001b[43m(\u001b[49m\u001b[43m)\u001b[49m\n",
      "\u001b[1;31mTypeError\u001b[0m: all() takes exactly one argument (0 given)"
     ]
    }
   ],
   "source": [
    "# Q6. Which of the following will cause an error?\n",
    "# A. any(['a', '', 'c'])\n",
    "# B. any({'key1': True, 'key2': False})\n",
    "# C. all([True, False, True])\n",
    "# D. all()\n",
    "\n",
    "# D - all()\n",
    "# There are no arguments given, and all requires one"
   ]
  },
  {
   "cell_type": "code",
   "execution_count": null,
   "metadata": {},
   "outputs": [
    {
     "data": {
      "text/plain": [
       "True"
      ]
     },
     "execution_count": 56,
     "metadata": {},
     "output_type": "execute_result"
    }
   ],
   "source": [
    "# Q7. What is the output of the following code?\n",
    "\n",
    "all([True, 1, 'text'])\n",
    "\n",
    "# A. True\n",
    "# B. False\n",
    "# C. Error\n",
    "# D. None\n",
    "\n",
    "# A - True\n",
    "# There is no False value present\n",
    "# Falses include: False, 0 or negatives, and empty strings"
   ]
  },
  {
   "cell_type": "code",
   "execution_count": null,
   "metadata": {},
   "outputs": [
    {
     "name": "stdout",
     "output_type": "stream",
     "text": [
      "False\n",
      "False\n",
      "True\n",
      "False\n"
     ]
    }
   ],
   "source": [
    "# Q8. Which of the following evaluates to True?\n",
    "# A. all([0, 1, 2])\n",
    "# B. any([0, 0, 0])\n",
    "# C. all([1, 2, 3])\n",
    "# D. any([])\n",
    "\n",
    "# C - all([1, 2, 3])\n",
    "# Every value is greater than 0, meaning each value is True. If all are True, it returns True\n",
    "\n",
    "print(all([0, 1, 2]))\n",
    "print(any([0, 0, 0]))\n",
    "print(all([1, 2, 3]))\n",
    "print(any([]))"
   ]
  },
  {
   "cell_type": "code",
   "execution_count": 62,
   "metadata": {},
   "outputs": [
    {
     "data": {
      "text/plain": [
       "True"
      ]
     },
     "execution_count": 62,
     "metadata": {},
     "output_type": "execute_result"
    }
   ],
   "source": [
    "# Q9. What is the output of the following code?\n",
    "\n",
    "any(i > 2 for i in [1, 2, 3])\n",
    "\n",
    "# A. True\n",
    "# B. False\n",
    "# C. Error\n",
    "#D. None\n",
    "\n",
    "# A - True\n",
    "# This iterable returns True if the value in the list is greater than 2.\n",
    "# 3 is in the list, and since this is the any() function, there is at least one True\n",
    "# This means it will return True"
   ]
  },
  {
   "cell_type": "code",
   "execution_count": null,
   "metadata": {},
   "outputs": [
    {
     "name": "stdout",
     "output_type": "stream",
     "text": [
      "True\n",
      "True\n",
      "True\n"
     ]
    }
   ],
   "source": [
    "# Q10. Which iterable type cannot be used with any() or all()?\n",
    "\n",
    "# A. Tuples\n",
    "# B. Dictionaries\n",
    "# C. Sets\n",
    "# D. None of the above\n",
    "\n",
    "# D - None of the above\n",
    "# any() and all() can handle tuples, sets, and dictionaries\n",
    "\n",
    "print(any(i > 2 for i in (1, 2, 3))) # Tuple\n",
    "print(any(i > 2 for i in {1, 2, 3})) # Set\n",
    "print(any({'key1': True, 'key2': False})) # Dictionary\n"
   ]
  },
  {
   "cell_type": "code",
   "execution_count": null,
   "metadata": {},
   "outputs": [
    {
     "data": {
      "text/plain": [
       "False"
      ]
     },
     "execution_count": 77,
     "metadata": {},
     "output_type": "execute_result"
    }
   ],
   "source": [
    "# Q11. What is the output of:\n",
    "\n",
    "all(['Python', ''])\n",
    "\n",
    "# A. True\n",
    "# B. False\n",
    "# C. Error\n",
    "# D. None\n",
    "\n",
    "# B - False\n",
    "# Since there is an empty string in the list, and empty strings return False, the all() function returns False"
   ]
  },
  {
   "cell_type": "code",
   "execution_count": null,
   "metadata": {},
   "outputs": [
    {
     "name": "stdout",
     "output_type": "stream",
     "text": [
      "1\n"
     ]
    }
   ],
   "source": [
    "# 12. What is the output of the following code snippet?\n",
    "\n",
    "y = any({}) + all({})\n",
    "print(y)\n",
    "\n",
    "# A. 1\n",
    "# B. False\n",
    "# C. 0\n",
    "# D. Error\n",
    "\n",
    "# A - 1\n",
    "# the any({}) returns False, or 0, and all({}) returns True, or 1.\n",
    "# The sum of which is 1"
   ]
  },
  {
   "cell_type": "code",
   "execution_count": 80,
   "metadata": {},
   "outputs": [
    {
     "data": {
      "text/plain": [
       "True"
      ]
     },
     "execution_count": 80,
     "metadata": {},
     "output_type": "execute_result"
    }
   ],
   "source": [
    "# 13. How does any() behave with mixed types?\n",
    "# A. Returns True for truthy elements\n",
    "# B. Returns False for any non-integer type\n",
    "# C. Returns True if all are of the same type\n",
    "# D. Raises a TypeError\n",
    "\n",
    "# A - Returns True for truthy elements\n",
    "\n",
    "# any() and all() can be used with mixed types.\n",
    "# They will return True or False depending on what True/False means in that specific data type\n",
    "\n",
    "any([15, True, \"hi\"])"
   ]
  },
  {
   "cell_type": "code",
   "execution_count": null,
   "metadata": {},
   "outputs": [],
   "source": [
    "# 14. Which is True about both any() and all()?\n",
    "# A. They can accept only lists as input.\n",
    "# B. They return boolean results.\n",
    "# C. They ignore empty iterables.\n",
    "# D. They raise errors on invalid types.\n",
    "\n",
    "# B - They return boolean results\n",
    "# The output of any() and all() is either True or False."
   ]
  },
  {
   "cell_type": "code",
   "execution_count": null,
   "metadata": {},
   "outputs": [
    {
     "data": {
      "text/plain": [
       "True"
      ]
     },
     "execution_count": 81,
     "metadata": {},
     "output_type": "execute_result"
    }
   ],
   "source": [
    "# 15. What does this evaluate to?\n",
    "\n",
    "all(map(lambda x: x % 2 == 0, [2, 4, 6])) \n",
    "\n",
    "# A. True\n",
    "# B. False\n",
    "# C. Error\n",
    "# D. None\n",
    "\n",
    "# A - True\n",
    "\n",
    "# This line is checking if all items in the list are even.\n",
    "# Since 2, 4, and 6 are all even, it returns True"
   ]
  },
  {
   "cell_type": "markdown",
   "metadata": {},
   "source": [
    "### Variable Scope and the LEGB Rule"
   ]
  },
  {
   "cell_type": "code",
   "execution_count": 88,
   "metadata": {},
   "outputs": [
    {
     "name": "stdout",
     "output_type": "stream",
     "text": [
      "The value of x before entering f1 is = 10\n",
      "The value of x before entering f2 is = 20\n",
      "The value of x once inside of f3 is = -30\n",
      "The value of x after entering f3 is = -30\n",
      "The value of x after entering f2 is = -30\n",
      "The value of x after entering f1 is =  10\n"
     ]
    }
   ],
   "source": [
    "# Q1. Predict the output of tte folowing code snippet\n",
    "\n",
    "x = 10\n",
    "print(f\"The value of x before entering f1 is = {x}\") # This will print 10 because of the prior line\n",
    "\n",
    "def f1():\n",
    "    x = 20\n",
    "    print(f\"The value of x before entering f2 is = {x}\") # This will print 20 because X is redefined as 20 in the local scope of f1()\n",
    "    \n",
    "    def f2():\n",
    "        def f3():\n",
    "            nonlocal x\n",
    "            x = -30\n",
    "            print(f\"The value of x once inside of f3 is = {x}\") # This will print -30 because it redefined the nonlocal X as -30 and that is the variable it is referring to.\n",
    "        f3()\n",
    "        print(f\"The value of x after entering f3 is = {x}\") # The closest value of X is the nonlocal variable, which is -30 so it will print -30.\n",
    "\n",
    "    f2()\n",
    "    print(f\"The value of x after entering f2 is = {x}\") # This is the nonlocal value of X referred to in f3() since it is the closest loop with the X value. This will print -30\n",
    "\n",
    "f1()\n",
    "print(f\"The value of x after entering f1 is =  {x}\") # This will return 10 as the GLOBAL value of X is still 10.\n"
   ]
  },
  {
   "cell_type": "code",
   "execution_count": null,
   "metadata": {},
   "outputs": [
    {
     "name": "stdout",
     "output_type": "stream",
     "text": [
      "2\n",
      "3.4\n",
      "2\n",
      "4\n"
     ]
    }
   ],
   "source": [
    "# Q2. What will this code snippet print:\n",
    "\n",
    "def function(x):\n",
    "    print(x)\n",
    "    x = 4.5\n",
    "    y = 3.4\n",
    "    print(y)\n",
    "\n",
    "x = 2\n",
    "y = 4\n",
    "\n",
    "function(x) # This will print 2 for X and then 3.4 for Y since it is redefined as 3.4 in the function.\n",
    "print(x) # This will print 2, as this is global scope and the global X was not changed from 2\n",
    "print(y) # This will print 4, as this is global scope and the global Y was not changed from 4\n"
   ]
  },
  {
   "cell_type": "code",
   "execution_count": null,
   "metadata": {},
   "outputs": [
    {
     "name": "stdout",
     "output_type": "stream",
     "text": [
      "3\n",
      "6\n",
      "5\n"
     ]
    }
   ],
   "source": [
    "# Q3. Predict the output of this program:\n",
    "\n",
    "def f(x, y = 1, z = 2):\n",
    "    return x + y + z\n",
    "\n",
    "print(f(1, 1, 1)) # This will print 3, as 1, 1, and 1 are passed in for X, Y, and Z.\n",
    "print(f(y = 1, x = 2, z = 3)) # This will print 6, as arguments don't need to be in order if they are specified as such and will correctly be assigned.\n",
    "print(f(1, z = 3)) # This will print 5, as y has a default value of 1 and, if not specified as an argument, will use the default value."
   ]
  },
  {
   "cell_type": "code",
   "execution_count": 95,
   "metadata": {},
   "outputs": [
    {
     "name": "stdout",
     "output_type": "stream",
     "text": [
      "Outer x: outer\n",
      "Global x: inner\n"
     ]
    }
   ],
   "source": [
    "# Q4. What will be the output of the following program? Why?\n",
    "\n",
    "x = \"global\"\n",
    "\n",
    "def outer():\n",
    "    x = \"outer\"\n",
    "    def inner():\n",
    "        global x\n",
    "        x = \"inner\"       \n",
    "    inner()\n",
    "    print(\"Outer x:\", x) # This will print \"outer\" because, while X was redefined, the GLOBAL x was. Not the nonlocal, which is X with the value of \"outer\"\n",
    "outer()\n",
    "print(\"Global x:\", x) # This will print \"inner\", as the global X was referred to and reassigned in inner() to \"inner\""
   ]
  },
  {
   "cell_type": "code",
   "execution_count": null,
   "metadata": {},
   "outputs": [
    {
     "ename": "SyntaxError",
     "evalue": "no binding for nonlocal 's' found (1718238983.py, line 8)",
     "output_type": "error",
     "traceback": [
      "\u001b[1;36m  Cell \u001b[1;32mIn[96], line 8\u001b[1;36m\u001b[0m\n\u001b[1;33m    nonlocal s\u001b[0m\n\u001b[1;37m    ^\u001b[0m\n\u001b[1;31mSyntaxError\u001b[0m\u001b[1;31m:\u001b[0m no binding for nonlocal 's' found\n"
     ]
    }
   ],
   "source": [
    "# Q5. Predict and explain in detail the output of this code snippet.\n",
    "\n",
    "def string_joiner():\n",
    "    global s\n",
    "    s += \" World!\"\n",
    "    \n",
    "    def inner_loop():\n",
    "        nonlocal s\n",
    "        s += \" Welcome to Python Programing!\"\n",
    "        print(s)\n",
    "    \n",
    "    inner_loop()\n",
    "    print(s)\n",
    "\n",
    "s = \"Hello\"\n",
    "string_joiner()\n",
    "\n",
    "# This code will cause an error. Global s is assigned \"Hello\". Then, in the string_joiner() function, global s is referred to and \" World!\" is appended to it.\n",
    "# In inner_loop(), it refers to a nonlocal s. However, there is no nonlocal s, even though an s variable is interacted with in the nonlocal (outer) function.\n",
    "# This is because the outer function is referred to a global variable and not defining or instantiating its own. This means that there is no nonlocal s for inner_loop() to call\n",
    "# The solution for this code is for inner_loop() to refer to global s instead of nonlocal. This will refer to the correct variable and will add the string to it."
   ]
  },
  {
   "cell_type": "code",
   "execution_count": null,
   "metadata": {},
   "outputs": [
    {
     "name": "stdout",
     "output_type": "stream",
     "text": [
      "Hello World! Welcome to Python Programing!\n",
      "Hello World! Welcome to Python Programing!\n"
     ]
    }
   ],
   "source": [
    "# Q5 Code. inner_loop() with global s\n",
    "\n",
    "def string_joiner():\n",
    "    global s\n",
    "    s += \" World!\"\n",
    "    \n",
    "    def inner_loop():\n",
    "        global s\n",
    "        s += \" Welcome to Python Programing!\"\n",
    "        print(s)\n",
    "    \n",
    "    inner_loop()\n",
    "    print(s)\n",
    "\n",
    "s = \"Hello\"\n",
    "string_joiner()"
   ]
  },
  {
   "cell_type": "markdown",
   "metadata": {},
   "source": [
    "### Sorting Algorithms"
   ]
  },
  {
   "cell_type": "code",
   "execution_count": null,
   "metadata": {},
   "outputs": [],
   "source": []
  }
 ],
 "metadata": {
  "kernelspec": {
   "display_name": "Python 3",
   "language": "python",
   "name": "python3"
  },
  "language_info": {
   "codemirror_mode": {
    "name": "ipython",
    "version": 3
   },
   "file_extension": ".py",
   "mimetype": "text/x-python",
   "name": "python",
   "nbconvert_exporter": "python",
   "pygments_lexer": "ipython3",
   "version": "3.11.9"
  }
 },
 "nbformat": 4,
 "nbformat_minor": 2
}
