{
 "cells": [
  {
   "cell_type": "markdown",
   "metadata": {},
   "source": [
    "# CS521 - Class #4 - 09/26/24"
   ]
  },
  {
   "cell_type": "markdown",
   "metadata": {},
   "source": [
    "### For Loops | Repetition\n",
    "\n",
    "General format for a for loop in Python:\n",
    "- For - keyword\n",
    "- element/item - individual thing\n",
    "- in - keyword\n",
    "- collection/iterable - collection of individual things\n",
    "\n",
    "ex.\n",
    "For item in object:\n",
    "- Statements do stuff\n",
    "\n",
    "    \n",
    "\n"
   ]
  },
  {
   "cell_type": "code",
   "execution_count": 34,
   "metadata": {},
   "outputs": [],
   "source": [
    "#For item in collection:\n",
    "#    Statements do stuff\n"
   ]
  },
  {
   "cell_type": "code",
   "execution_count": 35,
   "metadata": {},
   "outputs": [
    {
     "name": "stdout",
     "output_type": "stream",
     "text": [
      "The number is: 1\n",
      "The number is: 2\n",
      "The number is: 3\n",
      "The number is: 4\n",
      "The number is: 5\n",
      "The number is: 6\n",
      "The number is: 7\n",
      "The number is: 8\n",
      "The number is: 9\n",
      "The number is: 10\n"
     ]
    }
   ],
   "source": [
    "# Example 1\n",
    "\n",
    "list = [1, 2, 3, 4, 5, 6, 7, 8, 9, 10]\n",
    "\n",
    "for num in list:\n",
    "    print(f\"The number is: {num}\")"
   ]
  },
  {
   "cell_type": "code",
   "execution_count": 36,
   "metadata": {},
   "outputs": [
    {
     "name": "stdout",
     "output_type": "stream",
     "text": [
      "No, the number 1 is not divisible by 3\n",
      "No, the number 2 is not divisible by 3\n",
      "Yes, the number 3 is divisible by 3\n",
      "No, the number 4 is not divisible by 3\n",
      "No, the number 5 is not divisible by 3\n",
      "Yes, the number 6 is divisible by 3\n",
      "No, the number 7 is not divisible by 3\n",
      "No, the number 8 is not divisible by 3\n",
      "Yes, the number 9 is divisible by 3\n",
      "No, the number 10 is not divisible by 3\n",
      "No, the number 11 is not divisible by 3\n",
      "Yes, the number 12 is divisible by 3\n",
      "No, the number 13 is not divisible by 3\n",
      "No, the number 14 is not divisible by 3\n",
      "Yes, the number 15 is divisible by 3\n",
      "No, the number 16 is not divisible by 3\n",
      "No, the number 17 is not divisible by 3\n",
      "Yes, the number 18 is divisible by 3\n",
      "No, the number 19 is not divisible by 3\n",
      "No, the number 20 is not divisible by 3\n"
     ]
    }
   ],
   "source": [
    "list = [1, 2, 3, 4, 5, 6, 7, 8, 9, 10, 11, 12, 13, 14, 15, 16, 17, 18, 19, 20]\n",
    "\n",
    "for num in list:\n",
    "    if num % 3 == 0:\n",
    "        print(f\"Yes, the number {num} is divisible by 3\")\n",
    "    else:\n",
    "        print(f\"No, the number {num} is not divisible by 3\")"
   ]
  },
  {
   "cell_type": "markdown",
   "metadata": {},
   "source": [
    "For Loops w/ Strings"
   ]
  },
  {
   "cell_type": "code",
   "execution_count": 37,
   "metadata": {},
   "outputs": [
    {
     "name": "stdout",
     "output_type": "stream",
     "text": [
      "H\n",
      "E\n",
      "L\n",
      "L\n",
      "O\n",
      "!\n",
      " \n",
      "H\n",
      "O\n",
      "W\n",
      " \n",
      "A\n",
      "R\n",
      "E\n",
      " \n",
      "Y\n",
      "O\n",
      "U\n",
      " \n",
      "T\n",
      "O\n",
      "D\n",
      "A\n",
      "Y\n",
      "?\n"
     ]
    }
   ],
   "source": [
    "greeting = \"Hello! How are you today?\"\n",
    "\n",
    "for c in greeting:\n",
    "    print(c.upper())"
   ]
  },
  {
   "cell_type": "markdown",
   "metadata": {},
   "source": [
    "Tuples / Tuple Unpacking"
   ]
  },
  {
   "cell_type": "code",
   "execution_count": 38,
   "metadata": {},
   "outputs": [
    {
     "name": "stdout",
     "output_type": "stream",
     "text": [
      "1\n",
      "2\n",
      "3\n",
      "4\n",
      "5\n",
      "6\n"
     ]
    }
   ],
   "source": [
    "for t in (1, 2, 3, 4, 5, 6):\n",
    "    print(t)"
   ]
  },
  {
   "cell_type": "code",
   "execution_count": 39,
   "metadata": {},
   "outputs": [
    {
     "name": "stdout",
     "output_type": "stream",
     "text": [
      "(1, 2)\n",
      "(3, 4)\n",
      "(5, 6)\n"
     ]
    }
   ],
   "source": [
    "# Normally, you can only refer to the individual tuple\n",
    "\n",
    "tuple_list = [(1, 2), (3, 4), (5, 6)]\n",
    "\n",
    "for t in tuple_list:\n",
    "    print(t)"
   ]
  },
  {
   "cell_type": "code",
   "execution_count": 40,
   "metadata": {},
   "outputs": [
    {
     "name": "stdout",
     "output_type": "stream",
     "text": [
      "The sum of the elements inside this tuple is: 1 + 2 = 3\n",
      "The sum of the elements inside this tuple is: 3 + 4 = 7\n",
      "The sum of the elements inside this tuple is: 5 + 6 = 11\n"
     ]
    }
   ],
   "source": [
    "# This is how you unpack a tuple and access its contents\n",
    "\n",
    "for t1, t2 in tuple_list:\n",
    "    print(f\"The sum of the elements inside this tuple is: {t1} + {t2} = {t1+t2}\")"
   ]
  },
  {
   "cell_type": "markdown",
   "metadata": {},
   "source": [
    "Dictionaries & For Loops"
   ]
  },
  {
   "cell_type": "code",
   "execution_count": 41,
   "metadata": {},
   "outputs": [
    {
     "data": {
      "text/plain": [
       "{'k1': 7, 'k2': 8, 'k3': 9}"
      ]
     },
     "execution_count": 41,
     "metadata": {},
     "output_type": "execute_result"
    }
   ],
   "source": [
    "d = {\"k1\": 7, \"k2\": 8, \"k3\": 9}\n",
    "\n",
    "d "
   ]
  },
  {
   "cell_type": "code",
   "execution_count": 42,
   "metadata": {},
   "outputs": [
    {
     "name": "stdout",
     "output_type": "stream",
     "text": [
      "k1\n",
      "k2\n",
      "k3\n"
     ]
    }
   ],
   "source": [
    "for kv_pair in d:\n",
    "    print(kv_pair)"
   ]
  },
  {
   "cell_type": "code",
   "execution_count": 43,
   "metadata": {},
   "outputs": [
    {
     "name": "stdout",
     "output_type": "stream",
     "text": [
      "Key = k, Value = 1\n",
      "Key = k, Value = 2\n",
      "Key = k, Value = 3\n"
     ]
    }
   ],
   "source": [
    "# This does not work as effectively compared to unpacking tuples.\n",
    "# This only splits the key, and does not return the value.\n",
    "\n",
    "for k, v in d:\n",
    "    print(f\"Key = {k}, Value = {v}\")"
   ]
  },
  {
   "cell_type": "code",
   "execution_count": 45,
   "metadata": {},
   "outputs": [
    {
     "name": "stdout",
     "output_type": "stream",
     "text": [
      "7\n",
      "8\n",
      "9\n"
     ]
    }
   ],
   "source": [
    "# Using values() method, we can access the dictionary's values\n",
    "\n",
    "for v in d.values():\n",
    "    print(v)"
   ]
  },
  {
   "cell_type": "code",
   "execution_count": 46,
   "metadata": {},
   "outputs": [
    {
     "name": "stdout",
     "output_type": "stream",
     "text": [
      "Key = k1, Value = 7\n",
      "Key = k2, Value = 8\n",
      "Key = k3, Value = 9\n"
     ]
    }
   ],
   "source": [
    "# This is how we correctly unpack the dictionary example above\n",
    "\n",
    "for k, v in d.items():\n",
    "    print(f\"Key = {k}, Value = {v}\")"
   ]
  },
  {
   "cell_type": "markdown",
   "metadata": {},
   "source": [
    "### While Loops\n",
    "\n",
    "General format for a while loop in Python:\n",
    "- While - keyword\n",
    "- condition - status that equals TRUE or FALSE\n",
    "\n",
    "\n",
    "ex.\n",
    "While condition:\n",
    "- Statements do things\n",
    "\n",
    "Else:\n",
    "- Other statements that do things"
   ]
  },
  {
   "cell_type": "code",
   "execution_count": 51,
   "metadata": {},
   "outputs": [
    {
     "name": "stdout",
     "output_type": "stream",
     "text": [
      "0\n",
      "1\n",
      "2\n",
      "3\n",
      "4\n",
      "5\n",
      "6\n",
      "7\n",
      "8\n",
      "9\n"
     ]
    }
   ],
   "source": [
    "# Example 1\n",
    "\n",
    "x = 0\n",
    "threshold = 10\n",
    "\n",
    "while x < threshold:\n",
    "    print(x)\n",
    "    x += 1"
   ]
  },
  {
   "cell_type": "markdown",
   "metadata": {},
   "source": [
    "Statements within While Loops:\n",
    "- Break - Breaks out of the current closest enclosing loop\n",
    "- Continue - Skips the remaining code in the *current* interation and moves code execution to the beginning of the next interation of the loop.\n",
    "- Pass - A null operator; does nothing when executed. Used as a placeholder in situations where syntactically some code is required, but you don't want to execute anything yet."
   ]
  },
  {
   "cell_type": "code",
   "execution_count": 52,
   "metadata": {},
   "outputs": [
    {
     "name": "stdout",
     "output_type": "stream",
     "text": [
      "x is currently:  0\n",
      "x is still less than 10, adding 1 to x\n",
      "x is currently:  1\n",
      "x is still less than 10, adding 1 to x\n",
      "x is currently:  2\n",
      "x is still less than 10, adding 1 to x\n",
      "x is currently:  3\n",
      "x is still less than 10, adding 1 to x\n",
      "x is currently:  4\n",
      "x is still less than 10, adding 1 to x\n",
      "x is currently:  5\n",
      "x is still less than 10, adding 1 to x\n",
      "x is currently:  6\n",
      "x is still less than 10, adding 1 to x\n",
      "x is currently:  7\n",
      "x is still less than 10, adding 1 to x\n",
      "x is currently:  8\n",
      "x is still less than 10, adding 1 to x\n",
      "x is currently:  9\n",
      "x is still less than 10, adding 1 to x\n",
      "**** All Done! ****\n"
     ]
    }
   ],
   "source": [
    "x = 0\n",
    "\n",
    "while x < 10:\n",
    "    print('x is currently: ', x)\n",
    "    print('x is still less than 10, adding 1 to x')\n",
    "    x+=1\n",
    "else:\n",
    "    print('**** All Done! ****')"
   ]
  },
  {
   "cell_type": "code",
   "execution_count": 53,
   "metadata": {},
   "outputs": [
    {
     "name": "stdout",
     "output_type": "stream",
     "text": [
      "x is currently:  0\n",
      "x is still less than 10, adding 1 to x\n",
      "continuing...\n",
      "x is currently:  1\n",
      "x is still less than 10, adding 1 to x\n",
      "continuing...\n",
      "x is currently:  2\n",
      "x is still less than 10, adding 1 to x\n",
      "x==3\n",
      "x is currently:  3\n",
      "x is still less than 10, adding 1 to x\n",
      "continuing...\n",
      "x is currently:  4\n",
      "x is still less than 10, adding 1 to x\n",
      "continuing...\n",
      "x is currently:  5\n",
      "x is still less than 10, adding 1 to x\n",
      "continuing...\n",
      "x is currently:  6\n",
      "x is still less than 10, adding 1 to x\n",
      "continuing...\n",
      "x is currently:  7\n",
      "x is still less than 10, adding 1 to x\n",
      "continuing...\n",
      "x is currently:  8\n",
      "x is still less than 10, adding 1 to x\n",
      "continuing...\n",
      "x is currently:  9\n",
      "x is still less than 10, adding 1 to x\n",
      "continuing...\n"
     ]
    }
   ],
   "source": [
    "x = 0\n",
    "\n",
    "while x < 10:\n",
    "    print('x is currently: ', x)\n",
    "    print('x is still less than 10, adding 1 to x')\n",
    "    x+=1\n",
    "    if x==3:\n",
    "        print('x==3')\n",
    "    else:\n",
    "        print('continuing...')\n",
    "        continue"
   ]
  },
  {
   "cell_type": "code",
   "execution_count": 62,
   "metadata": {},
   "outputs": [
    {
     "name": "stdout",
     "output_type": "stream",
     "text": [
      "The number is perfect!\n"
     ]
    }
   ],
   "source": [
    "num = int(input(\"Enter the number: \"))\n",
    "\n",
    "divisor = 1\n",
    "sum_of_divisors = 0\n",
    "\n",
    "while divisor < num:\n",
    "    if num % divisor ==  0:\n",
    "        sum_of_divisors += divisor\n",
    "    divisor += 1\n",
    "\n",
    "if sum_of_divisors == num:\n",
    "    print(\"The number is perfect!\")\n",
    "else:\n",
    "    print(\"The number is not perfect.\")"
   ]
  },
  {
   "cell_type": "markdown",
   "metadata": {},
   "source": [
    "Problem Statement - Password Generator"
   ]
  },
  {
   "cell_type": "code",
   "execution_count": 95,
   "metadata": {},
   "outputs": [
    {
     "name": "stdout",
     "output_type": "stream",
     "text": [
      "How many letters?: \n",
      "How many symbols?: \n",
      "How many numbers?: \n",
      "Your password is:  TJKN\n"
     ]
    }
   ],
   "source": [
    "# Unfinished\n",
    "\n",
    "import random as rd\n",
    "\n",
    "letter_count = int(input(print(\"How many letters?: \")))\n",
    "symbol_count = int(input(print(\"How many symbols?: \")))\n",
    "number_count = int(input(print(\"How many numbers?: \")))\n",
    "\n",
    "letters = ['a', 'b', 'c', 'd', 'e', 'f', 'g', 'h', 'i', 'j', 'k', 'l', 'm', 'n', 'o', 'p', 'q', 'r', 's', 't', 'u', 'v', 'w', 'x', 'y', 'z', \n",
    "           'A', 'B', 'C', 'D', 'E', 'F', 'G', 'H', 'I', 'J', 'K', 'L', 'M', 'N', 'O', 'P', 'Q', 'R', 'S', 'T', 'U', 'V', 'W', 'X', 'Y', 'Z']\n",
    "symbols = ['!', '#', '$', '%', '&', '(', ')', '*', '+']\n",
    "numbers = ['0', '1', '2', '3', '4', '5', '6', '7', '8', '9']\n",
    "\n",
    "password = []\n",
    "\n",
    "#password = rd.sample(rd.choice(letters), letter_count) + rd.sample(rd.choice(symbols), symbol_count) + rd.sample(rd.choice(numbers), number_count)\n",
    "\n",
    "count = 0\n",
    "\n",
    "while count < letter_count:\n",
    "    password += rd.choice(letters)\n",
    "    count += 1\n",
    "\n",
    "rd.shuffle(password)\n",
    "\n",
    "for c in password:\n",
    "    password = ''.join(password)\n",
    "    \n",
    "print(\"Your password is: \", password)"
   ]
  },
  {
   "cell_type": "code",
   "execution_count": 101,
   "metadata": {},
   "outputs": [
    {
     "name": "stdout",
     "output_type": "stream",
     "text": [
      "Welcome to Python Password Generator!\n",
      "How many letters?: \n",
      "How many symbols?: \n",
      "How many numbers?: \n",
      "\n",
      "The list of characters in the password are: ['G', 'r', 'F', 'x', '3', '5', '4', '4']\n",
      "The shuffled password is: ['5', '4', 'F', '4', 'G', '3', 'x', 'r']\n",
      "The finalized password is: 54F4G3xr\n"
     ]
    }
   ],
   "source": [
    "import random as rd\n",
    "\n",
    "print(\"Welcome to Python Password Generator!\")\n",
    "letter_count = int(input(print(\"How many letters?: \")))\n",
    "symbol_count = int(input(print(\"How many symbols?: \")))\n",
    "number_count = int(input(print(\"How many numbers?: \")))\n",
    "\n",
    "password = []\n",
    "\n",
    "for l in range(letter_count + symbol_count + number_count):\n",
    "    if l < letter_count:\n",
    "        password.append(rd.sample(letters,1)[0])\n",
    "    elif (1 >= letter_count) & (1 < letter_count + symbol_count):\n",
    "        password.append(rd.sample(symbols,1)[0])\n",
    "    else:\n",
    "        password.append(rd.sample(numbers,1)[0])\n",
    "\n",
    "print(f\"\\nThe list of characters in the password are: {password}\")\n",
    "\n",
    "rd.shuffle(password)\n",
    "\n",
    "print(f\"The shuffled password is: {password}\")\n",
    "\n",
    "pass_string = ''\n",
    "\n",
    "for c in password:\n",
    "    pass_string += ''.join(c)\n",
    "\n",
    "print(f\"The finalized password is: {pass_string}\")"
   ]
  },
  {
   "cell_type": "markdown",
   "metadata": {},
   "source": [
    "### Useful Operators\n",
    "\n",
    "- range()\n",
    "- enumerate()\n",
    "- zip()\n",
    "- in\n",
    "- not in"
   ]
  },
  {
   "cell_type": "markdown",
   "metadata": {},
   "source": [
    "1. range()"
   ]
  },
  {
   "cell_type": "code",
   "execution_count": 5,
   "metadata": {},
   "outputs": [
    {
     "data": {
      "text/plain": [
       "range(0, 11)"
      ]
     },
     "execution_count": 5,
     "metadata": {},
     "output_type": "execute_result"
    }
   ],
   "source": [
    "# This is a *generator* function, so it won't actually print anything\n",
    "\n",
    "range(0, 11)"
   ]
  },
  {
   "cell_type": "code",
   "execution_count": 6,
   "metadata": {},
   "outputs": [
    {
     "data": {
      "text/plain": [
       "[0, 1, 2, 3, 4, 5, 6, 7, 8, 9, 10]"
      ]
     },
     "execution_count": 6,
     "metadata": {},
     "output_type": "execute_result"
    }
   ],
   "source": [
    "list(range(0, 11))"
   ]
  },
  {
   "cell_type": "code",
   "execution_count": 115,
   "metadata": {},
   "outputs": [
    {
     "name": "stdout",
     "output_type": "stream",
     "text": [
      "0 ** 2 = 0\n",
      "1 ** 2 = 1\n",
      "2 ** 2 = 4\n",
      "3 ** 2 = 9\n",
      "4 ** 2 = 16\n",
      "5 ** 2 = 25\n",
      "6 ** 2 = 36\n",
      "7 ** 2 = 49\n",
      "8 ** 2 = 64\n",
      "9 ** 2 = 81\n",
      "10 ** 2 = 100\n"
     ]
    }
   ],
   "source": [
    "for num in range(0,11):\n",
    "    print(f\"{num} ** 2 = {num ** 2}\")"
   ]
  },
  {
   "cell_type": "code",
   "execution_count": 3,
   "metadata": {},
   "outputs": [
    {
     "data": {
      "text/plain": [
       "[0, 1, 2, 3, 4, 5, 6, 7, 8, 9, 10, 11]"
      ]
     },
     "execution_count": 3,
     "metadata": {},
     "output_type": "execute_result"
    }
   ],
   "source": [
    "list(range(12))"
   ]
  },
  {
   "cell_type": "code",
   "execution_count": 4,
   "metadata": {},
   "outputs": [
    {
     "data": {
      "text/plain": [
       "[0, 2, 4, 6, 8, 10]"
      ]
     },
     "execution_count": 4,
     "metadata": {},
     "output_type": "execute_result"
    }
   ],
   "source": [
    "# Third parameter in range is STEP size, just like index/slicing\n",
    "\n",
    "list(range(0, 11, 2))"
   ]
  },
  {
   "cell_type": "markdown",
   "metadata": {},
   "source": [
    "2. enumerate()"
   ]
  },
  {
   "cell_type": "code",
   "execution_count": 120,
   "metadata": {},
   "outputs": [
    {
     "name": "stdout",
     "output_type": "stream",
     "text": [
      "At index 0, the letter is a\n",
      "At index 1, the letter is b\n",
      "At index 2, the letter is c\n",
      "At index 3, the letter is d\n",
      "At index 4, the letter is e\n"
     ]
    }
   ],
   "source": [
    "index_count = 0\n",
    "\n",
    "for letter in 'abcde':\n",
    "    print(f\"At index {index_count}, the letter is {letter}\")\n",
    "    index_count += 1"
   ]
  },
  {
   "cell_type": "code",
   "execution_count": 2,
   "metadata": {},
   "outputs": [
    {
     "name": "stdout",
     "output_type": "stream",
     "text": [
      "At index 0, the letter is a\n",
      "At index 1, the letter is b\n",
      "At index 2, the letter is c\n",
      "At index 3, the letter is d\n",
      "At index 4, the letter is e\n"
     ]
    }
   ],
   "source": [
    "for i, letter in enumerate('abcde'):\n",
    "    print(f\"At index {i}, the letter is {letter}\")"
   ]
  },
  {
   "cell_type": "markdown",
   "metadata": {},
   "source": [
    "3. zip()"
   ]
  },
  {
   "cell_type": "code",
   "execution_count": 1,
   "metadata": {},
   "outputs": [
    {
     "data": {
      "text/plain": [
       "[(0, 'a'), (1, 'b'), (2, 'c'), (3, 'd'), (4, 'e')]"
      ]
     },
     "execution_count": 1,
     "metadata": {},
     "output_type": "execute_result"
    }
   ],
   "source": [
    "list(enumerate('abcde'))"
   ]
  },
  {
   "cell_type": "code",
   "execution_count": 8,
   "metadata": {},
   "outputs": [
    {
     "data": {
      "text/plain": [
       "[(1, 'a'), (2, 'b'), (3, 'c'), (4, 'd'), (5, 'e')]"
      ]
     },
     "execution_count": 8,
     "metadata": {},
     "output_type": "execute_result"
    }
   ],
   "source": [
    "mylist1 = [1, 2, 3, 4, 5]\n",
    "mylist2 = ['a', 'b', 'c', 'd', 'e']\n",
    "\n",
    "list(zip(mylist1, mylist2))\n",
    "\n"
   ]
  },
  {
   "cell_type": "code",
   "execution_count": 13,
   "metadata": {},
   "outputs": [
    {
     "name": "stdout",
     "output_type": "stream",
     "text": [
      "For this tuple, the first item is 1 and the second item is a.\n",
      "For this tuple, the first item is 2 and the second item is b.\n",
      "For this tuple, the first item is 3 and the second item is c.\n",
      "For this tuple, the first item is 4 and the second item is d.\n",
      "For this tuple, the first item is 5 and the second item is e.\n"
     ]
    }
   ],
   "source": [
    "for item1, item2 in zip(mylist1, mylist2):\n",
    "    print(f\"For this tuple, the first item is {item1} and the second item is {item2}.\")"
   ]
  },
  {
   "cell_type": "markdown",
   "metadata": {},
   "source": [
    "4. 'in' operator"
   ]
  },
  {
   "cell_type": "code",
   "execution_count": 14,
   "metadata": {},
   "outputs": [
    {
     "data": {
      "text/plain": [
       "True"
      ]
     },
     "execution_count": 14,
     "metadata": {},
     "output_type": "execute_result"
    }
   ],
   "source": [
    "'x' in ['x', 'y', 'z']"
   ]
  },
  {
   "cell_type": "code",
   "execution_count": 15,
   "metadata": {},
   "outputs": [
    {
     "data": {
      "text/plain": [
       "False"
      ]
     },
     "execution_count": 15,
     "metadata": {},
     "output_type": "execute_result"
    }
   ],
   "source": [
    "'x' in [1, 2, 3]"
   ]
  },
  {
   "cell_type": "markdown",
   "metadata": {},
   "source": [
    "5. 'not in' operator"
   ]
  },
  {
   "cell_type": "code",
   "execution_count": 16,
   "metadata": {},
   "outputs": [
    {
     "data": {
      "text/plain": [
       "False"
      ]
     },
     "execution_count": 16,
     "metadata": {},
     "output_type": "execute_result"
    }
   ],
   "source": [
    "'x' not in ['x', 'y', 'z']"
   ]
  },
  {
   "cell_type": "code",
   "execution_count": 17,
   "metadata": {},
   "outputs": [
    {
     "data": {
      "text/plain": [
       "True"
      ]
     },
     "execution_count": 17,
     "metadata": {},
     "output_type": "execute_result"
    }
   ],
   "source": [
    "'x' not in [1, 2, 3]"
   ]
  },
  {
   "cell_type": "code",
   "execution_count": null,
   "metadata": {},
   "outputs": [],
   "source": []
  }
 ],
 "metadata": {
  "kernelspec": {
   "display_name": "Python 3",
   "language": "python",
   "name": "python3"
  },
  "language_info": {
   "codemirror_mode": {
    "name": "ipython",
    "version": 3
   },
   "file_extension": ".py",
   "mimetype": "text/x-python",
   "name": "python",
   "nbconvert_exporter": "python",
   "pygments_lexer": "ipython3",
   "version": "3.12.5"
  }
 },
 "nbformat": 4,
 "nbformat_minor": 2
}
