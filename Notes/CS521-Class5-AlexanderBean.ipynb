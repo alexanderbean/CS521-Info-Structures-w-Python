{
 "cells": [
  {
   "cell_type": "markdown",
   "metadata": {},
   "source": [
    "# CS521 - Class #5 - 10/03/24"
   ]
  },
  {
   "cell_type": "markdown",
   "metadata": {
    "vscode": {
     "languageId": "plaintext"
    }
   },
   "source": [
    "### Useful Operators\n",
    "\n",
    "Continuing notes from last class:\n",
    "\n",
    "- range()\n",
    "- enumerate()\n",
    "- zip()\n",
    "- in\n",
    "- not in\n",
    "\n",
    "Additional notes not from last class are included below"
   ]
  },
  {
   "cell_type": "markdown",
   "metadata": {},
   "source": [
    "### zip()"
   ]
  },
  {
   "cell_type": "code",
   "execution_count": 2,
   "metadata": {},
   "outputs": [
    {
     "data": {
      "text/plain": [
       "[('x1', 'y1'), ('x2', 'y2'), ('x3', 'y3'), ('x4', 'y4')]"
      ]
     },
     "execution_count": 2,
     "metadata": {},
     "output_type": "execute_result"
    }
   ],
   "source": [
    "list1 = ['x1', 'x2', 'x3', 'x4', 'x5', 'x6']\n",
    "list2 = ['y1', 'y2', 'y3', 'y4']\n",
    "\n",
    "list(zip(list1,list2))"
   ]
  },
  {
   "cell_type": "code",
   "execution_count": 10,
   "metadata": {},
   "outputs": [
    {
     "name": "stdout",
     "output_type": "stream",
     "text": [
      "x1 y1\n",
      "x2 y2\n",
      "x3 y3\n",
      "x4 y4\n"
     ]
    }
   ],
   "source": [
    "# Tuple unpacking\n",
    "\n",
    "for t1, t2 in zip(list1, list2):\n",
    "    print(t1, t2)"
   ]
  },
  {
   "cell_type": "markdown",
   "metadata": {},
   "source": [
    "### not in"
   ]
  },
  {
   "cell_type": "code",
   "execution_count": 11,
   "metadata": {},
   "outputs": [
    {
     "data": {
      "text/plain": [
       "False"
      ]
     },
     "execution_count": 11,
     "metadata": {},
     "output_type": "execute_result"
    }
   ],
   "source": [
    "'x' not in ['x', 'y', 'z']"
   ]
  },
  {
   "cell_type": "code",
   "execution_count": 17,
   "metadata": {},
   "outputs": [
    {
     "name": "stdout",
     "output_type": "stream",
     "text": [
      "'h' is not a vowel.\n",
      "'e' is a vowel.\n",
      "'l' is not a vowel.\n",
      "'l' is not a vowel.\n",
      "'o' is a vowel.\n",
      "' ' is not a vowel.\n",
      "'w' is not a vowel.\n",
      "'o' is a vowel.\n",
      "'r' is not a vowel.\n",
      "'l' is not a vowel.\n",
      "'d' is not a vowel.\n"
     ]
    }
   ],
   "source": [
    "allowed_chars = 'aeiou'\n",
    "text = 'hello world'\n",
    "\n",
    "for char in text:\n",
    "    if char not in allowed_chars:\n",
    "        print(f\"'{char}' is not a vowel.\")\n",
    "    else:\n",
    "        print(f\"'{char}' is a vowel.\")"
   ]
  },
  {
   "cell_type": "markdown",
   "metadata": {},
   "source": [
    "### Sum of square of the first n natural numbers - Class Question"
   ]
  },
  {
   "cell_type": "code",
   "execution_count": 33,
   "metadata": {},
   "outputs": [
    {
     "name": "stdout",
     "output_type": "stream",
     "text": [
      "Please enter a number: \n",
      "Yes!\n",
      "55 55.0\n"
     ]
    }
   ],
   "source": [
    "\n",
    "# Verify that the sum of the square of the first n natural numbers = the formula:\n",
    "# (n * (n + 1) * (2 * n + 1)) / 6\n",
    "\n",
    "# USE (N + 1) because range does not account for the top num\n",
    "\n",
    "n = int(input(print(\"Please enter a number: \")))\n",
    "sum_of_squares = 0\n",
    "\n",
    "for val in range(0, n + 1):\n",
    "    sum_of_squares += val ** 2\n",
    "    if sum_of_squares == (n * (n + 1) * (2 * n + 1)) / 6:\n",
    "        print(\"Yes!\")\n",
    "\n",
    "print(sum_of_squares, (n * (n + 1) * (2 * n + 1)) / 6)"
   ]
  },
  {
   "cell_type": "markdown",
   "metadata": {},
   "source": [
    "### Bubble Sort\n",
    "\n",
    "Bubble sort is a sorting algorithm that repeatedly steps through the list, compares adjacent elements, and swap them if they are in the wrong order. The process is repeated until the list is sorted. The name \"bubble sort\" comes from the way smaller elemented \"bubble\" to the top of the list\n",
    "\n",
    "Steps:\n",
    "1. Compare each pair of adjacent elements in the list.\n",
    "2. If the first element is larger than the second, swap them.\n",
    "3. Repeat the process for each pair of adjacent elements, passing through them as many times as necessary until the list is sorted."
   ]
  },
  {
   "cell_type": "markdown",
   "metadata": {},
   "source": [
    "Example list: [5, 2, 9, 1, 5, 6]\n",
    "\n",
    "First Pass:\n",
    "1. [5, 2, 9, 1, 5, 6]\n",
    "2. [2, 5, 9, 1, 5, 6]\n",
    "3. [2, 5, 9, 1, 5, 6]\n",
    "4. [2, 5, 1, 9, 5, 6]\n",
    "5. [2, 5, 1, 5, 9, 6]\n",
    "- At the end of the first pass, the max element of the list will always be at the end.\n",
    "- Meaning, the second pass only needs to run over (n-1) elements.\n",
    "\n",
    "Second Pass:\n",
    "1. [2, 5, 1, 5, 6, 9]\n",
    "2. [2, 1, 5, 5, 6, 9]\n",
    "3. [2, 1, 5, 5, 6, 9]\n",
    "4. [2, 1, 5, 5, 6, 9]\n",
    "5. [2, 1, 5, 5, 6, 9]\n",
    "- At the end of the second pass, the 2nd largest element is at the penultimate position\n",
    "- Meaning, the third pass runs over (n-2) elements\n",
    "\n",
    "Third Pass:\n",
    "1. [1, 2, 5, 5, 6, 9]\n",
    "2. [1, 2, 5, 5, 6, 9]\n",
    "3. [1, 2, 5, 5, 6, 9]\n",
    "4. [1, 2, 5, 5, 6, 9]\n",
    "5. [1, 2, 5, 5, 6, 9]\n",
    "\n",
    "- It will take n-1 amount of passes to completely sort the list."
   ]
  },
  {
   "cell_type": "code",
   "execution_count": 49,
   "metadata": {},
   "outputs": [
    {
     "name": "stdout",
     "output_type": "stream",
     "text": [
      "[1, 2, 5, 5, 6, 9]\n"
     ]
    }
   ],
   "source": [
    "list = [5, 2, 9, 1, 5, 6]\n",
    "\n",
    "min = 0\n",
    "max = len(list) - 1\n",
    "# Only need n-1 amount of passes to complete sort the list\n",
    "\n",
    "for passes in range(min, max):\n",
    "    # Only need to search until (max-passes) since the largest element is always at the end of each pass\n",
    "    for index in range(min, (max - passes)):\n",
    "        if list[index] > list[index + 1]:\n",
    "            list[index], list[index + 1] = list[index + 1], list[index]\n",
    "\n",
    "print(list)\n",
    "            "
   ]
  },
  {
   "cell_type": "markdown",
   "metadata": {},
   "source": [
    "### Selection Sort\n",
    "\n",
    "1. Divide the array into two parts: the sorted part (initially empty) and the unsorted part (initially the entire array).\n",
    "2. Find the minimum element from the unsorted part of the array.\n",
    "3. Swap the minimum element with the first element of the unsorted part, moving it to the sorted part.\n",
    "4. Repeat 2 and 3 for the rest of the unsorted part until all elements are sorted."
   ]
  },
  {
   "cell_type": "markdown",
   "metadata": {},
   "source": [
    "Example array: [29, 10, 14, 37, 13]\n",
    "\n",
    "First Pass:\n",
    "1. [29, 10, 14, 37, 13] - Unsorted part is entire array\n",
    "2. Minimum element (10) is swapped with first element (29)\n",
    "3. [10, 29, 14, 37, 13]\n",
    "\n",
    "Second Pass:\n",
    "1. [10, 29, 14, 37, 13] - Unsorted part is [29, 14, 37, 13]\n",
    "2. Minimum element (13) is swapped with first element (29)\n",
    "3. [10, 13, 14, 37, 29]\n",
    "\n",
    "Third Pass:\n",
    "1. [10, 13, 14, 37, 29] - Unsorted part is [14, 37, 29]\n",
    "2. ...And so on\n"
   ]
  },
  {
   "cell_type": "code",
   "execution_count": 19,
   "metadata": {},
   "outputs": [
    {
     "name": "stdout",
     "output_type": "stream",
     "text": [
      "[10, 13, 14, 29, 37]\n"
     ]
    }
   ],
   "source": [
    "array = [29, 10, 14, 37, 13]\n",
    "\n",
    "n = len(array)\n",
    "\n",
    "for left_edge in range(n - 1):\n",
    "    # The current minimum is the element on the left edge\n",
    "    current_min = array[left_edge]\n",
    "    for index in range(left_edge + 1, n): # Find the smallest element in the UNSORTED portion\n",
    "        if array[index] < current_min:\n",
    "            current_min = array[index]\n",
    "            current_min_loc = index\n",
    "        if current_min < array[left_edge]:\n",
    "            array[left_edge], array[current_min_loc] = array[current_min_loc], array[left_edge]\n",
    "\n",
    "print(array)\n"
   ]
  },
  {
   "cell_type": "code",
   "execution_count": 25,
   "metadata": {},
   "outputs": [
    {
     "name": "stdout",
     "output_type": "stream",
     "text": [
      "[7, 14, 20, 41, 58]\n"
     ]
    }
   ],
   "source": [
    "# Python has methods/functions to do all of this for us\n",
    "\n",
    "list = [7, 20, 14, 58, 41]\n",
    "\n",
    "list.sort()\n",
    "\n",
    "print(list)"
   ]
  },
  {
   "cell_type": "markdown",
   "metadata": {},
   "source": [
    "### List Comprehension in Python\n",
    "\n",
    "A concise way to create lists in Python. It allows you to create a new list by applying an expression to each element of an existing iterable (like a list, tuple, or string) in a single line of code.\n",
    "\n",
    "The basic syntax of list comprehension is:\n",
    "\n",
    "[expression for item in iterable if condition]\n",
    "\n",
    "- expression: The operation or value to add to the new list\n",
    "- item: The variable representing each element in the iterable\n",
    "- iterable: The original list or iterable you are looping over\n",
    "- condition (optional): A condition to filter which items are included"
   ]
  },
  {
   "cell_type": "code",
   "execution_count": 26,
   "metadata": {},
   "outputs": [
    {
     "data": {
      "text/plain": [
       "[1, 2, 3, 4, 5, 1, 2, 3, 4, 5]"
      ]
     },
     "execution_count": 26,
     "metadata": {},
     "output_type": "execute_result"
    }
   ],
   "source": [
    "# Doubling all elements of a list\n",
    "\n",
    "# This is NOT the way to do it\n",
    "\n",
    "my_list = [1, 2, 3, 4, 5]\n",
    "\n",
    "my_list * 2"
   ]
  },
  {
   "cell_type": "code",
   "execution_count": 29,
   "metadata": {},
   "outputs": [
    {
     "name": "stdout",
     "output_type": "stream",
     "text": [
      "[2, 4, 6, 8, 10]\n"
     ]
    }
   ],
   "source": [
    "doubled_list = [x*2 for x in my_list]\n",
    "\n",
    "print(doubled_list)"
   ]
  },
  {
   "cell_type": "code",
   "execution_count": 33,
   "metadata": {},
   "outputs": [
    {
     "name": "stdout",
     "output_type": "stream",
     "text": [
      "Wrong: [1, 2, 3, 4, 5, 1, 2, 3, 4, 5]\n",
      "Right: [2, 4, 6, 8, 10]\n"
     ]
    }
   ],
   "source": [
    "nums = [1, 2, 3, 4, 5]\n",
    "\n",
    "print(\"Wrong:\", nums * 2)\n",
    "\n",
    "doubled_nums = [x * 2 for x in nums]\n",
    "\n",
    "print(\"Right:\", doubled_nums)"
   ]
  },
  {
   "cell_type": "code",
   "execution_count": 36,
   "metadata": {},
   "outputs": [
    {
     "name": "stdout",
     "output_type": "stream",
     "text": [
      "['H', 'E', 'L', 'L', 'O']\n"
     ]
    }
   ],
   "source": [
    "my_string = \"hello\"\n",
    "\n",
    "my_upper_string = [ch.upper() for ch in my_string]\n",
    "\n",
    "print(my_upper_string)"
   ]
  },
  {
   "cell_type": "code",
   "execution_count": 37,
   "metadata": {},
   "outputs": [
    {
     "name": "stdout",
     "output_type": "stream",
     "text": [
      "[3, 6, 9, 12, 15]\n"
     ]
    }
   ],
   "source": [
    "tuple = (1, 2, 3, 4, 5)\n",
    "\n",
    "tripled_tuple = [t * 3 for t in tuple]\n",
    "\n",
    "print(tripled_tuple)"
   ]
  },
  {
   "cell_type": "code",
   "execution_count": 44,
   "metadata": {},
   "outputs": [
    {
     "name": "stdout",
     "output_type": "stream",
     "text": [
      "[('k1', 2), ('k2', 4), ('k3', 6)]\n"
     ]
    }
   ],
   "source": [
    "dict = {'k1': 2, 'k2': 4, 'k3': 6}\n",
    "\n",
    "\n",
    "# Make sure to use .items(), .values(), or .keys() to access the actual data with dictionaries\n",
    "dict_to_list = [x for x in dict.items()]\n",
    "\n",
    "print(dict_to_list)"
   ]
  },
  {
   "cell_type": "markdown",
   "metadata": {},
   "source": [
    "### List comprehension with 'If' statement"
   ]
  },
  {
   "cell_type": "code",
   "execution_count": 2,
   "metadata": {},
   "outputs": [
    {
     "data": {
      "text/plain": [
       "[0, 1, 2, 3, 4, 5, 6, 7, 8, 9, 10, 11, 12, 13, 14, 15, 16, 17, 18, 19, 20, 21]"
      ]
     },
     "execution_count": 2,
     "metadata": {},
     "output_type": "execute_result"
    }
   ],
   "source": [
    "my_list = list(range(0, 22))\n",
    "\n",
    "my_list"
   ]
  },
  {
   "cell_type": "code",
   "execution_count": 4,
   "metadata": {},
   "outputs": [
    {
     "name": "stdout",
     "output_type": "stream",
     "text": [
      "[0, 3, 6, 9, 12, 15, 18, 21]\n"
     ]
    }
   ],
   "source": [
    "divisible_by_3 = [x for x in my_list if x % 3 == 0]\n",
    "\n",
    "print(divisible_by_3)"
   ]
  },
  {
   "cell_type": "code",
   "execution_count": 5,
   "metadata": {},
   "outputs": [
    {
     "name": "stdout",
     "output_type": "stream",
     "text": [
      "[0, 9, 36, 81, 144, 225, 324, 441]\n"
     ]
    }
   ],
   "source": [
    "# Where the If statement is true, it will do this expression/calculation\n",
    "\n",
    "divisible_by_3 = [x ** 2 for x in my_list if x % 3 == 0]\n",
    "\n",
    "print(divisible_by_3)"
   ]
  },
  {
   "cell_type": "markdown",
   "metadata": {},
   "source": [
    "### Dictionary Comprehension in Python\n",
    "\n",
    "{key_expression: value_expression for item in iterable if condition}\n",
    "\n",
    "- key_expression: An expression representing the key in the new dictionary\n",
    "- value_expression: An expression representing the value associated with each key\n",
    "- item: The variable representing each element in the iterable\n",
    "- iterable: The original list or iterable you are looping over\n",
    "- condition (optional): A condition to filter which items are included"
   ]
  },
  {
   "cell_type": "code",
   "execution_count": 7,
   "metadata": {},
   "outputs": [
    {
     "name": "stdout",
     "output_type": "stream",
     "text": [
      "{0: 0, 4: 16, 8: 64, 12: 144, 16: 256}\n"
     ]
    }
   ],
   "source": [
    "my_dict = {x:x ** 2 for x in range(0, 20) if x % 4 == 0}\n",
    "\n",
    "print(my_dict)"
   ]
  },
  {
   "cell_type": "markdown",
   "metadata": {},
   "source": [
    "With Conditions"
   ]
  },
  {
   "cell_type": "code",
   "execution_count": 8,
   "metadata": {},
   "outputs": [
    {
     "name": "stdout",
     "output_type": "stream",
     "text": [
      "{0: 0, 2: 8, 4: 64, 6: 216, 8: 512, 10: 1000, 12: 1728, 14: 2744}\n"
     ]
    }
   ],
   "source": [
    "even_cubes = {x:x ** 3 for x in range(0, 15) if x % 2 == 0}\n",
    "\n",
    "print(even_cubes)"
   ]
  },
  {
   "cell_type": "markdown",
   "metadata": {},
   "source": [
    "Swapping Keys and Values"
   ]
  },
  {
   "cell_type": "code",
   "execution_count": 13,
   "metadata": {},
   "outputs": [
    {
     "name": "stdout",
     "output_type": "stream",
     "text": [
      "{1.5: 'apple', 0.5: 'banana', 3: 'cherry'}\n"
     ]
    }
   ],
   "source": [
    "fruit_prices = {'apple': 1.5, 'banana': 0.5, 'cherry': 3}\n",
    "\n",
    "swapped_dict = {value:key for key,value in fruit_prices.items()}\n",
    "\n",
    "print(swapped_dict)"
   ]
  },
  {
   "cell_type": "markdown",
   "metadata": {},
   "source": [
    "Dictionary from Two Lists"
   ]
  },
  {
   "cell_type": "code",
   "execution_count": 12,
   "metadata": {},
   "outputs": [
    {
     "name": "stdout",
     "output_type": "stream",
     "text": [
      "{'a': 0, 'b': 1, 'c': 2, 'd': 4, 'e': 8}\n"
     ]
    }
   ],
   "source": [
    "list1 = [0, 1, 2, 4, 8]\n",
    "list2 = ['a', 'b', 'c', 'd', 'e']\n",
    "\n",
    "new_dict = {x : y for x, y in zip(list2, list1)}\n",
    "\n",
    "print(new_dict)"
   ]
  },
  {
   "cell_type": "code",
   "execution_count": 15,
   "metadata": {},
   "outputs": [
    {
     "name": "stdout",
     "output_type": "stream",
     "text": [
      "{'a': 0, 'b': 1, 'c': 2, 'd': 4, 'e': 8}\n"
     ]
    }
   ],
   "source": [
    "# Alternatively\n",
    "\n",
    "new_dict = dict(zip(list2, list1))\n",
    "\n",
    "print(new_dict)"
   ]
  }
 ],
 "metadata": {
  "kernelspec": {
   "display_name": "Python 3",
   "language": "python",
   "name": "python3"
  },
  "language_info": {
   "codemirror_mode": {
    "name": "ipython",
    "version": 3
   },
   "file_extension": ".py",
   "mimetype": "text/x-python",
   "name": "python",
   "nbconvert_exporter": "python",
   "pygments_lexer": "ipython3",
   "version": "3.12.5"
  }
 },
 "nbformat": 4,
 "nbformat_minor": 2
}
