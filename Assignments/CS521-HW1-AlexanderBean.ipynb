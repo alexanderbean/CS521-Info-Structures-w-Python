{
 "cells": [
  {
   "cell_type": "markdown",
   "metadata": {},
   "source": [
    "# 1. The PEMDAS Rule\n",
    "\n",
    "Evaluate the following expressions. Explain step-by-step how you arrived at the solution. Points will not be given unless you explain exactly how you employed the PEMDAS rule to solve the problem. "
   ]
  },
  {
   "cell_type": "code",
   "execution_count": 35,
   "metadata": {},
   "outputs": [
    {
     "data": {
      "text/plain": [
       "13.0"
      ]
     },
     "execution_count": 35,
     "metadata": {},
     "output_type": "execute_result"
    }
   ],
   "source": [
    "# a. 8+2×(3**2 −4)/2\n",
    "\n",
    "# 8 + 2 * (3 ** 2 - 4) / 2\n",
    "# 8 + 2 * (9 - 4) / 2\n",
    "# 8 + 2 * 5 / 2\n",
    "# 8 + 10 / 2\n",
    "# 8 + 5\n",
    "# 13\n",
    "\n",
    "8 + 2 * (3 ** 2 - 4) / 2"
   ]
  },
  {
   "cell_type": "code",
   "execution_count": 36,
   "metadata": {},
   "outputs": [
    {
     "data": {
      "text/plain": [
       "39"
      ]
     },
     "execution_count": 36,
     "metadata": {},
     "output_type": "execute_result"
    }
   ],
   "source": [
    "# b. ((6+4)/2)×5−3**2 +(8−5×2)\n",
    "\n",
    "# ((6 + 4) * 5 - 3 ** 2) + (8 - 5 * 2)\n",
    "# (10 * 5 - 3 ** 2) + (8 - 5 * 2)\n",
    "# (10 * 5 - 9) + (8 - 5 * 2)\n",
    "# (50 - 9) + (8 - 10)\n",
    "# 41 + -2\n",
    "# 39\n",
    "\n",
    "((6 + 4) * 5 - 3 ** 2) + (8 - 5 * 2)"
   ]
  },
  {
   "cell_type": "code",
   "execution_count": 37,
   "metadata": {},
   "outputs": [
    {
     "data": {
      "text/plain": [
       "23.0"
      ]
     },
     "execution_count": 37,
     "metadata": {},
     "output_type": "execute_result"
    }
   ],
   "source": [
    "# c. (12/(2**2 +2))×(3+5)−7\n",
    "\n",
    "# (12 / (2 ** 2 + 2)) * (3 * 5) - 7\n",
    "# (12 / (4 + 2)) * (3 * 5) - 7\n",
    "# (12 / 6) * (3 * 5) - 7\n",
    "# 2 * 15 - 7\n",
    "# 30 - 7\n",
    "# 23\n",
    "\n",
    "(12 / (2 ** 2 + 2)) * (3 * 5) - 7"
   ]
  },
  {
   "cell_type": "code",
   "execution_count": 38,
   "metadata": {},
   "outputs": [
    {
     "data": {
      "text/plain": [
       "19.666666666666664"
      ]
     },
     "execution_count": 38,
     "metadata": {},
     "output_type": "execute_result"
    }
   ],
   "source": [
    "# d. 15−3×(4+6)/3**2+8\n",
    "\n",
    "# 15 - 3 * (4 + 6) / 3 ** 2 + 8\n",
    "# 15 - 3 * 10 / 3 ** 2 + 8\n",
    "# 15 - 3 * 10 / 9 + 8\n",
    "# 15 - 30 / 9 + 8\n",
    "# 15 - 3.33 + 8\n",
    "# 11.66 + 8\n",
    "# 19.66       \n",
    "# \n",
    "# note that the decimals in this problem are repeating\n",
    "\n",
    "15 - 3 * (4 + 6) / 3 ** 2 + 8"
   ]
  },
  {
   "cell_type": "code",
   "execution_count": 39,
   "metadata": {},
   "outputs": [
    {
     "data": {
      "text/plain": [
       "1.5"
      ]
     },
     "execution_count": 39,
     "metadata": {},
     "output_type": "execute_result"
    }
   ],
   "source": [
    "# e. (5×(6−4)**2+2)/(2+3**2)−10/2**2+2\n",
    "\n",
    "# (5 * (6 - 4) ** 2 + 2) / (2 + 3 ** 2) - 10 / 2 ** 2 + 2\n",
    "# (5 * 2 ** 2 + 2) / (2 + 3 ** 2) - 10 / 2 ** 2 + 2\n",
    "# (5 * 4 + 2) / (2 + 9) - 10 / 2 ** 2 + 2\n",
    "# (20 + 2) / (2 + 9) - 10 / 2 ** 2 + 2\n",
    "# 22 / 11 - 10 / 2 ** 2 + 2\n",
    "# 22 / 11 - 10 / 4 + 2\n",
    "# 2 - 10 / 4 + 2\n",
    "# 2 - 2.5 + 2\n",
    "# -0.5 + 2\n",
    "# 1.5\n",
    "\n",
    "(5 * (6 - 4) ** 2 + 2) / (2 + 3 ** 2) - 10 / 2 ** 2 + 2"
   ]
  },
  {
   "cell_type": "markdown",
   "metadata": {},
   "source": [
    "# 2. Strings | Questions from Chapter 4"
   ]
  },
  {
   "cell_type": "code",
   "execution_count": 40,
   "metadata": {},
   "outputs": [
    {
     "name": "stdout",
     "output_type": "stream",
     "text": [
      "\n",
      "The FIRST letter of 'Monty Python' is: \tM\n",
      "\n",
      "The LAST letter of 'Monty Python' is: \tn\n",
      "\n",
      "Using len() to print the LAST letter:\tn\n",
      "\n",
      "This expression uses slicing to print: \tMonty\n"
     ]
    }
   ],
   "source": [
    "# CHAPTER 4, QUESTION 1\n",
    "\n",
    "# Given the string \"Monty Python\":\n",
    "\n",
    "string = \"Monty Python\"\n",
    "\n",
    "# i. Write an expression to print the first character\n",
    "\n",
    "string_first = string[0]\n",
    "\n",
    "print(f\"\\nThe FIRST letter of '{string}' is: \\t{string_first}\")\n",
    "\n",
    "# ii. Write an expression to print the last character.\n",
    "\n",
    "string_last = string[-1]\n",
    "print(f\"\\nThe LAST letter of '{string}' is: \\t{string_last}\")\n",
    "\n",
    "# iii. Write an expression including len() to print the last character.\n",
    "\n",
    "string_last_w_len = string[len(string) - 1]\n",
    "print(f\"\\nUsing len() to print the LAST letter:\\t{string_last_w_len}\")\n",
    "\n",
    "# iv. Write an expression that prints \"Monty\".\n",
    "\n",
    "string_monty = string[0:5]\n",
    "print(f\"\\nThis expression uses slicing to print: \\t{string_monty}\")\n"
   ]
  },
  {
   "cell_type": "code",
   "execution_count": 41,
   "metadata": {},
   "outputs": [
    {
     "name": "stdout",
     "output_type": "stream",
     "text": [
      "\n",
      "This expression prints 'home':\thome\n",
      "\n",
      "This expression prints 'body':\tbody\n"
     ]
    }
   ],
   "source": [
    "# CHAPTER 4, QUESTION 2\n",
    "\n",
    "# Given the string \"homebody\":\n",
    "\n",
    "string = \"homebody\"\n",
    "\n",
    "# a. Write an expression using slicing to print “home”\n",
    "\n",
    "string_home = string[:4]\n",
    "print(f\"\\nThis expression prints 'home':\\t{string_home}\")\n",
    "\n",
    "# b. Write an expression using slicing to print “body”\n",
    "\n",
    "string_body = string[-4:]\n",
    "print(f\"\\nThis expression prints 'body':\\t{string_body}\")\n"
   ]
  },
  {
   "cell_type": "code",
   "execution_count": 42,
   "metadata": {},
   "outputs": [
    {
     "name": "stdout",
     "output_type": "stream",
     "text": [
      "\n",
      "The first half of 'even' is:\tev\n",
      "\n",
      "The second half of 'even' is:\ten\n"
     ]
    }
   ],
   "source": [
    "# CHAPTER 4, QUESTION 3\n",
    "\n",
    "# Given a string S with even length\n",
    "\n",
    "S = \"even\"\n",
    "\n",
    "# a. Write an expression to print out the first half of the string\n",
    "\n",
    "S_first_half = S[ : int(len(S)/2)]\n",
    "\n",
    "print(f\"\\nThe first half of '{S}' is:\\t{S_first_half}\")\n",
    "\n",
    "# b. Write an expression to print out the second half of the string\n",
    "\n",
    "S_second_half = S[int(len(S)/2) : ]\n",
    "\n",
    "print(f\"\\nThe second half of '{S}' is:\\t{S_second_half}\")\n"
   ]
  },
  {
   "cell_type": "code",
   "execution_count": 43,
   "metadata": {},
   "outputs": [
    {
     "name": "stdout",
     "output_type": "stream",
     "text": [
      "\n",
      "The middle char in 'odd' is:\td\n",
      "\n",
      "The first half of 'odd' is:\to\n",
      "\n",
      "The second half of 'odd' is:\td\n"
     ]
    }
   ],
   "source": [
    "# CHAPTER 4, QUESTION 4\n",
    "\n",
    "# Given a string S with odd length\n",
    "\n",
    "S = \"odd\"\n",
    "\n",
    "# a. Write an expression to print the middle character\n",
    "\n",
    "S_middle_char = S[int(len(S)/2)]\n",
    "\n",
    "print(f\"\\nThe middle char in '{S}' is:\\t{S_middle_char}\")\n",
    "\n",
    "# b. Write an expression to print the string up to, but not including, the middle character (i.e. the first half of the string)\n",
    "\n",
    "S_first_half = S[ : int(len(S)/2)]\n",
    "\n",
    "print(f\"\\nThe first half of '{S}' is:\\t{S_first_half}\")\n",
    "\n",
    "# c. Write an expression to print the string from the middle character to the end (not including the middle character)\n",
    "\n",
    "S_second_half = S[int(len(S)/2) + 1 : ]\n",
    "\n",
    "print(f\"\\nThe second half of '{S}' is:\\t{S_second_half}\")"
   ]
  },
  {
   "cell_type": "code",
   "execution_count": 44,
   "metadata": {},
   "outputs": [
    {
     "name": "stdout",
     "output_type": "stream",
     "text": [
      "I like writing in Python. \n",
      "It is so much fun.\n",
      "I like writing in Python. \n",
      "It is so much fun.\n"
     ]
    }
   ],
   "source": [
    "# CHAPTER 4, QUESTION 13\n",
    "\n",
    "# We know that writing the following code:\n",
    "#   print(\"I like writing in Python.\")\n",
    "#   print(\"It is so much fun.\")\n",
    "# will result in:\n",
    "#   I like writing in Python.\n",
    "#   It is so much fun.\n",
    "# When executed. \n",
    "\n",
    "# However, can you manage to do this same task with only one line of code?\n",
    "\n",
    "print(\"I like writing in Python.\" + \" \\n\" + \"It is so much fun.\")\n",
    "print(\"I like writing in Python.\", \"\\nIt is so much fun.\")\n",
    "\n"
   ]
  },
  {
   "cell_type": "code",
   "execution_count": 45,
   "metadata": {},
   "outputs": [
    {
     "data": {
      "text/plain": [
       "'cat'"
      ]
     },
     "execution_count": 45,
     "metadata": {},
     "output_type": "execute_result"
    }
   ],
   "source": [
    "# CHAPTER 4, QUESTION 15\n",
    "\n",
    "# It is possible to combine string methods in one expression.\n",
    "# Given the expression s = “CAT”, what is s.upper().lower()?\n",
    "\n",
    "s = \"CAT\"\n",
    "\n",
    "s.upper().lower()"
   ]
  },
  {
   "cell_type": "code",
   "execution_count": 46,
   "metadata": {},
   "outputs": [
    {
     "name": "stdout",
     "output_type": "stream",
     "text": [
      "-1\n"
     ]
    },
    {
     "data": {
      "text/plain": [
       "3"
      ]
     },
     "execution_count": 46,
     "metadata": {},
     "output_type": "execute_result"
    }
   ],
   "source": [
    "# CHAPTER 4, QUESTION 17\n",
    "\n",
    "# Two string methods find where a character is in a strong: find and index\n",
    "\n",
    "# a. Both work the same if a character is found, but behave differently if the character is NOT found.\n",
    "#    Describe the difference in how they behave when the character is not found.\n",
    "\n",
    "# Uncommenting the lines below will raise an error\n",
    "# string = \"test\"\n",
    "# string.index(\"Q\")\n",
    "\n",
    "string = \"test\"\n",
    "print(string.find(\"Q\"))\n",
    "\n",
    "# b. The find and index methods are not limited to finding single characters. They can search for substrings.\n",
    "#    Given s = “Topkapi”, what does s.find(“kap”) print? Describe the rule for what find prints.\n",
    "\n",
    "s = \"Topkapi\"\n",
    "\n",
    "s.find(\"kap\")\n"
   ]
  },
  {
   "cell_type": "code",
   "execution_count": 47,
   "metadata": {},
   "outputs": [
    {
     "data": {
      "text/plain": [
       "'New York'"
      ]
     },
     "execution_count": 47,
     "metadata": {},
     "output_type": "execute_result"
    }
   ],
   "source": [
    "# CHAPTER 4, QUESTION 19\n",
    "\n",
    "# Convert a string that is all capitals into a string where only the first letters are capitals.\n",
    "# For example, convert “NEW YORK” to “New York”.\n",
    "\n",
    "string = \"NEW YORK\"\n",
    "\n",
    "string = string.title()\n",
    "\n",
    "string"
   ]
  },
  {
   "cell_type": "code",
   "execution_count": 48,
   "metadata": {},
   "outputs": [
    {
     "name": "stdout",
     "output_type": "stream",
     "text": [
      "The string 'Alan Turing' reversed is: 'gniruT nalA'\n"
     ]
    }
   ],
   "source": [
    "# CHAPTER 4, QUESTION 27\n",
    "\n",
    "# (Reversing a string) Given a string, say X = \"Alan Turing\"\n",
    "# write an expression to reverse it to get a string, Y = “gniruT nalA”\n",
    "\n",
    "X = \"Alan Turing\"\n",
    "\n",
    "Y = X[::-1]\n",
    "\n",
    "print(f\"The string '{X}' reversed is: '{Y}'\")\n"
   ]
  },
  {
   "cell_type": "code",
   "execution_count": 49,
   "metadata": {},
   "outputs": [
    {
     "data": {
      "text/plain": [
       "23"
      ]
     },
     "execution_count": 49,
     "metadata": {},
     "output_type": "execute_result"
    }
   ],
   "source": [
    "# CHAPTER 4, QUESTION 35\n",
    "\n",
    "# Using only the string find method, display the integer 23 from the string “Lebron James”\n",
    "\n",
    "string = \"Lebron James\"\n",
    "\n",
    "string.find(\"s\") + string.find(\"s\") + string.find(\"e\")\n",
    "\n",
    "# To verify it is an int, uncomment the line below.\n",
    "# type(string.find(\"s\") + string.find(\"s\") + string.find(\"e\"))"
   ]
  },
  {
   "cell_type": "markdown",
   "metadata": {},
   "source": [
    "# 3. Lists and Tuples | Questions from Chapter 7"
   ]
  },
  {
   "cell_type": "code",
   "execution_count": 50,
   "metadata": {},
   "outputs": [
    {
     "name": "stdout",
     "output_type": "stream",
     "text": [
      "[2, 99]\n",
      "(1, 2, 99)\n",
      "[1, 2, 99]\n"
     ]
    }
   ],
   "source": [
    "# CHAPTER 7, QUESTION 6\n",
    "\n",
    "list1 = [1, 2, 99]\n",
    "list2 = list1\n",
    "list3 = list2\n",
    "list1 = list1.remove(1)\n",
    "\n",
    "# a. What is printed?\n",
    "\n",
    "print(list3)\n",
    "\n",
    "# b. How can you change the code so list3 is unchanged?\n",
    "\n",
    "list1 = [1, 2, 99]\n",
    "list2 = list1\n",
    "list3 = tuple(list2)\n",
    "list1 = list1.remove(1)\n",
    "\n",
    "print(list3)\n",
    "\n",
    "list3 = list(list3)\n",
    "print(list3)"
   ]
  },
  {
   "cell_type": "code",
   "execution_count": 51,
   "metadata": {},
   "outputs": [
    {
     "name": "stdout",
     "output_type": "stream",
     "text": [
      "[1, 2, 99]\n"
     ]
    }
   ],
   "source": [
    "# Alternatively, you can do the above steps in one line:\n",
    "\n",
    "list1 = [1, 2, 99]\n",
    "list2 = list1\n",
    "list3 = list(tuple(list2))\n",
    "list1 = list1.remove(1)\n",
    "\n",
    "print(list3)"
   ]
  },
  {
   "cell_type": "code",
   "execution_count": 52,
   "metadata": {},
   "outputs": [
    {
     "name": "stdout",
     "output_type": "stream",
     "text": [
      "10\n"
     ]
    }
   ],
   "source": [
    "# CHAPTER 7, QUESTION 7\n",
    "\n",
    "# Consider:\n",
    "\n",
    "ListA = [1, 2, 3, 4, 5]\n",
    "ListB = ListA\n",
    "ListA[2] = 10\n",
    "\n",
    "# What is the value of ListB[2]?\n",
    "\n",
    "print(ListB[2])"
   ]
  },
  {
   "cell_type": "code",
   "execution_count": 53,
   "metadata": {},
   "outputs": [
    {
     "name": "stdout",
     "output_type": "stream",
     "text": [
      "[1, (5, 6), 4]\n"
     ]
    }
   ],
   "source": [
    "# CHAPTER 7, QUESTION 19\n",
    "\n",
    "# If a tuple is immutable, why are we able to modify x = [1, (2, 3), 4] into x = [1, (5, 6), 4] ?\n",
    "# Are we changing the tuple or changing the list?\n",
    "\n",
    "x = [1, (2, 3), 4]\n",
    "\n",
    "# We are changing the list, NOT the tuple.\n",
    "\n",
    "# Running either of the two lines below will produce an error.\n",
    "\n",
    "# x[1][0] = 5 # or\n",
    "# x[1][1] = 6\n",
    "\n",
    "# However, if we attempt to change the values at the list level vs directly in the tuple:\n",
    "\n",
    "x[1] = (5, 6)\n",
    "print(x)\n"
   ]
  },
  {
   "cell_type": "code",
   "execution_count": 54,
   "metadata": {},
   "outputs": [
    {
     "name": "stdout",
     "output_type": "stream",
     "text": [
      "L:  [1, 3, 5, 7, 9] \n",
      "L2:  [1, 5, 7, 9]\n"
     ]
    }
   ],
   "source": [
    "# CHAPTER 7, QUESTION 23\n",
    "\n",
    "# Given the list L = [1, 3, 5, 7, 9], use slicing to create a new list without the value 3. That is, L2 = [1, 5, 7, 9]\n",
    "\n",
    "L = [1, 3, 5, 7, 9]\n",
    "\n",
    "L2 = L[:1] + L[2:]\n",
    "\n",
    "print(\"L: \", L, \"\\nL2: \", L2)"
   ]
  }
 ],
 "metadata": {
  "kernelspec": {
   "display_name": "Python 3",
   "language": "python",
   "name": "python3"
  },
  "language_info": {
   "codemirror_mode": {
    "name": "ipython",
    "version": 3
   },
   "file_extension": ".py",
   "mimetype": "text/x-python",
   "name": "python",
   "nbconvert_exporter": "python",
   "pygments_lexer": "ipython3",
   "version": "3.12.5"
  }
 },
 "nbformat": 4,
 "nbformat_minor": 2
}
