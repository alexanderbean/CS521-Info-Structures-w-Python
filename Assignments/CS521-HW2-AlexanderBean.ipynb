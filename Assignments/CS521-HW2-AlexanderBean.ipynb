{
 "cells": [
  {
   "cell_type": "markdown",
   "metadata": {},
   "source": [
    "# CS521 - Homework 2 - Alexander Bean"
   ]
  },
  {
   "cell_type": "markdown",
   "metadata": {},
   "source": [
    "### 1. The PEMDAS Rule\n",
    "\n",
    "Evaluate the following expressions. Explain step-by-step how you arrived at the solution. Points will not be given unless you explain exactly how you employed the operator precedence table in Table 2.2 of the textbook to solve the problem. Read Sec. 2.2.4 and 2.2.5 carefully before answering this question."
   ]
  },
  {
   "cell_type": "code",
   "execution_count": 1,
   "metadata": {},
   "outputs": [
    {
     "data": {
      "text/plain": [
       "True"
      ]
     },
     "execution_count": 1,
     "metadata": {},
     "output_type": "execute_result"
    }
   ],
   "source": [
    "# a. (3 ** 2 * 2 + 1 > 10) and (15 / 3 - 2 == 3)\n",
    "\n",
    "# (3 ** 2 * 2 + 1 > 10) and (15 / 3 - 2 == 3)\n",
    "# (9 * 2 + 1 > 10) and (15 / 3 - 2 == 3)\n",
    "# (18 + 1 > 10) and (5 - 2 == 3)\n",
    "# (19 > 10) and (3 == 3)\n",
    "#   True    and   True\n",
    "#          TRUE\n",
    "\n",
    "(3 ** 2 * 2 + 1 > 10) and (15 / 3 - 2 == 3)"
   ]
  },
  {
   "cell_type": "code",
   "execution_count": 11,
   "metadata": {},
   "outputs": [
    {
     "data": {
      "text/plain": [
       "True"
      ]
     },
     "execution_count": 11,
     "metadata": {},
     "output_type": "execute_result"
    }
   ],
   "source": [
    "# b. (8 + 2 * 3) > (5 ** 2 / 5) or (6 - 1) == 4\n",
    "\n",
    "# (8 + 2 * 3) > (5 ** 2 / 5) or (6 - 1) == 4\n",
    "# (8 + 2 * 3) > (25 / 5) or (6 - 1) == 4\n",
    "# (8 + 6) > 5 or (6 - 1) == 4\n",
    "# 14 > 5 or 5 == 4\n",
    "#  True  or False\n",
    "#       TRUE\n",
    "\n",
    "(8 + 2 * 3) > (5 ** 2 / 5) or (6 - 1) == 4"
   ]
  },
  {
   "cell_type": "code",
   "execution_count": 12,
   "metadata": {},
   "outputs": [
    {
     "data": {
      "text/plain": [
       "False"
      ]
     },
     "execution_count": 12,
     "metadata": {},
     "output_type": "execute_result"
    }
   ],
   "source": [
    "# c. 4 + 6 ** 2 / 3 == 18 > 2 ** 4 - 5 ≤ 30\n",
    "\n",
    "# 4 + 6 ** 2 / 3 == 18 > 2 ** 4 - 5 <= 30\n",
    "# 4 + 36 / 3 == 18 > 16 - 5 <= 30\n",
    "# 4 + 12 == 18 > 16 - 5 <= 30\n",
    "# 16 == 18 > 11 <= 30\n",
    "#           \n",
    "\n",
    "4 + 6 ** 2 / 3 == 18 > 2 ** 4 - 5 <= 30"
   ]
  },
  {
   "cell_type": "code",
   "execution_count": 13,
   "metadata": {},
   "outputs": [
    {
     "data": {
      "text/plain": [
       "True"
      ]
     },
     "execution_count": 13,
     "metadata": {},
     "output_type": "execute_result"
    }
   ],
   "source": [
    "18 > 11 <= 30"
   ]
  },
  {
   "cell_type": "code",
   "execution_count": 12,
   "metadata": {},
   "outputs": [
    {
     "data": {
      "text/plain": [
       "12.0"
      ]
     },
     "execution_count": 12,
     "metadata": {},
     "output_type": "execute_result"
    }
   ],
   "source": [
    "# d. value = not False and ((102%100) + 2 ** ((1 / 3) * (5 + 4)) + 5 // 2)\n",
    "\n",
    "# value = not False and ((102%100) + 2 ** ((1 / 3) * (5 + 4)) + 5 // 2)\n",
    "#                       \n",
    "\n",
    "value = not False and ((102%100) + 2 ** ((1 / 3) * (5 + 4)) + 5 // 2)\n"
   ]
  },
  {
   "cell_type": "code",
   "execution_count": 13,
   "metadata": {},
   "outputs": [
    {
     "data": {
      "text/plain": [
       "2"
      ]
     },
     "execution_count": 13,
     "metadata": {},
     "output_type": "execute_result"
    }
   ],
   "source": [
    "102%100"
   ]
  },
  {
   "cell_type": "markdown",
   "metadata": {},
   "source": [
    "### 2. Sets"
   ]
  },
  {
   "cell_type": "code",
   "execution_count": 5,
   "metadata": {},
   "outputs": [
    {
     "name": "stdout",
     "output_type": "stream",
     "text": [
      "S2 is a subset of S1: True\n",
      "S3 is a subset of S1: False\n"
     ]
    }
   ],
   "source": [
    "# a. Given the sets:\n",
    "S1 = {'a','e','i','o','u'}\n",
    "S2 = {'a','e','i'}\n",
    "S3 = {'a','e','f','o'}\n",
    "# How will you use built-in set methods to find if s2 and s3 are subsets of s1? \n",
    "\n",
    "# I can use the issubset() method to determine this.\n",
    "# This method is used on the supposed substring and contains the comparison string in the parameters.\n",
    "\n",
    "print(f\"S2 is a subset of S1: {S2.issubset(S1)}\")\n",
    "\n",
    "# This is True because 'a', 'e', and 'i' are all included in S1\n",
    "\n",
    "print(f\"S3 is a subset of S1: {S3.issubset(S1)}\")\n",
    "\n",
    "# This is False because, while 'a', 'e', and 'o' are in S1, 'f' is NOT in S1"
   ]
  },
  {
   "cell_type": "code",
   "execution_count": 11,
   "metadata": {},
   "outputs": [
    {
     "name": "stdout",
     "output_type": "stream",
     "text": [
      "Method 1: symmetric_difference()\n",
      "The symmetric difference of S1 and S3 is: {'i', 'u', 'f'}\n",
      "\n",
      "Method 2: ^\n",
      "The symmetric difference of S1 and S3 is: {'i', 'u', 'f'}\n"
     ]
    }
   ],
   "source": [
    "# Given two sets 𝐴 and 𝐵, the Symmetric Difference between the two is defined as 𝐴ΔB = (𝐴 ∪ 𝐵) ∖ (𝐴𝐴 ∩𝐵𝐵).\n",
    "# Give two different methods by which you will find the symmetric difference between s1 and s3 above.\n",
    "# What built-in functions will you use for each method? \n",
    "\n",
    "# 1. I can use the symmetric_difference() method in the same way as issubset() to get the difference in values.\n",
    "\n",
    "print(f\"Method 1: symmetric_difference()\\nThe symmetric difference of S1 and S3 is: {S3.symmetric_difference(S1)}\")\n",
    "\n",
    "# 2. I can use ^ as a shortcut command for symmetric_difference(). It is essentially just shorthand for that method.\n",
    "\n",
    "print(f\"\\nMethod 2: ^\\nThe symmetric difference of S1 and S3 is: {S3 ^ S1}\")\n"
   ]
  },
  {
   "cell_type": "markdown",
   "metadata": {},
   "source": [
    "### 3. Control Flow | Questions from Chapter 2"
   ]
  },
  {
   "cell_type": "code",
   "execution_count": 21,
   "metadata": {},
   "outputs": [
    {
     "name": "stdout",
     "output_type": "stream",
     "text": [
      "Condition 1: 9\n",
      "Condition 2: 3\n",
      "Condition 3: 12\n",
      "Condition 4: 10\n"
     ]
    }
   ],
   "source": [
    "# 5. Control:\n",
    "\n",
    "# if my_var % 2:\n",
    "#   if my_var ** 3 != 27:\n",
    "#       my_var = my_var + 4\n",
    "#   else:\n",
    "#       my_var != 1.5\n",
    "# else:\n",
    "#   if my_var < 10:\n",
    "#       my_var *= 2\n",
    "#   else:\n",
    "#       my_var -= 2\n",
    "# print(my_var)\n",
    "\n",
    "# a. Find four values of my_var so each of the four assignment statements will be executed\n",
    "#    Each value should cause one assignment statement to be executed\n",
    "\n",
    "# 1st: if my_var**3 != 27, my_var = my_var + 4\n",
    "#   A valid value would be 5, as 5 % 2 is 1 (True) and 5 ** 3 != 27 is True. \n",
    "# 2nd: else, my_var != 1.5\n",
    "#   The only valid value would be 3, as 3 % 2 is 1 (True) and 3 ** 3 != 27 is False.\n",
    "# 3rd: if my_var < 10, my_var *= 2\n",
    "#   A valid value would be 6, as 6 % 2 is 0 (False) and 6 < 10 is True.\n",
    "# 4th: else, my_var -= 2\n",
    "#   A valid value would be 12, as 10 % 2 is 0 (False) and 10 < 10 is True.\n",
    "\n",
    "var_list = [5, 3, 6, 12]\n",
    "var_count = 0\n",
    "\n",
    "for my_var in var_list:\n",
    "    if my_var % 2:\n",
    "        if my_var ** 3 != 27:\n",
    "            my_var = my_var + 4\n",
    "        else:\n",
    "            my_var != 1.5\n",
    "    else:\n",
    "        if my_var < 10:\n",
    "            my_var *= 2\n",
    "        else:\n",
    "            my_var -= 2\n",
    "    var_count = var_count + 1\n",
    "    print(f\"Condition {var_count}: {my_var}\")\n",
    "\n",
    "# b. Find four *ranges* of my_var values that will cause each of the four assignment statements to be executed\n",
    "\n",
    "# 1st: if my_var**3 != 27, my_var = my_var + 4\n",
    "#   Any odd number other than 3, because any odd number % 2 will produce a 1 and the condition will be True.\n",
    "#   Ex. 1, 5, 7, 9, 11, etc.\n",
    "# 2nd: else, my_var != 1.5\n",
    "#   3 is the only number that satisfies these conditions, as it is the only number that can be cubed and equal 27.\n",
    "# 3rd: if my_var < 10, my_var *= 2\n",
    "#   Any even number less than 10\n",
    "#   Ex. 2, 4, 6, and 8\n",
    "# 4th: else, my_var -= 2\n",
    "#   Any even number above (and including) 10.\n",
    "#   Ex. 10, 12, 14, 16, etc."
   ]
  },
  {
   "cell_type": "code",
   "execution_count": 14,
   "metadata": {},
   "outputs": [
    {
     "name": "stdout",
     "output_type": "stream",
     "text": [
      "(3+5j)\n"
     ]
    }
   ],
   "source": [
    "# 27. (Quadratic formula) This formula that calculates roots for a quadratic equation \"ax**2 + bx + c\"\n",
    "#     is the quadratic formula \"x = [-b ± √(b2 - 4ac)]/2a\". Because the square root of a negative is\n",
    "#     imaginary, one can use the expression under the square root (known as the discriminant) to check\n",
    "#     for the type of root. If the discriminant is negative, the roots are imaginary. If the discriminant\n",
    "#     is zero, there is only one root. If the discriminant is positive, there are two roots.\n",
    "\n",
    "# a. Write a program that uses the quadratic formula to generate real roots, that is, ignores imaginary roots.\n",
    "#    Use the discriminant to determine whether there is one root or two roots and then prints the appropriate answer.\n",
    "\n",
    "#x = \n",
    "#x = ( -b ± (b2 - (4 * a * c)) / 2 * a\n",
    "\n",
    "a =\n",
    "b= \n",
    "c= \n",
    "\n",
    "discriminant = b * 2 - (4 * a * c)\n",
    "\n",
    "if discriminant < 0:\n",
    "    print(\"Imaginary\")\n",
    "elif discriminant > 0:\n",
    "    print(\"Two roots:\")\n",
    "else:\n",
    "    print(\"One root\")\n",
    "\n",
    "\n",
    "# b. Python uses the lettler 'j' to represent the mathematical imaginary number 'i' (a convention used in electrical\n",
    "#    engineering). However, the Python 'j' must always be preceded by a number. That is, '1j' is equivalent to the\n",
    "#    mathematical 'i'. Add the ability to handle imaginary roots to your program. (You can use complex() for this)\n",
    "\n",
    "\n"
   ]
  },
  {
   "cell_type": "markdown",
   "metadata": {},
   "source": [
    "### 4. Flower Garden | Programming Project"
   ]
  },
  {
   "cell_type": "markdown",
   "metadata": {},
   "source": [
    "We will now continue from the “Simple Python Program” we discussed in Class 2 (see class notes on the website, or pages 38 – 41 of the textbook).\n",
    "\n",
    "This assignment will give you experience on the use of\n",
    "- Integers and floats\n",
    "- Mathematical operations\n",
    "- The float(), int(), round(), print(), and input()functions\n",
    "- Importing a Python module "
   ]
  },
  {
   "cell_type": "code",
   "execution_count": 2,
   "metadata": {},
   "outputs": [
    {
     "name": "stdout",
     "output_type": "stream",
     "text": [
      "Soil for each semicircile garden: cubic yards \n",
      "Soil for each circle garden: cubic yards \n",
      "Total soil for the garden: cubic yards \n",
      "Total filler for the garden: cubic yards\n"
     ]
    }
   ],
   "source": [
    "side_length = float(input(\"Enter the length of the side of garden (in feet): \"))\n",
    "soil_depth = float(input(\"Enter the depth of garden soil (in feet): \"))\n",
    "filler_depth = float(input(\"Enter the depth of filler (in feet): \"))\n",
    "\n",
    "\n",
    "\n",
    "print(\"Soil for each semicircile garden: \" + \"cubic yards\",\n",
    "      \"\\nSoil for each circle garden: \" + \"cubic yards\",\n",
    "      \"\\nTotal soil for the garden: \" + \"cubic yards\",\n",
    "      \"\\nTotal filler for the garden: \" + \"cubic yards\"\n",
    "      )"
   ]
  },
  {
   "cell_type": "code",
   "execution_count": null,
   "metadata": {},
   "outputs": [],
   "source": [
    "# Example\n",
    "# Calculate Garden requirements\n",
    "# \n",
    "# Enter length of side of garden (feet): 10\n",
    "# Enter depth of garden soil (feet): 0.8333\n",
    "# Enter depth of filler (feet): 0.8333\n",
    "# -----------------------------\n",
    "# Requirements\n",
    "#\n",
    "# Soil for each semicircle garden: 0.3 cubic yards\n",
    "# Soil for the circle garden: 0.6 cubic yards\n",
    "# Total soil for the garden: 1.8 cubic yards\n",
    "# Total filler for the garden: 1.3 cubic yards "
   ]
  }
 ],
 "metadata": {
  "kernelspec": {
   "display_name": "Python 3",
   "language": "python",
   "name": "python3"
  },
  "language_info": {
   "codemirror_mode": {
    "name": "ipython",
    "version": 3
   },
   "file_extension": ".py",
   "mimetype": "text/x-python",
   "name": "python",
   "nbconvert_exporter": "python",
   "pygments_lexer": "ipython3",
   "version": "3.12.5"
  }
 },
 "nbformat": 4,
 "nbformat_minor": 2
}
