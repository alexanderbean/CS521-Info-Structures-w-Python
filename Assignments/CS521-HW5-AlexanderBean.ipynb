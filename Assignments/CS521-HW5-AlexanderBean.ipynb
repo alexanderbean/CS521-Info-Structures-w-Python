{
 "cells": [
  {
   "cell_type": "markdown",
   "metadata": {},
   "source": [
    "# CS521 - Homework 5 - Alexander Bean"
   ]
  },
  {
   "cell_type": "markdown",
   "metadata": {},
   "source": [
    "### 1. Reeborg's World\n",
    "\n",
    "Solve the “Hurdle 4” and “Maze” challenges in Reeborg’s world. Click on “World Info” to see the description of the two challenges.\n",
    "- You are allowed to use only the functions mentioned in the World Info document to solve the corresponding challenge (plus any functions you define using these built-in functions).\n",
    "- Include a screenshot of Reeborg’s final trajectory for each challenge in the explanation PDF that you upload."
   ]
  },
  {
   "cell_type": "code",
   "execution_count": null,
   "metadata": {},
   "outputs": [],
   "source": []
  },
  {
   "cell_type": "markdown",
   "metadata": {},
   "source": [
    "### 2. Functions with User Input Processing\n",
    "\n",
    "You will write a program that prompts the user for the radius and height of a 3-dimensional cone and then calculates and prints the surface area and volume of the cone. The calculation of the surface area and the volume will be done in functions, as will the gathering of the inputs."
   ]
  },
  {
   "cell_type": "markdown",
   "metadata": {},
   "source": [
    "**Part 1**\n",
    "\n",
    "Your program for this part will function as follows:\n",
    "1. Print out a message indicating what the program does.\n",
    "2. Prompt the user for the radius (a non-negative float) in feet.\n",
    "3. Prompt the user for the height (a non-negative float) in feet.\n",
    "4. Print the radius and height, but rounded to 2 decimal digits.\n",
    "5. Print the surface area and volume, rounded to 2 decimal digits.\n",
    "\n",
    "This version of the program will not check that the input is correct; if the user types anything other than a non-negative float, it can crash. Your program must define and invoke two functions:\n",
    "1. cone_surface_area(r,h): returns the surface area of a cone of radius r and height h\n",
    "2. cone_volume(r,h) : returns the volume of a cone of radius r and height h.\n",
    "3. All functions in this question must have docstrings describing: inputs, what they do, and\n",
    "output(s)\n",
    "\n",
    "Import the math module and use math.pi and math.sqrt() in these calculations."
   ]
  },
  {
   "cell_type": "code",
   "execution_count": 169,
   "metadata": {},
   "outputs": [],
   "source": [
    "from math import pi, sqrt\n",
    "\n",
    "def cone_surface_area(r, h):\n",
    "    ''' This function calculates the surface area of a cone.\n",
    "\n",
    "    Parameters:\n",
    "    r (float): Radius of the cone\n",
    "    h (float): Height of the cone\n",
    "\n",
    "    Returns:\n",
    "    area (float): Total surface area of the cone\n",
    "    '''\n",
    "    area = float((pi * r ** 2) + (pi * r * sqrt(r ** 2 + h ** 2)))\n",
    "    \n",
    "    return area\n",
    "\n",
    "\n",
    "def cone_volume(r, h):\n",
    "    ''' This function calculates the volumen of a cone.\n",
    "\n",
    "    Parameters:\n",
    "    r (float): Radius of the cone\n",
    "    h (float): Height of the cone\n",
    "\n",
    "    Returns:\n",
    "    volume (float): Total volume of the cone\n",
    "    '''\n",
    "    volume = float((1 / 3) * pi * (r ** 2) * h)\n",
    "\n",
    "    return volume"
   ]
  },
  {
   "cell_type": "code",
   "execution_count": 170,
   "metadata": {},
   "outputs": [
    {
     "name": "stdout",
     "output_type": "stream",
     "text": [
      "This program calculates the surface area and volume of a cone.\n",
      "\n",
      "Please enter the radius of the cone in feet (cannot be negative): \n",
      "Please enter the height of the cone in feet (cannot be negative): \n",
      "\n",
      "INPUT\n",
      "The entered radius is:\t5.00 feet\n",
      "The entered height is:\t5.00 feet\n",
      "\n",
      "OUTPUT\n",
      "The surface area is:\t189.61 feet^2\n",
      "The cone volume is:\t130.90 feet^2\n"
     ]
    }
   ],
   "source": [
    "print(\"This program calculates the surface area and volume of a cone.\\n\")\n",
    "\n",
    "r = float(input(print(\"Please enter the radius of the cone in feet (cannot be negative): \")))\n",
    "h = float(input(print(\"Please enter the height of the cone in feet (cannot be negative): \")))\n",
    "\n",
    "area = cone_surface_area(r, h)\n",
    "volume = cone_volume(r, h)\n",
    "\n",
    "print(f\"\\nINPUT\\nThe entered radius is:\\t{r:.2f} feet\\nThe entered height is:\\t{h:.2f} feet\")\n",
    "print(f\"\\nOUTPUT\\nThe surface area is:\\t{area:.2f} feet^2\\nThe cone volume is:\\t{volume:.2f} feet^2\")"
   ]
  },
  {
   "cell_type": "markdown",
   "metadata": {},
   "source": [
    "**Part 2**\n",
    "\n",
    "Next, you will replace the input commands that you used to get the radius and the height in the previous program with a function that encapsulates the input processing to check for correct input. You will define two functions for this purpose.\n",
    "1. is_nneg_float(s): checks if string s denotes a non-negative floating-point value (not in scientific notation, i.e., like 3.0 × 10^8). This function should return True if s contains (at most) one decimal point and one or more digits (and nothing else); and False otherwise. According to this definition an integer should return True. (See example cases in document)\n",
    "2. get_nneg_float(p): repeatedly prompts the user using p until the user inputs a nonnegative floating-point value, returning the non-negative float that was input (as a float, not a string). This function should invoke the previous function to check the input string before converting it to a float."
   ]
  },
  {
   "cell_type": "code",
   "execution_count": 171,
   "metadata": {},
   "outputs": [],
   "source": [
    "def is_nneg_float(s):\n",
    "    ''' This function determines if the entered number is a valid float\n",
    "\n",
    "    Parameters:\n",
    "    s (string): Value entered by user\n",
    "\n",
    "    Returns:\n",
    "    (boolean): True if valid, False if not\n",
    "    '''\n",
    "    dec_count = 0\n",
    "    num_count = 0\n",
    "\n",
    "    # Check each char in string for decimal points and numbers\n",
    "\n",
    "    for ch in s:\n",
    "        if \".\" in ch:\n",
    "            dec_count += 1\n",
    "        elif ch.isdigit():\n",
    "            num_count += 1\n",
    "        else:\n",
    "            return False\n",
    "    \n",
    "    if dec_count <= 1 and num_count > 0:\n",
    "        return True\n",
    "    else:\n",
    "        return False\n",
    "\n",
    "def get_nneg_float(p):\n",
    "    ''' This function prompts the user to enter a float and will only return a valid input.\n",
    "    If invalid, it recursively calls itself\n",
    "\n",
    "    Parameters:\n",
    "    p (string): The prompt that will be displayed to the user\n",
    "\n",
    "    Returns:\n",
    "    s (float): The value entered by the user\n",
    "    '''\n",
    "    s = str(input(print(p)))\n",
    "\n",
    "    if is_nneg_float(s) == True:\n",
    "        return float(s)  \n",
    "    else:\n",
    "        print(\"ERROR: Must be a valid float value. Please try again.\")\n",
    "        s = get_nneg_float(p)\n",
    "        return float(s)"
   ]
  },
  {
   "cell_type": "code",
   "execution_count": 174,
   "metadata": {},
   "outputs": [
    {
     "name": "stdout",
     "output_type": "stream",
     "text": [
      "This program calculates the surface area and volume of a cone.\n",
      "\n",
      "Please enter the RADIUS of the cone in feet (cannot be negative): \n",
      "ERROR: Must be a valid float value. Please try again.\n",
      "\n",
      "Please enter the RADIUS of the cone in feet (cannot be negative): \n",
      "\n",
      "Please enter the HEIGHT of the cone in feet (cannot be negative): \n",
      "ERROR: Must be a valid float value. Please try again.\n",
      "\n",
      "Please enter the HEIGHT of the cone in feet (cannot be negative): \n",
      "\n",
      "INPUT\n",
      "The entered radius is:\t5.00 feet\n",
      "The entered height is:\t5.00 feet\n",
      "\n",
      "OUTPUT\n",
      "The surface area is:\t189.61 feet^2\n",
      "The cone volume is:\t130.90 feet^2\n"
     ]
    }
   ],
   "source": [
    "print(\"This program calculates the surface area and volume of a cone.\")\n",
    "\n",
    "r = get_nneg_float(\"\\nPlease enter the RADIUS of the cone in feet (cannot be negative): \")\n",
    "h = get_nneg_float(\"\\nPlease enter the HEIGHT of the cone in feet (cannot be negative): \")\n",
    "\n",
    "area = cone_surface_area(r, h)\n",
    "volume = cone_volume(r, h)\n",
    "\n",
    "print(f\"\\nINPUT\\nThe entered radius is:\\t{r:.2f} feet\\nThe entered height is:\\t{h:.2f} feet\")\n",
    "print(f\"\\nOUTPUT\\nThe surface area is:\\t{area:.2f} feet^2\\nThe cone volume is:\\t{volume:.2f} feet^2\")"
   ]
  }
 ],
 "metadata": {
  "kernelspec": {
   "display_name": "Python 3",
   "language": "python",
   "name": "python3"
  },
  "language_info": {
   "codemirror_mode": {
    "name": "ipython",
    "version": 3
   },
   "file_extension": ".py",
   "mimetype": "text/x-python",
   "name": "python",
   "nbconvert_exporter": "python",
   "pygments_lexer": "ipython3",
   "version": "3.11.9"
  }
 },
 "nbformat": 4,
 "nbformat_minor": 2
}
