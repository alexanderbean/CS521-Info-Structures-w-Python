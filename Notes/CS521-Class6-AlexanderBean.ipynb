{
 "cells": [
  {
   "cell_type": "markdown",
   "metadata": {},
   "source": [
    "# CS521 - Class #6 - 10/10/24"
   ]
  },
  {
   "cell_type": "markdown",
   "metadata": {},
   "source": [
    "### Introduction to Functions\n",
    "\n",
    "A function is a block of reusable code that performs a specific task. Functions help in breaking a problem into smaller chunks, making the code more organized, readable, and easier to debug.\n",
    "\n",
    "Functions follow this pattern:\n",
    "- They take **input** in the form of arguments (optional)\n",
    "- They perform a certain action (processing)\n",
    "- They return an **output** (optional)\n",
    "\n",
    "In Python, functions are defined using the \"def\" keyword followed by the function name and parentheses."
   ]
  },
  {
   "cell_type": "code",
   "execution_count": 37,
   "metadata": {},
   "outputs": [
    {
     "name": "stdout",
     "output_type": "stream",
     "text": [
      "Hello world!\n"
     ]
    }
   ],
   "source": [
    "# Function that takes no inputs but returns a value\n",
    "\n",
    "def greet():\n",
    "    return \"Hello world!\"\n",
    "\n",
    "message = greet()\n",
    "print(message)"
   ]
  },
  {
   "cell_type": "code",
   "execution_count": 38,
   "metadata": {},
   "outputs": [
    {
     "name": "stdout",
     "output_type": "stream",
     "text": [
      "The sum of the two entered numbers is: 100\n"
     ]
    }
   ],
   "source": [
    "# Function that takes inputs but returns no values\n",
    "\n",
    "def add_two_ints(x, y):\n",
    "    print(f\"The sum of the two entered numbers is: {x + y}\")\n",
    "\n",
    "add_two_ints(60, 40)"
   ]
  },
  {
   "cell_type": "code",
   "execution_count": 39,
   "metadata": {},
   "outputs": [
    {
     "data": {
      "text/plain": [
       "60"
      ]
     },
     "execution_count": 39,
     "metadata": {},
     "output_type": "execute_result"
    }
   ],
   "source": [
    "# Function that takes inputs and returns a value\n",
    "\n",
    "def add_three_ints(a, b, c):\n",
    "    sum_of_three_ints = a + b + c\n",
    "    return sum_of_three_ints\n",
    "\n",
    "add_three_ints(10, 20, 30)"
   ]
  },
  {
   "cell_type": "code",
   "execution_count": 40,
   "metadata": {},
   "outputs": [
    {
     "name": "stdout",
     "output_type": "stream",
     "text": [
      "Hello! Welcome to the program!\n"
     ]
    }
   ],
   "source": [
    "# Function that takes no inputs and returns no value\n",
    "\n",
    "def greet_user():\n",
    "    print(\"Hello! Welcome to the program!\")\n",
    "\n",
    "greet_user()"
   ]
  },
  {
   "cell_type": "code",
   "execution_count": 41,
   "metadata": {},
   "outputs": [],
   "source": [
    "# Use case: debugging\n",
    "\n",
    "# You can put this function in a loop or condition statement and, if it prints, you can determine that\n",
    "# the program is accessing areas it should not be.\n",
    "\n",
    "def warning_function():\n",
    "    print(\"Execution should not enter this portion of the code!\")"
   ]
  },
  {
   "cell_type": "code",
   "execution_count": 42,
   "metadata": {},
   "outputs": [],
   "source": [
    "# You can use docstring to add a description to your function\n",
    "\n",
    "def function_name(input):\n",
    "    '''\n",
    "    Here is a description of my function\n",
    "    '''"
   ]
  },
  {
   "cell_type": "markdown",
   "metadata": {},
   "source": [
    "### Positional and Keyword Arguments\n",
    "\n",
    "Functions can take inputs (arguments) in two ways: **positional** and **keyword** arguments."
   ]
  },
  {
   "cell_type": "markdown",
   "metadata": {},
   "source": [
    "1. Positional Arguments: The arguments are passed in the same order as the function's parameters."
   ]
  },
  {
   "cell_type": "code",
   "execution_count": 43,
   "metadata": {},
   "outputs": [
    {
     "name": "stdout",
     "output_type": "stream",
     "text": [
      "The sum of the three entered numbers is: 60\n"
     ]
    }
   ],
   "source": [
    "# Adding default values for error control (otherwise program crashes if no input is given)\n",
    "\n",
    "def add_three_ints(a = 0, b = 0, c = 0):\n",
    "    sum_of_three_ints = a + b + c\n",
    "    return sum_of_three_ints\n",
    "\n",
    "add_three_ints(10, 20, 30)\n",
    "\n",
    "# Alternatively\n",
    "\n",
    "my_sum = add_three_ints(10, 20, 30)\n",
    "print(f\"The sum of the three entered numbers is: {my_sum}\")"
   ]
  },
  {
   "cell_type": "markdown",
   "metadata": {},
   "source": [
    "2. Keyword Assignments: The keywords are defined in different orders than the function initially declares"
   ]
  },
  {
   "cell_type": "code",
   "execution_count": 44,
   "metadata": {},
   "outputs": [
    {
     "data": {
      "text/plain": [
       "10"
      ]
     },
     "execution_count": 44,
     "metadata": {},
     "output_type": "execute_result"
    }
   ],
   "source": [
    "# Keyword--b is declared before a, even though it goes a, b, c in the function definition.\n",
    "# Python does not care \n",
    "\n",
    "add_three_ints(b = 30, a = -20, c = 0)"
   ]
  },
  {
   "cell_type": "markdown",
   "metadata": {},
   "source": [
    "### Example: A Simple Function with Parameters"
   ]
  },
  {
   "cell_type": "code",
   "execution_count": 45,
   "metadata": {},
   "outputs": [
    {
     "name": "stdout",
     "output_type": "stream",
     "text": [
      "30\n",
      "20\n"
     ]
    }
   ],
   "source": [
    "def calculate_perimeter(length, width):\n",
    "    return 2 * (length + width)\n",
    "\n",
    "perimeter1 = calculate_perimeter(5, 10)\n",
    "print(perimeter1)  # Output: 30\n",
    "\n",
    "# Calling the function with keyword arguments\n",
    " \n",
    "perimeter2 = calculate_perimeter(width=7, length=3)\n",
    "print(perimeter2)  # Output: 20"
   ]
  },
  {
   "cell_type": "markdown",
   "metadata": {},
   "source": [
    "### Recursive Functions\n",
    "\n",
    "A **recursive function** is a function that calls itself during its execution. The function typically performs a small part of the problem and then calls itself with a small or simpler version of the same problem until a base case (stopping condition) is met. Recursion is useful for solving problems that can be broken down into simpler, smaller problems of the same type.\n",
    "\n",
    "Key Components of Recursive Functions:\n",
    "- **Base Case:** The condition under which the recursion stops. Without a base case, the recursion would continue indefinitely, causing a stack overflow.\n",
    "- **Recursive Case:** The part of the function where the function calls itself with modified arguments, progressing towards the base case."
   ]
  },
  {
   "cell_type": "markdown",
   "metadata": {},
   "source": [
    "Example 1: Factorial Calculation\n",
    "\n",
    "The factorial of a non-negative integer *n* is the product of all integers from 1 to *n*. It is defined as:\n",
    "- n! = n * (n - 1) * (n - 2) * ... * 1\n",
    "\n",
    "Alternatively, it can be defined recursively as:\n",
    "- **Base case:** 0! = 1\n",
    "- **Recursive case:** n! = n * (n - 1)!"
   ]
  },
  {
   "cell_type": "code",
   "execution_count": 46,
   "metadata": {},
   "outputs": [
    {
     "name": "stdout",
     "output_type": "stream",
     "text": [
      "120\n"
     ]
    }
   ],
   "source": [
    "def factorial(n):\n",
    "    # Base case: if n is 0, return 1\n",
    "    if n == 0:\n",
    "        return 1\n",
    "    # Recursive case: n * factorial(n - 1)\n",
    "    else:\n",
    "        return n * factorial(n - 1)\n",
    "\n",
    "print(factorial(5))"
   ]
  },
  {
   "cell_type": "markdown",
   "metadata": {},
   "source": [
    "Example 2: Fibonacci Sequence\n",
    "\n",
    "The **Fibonacci sequence** is a series of numbers where each number is the sum of the two preceding ones. The sequence starts with 0 and 1.\n",
    "- F(0) = 0\n",
    "- F(1) = 1\n",
    "- F(n) = F(n - 1) + F(n - 2) for n >= 2"
   ]
  },
  {
   "cell_type": "code",
   "execution_count": 47,
   "metadata": {},
   "outputs": [
    {
     "name": "stdout",
     "output_type": "stream",
     "text": [
      "0\n",
      "1\n",
      "1\n",
      "2\n",
      "3\n",
      "5\n",
      "8\n",
      "13\n",
      "21\n",
      "34\n"
     ]
    }
   ],
   "source": [
    "def fibonacci(n):\n",
    "    # Base cases\n",
    "    if n == 0:\n",
    "        return 0\n",
    "    elif n == 1:\n",
    "        return 1\n",
    "    # Recursive case\n",
    "    else:\n",
    "        return fibonacci(n - 1) + fibonacci(n - 2)\n",
    "\n",
    "for n in range(0, 10):\n",
    "    print(fibonacci(n))"
   ]
  },
  {
   "cell_type": "markdown",
   "metadata": {},
   "source": [
    "### The Quicksort Algorithm\n",
    "\n",
    "Quicksort is a **divide-and-conquer** sorting algorithm. It selects a \"pivot\" element from the array and partitions the other elements into two subarrays: elements less than the pviot and elements greater than the pivot. Then, it recursively applies the same process to the subarrays.\n",
    "\n",
    "Steps:\n",
    "1. **Choose a Pivot:** Select an element from the array as the pivot (this can be the first element, last element, middle element, or chosen randomly).\n",
    "2. **Partition:** Rearrange the array such that all elements less than the pivot are on its left and all elements greater are on the right.\n",
    "3. **Recursion:** Apply the same logic recursively to the left and right subarrays.\n",
    "4. **Base Case:** Arrays of size 1 and 0 are already sorted."
   ]
  },
  {
   "cell_type": "code",
   "execution_count": 48,
   "metadata": {},
   "outputs": [
    {
     "data": {
      "text/plain": [
       "[10, 30, 40, 50, 70, 80, 90]"
      ]
     },
     "execution_count": 48,
     "metadata": {},
     "output_type": "execute_result"
    }
   ],
   "source": [
    "# Example -- consider the array:\n",
    "array = [10, 80, 30, 90, 50, 40, 70]\n",
    "\n",
    "def quicksort(array):\n",
    "    # Base case\n",
    "    if len(array) <= 1:\n",
    "        return array\n",
    "    \n",
    "    # Recursive Step 1: Choose a pivot\n",
    "    pivot = array[-1]\n",
    "\n",
    "    # Step 2 - Partition the array into two subarrays\n",
    "\n",
    "    less_than = [x for x in array[:-1] if x <= pivot]\n",
    "    greater_than = [x for x in array[:-1] if x > pivot]\n",
    "\n",
    "    # Step 3 - Recursively sort the subarrays and concatenate the result\n",
    "\n",
    "    return quicksort(less_than) + [pivot] + quicksort(greater_than)\n",
    "\n",
    "\n",
    "quicksort(array)\n"
   ]
  },
  {
   "cell_type": "markdown",
   "metadata": {},
   "source": [
    "### Anonymous Functions\n",
    "\n",
    "Also known as \"lambda\" functions.\n",
    "\n",
    "Syntax:\n",
    "- lambda arguments : expression\n",
    "\n",
    "Example:\n",
    "- add = lambda x, y: x + y\n",
    "- print(add(5, 3))\n",
    "\n",
    "Explanation:\n",
    "- Lambda x, y defines two arguments x and y\n",
    "- The expression x + y is evaluated and returned when the lambda function is called with arguments"
   ]
  },
  {
   "cell_type": "code",
   "execution_count": 49,
   "metadata": {},
   "outputs": [
    {
     "data": {
      "text/plain": [
       "<function __main__.<lambda>(y)>"
      ]
     },
     "execution_count": 49,
     "metadata": {},
     "output_type": "execute_result"
    }
   ],
   "source": [
    "def square(y):\n",
    "    return y ** 2\n",
    "\n",
    "# Or...\n",
    "\n",
    "lambda y : y ** 2\n",
    "# Denotes input : output\n",
    "# One use function, returns the value of the expression without needing a return statement"
   ]
  },
  {
   "cell_type": "markdown",
   "metadata": {},
   "source": [
    "Example 1: Using Lambda with map()\n",
    "\n",
    "map() applies a given function to all the items in an input list (or other iterable)"
   ]
  },
  {
   "cell_type": "code",
   "execution_count": 50,
   "metadata": {},
   "outputs": [
    {
     "name": "stdout",
     "output_type": "stream",
     "text": [
      "[1, 4, 9, 16, 25]\n"
     ]
    }
   ],
   "source": [
    "#Ex. \n",
    "\n",
    "numbers = [1, 2, 3, 4, 5]\n",
    "\n",
    "squared_numbers = list(map(lambda x: x ** 2, numbers))\n",
    "\n",
    "print(squared_numbers)"
   ]
  },
  {
   "cell_type": "code",
   "execution_count": 51,
   "metadata": {},
   "outputs": [
    {
     "name": "stdout",
     "output_type": "stream",
     "text": [
      "[1, 4, 9, 16, 25, 36, 49, 64, 81, 100]\n"
     ]
    }
   ],
   "source": [
    "my_list = list(range(1, 11))\n",
    "\n",
    "my_sqrd_list = list(map(lambda y : y ** 2, my_list))\n",
    "\n",
    "print(my_sqrd_list)"
   ]
  },
  {
   "cell_type": "code",
   "execution_count": 52,
   "metadata": {},
   "outputs": [
    {
     "name": "stdout",
     "output_type": "stream",
     "text": [
      "[1, 4, 9, 16, 25, 36, 49, 64, 81, 100]\n"
     ]
    }
   ],
   "source": [
    "# Map also does this with regular function. Map is a \"higher order\" function.\n",
    "\n",
    "def square(num):\n",
    "    return num ** 2\n",
    "\n",
    "my_sqrd_list = list(map(square, range(1, 11)))\n",
    "\n",
    "print(my_sqrd_list)"
   ]
  },
  {
   "cell_type": "markdown",
   "metadata": {},
   "source": [
    "Example 2: Using Lambda with filter()\n",
    "\n",
    "filter() filters items from an iterable based on a condition defined by a function"
   ]
  },
  {
   "cell_type": "code",
   "execution_count": 53,
   "metadata": {},
   "outputs": [
    {
     "name": "stdout",
     "output_type": "stream",
     "text": [
      "[10, 30, 50]\n"
     ]
    }
   ],
   "source": [
    "# Ex.\n",
    "\n",
    "numbers = [10, 25, 30, 45, 50]\n",
    "\n",
    "even_numbers = list(filter(lambda x: x % 2 == 0, numbers))\n",
    "\n",
    "print(even_numbers)"
   ]
  },
  {
   "cell_type": "markdown",
   "metadata": {},
   "source": [
    "Exercises"
   ]
  },
  {
   "cell_type": "code",
   "execution_count": 56,
   "metadata": {},
   "outputs": [
    {
     "name": "stdout",
     "output_type": "stream",
     "text": [
      "['APPLE', 'BANANA', 'CHERRY', 'DATE', 'FIG', 'KIWI']\n"
     ]
    }
   ],
   "source": [
    "words = ['apple', 'banana', 'cherry', 'date', 'fig', 'kiwi']\n",
    "\n",
    "upper_list = list(map(lambda word : word.upper(), words))\n",
    "\n",
    "print(upper_list)"
   ]
  },
  {
   "cell_type": "code",
   "execution_count": 57,
   "metadata": {},
   "outputs": [
    {
     "name": "stdout",
     "output_type": "stream",
     "text": [
      "['apple', 'banana', 'date']\n"
     ]
    }
   ],
   "source": [
    "words_with_a = list(filter(lambda word : 'a' in word, words))\n",
    "\n",
    "print(words_with_a)"
   ]
  },
  {
   "cell_type": "code",
   "execution_count": 58,
   "metadata": {},
   "outputs": [
    {
     "name": "stdout",
     "output_type": "stream",
     "text": [
      "[1, 4, 27, 16, 125, 36, 343, 64]\n"
     ]
    }
   ],
   "source": [
    "transformed_nums = list(map(lambda x : x ** 2 if x % 2 == 0 else x ** 3, range(1, 9)))\n",
    "\n",
    "print(transformed_nums)"
   ]
  },
  {
   "cell_type": "code",
   "execution_count": null,
   "metadata": {},
   "outputs": [],
   "source": []
  }
 ],
 "metadata": {
  "kernelspec": {
   "display_name": "Python 3",
   "language": "python",
   "name": "python3"
  },
  "language_info": {
   "codemirror_mode": {
    "name": "ipython",
    "version": 3
   },
   "file_extension": ".py",
   "mimetype": "text/x-python",
   "name": "python",
   "nbconvert_exporter": "python",
   "pygments_lexer": "ipython3",
   "version": "3.12.5"
  }
 },
 "nbformat": 4,
 "nbformat_minor": 2
}
