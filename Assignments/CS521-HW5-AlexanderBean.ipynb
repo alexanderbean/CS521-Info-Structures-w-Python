{
 "cells": [
  {
   "cell_type": "markdown",
   "metadata": {},
   "source": [
    "# CS521 - Homework 5 - Alexander Bean"
   ]
  },
  {
   "cell_type": "markdown",
   "metadata": {},
   "source": [
    "### 1. Reeborg's World\n",
    "\n",
    "Solve the “Hurdle 4” and “Maze” challenges in Reeborg’s world. Click on “World Info” to see the description of the two challenges.\n",
    "- You are allowed to use only the functions mentioned in the World Info document to solve the corresponding challenge (plus any functions you define using these built-in functions).\n",
    "- Include a screenshot of Reeborg’s final trajectory for each challenge in the explanation PDF that you upload."
   ]
  },
  {
   "cell_type": "markdown",
   "metadata": {},
   "source": []
  },
  {
   "cell_type": "markdown",
   "metadata": {},
   "source": [
    "### 2. Functions with User Input Processing\n",
    "\n",
    "You will write a program that prompts the user for the radius and height of a 3-dimensional cone and then calculates and prints the surface area and volume of the cone. The calculation of the surface area and the volume will be done in functions, as will the gathering of the inputs."
   ]
  },
  {
   "cell_type": "markdown",
   "metadata": {},
   "source": [
    "**Part 1**\n",
    "\n",
    "Your program for this part will function as follows:\n",
    "1. Print out a message indicating what the program does.\n",
    "2. Prompt the user for the radius (a non-negative float) in feet.\n",
    "3. Prompt the user for the height (a non-negative float) in feet.\n",
    "4. Print the radius and height, but rounded to 2 decimal digits.\n",
    "5. Print the surface area and volume, rounded to 2 decimal digits.\n",
    "\n",
    "This version of the program will not check that the input is correct; if the user types anything other than a non-negative float, it can crash. Your program must define and invoke two functions:\n",
    "1. cone_surface_area(r,h): returns the surface area of a cone of radius r and height h\n",
    "2. cone_volume(r,h) : returns the volume of a cone of radius r and height h.\n",
    "3. All functions in this question must have docstrings describing: inputs, what they do, and\n",
    "output(s)\n",
    "\n",
    "Import the math module and use math.pi and math.sqrt() in these calculations."
   ]
  },
  {
   "cell_type": "code",
   "execution_count": null,
   "metadata": {},
   "outputs": [],
   "source": []
  },
  {
   "cell_type": "markdown",
   "metadata": {},
   "source": [
    "**Part 2**\n",
    "\n",
    "Next, you will replace the input commands that you used to get the radius and the height in the previous program with a function that encapsulates the input processing to check for correct input. You will define two functions for this purpose.\n",
    "1. is_nneg_float(s): checks if string s denotes a non-negative floating-point value (not in scientific notation, i.e., like 3.0 × 10^8). This function should return True if s contains (at most) one decimal point and one or more digits (and nothing else); and False otherwise. According to this definition an integer should return True. (See example cases in document)\n",
    "2. get_nneg_float(p): repeatedly prompts the user using p until the user inputs a nonnegative floating-point value, returning the non-negative float that was input (as a float, not a string). This function should invoke the previous function to check the input string before converting it to a float."
   ]
  },
  {
   "cell_type": "markdown",
   "metadata": {},
   "source": []
  }
 ],
 "metadata": {
  "language_info": {
   "name": "python"
  }
 },
 "nbformat": 4,
 "nbformat_minor": 2
}
