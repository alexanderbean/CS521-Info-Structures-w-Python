{
 "cells": [
  {
   "cell_type": "markdown",
   "metadata": {},
   "source": [
    "# CS521 - Homework 6 - Alexander Bean"
   ]
  },
  {
   "cell_type": "markdown",
   "metadata": {},
   "source": [
    "### 1. Matrix Sum\n",
    "\n",
    "Write a function that returns the sum of all the elements in a specified row or column in a matrix using the following header:\n",
    "- def sumEntries(matrix, axis, index):\n",
    "\n",
    "Your code should first ask the user for the number of rows (r) and columns (c) in the matrix, and then run a for loop requesting the user for each of the r rows in turn. Then take the values of axis (axis = 0 means sum across a row and axis = 1 means sum down a column), the index of the row or the column, and call sumEntries to compute and print the corresponding sum.\n",
    "\n",
    "For example, if the matrix is M = [[2, -3], [-11, 5]]...\n",
    "- Calling sumEntries(M, axis = 0, 0) computes the sum ACROSS the 0th row: 2 + -3 = -1\n",
    "- Calling sumEntries(M, axis = 1, 0) computes the sum DOWN the 0th row: 2 + -11 = -9"
   ]
  },
  {
   "cell_type": "code",
   "execution_count": 10,
   "metadata": {},
   "outputs": [
    {
     "name": "stdout",
     "output_type": "stream",
     "text": [
      "Please enter the number of ROWS in the matrix: \n",
      "Please enter the number of COLUMNS in the matrix: \n",
      "\n",
      "Please enter the value in row 0, col 0: \n",
      "Please enter the value in row 0, col 1: \n",
      "Please enter the value in row 1, col 0: \n",
      "Please enter the value in row 1, col 1: \n",
      "\n",
      "To calculate sum, enter 0 for across row or 1 for down column: \n",
      "\n",
      "Please enter the index of the row/column: \n",
      "\n",
      "The sum is: 3\n"
     ]
    }
   ],
   "source": [
    "# Question 1\n",
    "\n",
    "def sumEntries(matrix, axis, index):\n",
    "    ''' This function calculates the sum of matrix row/col values\n",
    "\n",
    "    Parameters:\n",
    "    matrix (list): Multi-dimensional list that holds the numbers\n",
    "    axis (int): Declares whether the sum will be calculated on rows or columns\n",
    "    index (int): The row/col to calculate the sum of.\n",
    "\n",
    "    Returns:\n",
    "    sum (int): The sum of the values in the row/col\n",
    "    '''\n",
    "\n",
    "    # Initialize the sum variable\n",
    "    sum = 0                         \n",
    "\n",
    "    # Sum of column\n",
    "    if axis == 1:                   \n",
    "        for row in matrix:\n",
    "            sum += row[index] \n",
    "\n",
    "    # Or sum of row\n",
    "    else:                          \n",
    "        for val in matrix[index]:\n",
    "            sum += val\n",
    "    \n",
    "    return sum\n",
    "\n",
    "rows = int(input(print(\"Please enter the number of ROWS in the matrix: \")))\n",
    "cols = int(input(print(\"Please enter the number of COLUMNS in the matrix: \\n\")))\n",
    "\n",
    "matrix = []\n",
    "\n",
    "for row in range(rows):\n",
    "    matrix.append([])\n",
    "    for col in range(cols):\n",
    "        value = int(input(print(f\"Please enter the value in row {row}, col {col}: \")))\n",
    "        matrix[row].append(value)\n",
    "\n",
    "axis = int(input(print(\"\\nTo calculate sum, enter 0 for across row or 1 for down column: \")))\n",
    "index = int(input(print(\"\\nPlease enter the index of the row/column: \")))\n",
    "\n",
    "sum = sumEntries(matrix, axis, index)\n",
    "\n",
    "print(f\"\\nThe sum is: {sum}\")"
   ]
  },
  {
   "cell_type": "code",
   "execution_count": 11,
   "metadata": {},
   "outputs": [
    {
     "name": "stdout",
     "output_type": "stream",
     "text": [
      "For axis 0 and index 0, the sum is: -1\n",
      "For axis 1 and index 0, the sum is: -9\n",
      "For axis 0 and index 1, the sum is: -6\n",
      "For axis 1 and index 1, the sum is: 2\n"
     ]
    }
   ],
   "source": [
    "# Test cases for the example matrix\n",
    "\n",
    "matrix = [[2, -3], [-11, 5]]\n",
    "test_axis = [0, 1]\n",
    "test_index = range(len(matrix))\n",
    "\n",
    "for index in test_index:\n",
    "    for axis in test_axis:\n",
    "        sum = sumEntries(matrix, axis, index)\n",
    "        print(f\"For axis {axis} and index {index}, the sum is: {sum}\")"
   ]
  },
  {
   "cell_type": "markdown",
   "metadata": {},
   "source": [
    "### 2. Which Points are Nearest?\n",
    "\n",
    "In this problem, you are given a collection of points in 3-dimensional space. The collection is given to you by the user as a 2-dimensional list containing the coordinates. Your task is to write a function that will accept this list and find the pair (or pairs) of points that are the closest in distance.\n",
    "\n",
    "Your code should create an empty list and keep accepting coordinates of points from the user until the user decides to stop entering coordinates. The total number of points is not predetermined.\n",
    "\n",
    "Then call the function, call it closest_points(list_of_points) and return all pairs of points that are closest to each other in distance.\n",
    "- Given two points x = [x1, x2, x3] and y = [y1, y2, y3], the distance between them is given by: sqrt((x1 - y1) ** 2 + (x2 - y2) ** 2 + (x3 - y3) ** 2)\n",
    "- For example, in the list of points [[0, 0, 0], [0.1, -0.1, 0.1], [5, -5, 5], [5, 5, 10], [10, 10, 10], [10.1, 10.1, 10.1], [20, -2, 5], [2, 20, 20] ], both ( [0, 0, 0], [0.1, -0.1, 0.1] ) and ([10, 10, 10], [10.1, 10.1, 10.1]) have the distance ≈ 0.173. \n"
   ]
  },
  {
   "cell_type": "code",
   "execution_count": 20,
   "metadata": {},
   "outputs": [
    {
     "name": "stdout",
     "output_type": "stream",
     "text": [
      "This program calculates which points are nearest in a 3-dimensional space.\n",
      "\n",
      "Enter a set of coordinates as '0,0,0' (or 'N' to finish): \n",
      "Enter a set of coordinates as '0,0,0' (or 'N' to finish): \n",
      "Enter a set of coordinates as '0,0,0' (or 'N' to finish): \n",
      "Enter a set of coordinates as '0,0,0' (or 'N' to finish): \n",
      "Enter a set of coordinates as '0,0,0' (or 'N' to finish): \n",
      "Enter a set of coordinates as '0,0,0' (or 'N' to finish): \n",
      "Enter a set of coordinates as '0,0,0' (or 'N' to finish): \n",
      "Enter a set of coordinates as '0,0,0' (or 'N' to finish): \n",
      "Enter a set of coordinates as '0,0,0' (or 'N' to finish): \n"
     ]
    },
    {
     "data": {
      "text/plain": [
       "([[[0.0, 0.0, 0.0], [0.1, -0.1, 0.1]],\n",
       "  [[10.0, 10.0, 10.0], [10.1, 10.1, 10.1]]],\n",
       " 0.173)"
      ]
     },
     "execution_count": 20,
     "metadata": {},
     "output_type": "execute_result"
    }
   ],
   "source": [
    "# Question 2\n",
    "\n",
    "def closest_points(list_of_points):\n",
    "    ''' This function calculates the distance between points in a list and returns the closest points\n",
    "\n",
    "    Parameters:\n",
    "    list_of_points (list): List of poin\n",
    "\n",
    "    Returns:\n",
    "    min_pair (list): The nearest pair(s) of coordinates\n",
    "    min_dist (float): The distance between nearest/closest pairs\n",
    "    '''\n",
    "    def calc_distance(x, y):\n",
    "        ''' This function calculates the distance between two coordinates x and y\n",
    "\n",
    "        Parameters:\n",
    "        x (list): The first set of coordinates\n",
    "        y (list): The second set of coordinates\n",
    "\n",
    "        Returns:\n",
    "        no assigned var - The calculation of distance between x and y\n",
    "        '''\n",
    "        from math import sqrt\n",
    "            \n",
    "        return round(sqrt((x[0] - y[0]) ** 2 + (x[1] - y[1]) ** 2 + (x[2] - y[2]) ** 2), 3)\n",
    "\n",
    "    min_pair = []\n",
    "\n",
    "    for index in range(-1, (len(list_of_points) - 1)):\n",
    "\n",
    "        if min_pair != []:\n",
    "            x = list_of_points[index]\n",
    "            y = list_of_points[index + 1]\n",
    "\n",
    "            current_pair = [x, y]\n",
    "            current_dist = calc_distance(x, y)\n",
    "\n",
    "            if current_dist < min_dist:\n",
    "                min_pair = [current_pair]\n",
    "                min_dist = current_dist\n",
    "            elif current_dist == min_dist:\n",
    "                min_pair += [current_pair]\n",
    "            else:\n",
    "                continue\n",
    "        else:\n",
    "            x = list_of_points[0]\n",
    "            y = list_of_points[(len(list_of_points) - 1)]\n",
    "            \n",
    "            min_pair = [x, y]\n",
    "            min_dist = calc_distance(x, y)\n",
    "\n",
    "    return min_pair, min_dist\n",
    "\n",
    "list_of_points = []\n",
    "\n",
    "print(\"This program calculates which points are nearest in a 3-dimensional space.\\n\")\n",
    "\n",
    "# Create loop prompting user to enter coordinates until they are done\n",
    "while True:\n",
    "    \n",
    "    user_input = input(print(\"Enter a set of coordinates as '0,0,0' (or 'N' to finish): \"))\n",
    "    \n",
    "    # Split vals based on the commas and append to the list of points\n",
    "    if user_input != 'N':\n",
    "        list_of_points.append([float(i) for i in user_input.split(',')])\n",
    "    \n",
    "    # Break out of loop\n",
    "    else:\n",
    "        break\n",
    "\n",
    "closest_points(list_of_points)"
   ]
  },
  {
   "cell_type": "code",
   "execution_count": 19,
   "metadata": {},
   "outputs": [
    {
     "name": "stdout",
     "output_type": "stream",
     "text": [
      "\n",
      "Closest pair(s):\n",
      "[[0, 0, 0], [0.1, -0.1, 0.1]]\n",
      "[[10, 10, 10], [10.1, 10.1, 10.1]]\n",
      "\n",
      "Distance:\t0.173\n"
     ]
    }
   ],
   "source": [
    "sample_list = [[0, 0, 0], [0.1, -0.1, 0.1], [5, -5, 5],\n",
    "               [5, 5, 10], [10, 10, 10], [10.1, 10.1, 10.1],\n",
    "               [20, -2, 5], [2, 20, 20]]\n",
    "\n",
    "pairs, distance = closest_points(sample_list)\n",
    "\n",
    "print(\"\\nClosest pair(s):\")\n",
    "for pair in pairs:\n",
    "    print(pair)\n",
    "print(f\"\\nDistance:\\t{distance}\")\n"
   ]
  },
  {
   "cell_type": "markdown",
   "metadata": {},
   "source": [
    "### 3. Bank Loans\n",
    "\n",
    "Banks lend money to each other. In tough economic times, if a bank goes bankrupt, it may not be able to pay back the loan. A bank’s total assets are its current balance plus its loans to other banks. The diagram in the figure below shows five banks. The banks’ current balances are 25, 125, 175, 75, and 181 million dollars. The arrow from Bank 1 to Bank 2 indicates that Bank 1 lends 40 million dollars to Bank 2. \n",
    "\n",
    "If a bank’s total assets are under a certain limit, the bank is unsafe. The money it borrowed cannot be returned to the lender, and the lender cannot count the loan in its total assets. Consequently, the lender may also be unsafe if its total assets are under the limit."
   ]
  },
  {
   "cell_type": "markdown",
   "metadata": {},
   "source": [
    "Write a program to find all unsafe banks. Your program should read the user input as follows. It first requests two integers n and limit, where n indicates the number of banks and limit is the minimum total assets for keeping a bank safe.\n",
    "\n",
    "It then sequentially reads n lines (given by the user) that describe the information for n banks with ids from 0 to n-1. The first number in the line is the bank’s balance, the second number indicates the number of banks that borrowed money from the bank, and the rest are tuples containing pairs of numbers. Each pair describes a borrower. The first number in the pair is the borrower’s id and the second is the amount borrowed. \n",
    "\n",
    "For example, the information for the five banks in the figure should be stored as follows (assume limit = $201 million): [ [5, 201], [25, 2, (1,100.5), (4,320.5)], [125, 2, (2, 40), (3, 85)], [175, 2, (0, 125), (3, 75)], [75, 1, (0, 125)], [181, 1, (2,125)], ] \n",
    "\n",
    "Write a function that, given a list of the form above, finds all the unsafe banks. For example, using the above data:\n",
    "- The total assets of Bank 3 are (75+125) which is less than 201, so Bank 3 is declared “unsafe,” which means that it will probably not be able to pay back its lenders.\n",
    "- This now renders Bank 1 unsafe as well, since it can no longer rely on Bank 3 to repay the $85 million. This means, its total assets are, effectively, only (125+40) which is also less than 201. So, your function should output: Unsafe Banks are 3 1.\n",
    "\n",
    "Hint: Once a Bank i becomes “unsafe,” the 2nd coordinated in all tuples whose first coordinate is i, should be made 0, because Bank i can no longer reliably pay the amount it borrowed."
   ]
  },
  {
   "cell_type": "code",
   "execution_count": null,
   "metadata": {},
   "outputs": [
    {
     "name": "stdout",
     "output_type": "stream",
     "text": [
      "Please enter the number of banks: \n",
      "Please enter the minimum total asset limit: \n",
      "\n",
      "Enter the balance of Bank 0: \n",
      "Enter the number of banks that borrowed from Bank 0: \n",
      "\tEnter the ID of the borrowing bank: \n",
      "\tEnter the amount borrowed: \n",
      "\tEnter the ID of the borrowing bank: \n",
      "\tEnter the amount borrowed: \n",
      "\n",
      "Enter the balance of Bank 1: \n",
      "Enter the number of banks that borrowed from Bank 1: \n",
      "\tEnter the ID of the borrowing bank: \n",
      "\tEnter the amount borrowed: \n",
      "\tEnter the ID of the borrowing bank: \n",
      "\tEnter the amount borrowed: \n",
      "\n",
      "Enter the balance of Bank 2: \n",
      "Enter the number of banks that borrowed from Bank 2: \n",
      "\tEnter the ID of the borrowing bank: \n",
      "\tEnter the amount borrowed: \n",
      "\tEnter the ID of the borrowing bank: \n",
      "\tEnter the amount borrowed: \n",
      "\n",
      "Enter the balance of Bank 3: \n",
      "Enter the number of banks that borrowed from Bank 3: \n",
      "\tEnter the ID of the borrowing bank: \n",
      "\tEnter the amount borrowed: \n",
      "\n",
      "Enter the balance of Bank 4: \n",
      "Enter the number of banks that borrowed from Bank 4: \n",
      "\tEnter the ID of the borrowing bank: \n",
      "\tEnter the amount borrowed: \n",
      "\n",
      "Unsafe Banks are 3 1 \n"
     ]
    }
   ],
   "source": [
    "# Question 3\n",
    "\n",
    "def unsafeBanks(bank_list, safe_banks):\n",
    "    \n",
    "    limit = banks[0][1]\n",
    "    risks_found = 0\n",
    "\n",
    "    for bankID, bank in enumerate(banks[1:]):\n",
    "        assets = bank[0]\n",
    "\n",
    "        for loan in bank[2:]:   # Add up all assets\n",
    "            assets += loan[1]\n",
    "        \n",
    "        if assets < limit and bankID in safe_banks:\n",
    "            safe_banks.remove(bankID)\n",
    "            unsafe = str(bankID)\n",
    "\n",
    "            for i, subbank in enumerate(banks[1:]):\n",
    "                for j, subloan in enumerate(subbank[2:]):\n",
    "                    if subloan[0] == bankID:\n",
    "                        banks[i + 1][j + 2] = (bankID, 0)\n",
    "                        risks_found += 1\n",
    "    \n",
    "    # Base case\n",
    "    if risks_found == 0:\n",
    "        return \"\"\n",
    "\n",
    "    # Recursive case to check list of banks again for risk\n",
    "    else:\n",
    "        unsafe += \" \" + str(unsafeBanks(banks, safe_banks))\n",
    "        return unsafe\n",
    "\n",
    "n = int(input(print(\"Please enter the number of banks: \")))\n",
    "limit = int(input(print(\"Please enter the minimum total asset limit: \")))\n",
    "\n",
    "banks = [[n, limit]]\n",
    "\n",
    "for i in range(n):\n",
    "    balance = int(input(print(f\"\\nEnter the balance of Bank {i}: \")))\n",
    "    num_borrowers = int(input(print(f\"Enter the number of banks that borrowed from Bank {i}: \")))\n",
    "    \n",
    "    bank = [balance, num_borrowers]\n",
    "    \n",
    "    for i in range(num_borrowers):\n",
    "        borrower = int(input(print(\"\\tEnter the ID of the borrowing bank: \")))\n",
    "        borrow_bal = float(input(print(\"\\tEnter the amount borrowed: \")))\n",
    "        \n",
    "        bank.append(tuple([borrower, borrow_bal]))\n",
    "\n",
    "    banks.append(bank)\n",
    "\n",
    "safe_banks = list(range(len(banks[1:])))\n",
    "unsafe_banks = ''\n",
    "unsafe_banks += str(unsafeBanks(banks, safe_banks))\n",
    "\n",
    "print(f\"\\nUnsafe Banks are {unsafe_banks}\")\n"
   ]
  }
 ],
 "metadata": {
  "kernelspec": {
   "display_name": "Python 3",
   "language": "python",
   "name": "python3"
  },
  "language_info": {
   "codemirror_mode": {
    "name": "ipython",
    "version": 3
   },
   "file_extension": ".py",
   "mimetype": "text/x-python",
   "name": "python",
   "nbconvert_exporter": "python",
   "pygments_lexer": "ipython3",
   "version": "3.12.5"
  }
 },
 "nbformat": 4,
 "nbformat_minor": 2
}
