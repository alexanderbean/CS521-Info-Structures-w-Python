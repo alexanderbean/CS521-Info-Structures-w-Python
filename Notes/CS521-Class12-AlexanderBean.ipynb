{
 "cells": [
  {
   "cell_type": "markdown",
   "metadata": {},
   "source": [
    "# CS521 - Class #12 - 11/21/24"
   ]
  },
  {
   "cell_type": "markdown",
   "metadata": {},
   "source": [
    "Main Topics\n",
    "1. Reading from a file\n",
    "2. Writing to a file\n",
    "3. File paths"
   ]
  },
  {
   "cell_type": "markdown",
   "metadata": {},
   "source": [
    "### Reading from a File\n",
    "\n",
    "- How to open an existing file\n",
    "    - The open() method returns a File object\n",
    "- Read the contents of a file\n",
    "    - Store them in a variable\n",
    "    - Print and manipualte the contents\n",
    "- Do not forget to CLOSE the file when you are done working on it\n",
    "- The \"\\n\" escape sequence"
   ]
  },
  {
   "cell_type": "code",
   "execution_count": 2,
   "metadata": {},
   "outputs": [],
   "source": [
    "my_file = open(\"C:/Users/student/OneDrive - Bryant University/Desktop/BOSTON UNIVERSITY/Y1S1/CS521 - Info Structures w Python/testfile.txt\")"
   ]
  },
  {
   "cell_type": "code",
   "execution_count": 3,
   "metadata": {},
   "outputs": [
    {
     "name": "stdout",
     "output_type": "stream",
     "text": [
      "Here is the test file.\n"
     ]
    }
   ],
   "source": [
    "contents_of_file = my_file.read()\n",
    "\n",
    "print(contents_of_file)"
   ]
  },
  {
   "cell_type": "code",
   "execution_count": 5,
   "metadata": {},
   "outputs": [
    {
     "name": "stdout",
     "output_type": "stream",
     "text": [
      "<class 'str'>\n"
     ]
    }
   ],
   "source": [
    "#print(type(my_file))\n",
    "print(type(contents_of_file))"
   ]
  },
  {
   "cell_type": "code",
   "execution_count": 6,
   "metadata": {},
   "outputs": [],
   "source": [
    "my_file.close()"
   ]
  },
  {
   "cell_type": "markdown",
   "metadata": {},
   "source": [
    "Using the \"with\" statement\n",
    "- The \"with\" statement in Python is commonly used for file input-output operations because it simplifies resource management.\n",
    "- When used with file I/O, it ensures that files are properly opened and closed, even if an error occurs while the file is being processed.\n",
    "- By using \"with\", you don't need to explicitly close the file, as Python automatically handles it when the code block within the \"with\" statement ends."
   ]
  },
  {
   "cell_type": "code",
   "execution_count": 19,
   "metadata": {},
   "outputs": [
    {
     "name": "stdout",
     "output_type": "stream",
     "text": [
      "Here is the test file.\n",
      "This is the second line.\n"
     ]
    }
   ],
   "source": [
    "filepath = \"C:/Users/student/OneDrive - Bryant University/Desktop/BOSTON UNIVERSITY/Y1S1/CS521 - Info Structures w Python/testfile.txt\"\n",
    "\n",
    "with open(filepath) as my_file:\n",
    "    contents_of_file = my_file.read()\n",
    "    print(contents_of_file)"
   ]
  },
  {
   "cell_type": "markdown",
   "metadata": {},
   "source": [
    "Enclosing all of your file I/O within a code block specified by the \"with\" statement is generally safer"
   ]
  },
  {
   "cell_type": "code",
   "execution_count": 20,
   "metadata": {},
   "outputs": [
    {
     "name": "stdout",
     "output_type": "stream",
     "text": [
      "Here is the test file.\n",
      "This is the second line.\n",
      "['Here', 'is', 'the', 'test', 'file.', 'This', 'is', 'the', 'second', 'line.']\n"
     ]
    }
   ],
   "source": [
    "filepath = \"C:/Users/student/OneDrive - Bryant University/Desktop/BOSTON UNIVERSITY/Y1S1/CS521 - Info Structures w Python/testfile.txt\"\n",
    "\n",
    "with open(filepath) as my_file:\n",
    "    contents_of_file = my_file.read()\n",
    "    print(contents_of_file)\n",
    "    contents_list = contents_of_file.split()\n",
    "\n",
    "print(contents_list)"
   ]
  },
  {
   "cell_type": "markdown",
   "metadata": {},
   "source": [
    "### Writing to a File\n",
    "\n",
    "- Writing to a file: if mode=w is not specified, error\n",
    "- Always specify mode of opening\n",
    "- Difference between writing and appending\n",
    "    - Where does the new text get appended?\n",
    "- Writing to nonexistent files\n",
    "    - This can become an issue, especially if you have misspelled the target file where you actually wanted to store your data\n",
    "\n",
    "The mode parameter:\n",
    "- \"R\" = Read\n",
    "- \"W\" = Write\n",
    "- \"A\" = Append"
   ]
  },
  {
   "cell_type": "code",
   "execution_count": 25,
   "metadata": {},
   "outputs": [],
   "source": [
    "filepath = \"C:/Users/student/OneDrive - Bryant University/Desktop/BOSTON UNIVERSITY/Y1S1/CS521 - Info Structures w Python/testfile.txt\"\n",
    "my_String = \"All content has been replaced with this message!\"\n",
    "\n",
    "\n",
    "with open(filepath, mode=\"w\") as my_file:\n",
    "    my_file.write(my_String)"
   ]
  },
  {
   "cell_type": "code",
   "execution_count": 26,
   "metadata": {},
   "outputs": [],
   "source": [
    "filepath = \"C:/Users/student/OneDrive - Bryant University/Desktop/BOSTON UNIVERSITY/Y1S1/CS521 - Info Structures w Python/testfile.txt\"\n",
    "my_String = \"\\nHere is an appended message.\"\n",
    "\n",
    "\n",
    "with open(filepath, mode=\"a\") as my_file:\n",
    "    my_file.write(my_String)"
   ]
  },
  {
   "cell_type": "markdown",
   "metadata": {},
   "source": [
    "The eval() method\n",
    "\n",
    "- Built in method\n",
    "- Evaluates ANY valid Python expression given to it as a string\n",
    "- NEVER LET USER INPUTS TO BE PASSED INTO AN EVAL()\n",
    "    - Can be used maliciously"
   ]
  },
  {
   "cell_type": "code",
   "execution_count": 32,
   "metadata": {},
   "outputs": [
    {
     "name": "stdout",
     "output_type": "stream",
     "text": [
      "<class 'str'>\n"
     ]
    },
    {
     "data": {
      "text/plain": [
       "1"
      ]
     },
     "execution_count": 32,
     "metadata": {},
     "output_type": "execute_result"
    }
   ],
   "source": [
    "mydict = str({\"A\": 1, \"B\": 2, \"C\": 3})\n",
    "\n",
    "print(type(mydict))\n",
    "\n",
    "str2dict = eval(mydict)\n",
    "\n",
    "str2dict[\"A\"]"
   ]
  },
  {
   "cell_type": "code",
   "execution_count": 35,
   "metadata": {},
   "outputs": [
    {
     "data": {
      "text/plain": [
       "2.6"
      ]
     },
     "execution_count": 35,
     "metadata": {},
     "output_type": "execute_result"
    }
   ],
   "source": [
    "eval(\"1 + 2.2 - .6\")"
   ]
  },
  {
   "cell_type": "code",
   "execution_count": 36,
   "metadata": {},
   "outputs": [
    {
     "data": {
      "text/plain": [
       "[0, 1, 4, 9, 16]"
      ]
     },
     "execution_count": 36,
     "metadata": {},
     "output_type": "execute_result"
    }
   ],
   "source": [
    "eval(\"[i**2 for i in range(0,5)]\")"
   ]
  },
  {
   "cell_type": "markdown",
   "metadata": {},
   "source": [
    "### File Paths\n",
    "\n",
    "- Two of the most common errors with using files are:\n",
    "    1. Misspecifying the filename\n",
    "    2. Including the wrong file path (if the file is not in the directory)\n",
    "- Two types of file paths: absolute and relative\n",
    "    - We will only deal with absolute paths here\n",
    "- Two ways to find the directory where your notebook is located\n",
    "    1. Using \"pwd\" to print the working directory (hence the name)\n",
    "    2. Using \"getcwd()\" method from the \"os\" package to print the current working directory"
   ]
  },
  {
   "cell_type": "code",
   "execution_count": 43,
   "metadata": {},
   "outputs": [
    {
     "data": {
      "text/plain": [
       "'C:\\\\Users\\\\student\\\\AppData\\\\Local\\\\Programs\\\\Microsoft VS Code'"
      ]
     },
     "execution_count": 43,
     "metadata": {},
     "output_type": "execute_result"
    }
   ],
   "source": [
    "pwd"
   ]
  },
  {
   "cell_type": "code",
   "execution_count": 2,
   "metadata": {},
   "outputs": [
    {
     "data": {
      "text/plain": [
       "'C:\\\\Users\\\\student\\\\AppData\\\\Local\\\\Programs\\\\Microsoft VS Code'"
      ]
     },
     "execution_count": 2,
     "metadata": {},
     "output_type": "execute_result"
    }
   ],
   "source": [
    "from os import getcwd\n",
    "\n",
    "getcwd()"
   ]
  }
 ],
 "metadata": {
  "kernelspec": {
   "display_name": "Python 3",
   "language": "python",
   "name": "python3"
  },
  "language_info": {
   "codemirror_mode": {
    "name": "ipython",
    "version": 3
   },
   "file_extension": ".py",
   "mimetype": "text/x-python",
   "name": "python",
   "nbconvert_exporter": "python",
   "pygments_lexer": "ipython3",
   "version": "3.12.5"
  }
 },
 "nbformat": 4,
 "nbformat_minor": 2
}
