{
 "cells": [
  {
   "cell_type": "markdown",
   "metadata": {},
   "source": [
    "# CS521 - Homework 4 - Alexander Bean"
   ]
  },
  {
   "cell_type": "markdown",
   "metadata": {},
   "source": [
    "### 1. List Comprehension with Multiple Conditions\n",
    "\n",
    "Use list comprehension to generate a list of all numbers from 1 to 1000 that are either divisible by 3 or end with the digit 7.\n",
    "\n",
    "The solution should not use any loops or additional libraries. The output should be a list of the form:\n",
    "- [3, 6, 7, 9, 12, 15, 17, 18, 21, 24, 27, …, 993, 996, 997]"
   ]
  },
  {
   "cell_type": "code",
   "execution_count": 40,
   "metadata": {},
   "outputs": [
    {
     "name": "stdout",
     "output_type": "stream",
     "text": [
      "[3, 6, 7, 9, 12, 15, 17, 18, 21, 24, 27, 30, 33, 36, 37, 39, 42, 45, 47, 48, 51, 54, 57, 60, 63, 66, 67, 69, 72, 75, 77, 78, 81, 84, 87, 90, 93, 96, 97, 99, 102, 105, 107, 108, 111, 114, 117, 120, 123, 126, 127, 129, 132, 135, 137, 138, 141, 144, 147, 150, 153, 156, 157, 159, 162, 165, 167, 168, 171, 174, 177, 180, 183, 186, 187, 189, 192, 195, 197, 198, 201, 204, 207, 210, 213, 216, 217, 219, 222, 225, 227, 228, 231, 234, 237, 240, 243, 246, 247, 249, 252, 255, 257, 258, 261, 264, 267, 270, 273, 276, 277, 279, 282, 285, 287, 288, 291, 294, 297, 300, 303, 306, 307, 309, 312, 315, 317, 318, 321, 324, 327, 330, 333, 336, 337, 339, 342, 345, 347, 348, 351, 354, 357, 360, 363, 366, 367, 369, 372, 375, 377, 378, 381, 384, 387, 390, 393, 396, 397, 399, 402, 405, 407, 408, 411, 414, 417, 420, 423, 426, 427, 429, 432, 435, 437, 438, 441, 444, 447, 450, 453, 456, 457, 459, 462, 465, 467, 468, 471, 474, 477, 480, 483, 486, 487, 489, 492, 495, 497, 498, 501, 504, 507, 510, 513, 516, 517, 519, 522, 525, 527, 528, 531, 534, 537, 540, 543, 546, 547, 549, 552, 555, 557, 558, 561, 564, 567, 570, 573, 576, 577, 579, 582, 585, 587, 588, 591, 594, 597, 600, 603, 606, 607, 609, 612, 615, 617, 618, 621, 624, 627, 630, 633, 636, 637, 639, 642, 645, 647, 648, 651, 654, 657, 660, 663, 666, 667, 669, 672, 675, 677, 678, 681, 684, 687, 690, 693, 696, 697, 699, 702, 705, 707, 708, 711, 714, 717, 720, 723, 726, 727, 729, 732, 735, 737, 738, 741, 744, 747, 750, 753, 756, 757, 759, 762, 765, 767, 768, 771, 774, 777, 780, 783, 786, 787, 789, 792, 795, 797, 798, 801, 804, 807, 810, 813, 816, 817, 819, 822, 825, 827, 828, 831, 834, 837, 840, 843, 846, 847, 849, 852, 855, 857, 858, 861, 864, 867, 870, 873, 876, 877, 879, 882, 885, 887, 888, 891, 894, 897, 900, 903, 906, 907, 909, 912, 915, 917, 918, 921, 924, 927, 930, 933, 936, 937, 939, 942, 945, 947, 948, 951, 954, 957, 960, 963, 966, 967, 969, 972, 975, 977, 978, 981, 984, 987, 990, 993, 996, 997, 999]\n"
     ]
    }
   ],
   "source": [
    "list = [num for num in range(1, 1001) if num % 3 == 0 or str(num)[len(str(num))-1::] == '7']\n",
    "\n",
    "print(list)"
   ]
  },
  {
   "cell_type": "markdown",
   "metadata": {},
   "source": [
    "### 2. Nested List Comprehension\n",
    "\n",
    "Nested List Comprehension is a technique in Python that allows you to generate nested lists (lists of lists) or process elements from nested lists in a concise and readable way. It essentially involves placing one list comprehension inside another.\n",
    "\n",
    "The general form of nested list comprehension is: [expression for item in outer_iterable for item2 in inner_iterable] Using nested list comprehension transpose (i.e., swap the rows and columns of) a given matrix.\n",
    "\n",
    "For example, if the input is\n",
    "- matrix = [\n",
    "- [1, 2, 3],\n",
    "- [4, 5, 6],\n",
    "- [7, 8, 9],\n",
    "- [10, 11, 12] ]\n",
    "\n",
    "...the output should be\n",
    "- transposed_matrix = [\n",
    "- [1, 4, 7, 10],\n",
    "- [2, 5, 8, 11],\n",
    "- [3, 6, 9, 12] ] "
   ]
  },
  {
   "cell_type": "code",
   "execution_count": 41,
   "metadata": {},
   "outputs": [
    {
     "name": "stdout",
     "output_type": "stream",
     "text": [
      "Original:\t [[1, 2, 3], [4, 5, 6], [7, 8, 9], [10, 11, 12]] \n",
      "Transposed:\t [[1, 4, 7, 10], [2, 5, 8, 11], [3, 6, 9, 12]]\n"
     ]
    }
   ],
   "source": [
    "matrix = [ [1, 2, 3], [4, 5, 6], [7, 8, 9], [10, 11, 12] ]\n",
    "\n",
    "transposed_matrix = [[list[index] for list in matrix] for index in range(len(matrix[0]))]\n",
    "\n",
    "print(\"Original:\\t\", matrix,\n",
    "      \"\\nTransposed:\\t\", transposed_matrix)"
   ]
  },
  {
   "cell_type": "markdown",
   "metadata": {},
   "source": [
    "### 3. Nested List Comprehension (Cont.)\n",
    "\n",
    "Write a program that uses nested list comprehension to “flatten” a give matrix, i.e., convert a nested list into a 1D list.\n",
    "\n",
    "For example, if the input is:\n",
    "- matrix = [\n",
    "- [1, 2, 3],\n",
    "- [4, 5, 6],\n",
    "- [7, 8, 9] ]\n",
    "\n",
    "...the program should output:\n",
    "- flattened_matrix = [1,2,3,4,5,6,7,8,9]"
   ]
  },
  {
   "cell_type": "code",
   "execution_count": 2,
   "metadata": {},
   "outputs": [
    {
     "name": "stdout",
     "output_type": "stream",
     "text": [
      "Original:\t [[1, 2, 3], [4, 5, 6], [7, 8, 9]] \n",
      "Flattened:\t [1, 2, 3, 4, 5, 6, 7, 8, 9]\n"
     ]
    }
   ],
   "source": [
    "matrix = [ [1, 2, 3], [4, 5, 6], [7, 8, 9] ]\n",
    "\n",
    "flattened_matrix = [list[index] for list in matrix for index in range(len(matrix[0]))]\n",
    "\n",
    "print(\"Original:\\t\", matrix,\n",
    "      \"\\nFlattened:\\t\", flattened_matrix)"
   ]
  },
  {
   "cell_type": "markdown",
   "metadata": {},
   "source": [
    "### 4. Dictionary Comprehension\n",
    "\n",
    "Given a string, use dictionary comprehension to create a frequency dictionary where the keys are characters and the values are the counts of how many times each character appears in the string.\n",
    "\n",
    "Example:\n",
    "- input: string = \"supercalifragilisticexpialidocious\"\n",
    "- Output: {'s': 3, 'u': 2, 'p': 2, 'e': 2, 'r': 2, 'c': 2, 'a': 2, 'l': 3, 'i': 7, 'f': 1, 'g': 1, 't': 1, 'x': 1, 'o': 2, 'd': 1}\n",
    "\n",
    "Hints:\n",
    "- What is the difference between a string and a set? How does one convert a string to a set?\n",
    "- What does the string method .count() return? "
   ]
  },
  {
   "cell_type": "code",
   "execution_count": 43,
   "metadata": {},
   "outputs": [
    {
     "name": "stdout",
     "output_type": "stream",
     "text": [
      "Input:\t supercalifragilisticexpialidocious \n",
      "Output:\t {'s': 3, 'u': 2, 'p': 2, 'e': 2, 'r': 2, 'c': 3, 'a': 3, 'l': 3, 'i': 7, 'f': 1, 'g': 1, 't': 1, 'x': 1, 'd': 1, 'o': 2}\n"
     ]
    }
   ],
   "source": [
    "string = \"supercalifragilisticexpialidocious\"\n",
    "\n",
    "dict = {char:string.count(char) for char in string}\n",
    "\n",
    "print(\"Input:\\t\", string,\n",
    "      \"\\nOutput:\\t\", dict)"
   ]
  },
  {
   "cell_type": "markdown",
   "metadata": {},
   "source": [
    "### 5. Search Algorithms\n",
    "\n",
    "Search algorithms are a fundamental concept in computer science, used to locate a specific element or set of elements in a collection of data. These collections can be unsorted or sorted arrays, trees, graphs, or databases. The goal of search algorithms is to find a target element with minimal computational effort, often measured by time complexity. In this problem, we will focus only on searching over lists (aka “arrays”). \n",
    "\n",
    "\n",
    "Consider a search algorithm that finds the position of a target value within a sorted array. The algorithm compares the target value to the middle element of the array. If they are not equal, it eliminates half of the array from consideration and continues the search in the remaining half. Implement this search algorithm.\n",
    "\n",
    "- Import the random module and use the randint() method to generate a random array of 1000 elements in the range (0, 500).\n",
    "- Sort the array in ascending order and implement the search algorithm to determine if the number 27 is in the list\n",
    "- If yes, print the location of its first occurrence. If no, print “Number not found in list\".\n",
    "\n",
    "Key Points:\n",
    "- The array must be sorted before performing the search.\n",
    "- The algorithm works by repeatedly dividing the search interval in half.\n",
    "- If the target value is equal to the middle element, the search is successful.\n",
    "- If the target value is smaller than the middle element, the search continues in the left half; otherwise, it continues in the right half. "
   ]
  },
  {
   "cell_type": "code",
   "execution_count": 618,
   "metadata": {},
   "outputs": [
    {
     "name": "stdout",
     "output_type": "stream",
     "text": [
      "Array:\t [0, 0, 0, 0, 1, 1, 2, 3, 3, 3, 5, 5, 5, 5, 5, 5, 7, 7, 7, 7, 8, 8, 10, 10, 10, 12, 12, 12, 13, 13, 13, 14, 14, 15, 15, 16, 16, 17, 17, 18, 19, 20, 20, 20, 20, 21, 23, 23, 23, 23, 23, 23, 23, 23, 23, 24, 24, 24, 25, 26, 27, 27, 27, 28, 28, 28, 29, 29, 29, 29, 29, 29, 30, 30, 30, 30, 30, 31, 31, 31, 31, 32, 33, 33, 33, 35, 36, 36, 36, 36, 37, 37, 37, 37, 39, 39, 39, 39, 39, 40, 40, 41, 42, 43, 43, 43, 44, 45, 45, 45, 46, 46, 46, 47, 47, 47, 47, 47, 48, 49, 50, 51, 54, 54, 54, 55, 55, 56, 56, 56, 57, 57, 57, 58, 58, 58, 59, 60, 61, 61, 61, 62, 62, 62, 63, 63, 63, 63, 64, 64, 65, 65, 66, 66, 67, 67, 67, 67, 68, 68, 69, 69, 69, 69, 69, 70, 70, 70, 71, 72, 73, 76, 76, 76, 77, 80, 80, 80, 81, 81, 82, 83, 84, 86, 87, 87, 87, 88, 89, 89, 89, 89, 90, 90, 90, 90, 90, 91, 92, 92, 92, 92, 93, 94, 94, 94, 94, 95, 95, 96, 96, 96, 97, 97, 97, 97, 98, 100, 100, 100, 100, 100, 101, 102, 102, 102, 102, 103, 104, 104, 105, 106, 106, 107, 107, 107, 108, 108, 108, 108, 109, 109, 110, 110, 111, 111, 111, 111, 111, 112, 112, 113, 114, 115, 115, 116, 116, 116, 117, 117, 118, 118, 119, 119, 120, 120, 120, 120, 121, 122, 123, 123, 123, 123, 125, 126, 127, 127, 128, 128, 129, 131, 131, 131, 131, 131, 131, 131, 132, 132, 132, 134, 134, 135, 136, 136, 137, 137, 137, 138, 139, 139, 139, 139, 139, 139, 140, 141, 141, 141, 142, 142, 142, 144, 144, 144, 144, 144, 144, 145, 145, 146, 146, 147, 147, 149, 149, 150, 150, 151, 151, 151, 152, 152, 153, 155, 155, 156, 156, 156, 156, 158, 158, 158, 158, 160, 160, 160, 161, 161, 161, 162, 163, 163, 164, 164, 165, 165, 165, 166, 166, 166, 167, 167, 169, 169, 171, 171, 171, 172, 173, 173, 173, 174, 174, 175, 175, 176, 176, 177, 177, 178, 178, 178, 178, 180, 181, 181, 182, 182, 182, 183, 185, 185, 185, 186, 187, 188, 191, 193, 194, 194, 194, 195, 195, 196, 196, 196, 197, 197, 199, 202, 203, 203, 204, 204, 204, 205, 205, 206, 207, 208, 208, 209, 209, 209, 209, 209, 209, 211, 211, 211, 211, 211, 212, 212, 213, 213, 213, 213, 215, 215, 216, 216, 216, 217, 217, 218, 218, 218, 218, 219, 220, 220, 221, 222, 222, 222, 222, 223, 223, 223, 225, 225, 225, 225, 226, 226, 226, 226, 226, 227, 227, 228, 228, 229, 229, 229, 229, 230, 231, 231, 231, 231, 232, 232, 232, 234, 234, 234, 237, 237, 237, 238, 238, 238, 239, 241, 241, 241, 242, 242, 242, 242, 242, 243, 244, 244, 244, 245, 246, 246, 247, 248, 248, 248, 248, 250, 250, 250, 251, 252, 252, 252, 252, 253, 253, 253, 254, 254, 254, 255, 256, 257, 257, 258, 259, 259, 259, 259, 259, 260, 260, 261, 261, 262, 262, 262, 263, 263, 263, 264, 265, 266, 269, 269, 269, 271, 271, 272, 272, 273, 273, 275, 276, 277, 278, 278, 279, 279, 280, 280, 280, 280, 280, 281, 281, 281, 281, 281, 281, 282, 282, 283, 283, 283, 283, 284, 285, 286, 287, 288, 288, 288, 289, 289, 289, 290, 290, 291, 291, 291, 291, 292, 294, 294, 294, 295, 296, 297, 297, 297, 297, 297, 298, 298, 298, 298, 298, 299, 300, 300, 300, 301, 301, 302, 302, 303, 304, 305, 305, 305, 306, 306, 306, 307, 307, 308, 308, 308, 308, 309, 310, 310, 310, 311, 311, 312, 312, 314, 314, 314, 314, 315, 315, 316, 316, 316, 316, 317, 318, 319, 321, 322, 323, 323, 324, 324, 324, 324, 324, 324, 325, 326, 326, 326, 327, 327, 328, 328, 329, 329, 330, 330, 331, 333, 333, 334, 335, 336, 337, 337, 337, 338, 338, 338, 339, 339, 340, 340, 340, 341, 342, 342, 342, 346, 347, 347, 347, 347, 348, 349, 349, 350, 350, 350, 350, 351, 351, 352, 352, 352, 352, 353, 353, 354, 354, 355, 356, 356, 356, 358, 358, 359, 359, 359, 360, 361, 361, 361, 362, 363, 364, 365, 366, 367, 367, 369, 370, 371, 371, 372, 372, 373, 373, 374, 374, 375, 375, 375, 376, 376, 377, 377, 378, 378, 379, 379, 380, 380, 380, 380, 381, 381, 384, 384, 384, 384, 384, 386, 386, 386, 386, 387, 388, 389, 389, 389, 389, 390, 390, 391, 391, 392, 392, 393, 393, 393, 393, 394, 394, 395, 396, 397, 397, 400, 400, 400, 400, 400, 401, 401, 401, 402, 403, 404, 404, 405, 405, 406, 407, 407, 407, 408, 408, 409, 409, 410, 410, 410, 410, 411, 411, 411, 413, 414, 414, 414, 414, 415, 416, 416, 416, 417, 418, 418, 420, 420, 420, 421, 421, 421, 422, 422, 422, 422, 422, 423, 424, 424, 427, 428, 428, 428, 429, 429, 429, 430, 430, 431, 431, 431, 432, 432, 433, 434, 434, 434, 435, 435, 436, 436, 436, 438, 438, 439, 439, 440, 442, 442, 442, 442, 443, 444, 445, 445, 446, 446, 446, 447, 447, 448, 448, 451, 451, 451, 452, 453, 453, 454, 454, 454, 455, 455, 455, 455, 456, 457, 458, 458, 458, 459, 460, 461, 461, 461, 461, 462, 462, 462, 463, 463, 463, 463, 464, 464, 465, 465, 465, 466, 467, 467, 468, 469, 469, 469, 470, 470, 471, 472, 472, 473, 475, 475, 475, 476, 477, 477, 477, 477, 478, 478, 478, 481, 482, 482, 484, 485, 485, 486, 486, 486, 486, 486, 487, 487, 490, 490, 490, 490, 491, 491, 492, 492, 492, 493, 494, 494, 495, 495, 496, 496, 497, 499, 499, 499, 500, 500, 500, 500] \n",
      "\n",
      "Result:\t The number 27 can be found in the list, located at index 60.\n"
     ]
    }
   ],
   "source": [
    "from random import randint\n",
    "\n",
    "# Creating random array and sort values ascending\n",
    "\n",
    "array = [randint(0, 500) for num in range(1, 1001)]\n",
    "array.sort()\n",
    "\n",
    "print(\"Array:\\t\", array, \"\\n\")\n",
    "\n",
    "# Assigning variables for the algorithm calculations & result\n",
    "\n",
    "target_num = 27\n",
    "min = 0\n",
    "max = len(array) - 1\n",
    "\n",
    "alg_result = (f\"The number {target_num} cannot be found in the list.\")\n",
    "\n",
    "# Algorithm\n",
    "\n",
    "while (min <= max):\n",
    "    search_interval = (min + max) // 2\n",
    "    if array[search_interval] == target_num:\n",
    "        max = search_interval - 1\n",
    "        alg_result = (f\"The number {array[search_interval]} can be found in the list, located at index {search_interval}.\")\n",
    "    elif target_num < array[search_interval]:\n",
    "        max = search_interval - 1\n",
    "    else:\n",
    "        min = search_interval + 1\n",
    "\n",
    "print(\"Result:\\t\", alg_result)\n"
   ]
  }
 ],
 "metadata": {
  "kernelspec": {
   "display_name": "Python 3",
   "language": "python",
   "name": "python3"
  },
  "language_info": {
   "codemirror_mode": {
    "name": "ipython",
    "version": 3
   },
   "file_extension": ".py",
   "mimetype": "text/x-python",
   "name": "python",
   "nbconvert_exporter": "python",
   "pygments_lexer": "ipython3",
   "version": "3.11.9"
  }
 },
 "nbformat": 4,
 "nbformat_minor": 2
}
