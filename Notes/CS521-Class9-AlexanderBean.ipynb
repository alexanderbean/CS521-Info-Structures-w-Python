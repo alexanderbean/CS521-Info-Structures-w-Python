{
 "cells": [
  {
   "cell_type": "markdown",
   "metadata": {},
   "source": [
    "# CS521 - Class #10 - 11/07/24"
   ]
  },
  {
   "cell_type": "markdown",
   "metadata": {},
   "source": [
    "Tic-Tac-Toe Problem\n",
    "\n",
    "- You are tasked with developing a Python program that allows two players to play a game of Tic-Tac-Toe.\n",
    "- The game will alternate between two players, displaying the board after every move.\n",
    "- The players will take turns inputting the position they wish to play on the 3x3 grid.\n",
    "- The program will ensure that no player can select a position that has already been played.\n",
    "- After every move, the program will check for a winner or a tie and display the appropriate message."
   ]
  },
  {
   "cell_type": "markdown",
   "metadata": {},
   "source": [
    "Requirements:\n",
    "\n",
    "1. **Tic-Tac-Toe Board**\n",
    "- The game should represent a 3x3 grid. The board will initially be empty, and each cell can be filled with either an 'X' or 'O', depending on which player’s turn it is.\n",
    "2. **Two Players**\n",
    "- Player 1 will be assigned 'X'.\n",
    "- Player 2 will be assigned 'O'.\n",
    "- Players alternate turns.\n",
    "3. **Input Validation**\n",
    "- On each turn, the player will enter the position where they want to place their marker (X or O).\n",
    "- Positions will be represented by numbers [1][1] to [3][3] corresponding to each of the 9 cells of the board.\n",
    "- If a player tries to play in a cell that has already been occupied, the program should prompt the player to choose a different cell.\n",
    "4. **Game Rules**\n",
    "- The program will check after each move whether a player has won the game or if there is a tie.\n",
    "- Winning: A player wins if they can place three of their markers in a horizontal, vertical, or diagonal line.\n",
    "- Tie: The game ends in a tie if all cells are filled and neither player has won.\n",
    "5. **Board Display**\n",
    "- After each move, the program should display the current state of the board.\n",
    "6. **Game End**\n",
    "- The game should end when a player wins or if there is a tie. Display a message indicating the winner or if the game ended in a tie."
   ]
  },
  {
   "cell_type": "markdown",
   "metadata": {},
   "source": [
    "Suggested Functions:\n",
    "\n",
    "1. display_board(board): Displays the current state of the game board.\n",
    "2. player_input(board) : Takes and validates input from the current player, ensuring the position is available.\n",
    "3. check_win(board, mark) : Checks whether the current player has won the game.\n",
    "4. check_tie(board) : Checks if the game is a tie (i.e., the board is full with no winner).\n",
    "5. switch_player(current_player) : Alternates between Player 1 ('X') and Player 2 ('O')."
   ]
  },
  {
   "cell_type": "markdown",
   "metadata": {},
   "source": [
    "Steps to Complete Assignment:\n",
    "\n",
    "1. Define the Board:\n",
    "- Represent the board using a 2D list (indexed from user input).\n",
    "2. Display the Board:\n",
    "- [1][1] to [3][3] for easier Write a function that will output the current state of the board after every move.\n",
    "3. Handle Player Input:\n",
    "- Write code that allows a player to input their choice of position as a pair of coordinates separated by a space (e.g. 2<space>3 ). Validate this input to ensure the player is not choosing a position that is already taken.\n",
    "4. Alternate Between Players:\n",
    "- Create a system that alternates turns between Player 1 ('X') and Player 2 ('O').\n",
    "5. Check for Winner or Tie:\n",
    "- Write functions to check whether a player has won (horizontal, vertical, diagonal win conditions) or if the game has resulted in a tie.\n",
    "6. End the Game:\n",
    "- End the game if there is a winner or a tie and display an appropriate message."
   ]
  },
  {
   "cell_type": "code",
   "execution_count": 115,
   "metadata": {},
   "outputs": [
    {
     "name": "stdout",
     "output_type": "stream",
     "text": [
      "--------------\n",
      "|   |   |   |\n",
      "--------------\n",
      "|   |   |   |\n",
      "--------------\n",
      "|   |   |   |\n",
      "--------------\n"
     ]
    }
   ],
   "source": [
    "def display_board(board):\n",
    "    print(\"--------------\") # show 14 dashes here\n",
    "    \n",
    "    for row in board:\n",
    "        print(\"|\", \" | \".join(row), \"|\")\n",
    "        print(\"--------------\") # show 14 dashes here\n",
    "    \n",
    "    # Example tic-tac-toe board\n",
    "\n",
    "tic_tac_toe_board = [[\" \", \" \", \" \"],\n",
    "                     [\" \", \" \", \" \"],\n",
    "                     [\" \", \" \", \" \"]]\n",
    "    \n",
    "display_board(tic_tac_toe_board)\n",
    "\n",
    "def player_input(board, mark):\n",
    "    \n",
    "    valid_input = False\n",
    "    \n",
    "    while not valid_input:\n",
    "        row = int(input(\"Enter the row coordinate: \")) - 1\n",
    "        col = int(input(\"Enter the column coordinate: \")) - 1\n",
    "        if board[row][col] != \" \": #If cell is NOT empty\n",
    "            print(\"This cell is taken! Please choose a different cell\")\n",
    "        else:\n",
    "            valid_input = True\n",
    "            board[row][col] = mark\n",
    "            display_board(board)\n",
    "\n",
    "def check_tie(board):\n",
    "    \n",
    "    tie = True\n",
    "    \n",
    "    for row in range(3):\n",
    "        for col in range(3):\n",
    "            if board[row][col] != \"X\" or board[row][col] != \"O\":\n",
    "                return False\n",
    "            \n",
    "    return True\n",
    "    \n",
    "def check_win(board, mark):\n",
    "\n",
    "    test_list = [mark, mark, mark]\n",
    "    somebody_won = False\n",
    "\n",
    "    # Checking rows\n",
    "    for row in board:  \n",
    "        if row == test_list:\n",
    "            return True\n",
    "        \n",
    "    # Checking columns\n",
    "    for col in range(3):\n",
    "        if [board[row][col] for row in range(3)] == test_list:\n",
    "            return True\n",
    "        \n",
    "    # Checking diagonals\n",
    "    if [board[i][i] for i in range(3)] == test_list:\n",
    "        return True\n",
    "    elif [board[i][2-i] for i in range(3)] == test_list:\n",
    "        return True\n",
    "    else:\n",
    "        return False\n",
    "    \n",
    "def switch_player(mark):\n",
    "    if mark == \"X\":\n",
    "        mark = \"O\"\n",
    "    else:\n",
    "        mark = \"X\"\n",
    "    return mark\n"
   ]
  },
  {
   "cell_type": "code",
   "execution_count": null,
   "metadata": {},
   "outputs": [],
   "source": [
    "tic_tac_toe_board = [[\" \", \" \", \" \"],\n",
    "                     [\" \", \" \", \" \"],\n",
    "                     [\" \", \" \", \" \"]]\n",
    "\n",
    "display_board(tic_tac_toe_board)\n",
    "\n",
    "somebody_won = False\n",
    "game_is_tied = False\n",
    "\n",
    "current_player = \"X\"\n",
    "\n",
    "while (not somebody_won) and (not game_is_tied):\n",
    "    player_input(tic_tac_toe_board, current_player)\n",
    "    if check_win(tic_tac_toe_board, current_player):\n",
    "        somebody_won = True\n",
    "        print(f\"\\n********** Player {current_player} WON! **********\")\n",
    "    elif check_tie(tic_tac_toe_board):\n",
    "        game_is_tied = True\n",
    "        print(f\"\\n********** The game is tied **********\")\n",
    "    current_player = switch_player(current_player)"
   ]
  }
 ],
 "metadata": {
  "kernelspec": {
   "display_name": "Python 3",
   "language": "python",
   "name": "python3"
  },
  "language_info": {
   "codemirror_mode": {
    "name": "ipython",
    "version": 3
   },
   "file_extension": ".py",
   "mimetype": "text/x-python",
   "name": "python",
   "nbconvert_exporter": "python",
   "pygments_lexer": "ipython3",
   "version": "3.12.5"
  }
 },
 "nbformat": 4,
 "nbformat_minor": 2
}
