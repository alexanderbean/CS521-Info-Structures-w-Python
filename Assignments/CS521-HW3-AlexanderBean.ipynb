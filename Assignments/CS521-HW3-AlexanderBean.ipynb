{
 "cells": [
  {
   "cell_type": "markdown",
   "metadata": {},
   "source": [
    "# CS521 - Homework 3 - Alexander Bean"
   ]
  },
  {
   "cell_type": "markdown",
   "metadata": {},
   "source": [
    "### 1. Prime or Composite?\n",
    "\n",
    "Solve problem 2.22 in the textbook. Justify why the question requires you to only check until √𝑁\n",
    "\n",
    "Write a program that checks to see if a number 𝑁 is prime. A simple approach checks all numbers from 2 up to 𝑁, but after some point numbers are checked that need not be checked. For example, numbers greater than √𝑁 need not be checked. Write a program that checks for primality and avoid those unnecessary checks. Remember to import the math module"
   ]
  },
  {
   "cell_type": "code",
   "execution_count": 3,
   "metadata": {},
   "outputs": [
    {
     "name": "stdout",
     "output_type": "stream",
     "text": [
      "The number 1 is composite.\n",
      "The number 2 is prime!\n",
      "The number 3 is prime!\n",
      "The number 4 is composite.\n",
      "The number 5 is prime!\n",
      "The number 6 is composite.\n",
      "The number 7 is prime!\n",
      "The number 8 is composite.\n",
      "The number 9 is composite.\n",
      "The number 10 is composite.\n",
      "The number 11 is prime!\n",
      "The number 12 is composite.\n",
      "The number 13 is prime!\n",
      "The number 14 is composite.\n",
      "The number 15 is composite.\n",
      "The number 16 is composite.\n",
      "The number 17 is prime!\n",
      "The number 18 is composite.\n",
      "The number 19 is prime!\n"
     ]
    }
   ],
   "source": [
    "import math\n",
    "\n",
    "input_num = list(range(1, 20))\n",
    "num_type = {0: \"composite.\", 1: \"prime!\"}\n",
    "\n",
    "for index, value in enumerate(input_num):\n",
    "    result = num_type[0]\n",
    "    if input_num[index] > 1:\n",
    "        result = num_type[1]\n",
    "        for num in range(2, int(math.sqrt(input_num[index]) + 1)):\n",
    "            if (input_num[index] % num == 0):\n",
    "                result = num_type[0]\n",
    "\n",
    "    print(f\"The number {input_num[index]} is {result}\")\n"
   ]
  },
  {
   "cell_type": "markdown",
   "metadata": {},
   "source": [
    "### 2. Nested \"For\" Loops\n",
    "\n",
    "Write a program to multiply two matrices and print their product. This article: https://en.wikipedia.org/wiki/Matrix_multiplication explains how to obtain the product of multiplying two matrices 𝐴𝑚×𝑛 and 𝐵𝑛×𝑝 "
   ]
  },
  {
   "cell_type": "code",
   "execution_count": 4,
   "metadata": {},
   "outputs": [],
   "source": [
    "# Assume that the two matrices are stored as nested lists. For example, with\n",
    "\n",
    "# A = [[1,2,0],[-1,2,1]],\n",
    "# B = [[1,2],[1,0],[-1,-2]], and\n",
    "# their product, C = AB = [[3,2],[0,-4]]  "
   ]
  },
  {
   "cell_type": "code",
   "execution_count": 5,
   "metadata": {},
   "outputs": [
    {
     "name": "stdout",
     "output_type": "stream",
     "text": [
      "\n",
      "\t Matrix A\n",
      "\t [1, 2, 0]\n",
      "\t [-1, 2, 1]\n",
      "\n",
      "\t Matrix B\n",
      "\t [1, 2]\n",
      "\t [1, 0]\n",
      "\t [-1, -2]\n",
      "\n",
      "\t Matrix C\n",
      "\t [3, 2]\n",
      "\t [1, -4]\n"
     ]
    }
   ],
   "source": [
    "# Problem 2\n",
    "\n",
    "A = [[1, 2, 0], [-1, 2, 1]]\n",
    "B = [[1, 2], [1, 0], [-1, -2]]\n",
    "\n",
    "# Matrix shape following the dot product method\n",
    "\n",
    "AB = [[0, 0], [0, 0]]\n",
    "\n",
    "for index_A, list in enumerate([A, B]):\n",
    "    for index_B, list in enumerate([A, B][index_A]):\n",
    "        for index_sub_B, item in enumerate([A, B][index_A][index_B]):\n",
    "            AB[index_A][index_B - 1] += A[index_A][index_sub_B] * B[index_sub_B][index_B - 1]\n",
    "            C = AB\n",
    "            # print(AB, \"\\n\", index_A, index_B, index_sub_B)\n",
    "\n",
    "# Formatted print statement\n",
    "\n",
    "matrices = {0: 'A', 1: 'B', 2: 'C'}\n",
    "for index, matrix in enumerate([A, B, C]):\n",
    "    print(\"\\n\\t Matrix\", matrices[index])\n",
    "    for list in matrix:\n",
    "        print(\"\\t\", list)\n"
   ]
  },
  {
   "cell_type": "markdown",
   "metadata": {},
   "source": [
    "### 3. \"For\" Loops with Enumeration\n",
    "\n",
    "Write a program that takes a square matrix and rotates it by 90 degrees.\n",
    "\n",
    "This problem should be solved with the use of nested for loops, and the enumerate() function to access the row and column indices of the elements of the matrix."
   ]
  },
  {
   "cell_type": "code",
   "execution_count": 6,
   "metadata": {},
   "outputs": [],
   "source": [
    "# Given:\n",
    "# matrix = [[1, 2, 3], [4, 5, 6], [7, 8, 9]]\n",
    "\n",
    "# the program should output:\n",
    "# rotated_matrix = [[7, 4, 1], [8, 5, 2], [9, 6, 3]]"
   ]
  },
  {
   "cell_type": "code",
   "execution_count": 7,
   "metadata": {},
   "outputs": [
    {
     "name": "stdout",
     "output_type": "stream",
     "text": [
      "\n",
      "\t Matrix 1\n",
      "\t [1, 2, 3]\n",
      "\t [4, 5, 6]\n",
      "\t [7, 8, 9]\n",
      "\n",
      "\t Matrix 2\n",
      "\t [7, 4, 1]\n",
      "\t [8, 5, 2]\n",
      "\t [9, 6, 3]\n"
     ]
    }
   ],
   "source": [
    "# Problem 3\n",
    "\n",
    "matrix = [[1, 2, 3],  [4, 5, 6],  [7, 8, 9]]\n",
    "rotated_matrix = [[],[],[]]\n",
    "\n",
    "for index in enumerate(matrix):\n",
    "    for rotated_index, val in enumerate(matrix[index[0]]):\n",
    "        rotated_matrix[rotated_index].insert(0, val)\n",
    "\n",
    "# Print statement loop utilizing the same concepts\n",
    "\n",
    "for index, matrix in enumerate([matrix, rotated_matrix]):\n",
    "    print(\"\\n\\t Matrix\", index+1)\n",
    "    for list in matrix:\n",
    "        print(\"\\t\", list)\n",
    "        "
   ]
  },
  {
   "cell_type": "markdown",
   "metadata": {},
   "source": [
    "### 4. Two Digit Squaring Loop\n",
    "\n",
    "Write a program to find all two-digit numbers such that when you square them, the resulting three-digit number has its rightmost two digits the same as the original two-digit number.\n",
    "\n",
    "That is, for a number in the form 𝐴𝐵, 𝐴𝐵 × 𝐴𝐵 = 𝐶𝐴𝐵 for some 𝐶.  "
   ]
  },
  {
   "cell_type": "code",
   "execution_count": 10,
   "metadata": {},
   "outputs": [
    {
     "name": "stdout",
     "output_type": "stream",
     "text": [
      "Where:\n",
      "AB * AB = CAB\n",
      "---Results---\n",
      "\n",
      "25 * 25 = 625\n"
     ]
    }
   ],
   "source": [
    "# Problem 4\n",
    "\n",
    "import math\n",
    "\n",
    "min = 10\n",
    "max = int(math.sqrt(1000))\n",
    "\n",
    "num_list = range(min, max)\n",
    "\n",
    "print(\"Where:\\nAB * AB = CAB\\n---Results---\\n\")\n",
    "\n",
    "for num in num_list:\n",
    "    two_digit = str(num)\n",
    "    three_digit = str(int(two_digit) ** 2)\n",
    "\n",
    "    if two_digit[0] == three_digit[1] and two_digit[1] == three_digit[2]:\n",
    "        print(f\"{two_digit} * {two_digit} = {three_digit}\")\n"
   ]
  },
  {
   "cell_type": "markdown",
   "metadata": {},
   "source": [
    "### 5. Decimal to Binary Conversion\n",
    "\n",
    "We are going to do some conversions, from integer to binary and then from binary back to integer. It will give us a chance to play with if-elif-else and while statements, as well as a little string slicing.\n",
    "\n",
    "You prompt the user for an integer, convert the integer to a binary number string (there is no type for actual binary numbers so we just represent it as a string). Then take the string and turn it back into a regular integer.\n",
    "\n",
    "Things to remember:\n",
    "1. If the integer is 0, then we are done since conversion back and forth of 0 is still 0. The program simply prints a note saying it is 0 and quits.\n",
    "2. If the integer is negative, then we probably don’t know how to do it, so the program prints a message saying it is negative and quits.\n",
    "3. Otherwise, we do the conversion of the integer to a binary string (a string of 1’s and 0’s) and then convert that same string back to an integer to make sure we did it right. "
   ]
  },
  {
   "cell_type": "code",
   "execution_count": 16,
   "metadata": {},
   "outputs": [
    {
     "name": "stdout",
     "output_type": "stream",
     "text": [
      "\n",
      "The number entered is:\t0\n",
      "Converted to binary:\t00000000\n",
      "Converted back to int:\t0\n",
      "\n",
      "The number entered is:\t256\n",
      "The number cannot be converted, as it is larger than 255.\n",
      "\n",
      "The number entered is:\t-5\n",
      "The number cannot be converted, as it is a negative number.\n",
      "\n",
      "The number entered is:\t156\n",
      "Converted to binary:\t10011100\n",
      "Converted back to int:\t156\n"
     ]
    }
   ],
   "source": [
    "# Problem 5\n",
    "\n",
    "num_list = [0, 256, -5, 156]\n",
    "\n",
    "for int_num in num_list:\n",
    "    print(f\"\\nThe number entered is:\\t{int_num}\")\n",
    "\n",
    "    if int_num == 0:\n",
    "        print(f\"Converted to binary:\\t00000000\")\n",
    "        print(f\"Converted back to int:\\t{int_num}\")\n",
    "    elif int_num > 255:\n",
    "        print(f\"The number cannot be converted, as it is larger than 255.\")\n",
    "    elif int_num < 0:\n",
    "        print(f\"The number cannot be converted, as it is a negative number.\")\n",
    "    else:\n",
    "        bin_num = ''\n",
    "        while int_num > 0:\n",
    "            bin_num += str(int_num % 2)\n",
    "            int_num = int(int_num / 2)\n",
    "        bin_num = bin_num[::-1].zfill(8)\n",
    "        print(f\"Converted to binary:\\t{bin_num}\")\n",
    "\n",
    "        # Convert back into integer\n",
    "\n",
    "        int_num = 0\n",
    "        bin_num = bin_num[::-1]\n",
    "        for index, value in enumerate(bin_num):\n",
    "            int_num += int(bin_num[index]) * (2 ** index)\n",
    "        print(f\"Converted back to int:\\t{int_num}\")\n"
   ]
  }
 ],
 "metadata": {
  "kernelspec": {
   "display_name": "Python 3",
   "language": "python",
   "name": "python3"
  },
  "language_info": {
   "codemirror_mode": {
    "name": "ipython",
    "version": 3
   },
   "file_extension": ".py",
   "mimetype": "text/x-python",
   "name": "python",
   "nbconvert_exporter": "python",
   "pygments_lexer": "ipython3",
   "version": "3.11.9"
  }
 },
 "nbformat": 4,
 "nbformat_minor": 2
}
