{
 "cells": [
  {
   "cell_type": "markdown",
   "metadata": {},
   "source": [
    "# CS521 - Homework 7 - Alexander Bean"
   ]
  },
  {
   "cell_type": "markdown",
   "metadata": {},
   "source": [
    "### A. Caesar Cipher\n",
    "\n",
    "Solve the Caesar cipher problem defined in the “CS521_Caesar_Cipher_question.pdf” document under Class 8 materials. Try to first solve the problem without using the hint at the end of the PDF."
   ]
  },
  {
   "cell_type": "code",
   "execution_count": 1,
   "metadata": {},
   "outputs": [],
   "source": [
    "# Question 1"
   ]
  },
  {
   "cell_type": "markdown",
   "metadata": {},
   "source": [
    "### B. The Birthday Party Problem\n",
    "\n",
    "Complete the birthday party problem discussed in class. The details of the problem definitions can be found in the notebook birthday_party_problem_STARTER_CODE.ipynb"
   ]
  },
  {
   "cell_type": "code",
   "execution_count": null,
   "metadata": {},
   "outputs": [],
   "source": [
    "# Question 2"
   ]
  },
  {
   "cell_type": "markdown",
   "metadata": {},
   "source": [
    "### C. The any() and all() functions"
   ]
  },
  {
   "cell_type": "code",
   "execution_count": 24,
   "metadata": {},
   "outputs": [
    {
     "name": "stdout",
     "output_type": "stream",
     "text": [
      "True\n",
      "False\n"
     ]
    }
   ],
   "source": [
    "# 1. Given a list of integers, check if all elements are non-negative.\n",
    "\n",
    "num_list = [3, 2, 1, 0]                     # All are non-negative\n",
    "print(all([num >= 0 for num in num_list]))  # Returns True\n",
    "\n",
    "num_list = [3, 2, 1, 0, -1]                 # There is a negative\n",
    "print(all([num >= 0 for num in num_list]))  # Returns False\n"
   ]
  },
  {
   "cell_type": "code",
   "execution_count": 23,
   "metadata": {},
   "outputs": [
    {
     "name": "stdout",
     "output_type": "stream",
     "text": [
      "False\n",
      "True\n"
     ]
    }
   ],
   "source": [
    "# 2. Given a list of strings, check if any string in the list is a palindrome (reads the same forwards and backwards).\n",
    "\n",
    "str_list = [\"example\", \"test\"]                              # No palindrome\n",
    "print(any([string == string[::-1] for string in str_list])) # Returns False\n",
    "\n",
    "str_list = [\"example\", \"test\", \"kayak\"]                     # 'kayak' is a palindrome\n",
    "print(any([string == string[::-1] for string in str_list])) # Returns True\n"
   ]
  },
  {
   "cell_type": "code",
   "execution_count": null,
   "metadata": {},
   "outputs": [
    {
     "name": "stdout",
     "output_type": "stream",
     "text": [
      "True\n",
      "False\n"
     ]
    }
   ],
   "source": [
    "# 3. Given a list of numbers, determine if all numbers are even.\n",
    "\n",
    "num_list = [2, 4, 6]                            # All nums are even\n",
    "print(all([num % 2 == 0 for num in num_list]))  # Returns True\n",
    "\n",
    "num_list = [2, 4, 6, 7]                         # There is an odd num\n",
    "print(all([num % 2 == 0 for num in num_list]))  # Returns False\n"
   ]
  },
  {
   "cell_type": "code",
   "execution_count": null,
   "metadata": {},
   "outputs": [
    {
     "name": "stdout",
     "output_type": "stream",
     "text": [
      "True\n",
      "False\n"
     ]
    }
   ],
   "source": [
    "# 4. Given a list of numbers and a test number, determine if the test number is in the list.\n",
    "\n",
    "num_list = [4, 6, 4, 2, 3, 6, 6, 5, 0, 3, 0, 10, 1, 1, 8, 7, 5, 10, 0, 6]\n",
    "\n",
    "test_num = 5                                        # Num in list\n",
    "print(any([num == test_num for num in num_list]))   # Returns True\n",
    "\n",
    "test_num = 25                                       # Num not in list\n",
    "print(any([num == test_num for num in num_list]))   # Returns False\n"
   ]
  },
  {
   "cell_type": "markdown",
   "metadata": {},
   "source": [
    "For the next two questions, you will have to use both the any() and the all() functions. You may want to define your own functions to use with the any() and the all() functions"
   ]
  },
  {
   "cell_type": "code",
   "execution_count": 51,
   "metadata": {},
   "outputs": [
    {
     "name": "stdout",
     "output_type": "stream",
     "text": [
      "A negative number is present in the list.\n",
      "False \n",
      "\n",
      "All positive, but no multiple of 10 is present.\n",
      "False \n",
      "\n",
      "All numbers are positive and a multiple of 10 is present.\n",
      "True\n"
     ]
    }
   ],
   "source": [
    "# 5. Given a list of integers, check if all numbers are non-negative and at least one is a multiple of 10\n",
    "\n",
    "def PositiveWithAMultOfTen(nums):\n",
    "    if all([num >= 0 for num in num_list]) == True:\n",
    "        if any([num % 10 == 0 for num in num_list]) == True:\n",
    "            print(\"All numbers are positive and a multiple of 10 is present.\")\n",
    "            return True\n",
    "        else:\n",
    "            print(\"All positive, but no multiple of 10 is present.\")\n",
    "            return False\n",
    "    else:\n",
    "        print(\"A negative number is present in the list.\")\n",
    "        return False\n",
    "\n",
    "num_list = [3, 2, 1, -1]            # There is a negative\n",
    "print(PositiveWithAMultOfTen(num_list), \"\\n\")    # Returns False\n",
    "\n",
    "num_list = [3, 2, 1]                # All positive, but no mult of 10\n",
    "print(PositiveWithAMultOfTen(num_list), \"\\n\")    # Returns False\n",
    "\n",
    "num_list = [3, 2, 1, 10]            # All positive, mult of 10 present\n",
    "print(PositiveWithAMultOfTen(num_list))    # Returns True\n",
    "\n",
    "# Using modulus (%) will incorrectly calculate negative numbers. However, this does not really matter\n",
    "# in our scenario, since the program is designed to return False if there is even a single negative number\n",
    "# in the list. So an incorrect calculation for a negative number does not impact the program at all.\n"
   ]
  },
  {
   "cell_type": "code",
   "execution_count": 56,
   "metadata": {},
   "outputs": [
    {
     "name": "stdout",
     "output_type": "stream",
     "text": [
      "Not all persons in the list are above 18.\n",
      "False \n",
      "\n",
      "All persons are above 18, but no one is above 30.\n",
      "False \n",
      "\n",
      "All persons are above 18 and at least one is above 30.\n",
      "True\n"
     ]
    }
   ],
   "source": [
    "# 6. Given a list of dictionaries where each dictionary represents a person with 'name' and 'age' keys, check if:\n",
    "# - All persons are above 18, and\n",
    "# - at least one is above 30.\n",
    "\n",
    "def Over18AtLeastOneAbove30(persons):\n",
    "    if all([person['age'] >= 18 for person in persons]) == True:\n",
    "        if any([person['age'] >= 30 for person in persons]) == True:\n",
    "            print(\"All persons are above 18 and at least one is above 30.\")\n",
    "            return True\n",
    "        else:\n",
    "            print(\"All persons are above 18, but no one is above 30.\")\n",
    "            return False\n",
    "    else:\n",
    "        print(\"Not all persons in the list are above 18.\")\n",
    "        return False\n",
    "\n",
    "persons = [{'name': 'Alice', 'age': 10}, {'name': 'Bob', 'age': 25}]    # One is not above 18\n",
    "print(Over18AtLeastOneAbove30(persons), \"\\n\")                           # Returns False\n",
    "\n",
    "persons = [{'name': 'Alice', 'age': 25}, {'name': 'Bob', 'age': 25}]    # All above 18, no one above 30\n",
    "print(Over18AtLeastOneAbove30(persons), \"\\n\")                                # Returns False\n",
    "\n",
    "persons = [{'name': 'Alice', 'age': 25}, {'name': 'Bob', 'age': 35}]    # All above 18 and one above 30\n",
    "print(Over18AtLeastOneAbove30(persons))                                 # Returns True\n"
   ]
  },
  {
   "cell_type": "markdown",
   "metadata": {},
   "source": [
    "### D. Write/Read Data\n",
    "\n",
    "Write a program that writes 100 integers between 1 and 50 created randomly into a file. Integers are separated by a tab (aka the “\\t” escape sequence) in the file. Read the data back from the file and display the sorted data. Your program should prompt the user to enter a filename, and print the name of the file, i.e. filename.txt for the user to examine. Assume the user always enters a new file name, i.e., you don’t need to check if a given filename already exists."
   ]
  },
  {
   "cell_type": "code",
   "execution_count": 60,
   "metadata": {},
   "outputs": [
    {
     "name": "stdout",
     "output_type": "stream",
     "text": [
      "Please enter the name of the file: \n",
      "The file will be named: 1.txt\n"
     ]
    }
   ],
   "source": [
    "# Part D\n",
    "\n",
    "from random import randint\n",
    "from os import getcwd\n",
    "\n",
    "getcwd()\n",
    "\n",
    "file_name = input(print(\"Please enter the name of the file: \"))\n",
    "\n",
    "print(f\"The file will be named: {file_name}.txt\")\n",
    "\n",
    "#for i in range(1, 101):\n"
   ]
  },
  {
   "cell_type": "code",
   "execution_count": 61,
   "metadata": {},
   "outputs": [
    {
     "data": {
      "text/plain": [
       "'C:\\\\Users\\\\alexa\\\\AppData\\\\Local\\\\Programs\\\\Microsoft VS Code'"
      ]
     },
     "execution_count": 61,
     "metadata": {},
     "output_type": "execute_result"
    }
   ],
   "source": [
    "\n",
    "getcwd()"
   ]
  },
  {
   "cell_type": "markdown",
   "metadata": {},
   "source": [
    "### E. Remove Text\n",
    "\n",
    "Write a program that removes all the occurrences of a specified string from a text file. Your program should prompt the user to enter a filename and a string to be removed. For simplicity, assume the file that the user enters always exists. Your program should request the user for the file to be read and the string to be removed. Thereafter, display the text in the file and the text post-processing. Write the processed text back into the file without affecting the existing text in any way."
   ]
  },
  {
   "cell_type": "code",
   "execution_count": null,
   "metadata": {},
   "outputs": [],
   "source": [
    "# Part E"
   ]
  },
  {
   "cell_type": "markdown",
   "metadata": {},
   "source": [
    "### F. Count Words\n",
    "\n",
    "Write a program that counts the number of words in President Lincoln’s Gettysburg Address from gettysburg.txt provided along with the homework document. Remember that the question asks you to count words and only words, not punctuation, spaces, etc. For simplicity, assume that a word attached to punctuation qualifies as a word. So, for example, “house.” is a valid word, while “--” is not."
   ]
  },
  {
   "cell_type": "code",
   "execution_count": null,
   "metadata": {},
   "outputs": [],
   "source": [
    "# Part F"
   ]
  }
 ],
 "metadata": {
  "kernelspec": {
   "display_name": "Python 3",
   "language": "python",
   "name": "python3"
  },
  "language_info": {
   "codemirror_mode": {
    "name": "ipython",
    "version": 3
   },
   "file_extension": ".py",
   "mimetype": "text/x-python",
   "name": "python",
   "nbconvert_exporter": "python",
   "pygments_lexer": "ipython3",
   "version": "3.12.5"
  }
 },
 "nbformat": 4,
 "nbformat_minor": 2
}
