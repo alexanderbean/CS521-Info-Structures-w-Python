{
 "cells": [
  {
   "cell_type": "markdown",
   "metadata": {},
   "source": [
    "#  CS521 - Class #13 - 12/05/24"
   ]
  },
  {
   "cell_type": "markdown",
   "metadata": {},
   "source": [
    "FINAL:\n",
    "- 50 questions\n",
    "- 100 minutes\n",
    "\n",
    "Practice questions\n",
    "- File I/O\n",
    "- Any() and all() function\n",
    "- OOP (only today's class and HW8)\n",
    "- ONE sorting question, just like the midterm\n",
    "\n",
    "---------------------------------------------------------------------------------------------------------------"
   ]
  },
  {
   "cell_type": "markdown",
   "metadata": {},
   "source": [
    "### Object Oriented Programming in Python\n",
    "\n",
    "Python has several built-in classes such as:\n",
    "- string\n",
    "- tuple\n",
    "- list\n",
    "- function\n",
    "- etc.\n",
    "\n",
    "Essentially, every time the user creates a Python object like a string or a list, they're creating an **instance** of a certain built-in class."
   ]
  },
  {
   "cell_type": "code",
   "execution_count": 2,
   "metadata": {},
   "outputs": [
    {
     "name": "stdout",
     "output_type": "stream",
     "text": [
      "<class 'str'>\n"
     ]
    }
   ],
   "source": [
    "my_string = \"Hello\"\n",
    "\n",
    "print(type(my_string))"
   ]
  },
  {
   "cell_type": "code",
   "execution_count": 3,
   "metadata": {},
   "outputs": [
    {
     "name": "stdout",
     "output_type": "stream",
     "text": [
      "<class 'tuple'>\n"
     ]
    }
   ],
   "source": [
    "my_tuple = (1, 3, 4, 5)\n",
    "\n",
    "print(type(my_tuple))"
   ]
  },
  {
   "cell_type": "code",
   "execution_count": 4,
   "metadata": {},
   "outputs": [
    {
     "name": "stdout",
     "output_type": "stream",
     "text": [
      "<class 'function'>\n"
     ]
    }
   ],
   "source": [
    "def my_function():\n",
    "    return 1 + 2 * 3\n",
    "\n",
    "print(type(my_function))"
   ]
  },
  {
   "cell_type": "markdown",
   "metadata": {},
   "source": [
    "### Associated with classes are functions, known as **methods**.\n",
    "\n",
    "- These methods use information about the object, as well as the object itself to return results, or change the current object.\n",
    "- NOTE how the method is called: <name_of_variable>.<name_of_method>()\n",
    "    - variables are instances of the class"
   ]
  },
  {
   "cell_type": "code",
   "execution_count": 5,
   "metadata": {},
   "outputs": [
    {
     "name": "stdout",
     "output_type": "stream",
     "text": [
      "[1, 2, 3, 4, 5]\n"
     ]
    }
   ],
   "source": [
    "my_list = [1, 4, 3, 2, 5]\n",
    "\n",
    "my_list.sort()\n",
    "\n",
    "print(my_list)"
   ]
  },
  {
   "cell_type": "markdown",
   "metadata": {},
   "source": [
    "Two Programming Paradigms\n",
    "- Procedural (or Functional) Programming\n",
    "- Object-Oriented Programming (OOP)\n",
    "\n",
    "- They differ significantly in their approach and structure"
   ]
  },
  {
   "cell_type": "markdown",
   "metadata": {},
   "source": [
    "- Procedural\n",
    "    - Focuses on functions (procedures) to perform tasks\n",
    "    - Program organized as a series of steps or tasks\n",
    "    - Functions, iteration, selection (control flow), etc.\n",
    "    - Data Handling: data generally separate from functions\n",
    "        - Functions operate on data passed to them as arguments\n",
    "        - ex. def my_func(x=10): return x ** 2\n",
    "    - ex. Fortran, Cobol, C (early on), etc.\n",
    "    \n",
    "    - Limitations:\n",
    "        - Scalability: does not scale to very large projects\n",
    "        - Reusability: functions can be reused, but require manual effort to ensure they work in different environments\n",
    "            - Modularizaton: even with functions, large programs can get complex enough that tracking program flow becomes challenging\n",
    "            - Large chunks of code (data and functions) might sometimes need to be customized and reused in different situations (inheritance)\n",
    "                - Inheritence: create own class based on another class and add code/features\n",
    "        - Poor data security and maintenance challenges due to the global nature of data\n",
    "        - Redefining operators: built-in operators cannot be redefined to expand their scope and functions"
   ]
  },
  {
   "cell_type": "markdown",
   "metadata": {},
   "source": [
    "- Object-Oriented\n",
    "    - Focuses on objects, which combine data (attributes) and behavior (methods), encapsulating them into cohesive units\n",
    "        - Classes: blueprints for objects\n",
    "        - Objects: specific instances of classes\n",
    "    - Key Concepts: objects, classes, encapsulation, inheritance, polymorphism, abstraction\n",
    "    - Program organized into classes, objects, and overarching code that handles interaction between them\n",
    "    - ex. C++, Java, Python"
   ]
  },
  {
   "cell_type": "markdown",
   "metadata": {},
   "source": [
    "### **User-defined Classes**\n",
    "\n",
    "Our discussion will review around how one can created **user-defined classes**.\n",
    "\n",
    "- Why are user-defined classes useful?\n",
    "    - What advantages does defining your own classes give you?\n",
    "- How do you build your own classes?\n",
    "- What can you imbue your class with?\n",
    "    - Attributes\n",
    "    - Methods\n",
    "\n",
    "------\n",
    "\n",
    "**Class**\n",
    "\n",
    "- A blueprint or template for creating objects\n",
    "- Defines attributes (data) and methods (behavior) common to all objects created from it\n",
    "- Does not occupy memory by itself, as it represents a general concept.\n",
    "    - In Python, the class by itself, being a *blueprint*, does not occupy memory in the same way that *instances* (objects) of the class do\n",
    "    - When you create an instance of a class, memory is allocated for that specific instance\n",
    "    "
   ]
  },
  {
   "cell_type": "markdown",
   "metadata": {},
   "source": [
    "**Step 1:**"
   ]
  },
  {
   "cell_type": "code",
   "execution_count": 10,
   "metadata": {},
   "outputs": [],
   "source": [
    "class Car:\n",
    "    pass    #Placeholder\n",
    "\n",
    "my_car = Car()"
   ]
  },
  {
   "cell_type": "markdown",
   "metadata": {},
   "source": [
    "**Step 2: Add the __init__() Method**\n",
    "\n",
    "This is a constructor. Automatically called when your create an instance of the class\n",
    "\n",
    "- **Attributes:** Variables that hold data about the object (ex. color, fuel, self_driving, etc.)\n",
    "- **self Keyword:** A reference to the current instance of the class. It ensures each instance has its own copy of the attributes.\n",
    "\n",
    "NOTE: The first argument of every method defined with a class should be \"self\".\n",
    "- Python automatically assumes that the first argument of every method refers to the instance of the class.\n",
    "- While the first argument can be called *anything*, \"self\" is the default."
   ]
  },
  {
   "cell_type": "code",
   "execution_count": null,
   "metadata": {},
   "outputs": [],
   "source": [
    "class Car:\n",
    "    def __init__(self, argument_color):\n",
    "        self.color = argument_color\n",
    "        "
   ]
  },
  {
   "cell_type": "code",
   "execution_count": null,
   "metadata": {},
   "outputs": [
    {
     "ename": "TypeError",
     "evalue": "Car.__init__() missing 1 required positional argument: 'arg_color'",
     "output_type": "error",
     "traceback": [
      "\u001b[1;31m---------------------------------------------------------------------------\u001b[0m",
      "\u001b[1;31mTypeError\u001b[0m                                 Traceback (most recent call last)",
      "Cell \u001b[1;32mIn[12], line 1\u001b[0m\n\u001b[1;32m----> 1\u001b[0m my_car \u001b[38;5;241m=\u001b[39m \u001b[43mCar\u001b[49m\u001b[43m(\u001b[49m\u001b[43m)\u001b[49m\n",
      "\u001b[1;31mTypeError\u001b[0m: Car.__init__() missing 1 required positional argument: 'arg_color'"
     ]
    }
   ],
   "source": [
    "my_car = Car()\n",
    "\n",
    "# This will error because the color argument has not been provided"
   ]
  },
  {
   "cell_type": "code",
   "execution_count": 17,
   "metadata": {},
   "outputs": [
    {
     "data": {
      "text/plain": [
       "'Red'"
      ]
     },
     "execution_count": 17,
     "metadata": {},
     "output_type": "execute_result"
    }
   ],
   "source": [
    "my_car = Car(\"Red\")\n",
    "# By running this command ^, the ATTRIBUTE \"color\" associated with the instance \"my_car\" has been given the value \"Red\"\n",
    "\n",
    "my_car.color"
   ]
  },
  {
   "cell_type": "code",
   "execution_count": 19,
   "metadata": {},
   "outputs": [],
   "source": [
    "class Car:\n",
    "    def __init__(self, color, fuel, fsd):\n",
    "        self.color = color\n",
    "        self.fuel = fuel\n",
    "        self.fsd = fsd"
   ]
  },
  {
   "cell_type": "code",
   "execution_count": 23,
   "metadata": {},
   "outputs": [
    {
     "name": "stdout",
     "output_type": "stream",
     "text": [
      "Red\n",
      "Gas\n",
      "False\n"
     ]
    }
   ],
   "source": [
    "my_car = Car(color = \"Red\", fuel = \"Gas\", fsd = False)\n",
    "\n",
    "print(my_car.color)\n",
    "print(my_car.fuel)\n",
    "print(my_car.fsd)"
   ]
  },
  {
   "cell_type": "code",
   "execution_count": 24,
   "metadata": {},
   "outputs": [
    {
     "name": "stdout",
     "output_type": "stream",
     "text": [
      "Blue\n",
      "Diesel\n",
      "True\n"
     ]
    }
   ],
   "source": [
    "my_second_car = Car(color = \"Blue\", fuel = \"Diesel\", fsd = True)\n",
    "\n",
    "print(my_second_car.color)\n",
    "print(my_second_car.fuel)\n",
    "print(my_second_car.fsd)"
   ]
  },
  {
   "cell_type": "markdown",
   "metadata": {},
   "source": [
    "**Step 3: Add Methods**\n",
    "\n",
    "A method is a function that operates on the instance of the class. Recall that the first parameter is \"self\", which refers to the instance calling the method.\n",
    "- NOTE: Functions defined within objects is called a method"
   ]
  },
  {
   "cell_type": "code",
   "execution_count": 28,
   "metadata": {},
   "outputs": [],
   "source": [
    "class Car:\n",
    "    '''\n",
    "    Doc string for my Car class.\n",
    "    This has 3 attributes and 1 method\n",
    "    '''\n",
    "    def __init__(self, color, fuel, fsd):\n",
    "        '''\n",
    "        Initializer doc string.\n",
    "        Inputs are color (str), fuel (str), fsd (bool)\n",
    "        '''\n",
    "        self.color = color\n",
    "        self.fuel = fuel\n",
    "        self.fsd = fsd\n",
    "\n",
    "    def print_car_specs(self):\n",
    "        '''\n",
    "        Print car specs doc string.\n",
    "        Prints all attributes\n",
    "        '''\n",
    "        print(\"Color:\\t\", self.color)\n",
    "        print(\"Fuel:\\t\", self.fuel)\n",
    "        print(\"FSD:\\t\", self.fsd)"
   ]
  },
  {
   "cell_type": "code",
   "execution_count": 29,
   "metadata": {},
   "outputs": [
    {
     "name": "stdout",
     "output_type": "stream",
     "text": [
      "Color:\t Red\n",
      "Fuel:\t Electric\n",
      "FSD:\t True\n"
     ]
    }
   ],
   "source": [
    "my_third_car = Car(color = \"Red\", fuel = \"Electric\", fsd = True)\n",
    "\n",
    "my_third_car.print_car_specs()"
   ]
  },
  {
   "cell_type": "markdown",
   "metadata": {},
   "source": [
    "**Step 4: Create Instances**\n",
    "\n",
    "Create objects (instances) of the class by calling the class name and passing the required arguments.\n",
    "\n",
    "This can be done in two ways:\n",
    "1. Since the constructor is automatically called when you create an instance, you can pass all initialization to the class while constructing it.\n",
    "2. The class constructor can have explicit \"input()\" statements to get the initial values of all its attributes."
   ]
  },
  {
   "cell_type": "markdown",
   "metadata": {},
   "source": []
  }
 ],
 "metadata": {
  "kernelspec": {
   "display_name": "Python 3",
   "language": "python",
   "name": "python3"
  },
  "language_info": {
   "codemirror_mode": {
    "name": "ipython",
    "version": 3
   },
   "file_extension": ".py",
   "mimetype": "text/x-python",
   "name": "python",
   "nbconvert_exporter": "python",
   "pygments_lexer": "ipython3",
   "version": "3.12.5"
  }
 },
 "nbformat": 4,
 "nbformat_minor": 2
}
