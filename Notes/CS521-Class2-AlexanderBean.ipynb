{
 "cells": [
  {
   "cell_type": "markdown",
   "id": "e9f34c33-b5e3-4770-8f1c-bc1fa1ca65a4",
   "metadata": {},
   "source": [
    "\n",
    "1. Calculate the circumference of a circle of a given radius\n"
   ]
  },
  {
   "cell_type": "code",
   "execution_count": 33,
   "id": "3eed9ad3-25c1-4201-b0e1-689a7d724f59",
   "metadata": {},
   "outputs": [
    {
     "name": "stdin",
     "output_type": "stream",
     "text": [
      "Enter the radius of your circle:  9\n"
     ]
    },
    {
     "name": "stdout",
     "output_type": "stream",
     "text": [
      "\n",
      "The circumference of your circle is:  56.548667764616276 \n",
      "and the area of the given circle is:  254.46900494077323\n",
      "\n",
      "The circumference and area of your circle are:  56.548667764616276 and 254.46900494077323 , respectively.\n"
     ]
    }
   ],
   "source": [
    "# Calculate the area and circumference of a circle of given radius\n",
    "\n",
    "# Step 1: Request user input for value of radius\n",
    "\n",
    "import math\n",
    "# Alternatively, if you know exactly what variable/function from the module you will be using, execute this:\n",
    "from math import pi\n",
    "\n",
    "radius_str = input(\"Enter the radius of your circle: \")\n",
    "radius_float = float(radius_str)\n",
    "\n",
    "# Step 2: Apply the circumference and area formulas\n",
    "\n",
    "circumference = 2 * math.pi * radius_float\n",
    "area = math.pi * (radius_float ** 2)\n",
    "\n",
    "# Step 3: Print the results\n",
    "\n",
    "print(\"\\nThe circumference of your circle is: \", circumference, \"\\nand the area of the given circle is: \", area)\n",
    "#Alternatively, you can say this:\n",
    "print(\"\\nThe circumference and area of your circle are: \", circumference, \"and\", area, \", respectively.\")\n",
    "\n"
   ]
  },
  {
   "cell_type": "markdown",
   "id": "4d28be3d-876c-478b-96ab-9cda33d475b8",
   "metadata": {},
   "source": [
    "\n",
    "2. Choosing precision\n"
   ]
  },
  {
   "cell_type": "code",
   "execution_count": 35,
   "id": "50acb545-8a98-4933-90cc-3d1805437bb7",
   "metadata": {},
   "outputs": [
    {
     "name": "stdout",
     "output_type": "stream",
     "text": [
      "254\n"
     ]
    }
   ],
   "source": [
    "# FLOORING using int() truncates the floating point number\n",
    "print(int(area))"
   ]
  },
  {
   "cell_type": "code",
   "execution_count": 37,
   "id": "6c2ebb4a-5397-4ab1-9b43-301ee422179e",
   "metadata": {},
   "outputs": [
    {
     "name": "stdout",
     "output_type": "stream",
     "text": [
      "254\n",
      "254.47\n"
     ]
    }
   ],
   "source": [
    "# Rounding is better\n",
    "print(round(area))\n",
    "\n",
    "# The round function also takes precision as an argument\n",
    "print(round(area,2))"
   ]
  },
  {
   "cell_type": "markdown",
   "id": "3a17163c-bcd8-41c2-ba20-f887ef82f319",
   "metadata": {},
   "source": [
    "3. Strings"
   ]
  },
  {
   "cell_type": "code",
   "execution_count": 43,
   "id": "a0204ef1-31cc-486d-bbee-b835d5f3857e",
   "metadata": {},
   "outputs": [
    {
     "data": {
      "text/plain": [
       "'Hello'"
      ]
     },
     "execution_count": 43,
     "metadata": {},
     "output_type": "execute_result"
    }
   ],
   "source": [
    "# Single words\n",
    "\"Hello\""
   ]
  },
  {
   "cell_type": "code",
   "execution_count": 45,
   "id": "3d29de4a-b0fd-486e-90a1-799cc742d625",
   "metadata": {},
   "outputs": [
    {
     "data": {
      "text/plain": [
       "str"
      ]
     },
     "execution_count": 45,
     "metadata": {},
     "output_type": "execute_result"
    }
   ],
   "source": [
    "# Phrases or sentences\n",
    "type('There are 7 days a week')"
   ]
  },
  {
   "cell_type": "code",
   "execution_count": 47,
   "id": "f531e145-f96f-4de0-aca0-67fcb0fb8a4d",
   "metadata": {},
   "outputs": [],
   "source": [
    "# Using double quotes is better. Example below will return an error due to the apostrephe in I'm\n",
    "# 'I'm trying to discuss the string data type'"
   ]
  },
  {
   "cell_type": "code",
   "execution_count": 106,
   "id": "83622367-5f1b-41e8-a48a-8ed4868345d7",
   "metadata": {},
   "outputs": [],
   "source": [
    "# Immutability\n",
    "s = \"the_string_data_type\"\n",
    "#s[3] = '!'"
   ]
  },
  {
   "cell_type": "markdown",
   "id": "14f68ec1-cec9-439f-8dab-c50b61f2be07",
   "metadata": {},
   "source": [
    "4. Indexing / Slicing"
   ]
  },
  {
   "cell_type": "code",
   "execution_count": 60,
   "id": "435db94f-c54b-458d-aa4b-12caa9e6a48b",
   "metadata": {},
   "outputs": [
    {
     "data": {
      "text/plain": [
       "12"
      ]
     },
     "execution_count": 60,
     "metadata": {},
     "output_type": "execute_result"
    }
   ],
   "source": [
    "greeting = \"Hello_world!\"\n",
    "\n",
    "len(greeting)"
   ]
  },
  {
   "cell_type": "code",
   "execution_count": 68,
   "id": "5e76bdbd-f8f6-49d0-97cc-e49a9d35420a",
   "metadata": {},
   "outputs": [
    {
     "name": "stdout",
     "output_type": "stream",
     "text": [
      "H\n",
      "!\n"
     ]
    }
   ],
   "source": [
    "# --- INDEXING ---\n",
    "\n",
    "# Indexing in Python begins from 0, not 1\n",
    "print(greeting[0])\n",
    "\n",
    "# print(greeting[12])\n",
    "# ^ will fail as index 12 would be character 13, which does not exist in the string\n",
    "\n",
    "print(greeting[11])"
   ]
  },
  {
   "cell_type": "code",
   "execution_count": 80,
   "id": "c91a0f23-595d-4cc7-a667-c546beaa7566",
   "metadata": {},
   "outputs": [
    {
     "name": "stdout",
     "output_type": "stream",
     "text": [
      "llo\n",
      "Hello_\n",
      "o_world!\n"
     ]
    }
   ],
   "source": [
    "# --- SLICING ---\n",
    "\n",
    "# This begins with the THIRD element of the string and stops before the SIXTH\n",
    "print(greeting[2:5])\n",
    "\n",
    "# Everything up to but NOT INCLUDING the SEVENTH element\n",
    "print(greeting[:6])\n",
    "\n",
    "# Starts from greeting[4] which is the FIFTH element in the string\n",
    "print(greeting[4:])"
   ]
  },
  {
   "cell_type": "code",
   "execution_count": 98,
   "id": "5297d313-24bb-4805-a52e-4562dd5cd185",
   "metadata": {},
   "outputs": [
    {
     "name": "stdout",
     "output_type": "stream",
     "text": [
      "!\n",
      "l\n",
      "Hello_world\n",
      "Hello_wor\n",
      "!\n",
      "ld!\n"
     ]
    }
   ],
   "source": [
    "# --- NEGATIVE INDICES ---\n",
    "\n",
    "# Grabs the last element in the string, and grabs the third-to-last element\n",
    "print(greeting[-1])\n",
    "print(greeting[-3])\n",
    "\n",
    "# Grabs everything BUT the last element, and then everything but the last THREE elements\n",
    "print(greeting[:-1])\n",
    "print(greeting[:-3])\n",
    "\n",
    "# Starts from the last element in the string, and then starts from the third-to-last element\n",
    "print(greeting[-1:])\n",
    "print(greeting[-3:])"
   ]
  },
  {
   "cell_type": "code",
   "execution_count": 102,
   "id": "1ff63d97-4e99-4558-beaf-b75b309c262c",
   "metadata": {},
   "outputs": [
    {
     "name": "stdout",
     "output_type": "stream",
     "text": [
      "Hello_world!\n",
      "el_o\n"
     ]
    }
   ],
   "source": [
    "# --- INDEX & SLICE NOTATION ---\n",
    "\n",
    "print(greeting)\n",
    "\n",
    "\n",
    "# [Start : Stop : Step]\n",
    "# Starts at Index 1, Up to but not including Index 9, Display every 2 indexes\n",
    "\n",
    "print(greeting[1:9:2])\n",
    "\n",
    "# Hello_world!\n",
    "#  e l _ o\n",
    "# 01234567891011"
   ]
  },
  {
   "cell_type": "code",
   "execution_count": 109,
   "id": "c25026f3-103b-4dad-8803-c2f4c06203d9",
   "metadata": {},
   "outputs": [
    {
     "name": "stdout",
     "output_type": "stream",
     "text": [
      "!dlrow_olleH\n"
     ]
    }
   ],
   "source": [
    "# This will start and return the string backwards\n",
    "print(greeting[::-1])"
   ]
  },
  {
   "cell_type": "code",
   "execution_count": 117,
   "id": "1582490a-698d-4c8f-9412-747ea9c1b31a",
   "metadata": {},
   "outputs": [
    {
     "name": "stdout",
     "output_type": "stream",
     "text": [
      "lo_l\n"
     ]
    }
   ],
   "source": [
    "# This does the same indexing and slicing as in the previous example, but backwards using negative steps\n",
    "print(greeting[9:1:-2])"
   ]
  },
  {
   "cell_type": "markdown",
   "id": "fa9062c5-3f72-47c0-a08b-b89e47515a4e",
   "metadata": {},
   "source": [
    "String Properties"
   ]
  },
  {
   "cell_type": "code",
   "execution_count": 125,
   "id": "e741aba4-d190-401f-981d-748d47554749",
   "metadata": {},
   "outputs": [
    {
     "name": "stdout",
     "output_type": "stream",
     "text": [
      "This is CS 521\n"
     ]
    }
   ],
   "source": [
    "str1 = \"This is\"\n",
    "str2 = \"CS 521\"\n",
    "\n",
    "print(str1 + \" \" + str2)"
   ]
  },
  {
   "cell_type": "code",
   "execution_count": 131,
   "id": "ea82bad3-e187-4956-9f15-c93edae1c8fe",
   "metadata": {},
   "outputs": [
    {
     "name": "stdin",
     "output_type": "stream",
     "text": [
      "Enter your name:  Alexander\n"
     ]
    },
    {
     "name": "stdout",
     "output_type": "stream",
     "text": [
      "\n",
      "Welcome to BU, Alexander\n"
     ]
    }
   ],
   "source": [
    "name = input(\"Enter your name: \")\n",
    "text_to_print = \"\\nWelcome to BU, \" + name\n",
    "\n",
    "print(text_to_print)"
   ]
  },
  {
   "cell_type": "code",
   "execution_count": 133,
   "id": "b33df001-b12a-4426-8bc5-7a15354174fa",
   "metadata": {},
   "outputs": [
    {
     "name": "stdout",
     "output_type": "stream",
     "text": [
      "hahahahahahahahahaha\n"
     ]
    }
   ],
   "source": [
    "laugh = \"ha\"\n",
    "\n",
    "print(laugh * 10)"
   ]
  },
  {
   "cell_type": "markdown",
   "id": "fdd424ff-9af4-4134-b495-183459caabc6",
   "metadata": {},
   "source": [
    "String Methods"
   ]
  },
  {
   "cell_type": "code",
   "execution_count": 136,
   "id": "42ed66d0-5390-4706-b1ec-90448e1c5c53",
   "metadata": {},
   "outputs": [],
   "source": [
    "# --- Basic Built-in String Methods ---\n",
    "\n",
    "# Methods are called with a period and then the method name: Ex. object.method(parameters)"
   ]
  },
  {
   "cell_type": "code",
   "execution_count": 144,
   "id": "f6c29391-7231-4798-9a3e-3aa0da4f8a4a",
   "metadata": {},
   "outputs": [
    {
     "data": {
      "text/plain": [
       "'ALL LOWER CASE LETTERS'"
      ]
     },
     "execution_count": 144,
     "metadata": {},
     "output_type": "execute_result"
    }
   ],
   "source": [
    "simple_string = 'all lower case letters'\n",
    "\n",
    "simple_string.upper()\n",
    "#simple_string.title()"
   ]
  },
  {
   "cell_type": "code",
   "execution_count": 156,
   "id": "accec742-914b-4e40-afaa-415f368ce3cb",
   "metadata": {},
   "outputs": [
    {
     "data": {
      "text/plain": [
       "['all', 'lower', 'case', 'letters']"
      ]
     },
     "execution_count": 156,
     "metadata": {},
     "output_type": "execute_result"
    }
   ],
   "source": [
    "# This method separates based on a space / white space\"\n",
    "simple_string.split()"
   ]
  },
  {
   "cell_type": "code",
   "execution_count": 158,
   "id": "0bf8dc4d-3c27-44db-ad2f-a315a5d85d5b",
   "metadata": {},
   "outputs": [
    {
     "data": {
      "text/plain": [
       "['all low', 'r cas', ' l', 'tt', 'rs']"
      ]
     },
     "execution_count": 158,
     "metadata": {},
     "output_type": "execute_result"
    }
   ],
   "source": [
    "# Using the parameter field to specify what value to separate on (in this case, 'e')\n",
    "simple_string.split('e')"
   ]
  },
  {
   "cell_type": "markdown",
   "id": "7fff7aa0-7b61-4111-998d-521134bcec89",
   "metadata": {},
   "source": [
    "Print Formatting"
   ]
  },
  {
   "cell_type": "code",
   "execution_count": 165,
   "id": "267cc69a-1ea7-436e-ada8-4d4fbf673e31",
   "metadata": {},
   "outputs": [
    {
     "name": "stdout",
     "output_type": "stream",
     "text": [
      "Hello, my name is Alexander and I am 23 years old.\n",
      "\n",
      "Hello, my name is Alexander and I am 23 years old.\n"
     ]
    }
   ],
   "source": [
    "# F-string literals are a way to embed expressions inside string literals using curly brace { } in Python\n",
    "# Essentially formats the string and allows you to include variables within the string\n",
    "\n",
    "name = \"Alexander\"\n",
    "age = 23\n",
    "\n",
    "# Using an f-string, assigning to a variable, and printing\n",
    "greeting = f\"Hello, my name is {name} and I am {age} years old.\"\n",
    "print(greeting)\n",
    "\n",
    "# Alternatively, you can just using it directly in the print statement.\n",
    "print(f\"\\nHello, my name is {name} and I am {age} years old.\")"
   ]
  },
  {
   "cell_type": "markdown",
   "id": "35a3f814-88a0-4179-8981-2d702865f815",
   "metadata": {},
   "source": [
    "Question"
   ]
  },
  {
   "cell_type": "code",
   "execution_count": null,
   "id": "2918dc69-7c5d-4cda-9ff8-483840ce0cbe",
   "metadata": {},
   "outputs": [],
   "source": [
    "# Write a program to request a user's height (in meters) and weight (in kilograms) and print their BMI.\n",
    "# Use f-string literals to format your output to the user."
   ]
  },
  {
   "cell_type": "code",
   "execution_count": null,
   "id": "651c86d9-0333-4913-b171-af7817f9c9e7",
   "metadata": {},
   "outputs": [],
   "source": [
    "# BMI = weight in kilograms / (height in meters ** 2)\n",
    "# W / H**2"
   ]
  },
  {
   "cell_type": "code",
   "execution_count": 204,
   "id": "23812265-0e31-4d50-ba6b-09b40addab01",
   "metadata": {},
   "outputs": [
    {
     "name": "stdin",
     "output_type": "stream",
     "text": [
      "Enter your height in meters:  1.8\n",
      "Enter your weight in kilograms:  72.6\n"
     ]
    },
    {
     "name": "stdout",
     "output_type": "stream",
     "text": [
      "\n",
      "Given a height of 1.8 meters and a weight of 72.6 kilograms,\n",
      "your body mass index (BMI) is 22.41.\n"
     ]
    }
   ],
   "source": [
    "# BMI Calculator\n",
    "\n",
    "height = round(float(input(\"Enter your height in meters: \")), 2)\n",
    "weight = round(float(input(\"Enter your weight in kilograms: \")), 2)\n",
    "\n",
    "BMI = round(weight / (height ** 2), 2)\n",
    "\n",
    "print(f\"\\nGiven a height of {height} meters and a weight of {weight} kilograms,\\nyour body mass index (BMI) is {BMI}.\")"
   ]
  },
  {
   "cell_type": "markdown",
   "id": "77f7f12f-dbe9-4696-af02-29943c8639eb",
   "metadata": {},
   "source": [
    "MAJOR TOPIC 2 -- LISTS"
   ]
  },
  {
   "cell_type": "code",
   "execution_count": 215,
   "id": "6f86f19e-099c-46fc-87e6-f4805f8290c2",
   "metadata": {},
   "outputs": [
    {
     "name": "stdout",
     "output_type": "stream",
     "text": [
      "Hello\n",
      "3.75\n",
      "1\n",
      "[2, 3]\n",
      "The length of the list is still = 4 because the last element is counted as only one element\n"
     ]
    }
   ],
   "source": [
    "# Lists are constructed with brackets [ ] and comma separated values (including nested lists)\n",
    "\n",
    "my_list = [\"Hello\", 3.75, 1, [2, 3]]\n",
    "\n",
    "# This calls the first index of the list\n",
    "print(my_list[0])\n",
    "\n",
    "# This calls the second index of the list and so on\n",
    "print(my_list[1])\n",
    "print(my_list[2])\n",
    "print(my_list[3])\n",
    "\n",
    "print(f\"The length of the list is still = {len(my_list)} because the last element is counted as only one element\")"
   ]
  },
  {
   "cell_type": "code",
   "execution_count": 221,
   "id": "8c0e75fd-8416-492e-b88c-8a0f5549340a",
   "metadata": {},
   "outputs": [
    {
     "data": {
      "text/plain": [
       "2"
      ]
     },
     "execution_count": 221,
     "metadata": {},
     "output_type": "execute_result"
    }
   ],
   "source": [
    "# Nested lists: lists containing lists\n",
    "\n",
    "nested_list = [[2, 1.2, 0], [-1, 3.75]]\n",
    "len(nested_list)\n"
   ]
  },
  {
   "cell_type": "code",
   "execution_count": 223,
   "id": "ee3040ed-bef2-4bb4-bef1-b20e7095ebde",
   "metadata": {},
   "outputs": [
    {
     "name": "stdout",
     "output_type": "stream",
     "text": [
      "['Hello', 3.75, 1, [2, 3]]\n",
      "['Hello', 3.75, True, [2, 3]]\n"
     ]
    }
   ],
   "source": [
    "# Lists are mutable\n",
    "\n",
    "print(my_list)\n",
    "\n",
    "# Changing an element within the list\n",
    "my_list[2] = True\n",
    "\n",
    "print(my_list)"
   ]
  },
  {
   "cell_type": "code",
   "execution_count": 225,
   "id": "4cdfa003-3cb8-410e-8fa3-c1c729835add",
   "metadata": {},
   "outputs": [
    {
     "name": "stdout",
     "output_type": "stream",
     "text": [
      "4\n"
     ]
    }
   ],
   "source": [
    "# --- INDEXING & SLICING LISTS ---\n",
    "\n",
    "print(len(my_list))"
   ]
  },
  {
   "cell_type": "code",
   "execution_count": 227,
   "id": "9207aa4c-5709-4b8c-b90e-3625c08e6809",
   "metadata": {},
   "outputs": [
    {
     "data": {
      "text/plain": [
       "['Hello', 3.75, True, [2, 3]]"
      ]
     },
     "execution_count": 227,
     "metadata": {},
     "output_type": "execute_result"
    }
   ],
   "source": [
    "my_list"
   ]
  },
  {
   "cell_type": "code",
   "execution_count": 229,
   "id": "b67f86ce-8bfc-48a4-9d46-420af74d51b8",
   "metadata": {},
   "outputs": [
    {
     "data": {
      "text/plain": [
       "[True, [2, 3]]"
      ]
     },
     "execution_count": 229,
     "metadata": {},
     "output_type": "execute_result"
    }
   ],
   "source": [
    "my_list[2:]"
   ]
  },
  {
   "cell_type": "code",
   "execution_count": 231,
   "id": "10c9c259-a60e-4f42-af5d-f2a109a67393",
   "metadata": {},
   "outputs": [
    {
     "data": {
      "text/plain": [
       "[5, 4, 'three', 'two', 'one']"
      ]
     },
     "execution_count": 231,
     "metadata": {},
     "output_type": "execute_result"
    }
   ],
   "source": [
    "new_list = ['one', 'two', 'three', 4, 5]\n",
    "\n",
    "new_list[::-1]"
   ]
  },
  {
   "cell_type": "code",
   "execution_count": 237,
   "id": "0a10bf1c-1efe-461d-96ec-ba4e13adbd86",
   "metadata": {},
   "outputs": [
    {
     "data": {
      "text/plain": [
       "['one', 'two', 'three', 4, 5, 'extra value to list']"
      ]
     },
     "execution_count": 237,
     "metadata": {},
     "output_type": "execute_result"
    }
   ],
   "source": [
    "# Reassign a value\n",
    "\n",
    "new_list = new_list + ['extra value to list']\n",
    "\n",
    "new_list"
   ]
  },
  {
   "cell_type": "code",
   "execution_count": 239,
   "id": "c7ddbda5-dd90-41f4-926f-4210989fe5bd",
   "metadata": {},
   "outputs": [],
   "source": [
    "# --- BASIC LIST METHODS ---\n",
    "\n",
    "# append(), pop(), and sort()"
   ]
  },
  {
   "cell_type": "code",
   "execution_count": 251,
   "id": "0d51022a-e9b2-4195-a053-810501cb2a9a",
   "metadata": {},
   "outputs": [
    {
     "name": "stdout",
     "output_type": "stream",
     "text": [
      "[3, [2, 3, 5]]\n"
     ]
    }
   ],
   "source": [
    "# Append() adds a value to the END of the list -- always to the end\n",
    "\n",
    "empty_list = []\n",
    "\n",
    "empty_list.append(3)\n",
    "\n",
    "empty_list.append([2,3,5])\n",
    "\n",
    "print(empty_list)"
   ]
  },
  {
   "cell_type": "code",
   "execution_count": 253,
   "id": "1f6d6355-2159-48b4-a973-29de421b0721",
   "metadata": {},
   "outputs": [
    {
     "data": {
      "text/plain": [
       "[2, 3, 5]"
      ]
     },
     "execution_count": 253,
     "metadata": {},
     "output_type": "execute_result"
    }
   ],
   "source": [
    "# Pop() removes and returns the last item in the list\n",
    "\n",
    "empty_list.pop()"
   ]
  },
  {
   "cell_type": "code",
   "execution_count": 255,
   "id": "68f9dff8-1096-40c4-901a-cec0f9539bb4",
   "metadata": {},
   "outputs": [
    {
     "data": {
      "text/plain": [
       "[3]"
      ]
     },
     "execution_count": 255,
     "metadata": {},
     "output_type": "execute_result"
    }
   ],
   "source": [
    "# Now check your list -- it should have one less element\n",
    "\n",
    "empty_list"
   ]
  },
  {
   "cell_type": "code",
   "execution_count": 257,
   "id": "4f780274-479f-4486-ae8d-b7b4f90c5237",
   "metadata": {},
   "outputs": [
    {
     "data": {
      "text/plain": [
       "3"
      ]
     },
     "execution_count": 257,
     "metadata": {},
     "output_type": "execute_result"
    }
   ],
   "source": [
    "a = [1, 2, 3, 4, 5]\n",
    "\n",
    "# Pops the third index element\n",
    "a.pop(2)"
   ]
  },
  {
   "cell_type": "code",
   "execution_count": 261,
   "id": "450d9d21-3c45-42a9-8677-3b1bb4bc9944",
   "metadata": {},
   "outputs": [
    {
     "data": {
      "text/plain": [
       "[1, 2, 4, 5]"
      ]
     },
     "execution_count": 261,
     "metadata": {},
     "output_type": "execute_result"
    }
   ],
   "source": [
    "# \"3\" should be missing\n",
    "a"
   ]
  },
  {
   "cell_type": "code",
   "execution_count": 263,
   "id": "8f31e7f1-71dd-44ed-9bc0-437da50aaa00",
   "metadata": {},
   "outputs": [
    {
     "ename": "TypeError",
     "evalue": "'<' not supported between instances of 'int' and 'str'",
     "output_type": "error",
     "traceback": [
      "\u001b[1;31m---------------------------------------------------------------------------\u001b[0m",
      "\u001b[1;31mTypeError\u001b[0m                                 Traceback (most recent call last)",
      "Cell \u001b[1;32mIn[263], line 3\u001b[0m\n\u001b[0;32m      1\u001b[0m b \u001b[38;5;241m=\u001b[39m [\u001b[38;5;124m'\u001b[39m\u001b[38;5;124ma\u001b[39m\u001b[38;5;124m'\u001b[39m, \u001b[38;5;124m'\u001b[39m\u001b[38;5;124me\u001b[39m\u001b[38;5;124m'\u001b[39m, \u001b[38;5;124m'\u001b[39m\u001b[38;5;124mc\u001b[39m\u001b[38;5;124m'\u001b[39m, \u001b[38;5;241m1\u001b[39m, \u001b[38;5;124m'\u001b[39m\u001b[38;5;124mb\u001b[39m\u001b[38;5;124m'\u001b[39m]\n\u001b[1;32m----> 3\u001b[0m \u001b[43mb\u001b[49m\u001b[38;5;241;43m.\u001b[39;49m\u001b[43msort\u001b[49m\u001b[43m(\u001b[49m\u001b[43m)\u001b[49m\n",
      "\u001b[1;31mTypeError\u001b[0m: '<' not supported between instances of 'int' and 'str'"
     ]
    }
   ],
   "source": [
    "# Sort() organizes the list based on a value or parameter. With text, default is A-Z\n",
    "\n",
    "b = ['a', 'e', 'c', 1, 'b']\n",
    "\n",
    "# Can only sort items of the same type\n",
    "b.sort()"
   ]
  },
  {
   "cell_type": "code",
   "execution_count": 271,
   "id": "83760bae-262e-4db4-8e94-64b6d7c1822e",
   "metadata": {},
   "outputs": [
    {
     "data": {
      "text/plain": [
       "['a', 'b', 'c', 'e']"
      ]
     },
     "execution_count": 271,
     "metadata": {},
     "output_type": "execute_result"
    }
   ],
   "source": [
    "b = ['a', 'e', 'c', 'b']\n",
    "\n",
    "b.sort()\n",
    "\n",
    "b"
   ]
  },
  {
   "cell_type": "code",
   "execution_count": 273,
   "id": "95feede5-992e-493b-a24c-abf5bcbe5a6f",
   "metadata": {},
   "outputs": [
    {
     "data": {
      "text/plain": [
       "[[1, 2, 3], [4, 5, 6], [7, 8, 9]]"
      ]
     },
     "execution_count": 273,
     "metadata": {},
     "output_type": "execute_result"
    }
   ],
   "source": [
    "# --- NESTING LISTS ---\n",
    "\n",
    "row1 = [1, 2, 3]\n",
    "row2 = [4, 5, 6]\n",
    "row3 = [7, 8, 9]\n",
    "\n",
    "nested_list1 = [row1, row2, row3]\n",
    "nested_list1"
   ]
  },
  {
   "cell_type": "code",
   "execution_count": 275,
   "id": "e3cb70dc-6d0e-4d07-9e2d-6ee604b5bbcd",
   "metadata": {},
   "outputs": [
    {
     "name": "stdout",
     "output_type": "stream",
     "text": [
      "4\n"
     ]
    }
   ],
   "source": [
    "# Print the first index element of the second index element.\n",
    "# nested_list1[nested_list1's index 2][index 2's index 1]\n",
    "\n",
    "print(nested_list1[1][0])"
   ]
  },
  {
   "cell_type": "code",
   "execution_count": 318,
   "id": "eeedb2e5-b70d-4f50-9694-bd4529f358ce",
   "metadata": {},
   "outputs": [
    {
     "name": "stdout",
     "output_type": "stream",
     "text": [
      "6\n"
     ]
    }
   ],
   "source": [
    "# Same method but backwards inside index 2\n",
    "\n",
    "print(nested_list1[1][-1])"
   ]
  },
  {
   "cell_type": "markdown",
   "id": "4abffaff-ec4a-4092-99e6-4af6501d7768",
   "metadata": {},
   "source": [
    "Question"
   ]
  },
  {
   "cell_type": "code",
   "execution_count": null,
   "id": "5ac65122-263f-4155-a236-4a81545182c3",
   "metadata": {},
   "outputs": [],
   "source": [
    "# Given a list attendance = [['ALICE', 'bob', 'CHARLES'], [20, 35, 15]]\n",
    "# print the list while also capitalizing the 2nd name."
   ]
  },
  {
   "cell_type": "code",
   "execution_count": 341,
   "id": "3a85b976-4ea0-47ae-9fbd-c9dd953189e3",
   "metadata": {},
   "outputs": [
    {
     "data": {
      "text/plain": [
       "[['ALICE', 'BOB', 'CHARLES'], [20, 35, 15]]"
      ]
     },
     "execution_count": 341,
     "metadata": {},
     "output_type": "execute_result"
    }
   ],
   "source": [
    "attendance = [['ALICE', 'bob', 'CHARLES'], [20, 35, 15]]\n",
    "\n",
    "# Use the upper() method on the value on the second index element of the first index element\n",
    "\n",
    "attendance[0][1] = attendance[0][1].upper()\n",
    "\n",
    "attendance"
   ]
  },
  {
   "cell_type": "markdown",
   "id": "6af0504c-2e65-4856-944e-11163203293d",
   "metadata": {},
   "source": [
    "MAJOR TOPIC 3 -- TUPLES"
   ]
  },
  {
   "cell_type": "code",
   "execution_count": 288,
   "id": "f90b0be4-4c1d-4c1d-85b1-970a4e5f1906",
   "metadata": {},
   "outputs": [
    {
     "name": "stdout",
     "output_type": "stream",
     "text": [
      "string\n",
      "(6, 'string', 4, 3.75, 2, 'a')\n"
     ]
    }
   ],
   "source": [
    "# Tuples are very similar to lists, with the one condition that they are IMMUTABLE\n",
    "# Ex. a matric cannot have its dimensions altered, so that is a use case for tuples\n",
    "\n",
    "# Tuples are constructed using paratheses ( ) and comma separated values\n",
    "\n",
    "t = (\"a\", 2, 3.75, 4, \"string\", 6)\n",
    "\n",
    "print(t[4])\n",
    "\n",
    "print(t[::-1])\n",
    "\n",
    "# These features work the same as lists"
   ]
  },
  {
   "cell_type": "code",
   "execution_count": 290,
   "id": "3bae656b-1833-402c-bcdf-7a8a3cb2487f",
   "metadata": {},
   "outputs": [
    {
     "ename": "AttributeError",
     "evalue": "'tuple' object has no attribute 'append'",
     "output_type": "error",
     "traceback": [
      "\u001b[1;31m---------------------------------------------------------------------------\u001b[0m",
      "\u001b[1;31mAttributeError\u001b[0m                            Traceback (most recent call last)",
      "Cell \u001b[1;32mIn[290], line 1\u001b[0m\n\u001b[1;32m----> 1\u001b[0m \u001b[43mt\u001b[49m\u001b[38;5;241;43m.\u001b[39;49m\u001b[43mappend\u001b[49m(\u001b[38;5;241m52\u001b[39m)\n",
      "\u001b[1;31mAttributeError\u001b[0m: 'tuple' object has no attribute 'append'"
     ]
    }
   ],
   "source": [
    "# Tuples cannot be changed. They are IMMUTABLE.\n",
    "# Both of these lines will produce an error:\n",
    "\n",
    "t.append(52)\n",
    "t[0] = 'c'"
   ]
  },
  {
   "cell_type": "code",
   "execution_count": 294,
   "id": "d76eab47-4ced-4120-865a-325702b07f9a",
   "metadata": {},
   "outputs": [
    {
     "data": {
      "text/plain": [
       "list"
      ]
     },
     "execution_count": 294,
     "metadata": {},
     "output_type": "execute_result"
    }
   ],
   "source": [
    "# However, you can easily convert a tuple into a list. Then, it becomes mutable and can be changed.\n",
    "\n",
    "tuple_to_list = list(t)\n",
    "\n",
    "type(tuple_to_list)"
   ]
  },
  {
   "cell_type": "code",
   "execution_count": 300,
   "id": "4012c7b7-97c7-4106-99bf-0849503257bb",
   "metadata": {},
   "outputs": [
    {
     "data": {
      "text/plain": [
       "('a', 2, 3.75, 4, 'string', 6)"
      ]
     },
     "execution_count": 300,
     "metadata": {},
     "output_type": "execute_result"
    }
   ],
   "source": [
    "# --- BASIC TUPLE METHODS ---\n",
    "# index() and count()\n",
    "\n",
    "t"
   ]
  },
  {
   "cell_type": "code",
   "execution_count": 304,
   "id": "5a282b40-1646-45ca-8681-5c47e90a06e2",
   "metadata": {},
   "outputs": [
    {
     "data": {
      "text/plain": [
       "2"
      ]
     },
     "execution_count": 304,
     "metadata": {},
     "output_type": "execute_result"
    }
   ],
   "source": [
    "# Index() returns the FIRST index of a certain value. Raises ERROR if not present in tuple\n",
    "\n",
    "# This value is found in index 2\n",
    "\n",
    "t.index(3.75)"
   ]
  },
  {
   "cell_type": "code",
   "execution_count": 312,
   "id": "57de85fd-a5ba-497f-b90a-61e0c7af3880",
   "metadata": {},
   "outputs": [
    {
     "name": "stdout",
     "output_type": "stream",
     "text": [
      "3\n",
      "1\n",
      "0\n"
     ]
    }
   ],
   "source": [
    "# Count() returns the number of occurances of the input\n",
    "\n",
    "r = (1, 2, 3, 3, 3, 4, 5, 4, 4, 5, 6)\n",
    "\n",
    "print(r.count(3))\n",
    "\n",
    "print(r.count(6))\n",
    "\n",
    "print(r.count(7))"
   ]
  },
  {
   "cell_type": "code",
   "execution_count": 316,
   "id": "b22049a1-5ba2-4a37-b745-a2208445d52b",
   "metadata": {},
   "outputs": [
    {
     "data": {
      "text/plain": [
       "6"
      ]
     },
     "execution_count": 316,
     "metadata": {},
     "output_type": "execute_result"
    }
   ],
   "source": [
    "# This functions the same as in lists. Searching for the 2nd index element within the 1st index element\n",
    "\n",
    "n = ((1, 2, 3), (4, 5, 6))\n",
    "\n",
    "n[1][2]"
   ]
  },
  {
   "cell_type": "markdown",
   "id": "aaaedbe3-5333-410f-9f72-7472b226058f",
   "metadata": {},
   "source": [
    "FINAL COMMENTS"
   ]
  },
  {
   "cell_type": "markdown",
   "id": "fa664e2a-7f6b-43a9-bbcd-b17f03437510",
   "metadata": {},
   "source": [
    "PEP-8: Naming Rules for Variables & Functions\n",
    "\n",
    "1. Cannot start with a number\n",
    "2. Cannot contain spaces (use underscores instead)\n",
    "3. Cannot have escape characters or symbols like the following : \" ' , < > ? @ # .\n",
    "4. Only use lowercase characters (ex. variable, my_list, snake_casing)\n",
    "\n",
    "\"Pascal Casing\"\n",
    "- Begins with a Capital letter and the rest is lowercase (ex. Pascal, Object, etc.)--this is for objects only.\n",
    "- Repeated for every word in a compound name (ex. CompoundPascalCasing, ObjectObject, etc.)\n",
    "\n",
    "\n",
    "   "
   ]
  },
  {
   "cell_type": "code",
   "execution_count": null,
   "id": "f3c6dfd3-b73f-4a58-8da2-d5fdbcd99e01",
   "metadata": {},
   "outputs": [],
   "source": []
  }
 ],
 "metadata": {
  "kernelspec": {
   "display_name": "Python 3 (ipykernel)",
   "language": "python",
   "name": "python3"
  },
  "language_info": {
   "codemirror_mode": {
    "name": "ipython",
    "version": 3
   },
   "file_extension": ".py",
   "mimetype": "text/x-python",
   "name": "python",
   "nbconvert_exporter": "python",
   "pygments_lexer": "ipython3",
   "version": "3.12.4"
  }
 },
 "nbformat": 4,
 "nbformat_minor": 5
}
