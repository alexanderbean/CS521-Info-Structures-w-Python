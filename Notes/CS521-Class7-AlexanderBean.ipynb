{
 "cells": [
  {
   "cell_type": "markdown",
   "metadata": {},
   "source": [
    "# CS521 - Class #7 - 10/17/24"
   ]
  },
  {
   "cell_type": "markdown",
   "metadata": {},
   "source": [
    "### Variable Scope and the LEGB Rule\n",
    "\n",
    "**Variable scope** in Python refers to the region in a program where a variable is recognized and can be accessed.\n",
    "- The scope of a variable determines its visibility and lifetime.\n",
    "- Based on where a variable is declared, it may be accessible only within a certain part of the program.\n",
    "- The **LEGB Rule** helps determine which variable Python will use when there are multiple variables with the same name.\n",
    "\n",
    "The LEGB rule is the method Python uses to resolve variables names based on their scope. Python looks for variables in the following order:\n",
    "1. **Local Scope (L)**\n",
    "- The innermost scope, where variables are defined inside a function or lambda expression.\n",
    "- These variables can only be accessed within that function or lambda.\n",
    "2. **Enclosing Scope (E)**\n",
    "- In the case of nested functions, the enclosing function’s scope is checked if the variable is not found in the local scope.\n",
    "- These variables are also sometimes called \"non-local\" variables.\n",
    "3. **Global Scope (G)**\n",
    "- Variables defined at the top level of a module or script, or explicitly declared global inside a function.\n",
    "- These are accessible throughout the module\n",
    "4. **Built-in Scope (B)**\n",
    "- The outermost scope, which contains Python's built-in functions and constants (like len(), range(), etc.)"
   ]
  },
  {
   "cell_type": "code",
   "execution_count": 7,
   "metadata": {},
   "outputs": [
    {
     "name": "stdout",
     "output_type": "stream",
     "text": [
      "LOCAL 3.14\n"
     ]
    }
   ],
   "source": [
    "# This shows how the LEGB rule. By commenting out the pi variables, you can see how Python references variables\n",
    "\n",
    "from math import pi\n",
    "\n",
    "pi = \"GLOBAL 3.14\"\n",
    "\n",
    "def outer():\n",
    "    pi = \"ENCLOSING 3.14\"\n",
    "\n",
    "    def inner():\n",
    "        pi = \"LOCAL 3.14\"\n",
    "        print(pi)\n",
    "\n",
    "    inner()\n",
    "\n",
    "outer()"
   ]
  },
  {
   "cell_type": "code",
   "execution_count": 18,
   "metadata": {},
   "outputs": [
    {
     "name": "stdout",
     "output_type": "stream",
     "text": [
      "10\n",
      "30\n",
      "50\n"
     ]
    }
   ],
   "source": [
    "x = 50 # Global\n",
    "\n",
    "def function_1():\n",
    "    x = 30 # Enclosing\n",
    "\n",
    "    def function_2():\n",
    "        x = 10 # Local\n",
    "        print(x)\n",
    "\n",
    "    function_2()\n",
    "    print(x)\n",
    "\n",
    "function_1()\n",
    "print(x)"
   ]
  },
  {
   "cell_type": "markdown",
   "metadata": {},
   "source": [
    "### The \"Global\" Keyword"
   ]
  },
  {
   "cell_type": "markdown",
   "metadata": {},
   "source": [
    "In Python, the global keyword is used to refer to or modify a variable that exists in the **global scope** (outside of any function). By default, variables inside a function are considered local to that function, meaning changes made to those variables do not affect global variables. However, if you need to modify a global variable within a function, you must use the global keyword."
   ]
  },
  {
   "cell_type": "markdown",
   "metadata": {},
   "source": [
    "Example 1: Modifying a Global Variable Inside a Function\n",
    "\n",
    "- Without using the global keyword, a function cannot modify a global variable."
   ]
  },
  {
   "cell_type": "code",
   "execution_count": 19,
   "metadata": {},
   "outputs": [
    {
     "name": "stdout",
     "output_type": "stream",
     "text": [
      "10\n",
      "20\n"
     ]
    }
   ],
   "source": [
    "x = 10  # Global variable\n",
    "\n",
    "def modify_global():\n",
    "    global x  # Declare that we are using the global 'x'\n",
    "    x = 20    # Modify the global 'x' variable\n",
    "    \n",
    "print(x) # Prints 10 before modification\n",
    "\n",
    "modify_global()\n",
    "\n",
    "print(x)  # Prints 20 after modification"
   ]
  },
  {
   "cell_type": "markdown",
   "metadata": {},
   "source": [
    "Example 2: Accessing a Global Variable without Modifying\n",
    "- You can access global variables inside a function without needing the global keyword if you're not modifying them.\n",
    "- However, if you want to both access and modify the global variable, you must use global ."
   ]
  },
  {
   "cell_type": "code",
   "execution_count": 20,
   "metadata": {},
   "outputs": [
    {
     "name": "stdout",
     "output_type": "stream",
     "text": [
      "5\n"
     ]
    }
   ],
   "source": [
    "y = 5  # Global variable\n",
    "\n",
    "def print_global():\n",
    "    print(y)  # No need for 'global' keyword if only reading the variable\n",
    "\n",
    "print_global()  # Prints 5"
   ]
  },
  {
   "cell_type": "markdown",
   "metadata": {},
   "source": [
    "### The \"Nonlocal\" Keyword\n",
    "\n",
    "The nonlocal keyword is used to declare that a variable inside the nested/enclosed function refers to a variable in the **nearest enclosing** scope (NOT global)"
   ]
  },
  {
   "cell_type": "code",
   "execution_count": 25,
   "metadata": {},
   "outputs": [
    {
     "name": "stdout",
     "output_type": "stream",
     "text": [
      "15\n",
      "15\n",
      "5\n"
     ]
    }
   ],
   "source": [
    "x = 5\n",
    " \n",
    "def outer():\n",
    "    x = 10\n",
    "    \n",
    "    def inner():\n",
    "        nonlocal x\n",
    "        x = 15\n",
    "        print(x)  # Prints 15\n",
    "    \n",
    "    inner()\n",
    "    print(x)  # Prints 15 after nonlocal reassignment for x\n",
    "    \n",
    "outer()\n",
    "print(x)  # Prints 5, no modification or reassignment"
   ]
  },
  {
   "cell_type": "code",
   "execution_count": 26,
   "metadata": {},
   "outputs": [
    {
     "name": "stdout",
     "output_type": "stream",
     "text": [
      "20\n",
      "20\n",
      "10\n",
      "5\n"
     ]
    }
   ],
   "source": [
    "x = 5\n",
    " \n",
    "def outer():\n",
    "    x = 10\n",
    "    \n",
    "    def inner():\n",
    "        x = 15\n",
    "\n",
    "        def innermost():\n",
    "            nonlocal x\n",
    "            x = 20\n",
    "            print(x) # Prints 20\n",
    "        \n",
    "        innermost()    \n",
    "        print(x)  # Prints 20 after nonlocal reassignment for x\n",
    "    \n",
    "    inner()\n",
    "    print(x)  # Prints 10, no modification or reassignment (not enclosing innermost()!)\n",
    "    \n",
    "outer()\n",
    "print(x)  # Prints 5, no modification or reassignment"
   ]
  },
  {
   "cell_type": "markdown",
   "metadata": {},
   "source": [
    "### The \"any()\" Method\n",
    "\n",
    "The any() function returns True if at least one of the elements in the iterable is True. If all elements are False, it returns False.\n",
    "- It is like an \"or\" operator. If any argument is True, it returns True. If all arguments are wrong, it returns False.\n",
    "\n",
    "Syntax\n",
    "- any(iterable)"
   ]
  },
  {
   "cell_type": "code",
   "execution_count": 31,
   "metadata": {},
   "outputs": [
    {
     "name": "stdout",
     "output_type": "stream",
     "text": [
      "True\n"
     ]
    }
   ],
   "source": [
    "# Example 1: Using any() with a list of booleans\n",
    "\n",
    "bool_list = [False, False, True, False]\n",
    "\n",
    "print(any(bool_list))  # Output is True"
   ]
  },
  {
   "cell_type": "code",
   "execution_count": 32,
   "metadata": {},
   "outputs": [
    {
     "name": "stdout",
     "output_type": "stream",
     "text": [
      "True\n"
     ]
    }
   ],
   "source": [
    "# Example 2: Using any() with a list of integers\n",
    "\n",
    "int_list = [0, 0, 3, 0]\n",
    "\n",
    "print(any(int_list))  # Output is True, any non-zero value is considered True"
   ]
  },
  {
   "cell_type": "code",
   "execution_count": 34,
   "metadata": {},
   "outputs": [
    {
     "name": "stdout",
     "output_type": "stream",
     "text": [
      "False\n"
     ]
    }
   ],
   "source": [
    "# Example 3: Using any() with an empty list\n",
    "\n",
    "empty_list = []\n",
    "\n",
    "print(any(empty_list)) # Output is False"
   ]
  },
  {
   "cell_type": "code",
   "execution_count": 36,
   "metadata": {},
   "outputs": [
    {
     "data": {
      "text/plain": [
       "False"
      ]
     },
     "execution_count": 36,
     "metadata": {},
     "output_type": "execute_result"
    }
   ],
   "source": [
    "# Example 4: Using any() with list comprehension\n",
    "\n",
    "test_num = 6\n",
    "\n",
    "num_list = [0, 1, 2, 3, 4, 7, 7, 9]\n",
    "\n",
    "any([num == test_num for num in num_list])"
   ]
  },
  {
   "cell_type": "markdown",
   "metadata": {},
   "source": [
    "### The \"all()\" Method\n",
    "\n",
    "The all() function returns True only if all elements in the iterable are True. If there's at least one False in the iterable, it returns False.\n",
    "- This is like the \"and\" operator."
   ]
  },
  {
   "cell_type": "code",
   "execution_count": 39,
   "metadata": {},
   "outputs": [
    {
     "name": "stdout",
     "output_type": "stream",
     "text": [
      "True\n"
     ]
    }
   ],
   "source": [
    "# Example 1: Using all() with a list of booleans\n",
    "\n",
    "bool_list = [True, True, True, True]\n",
    "\n",
    "print(all(bool_list))  # Output is True"
   ]
  },
  {
   "cell_type": "code",
   "execution_count": 40,
   "metadata": {},
   "outputs": [
    {
     "name": "stdout",
     "output_type": "stream",
     "text": [
      "False\n"
     ]
    }
   ],
   "source": [
    "# Example 1: Using all() with a list of mixed booleans\n",
    "\n",
    "bool_list = [True, False, True, False]\n",
    "\n",
    "print(all(bool_list))  # Output is False"
   ]
  },
  {
   "cell_type": "code",
   "execution_count": 38,
   "metadata": {},
   "outputs": [
    {
     "name": "stdout",
     "output_type": "stream",
     "text": [
      "True\n"
     ]
    }
   ],
   "source": [
    "# Example 2: Using all() with a list of integers\n",
    "\n",
    "int_list = [1, 2, 3, 4]\n",
    "\n",
    "print(any(int_list))  # Output is True, any non-zero value is considered True"
   ]
  },
  {
   "cell_type": "code",
   "execution_count": 41,
   "metadata": {},
   "outputs": [
    {
     "name": "stdout",
     "output_type": "stream",
     "text": [
      "True\n"
     ]
    }
   ],
   "source": [
    "# Example 4: Using all() with an empty list\n",
    "\n",
    "\n",
    "empty_list = []\n",
    "\n",
    "print(all(empty_list))  # Output is True--interestingly enough, this is because there are no \"False\" elements present."
   ]
  },
  {
   "cell_type": "code",
   "execution_count": 53,
   "metadata": {},
   "outputs": [
    {
     "data": {
      "text/plain": [
       "[[1, 2, 3], [4, 5, 6], [7, 7, 7]]"
      ]
     },
     "execution_count": 53,
     "metadata": {},
     "output_type": "execute_result"
    }
   ],
   "source": [
    "# You can even use them together\n",
    "\n",
    "my_matrix = [[1,2,3],[4,5,6],[7,7,7]]\n",
    "\n",
    "my_matrix"
   ]
  },
  {
   "cell_type": "code",
   "execution_count": 54,
   "metadata": {},
   "outputs": [
    {
     "data": {
      "text/plain": [
       "True"
      ]
     },
     "execution_count": 54,
     "metadata": {},
     "output_type": "execute_result"
    }
   ],
   "source": [
    "any(all([my_matrix[row][col]==7 for col in range(3)]) for row in range(3))"
   ]
  },
  {
   "cell_type": "markdown",
   "metadata": {},
   "source": [
    "### Tic-Tac-Toe"
   ]
  },
  {
   "cell_type": "markdown",
   "metadata": {},
   "source": [
    "- You are tasked with developing a Python program that allows two players to play a game of Tic-Tac-Toe.\n",
    "- The game will alternate between two players, displaying the board after every move.\n",
    "- The players will take turns inputting the position they wish to play on the 3x3 grid.\n",
    "- The program will ensure that no player can select a position that has already been played.\n",
    "- After every move, the program will check for a winner or a tie and display the appropriate message."
   ]
  },
  {
   "cell_type": "markdown",
   "metadata": {},
   "source": [
    "Requirements:\n",
    "\n",
    "1. **Tic-Tac-Toe Board**\n",
    "- The game should represent a 3x3 grid. The board will initially be empty, and each cell can be filled with either an 'X' or 'O', depending on which player’s turn it is.\n",
    "2. **Two Players**\n",
    "- Player 1 will be assigned 'X'.\n",
    "- Player 2 will be assigned 'O'.\n",
    "- Players alternate turns.\n",
    "3. **Input Validation**\n",
    "- On each turn, the player will enter the position where they want to place their marker (X or O).\n",
    "- Positions will be represented by numbers [1][1] to [3][3] corresponding to each of the 9 cells of the board.\n",
    "- If a player tries to play in a cell that has already been occupied, the program should prompt the player to choose a different cell.\n",
    "4. **Game Rules**\n",
    "- The program will check after each move whether a player has won the game or if there is a tie.\n",
    "- Winning: A player wins if they can place three of their markers in a horizontal, vertical, or diagonal line.\n",
    "- Tie: The game ends in a tie if all cells are filled and neither player has won.\n",
    "5. **Board Display**\n",
    "- After each move, the program should display the current state of the board.\n",
    "6. **Game End**\n",
    "- The game should end when a player wins or if there is a tie. Display a message indicating the winner or if the game ended in a tie."
   ]
  },
  {
   "cell_type": "markdown",
   "metadata": {},
   "source": [
    "Suggested Functions:\n",
    "\n",
    "1. display_board(board): Displays the current state of the game board.\n",
    "2. player_input(board) : Takes and validates input from the current player, ensuring the position is available.\n",
    "3. check_win(board, mark) : Checks whether the current player has won the game.\n",
    "4. check_tie(board) : Checks if the game is a tie (i.e., the board is full with no winner).\n",
    "5. switch_player(current_player) : Alternates between Player 1 ('X') and Player 2 ('O').\n",
    "\n"
   ]
  },
  {
   "cell_type": "markdown",
   "metadata": {},
   "source": [
    "Steps to Complete Assignment:\n",
    "\n",
    "1. Define the Board:\n",
    "- Represent the board using a 2D list (indexed from user input).\n",
    "2. Display the Board:\n",
    "- [1][1] to [3][3] for easier Write a function that will output the current state of the board after every move.\n",
    "3. Handle Player Input:\n",
    "- Write code that allows a player to input their choice of position as a pair of coordinates separated by a space (e.g. 2<space>3 ). Validate this input to ensure the player is not choosing a position that is already taken.\n",
    "4. Alternate Between Players:\n",
    "- Create a system that alternates turns between Player 1 ('X') and Player 2 ('O').\n",
    "5. Check for Winner or Tie:\n",
    "- Write functions to check whether a player has won (horizontal, vertical, diagonal win conditions) or if the game has resulted in a tie.\n",
    "6. End the Game:\n",
    "- End the game if there is a winner or a tie and display an appropriate message."
   ]
  },
  {
   "cell_type": "code",
   "execution_count": 151,
   "metadata": {},
   "outputs": [
    {
     "name": "stdout",
     "output_type": "stream",
     "text": [
      "--------------\n",
      "|   |   |   |\n",
      "--------------\n",
      "|   |   |   |\n",
      "--------------\n",
      "|   |   |   |\n",
      "--------------\n"
     ]
    }
   ],
   "source": [
    "def display_board(board):\n",
    "    print(\"--------------\") # show 14 dashes here\n",
    "    \n",
    "    for row in board:\n",
    "        print(\"|\", \" | \".join(row), \"|\")\n",
    "        print(\"--------------\") # show 14 dashes here\n",
    "    \n",
    "    # Example tic-tac-toe board\n",
    "\n",
    "tic_tac_toe_board = [[\" \", \" \", \" \"],\n",
    "                     [\" \", \" \", \" \"],\n",
    "                     [\" \", \" \", \" \"]]\n",
    "    \n",
    "display_board(tic_tac_toe_board)\n",
    "\n",
    "def check_win(tic_tac_toe_board):\n",
    "\n",
    "    player_list = [\"X\", \"O\"]\n",
    "    \n",
    "    if any(all([tic_tac_toe_board[row][col] in player_list for col in range(3)]) for row in range(3)):\n",
    "        print(\"3 in a row - Win!\")\n",
    "    elif any(all([tic_tac_toe_board[row][col] in player_list for row in range(3)]) for col in range(3)):\n",
    "        print(\"3 in a column - Win!\")\n",
    "    #elif :\n",
    "    #    print(\"3 in a diagonal - Win!\")\n",
    "\n",
    "#def switch_player(current_player):\n",
    "\n",
    "\n",
    "def player_input(board, mark):\n",
    "  #  played = False\n",
    "\n",
    "  #  while played != True:\n",
    "        row = int(input(\"Enter the row: \")) - 1\n",
    "        col = int(input(\"Enter the column:\")) - 1\n",
    "\n",
    "      #  if board[row][col] != \"\":\n",
    "       #     print(\"This cell is already played\")\n",
    "       # else:\n",
    "        board[row][col] = mark\n",
    "         #   played = True\n",
    "    \n"
   ]
  },
  {
   "cell_type": "code",
   "execution_count": 156,
   "metadata": {},
   "outputs": [
    {
     "name": "stdout",
     "output_type": "stream",
     "text": [
      "--------------\n",
      "|   |   | X |\n",
      "--------------\n",
      "|   | X | X |\n",
      "--------------\n",
      "|   |   | X |\n",
      "--------------\n",
      "3 in a column - Win!\n"
     ]
    }
   ],
   "source": [
    "mark = \"X\"\n",
    "\n",
    "player_input(tic_tac_toe_board, mark)\n",
    "\n",
    "display_board(tic_tac_toe_board)\n",
    "\n",
    "check_win(tic_tac_toe_board)\n",
    "\n",
    "#switch_player(current_player)"
   ]
  }
 ],
 "metadata": {
  "kernelspec": {
   "display_name": "Python 3",
   "language": "python",
   "name": "python3"
  },
  "language_info": {
   "codemirror_mode": {
    "name": "ipython",
    "version": 3
   },
   "file_extension": ".py",
   "mimetype": "text/x-python",
   "name": "python",
   "nbconvert_exporter": "python",
   "pygments_lexer": "ipython3",
   "version": "3.12.5"
  }
 },
 "nbformat": 4,
 "nbformat_minor": 2
}
