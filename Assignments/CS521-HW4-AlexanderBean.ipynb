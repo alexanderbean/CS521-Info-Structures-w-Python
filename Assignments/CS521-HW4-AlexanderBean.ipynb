{
 "cells": [
  {
   "cell_type": "markdown",
   "metadata": {},
   "source": [
    "# CS521 - Homework 4 - Alexander Bean"
   ]
  },
  {
   "cell_type": "markdown",
   "metadata": {},
   "source": [
    "### 1. List Comprehension with Multiple Conditions\n",
    "\n",
    "Use list comprehension to generate a list of all numbers from 1 to 1000 that are either divisible by 3 or end with the digit 7.\n",
    "\n",
    "The solution should not use any loops or additional libraries. The output should be a list of the form:\n",
    "- [3, 6, 7, 9, 12, 15, 17, 18, 21, 24, 27, …, 993, 996, 997]"
   ]
  },
  {
   "cell_type": "code",
   "execution_count": 40,
   "metadata": {},
   "outputs": [
    {
     "name": "stdout",
     "output_type": "stream",
     "text": [
      "[3, 6, 7, 9, 12, 15, 17, 18, 21, 24, 27, 30, 33, 36, 37, 39, 42, 45, 47, 48, 51, 54, 57, 60, 63, 66, 67, 69, 72, 75, 77, 78, 81, 84, 87, 90, 93, 96, 97, 99, 102, 105, 107, 108, 111, 114, 117, 120, 123, 126, 127, 129, 132, 135, 137, 138, 141, 144, 147, 150, 153, 156, 157, 159, 162, 165, 167, 168, 171, 174, 177, 180, 183, 186, 187, 189, 192, 195, 197, 198, 201, 204, 207, 210, 213, 216, 217, 219, 222, 225, 227, 228, 231, 234, 237, 240, 243, 246, 247, 249, 252, 255, 257, 258, 261, 264, 267, 270, 273, 276, 277, 279, 282, 285, 287, 288, 291, 294, 297, 300, 303, 306, 307, 309, 312, 315, 317, 318, 321, 324, 327, 330, 333, 336, 337, 339, 342, 345, 347, 348, 351, 354, 357, 360, 363, 366, 367, 369, 372, 375, 377, 378, 381, 384, 387, 390, 393, 396, 397, 399, 402, 405, 407, 408, 411, 414, 417, 420, 423, 426, 427, 429, 432, 435, 437, 438, 441, 444, 447, 450, 453, 456, 457, 459, 462, 465, 467, 468, 471, 474, 477, 480, 483, 486, 487, 489, 492, 495, 497, 498, 501, 504, 507, 510, 513, 516, 517, 519, 522, 525, 527, 528, 531, 534, 537, 540, 543, 546, 547, 549, 552, 555, 557, 558, 561, 564, 567, 570, 573, 576, 577, 579, 582, 585, 587, 588, 591, 594, 597, 600, 603, 606, 607, 609, 612, 615, 617, 618, 621, 624, 627, 630, 633, 636, 637, 639, 642, 645, 647, 648, 651, 654, 657, 660, 663, 666, 667, 669, 672, 675, 677, 678, 681, 684, 687, 690, 693, 696, 697, 699, 702, 705, 707, 708, 711, 714, 717, 720, 723, 726, 727, 729, 732, 735, 737, 738, 741, 744, 747, 750, 753, 756, 757, 759, 762, 765, 767, 768, 771, 774, 777, 780, 783, 786, 787, 789, 792, 795, 797, 798, 801, 804, 807, 810, 813, 816, 817, 819, 822, 825, 827, 828, 831, 834, 837, 840, 843, 846, 847, 849, 852, 855, 857, 858, 861, 864, 867, 870, 873, 876, 877, 879, 882, 885, 887, 888, 891, 894, 897, 900, 903, 906, 907, 909, 912, 915, 917, 918, 921, 924, 927, 930, 933, 936, 937, 939, 942, 945, 947, 948, 951, 954, 957, 960, 963, 966, 967, 969, 972, 975, 977, 978, 981, 984, 987, 990, 993, 996, 997, 999]\n"
     ]
    }
   ],
   "source": [
    "list = [num for num in range(1, 1001) if num % 3 == 0 or str(num)[len(str(num))-1::] == '7']\n",
    "\n",
    "print(list)"
   ]
  },
  {
   "cell_type": "markdown",
   "metadata": {},
   "source": [
    "### 2. Nested List Comprehension\n",
    "\n",
    "Nested List Comprehension is a technique in Python that allows you to generate nested lists (lists of lists) or process elements from nested lists in a concise and readable way. It essentially involves placing one list comprehension inside another.\n",
    "\n",
    "The general form of nested list comprehension is: [expression for item in outer_iterable for item2 in inner_iterable] Using nested list comprehension transpose (i.e., swap the rows and columns of) a given matrix.\n",
    "\n",
    "For example, if the input is\n",
    "- matrix = [\n",
    "- [1, 2, 3],\n",
    "- [4, 5, 6],\n",
    "- [7, 8, 9],\n",
    "- [10, 11, 12] ]\n",
    "\n",
    "...the output should be\n",
    "- transposed_matrix = [\n",
    "- [1, 4, 7, 10],\n",
    "- [2, 5, 8, 11],\n",
    "- [3, 6, 9, 12] ] "
   ]
  },
  {
   "cell_type": "code",
   "execution_count": 41,
   "metadata": {},
   "outputs": [
    {
     "name": "stdout",
     "output_type": "stream",
     "text": [
      "Original:\t [[1, 2, 3], [4, 5, 6], [7, 8, 9], [10, 11, 12]] \n",
      "Transposed:\t [[1, 4, 7, 10], [2, 5, 8, 11], [3, 6, 9, 12]]\n"
     ]
    }
   ],
   "source": [
    "matrix = [ [1, 2, 3], [4, 5, 6], [7, 8, 9], [10, 11, 12] ]\n",
    "\n",
    "transposed_matrix = [[list[index] for list in matrix] for index in range(len(matrix[0]))]\n",
    "\n",
    "print(\"Original:\\t\", matrix,\n",
    "      \"\\nTransposed:\\t\", transposed_matrix)"
   ]
  },
  {
   "cell_type": "markdown",
   "metadata": {},
   "source": [
    "### 3. Nested List Comprehension (Cont.)\n",
    "\n",
    "Write a program that uses nested list comprehension to “flatten” a give matrix, i.e., convert a nested list into a 1D list.\n",
    "\n",
    "For example, if the input is:\n",
    "- matrix = [\n",
    "- [1, 2, 3],\n",
    "- [4, 5, 6],\n",
    "- [7, 8, 9] ]\n",
    "\n",
    "...the program should output:\n",
    "- flattened_matrix = [1,2,3,4,5,6,7,8,9]"
   ]
  },
  {
   "cell_type": "code",
   "execution_count": 42,
   "metadata": {},
   "outputs": [
    {
     "name": "stdout",
     "output_type": "stream",
     "text": [
      "Original:\t [[1, 2, 3], [4, 5, 6], [7, 8, 9]] \n",
      "Flattened:\t [1, 2, 3, 4, 5, 6, 7, 8, 9]\n"
     ]
    }
   ],
   "source": [
    "matrix = [ [1, 2, 3], [4, 5, 6], [7, 8, 9] ]\n",
    "\n",
    "flattened_matrix = [list[index] for list in matrix for index in range(len(matrix[0]))]\n",
    "\n",
    "print(\"Original:\\t\", matrix,\n",
    "      \"\\nFlattened:\\t\", flattened_matrix)"
   ]
  },
  {
   "cell_type": "markdown",
   "metadata": {},
   "source": [
    "### 4. Dictionary Comprehension\n",
    "\n",
    "Given a string, use dictionary comprehension to create a frequency dictionary where the keys are characters and the values are the counts of how many times each character appears in the string.\n",
    "\n",
    "Example:\n",
    "- input: string = \"supercalifragilisticexpialidocious\"\n",
    "- Output: {'s': 3, 'u': 2, 'p': 2, 'e': 2, 'r': 2, 'c': 2, 'a': 2, 'l': 3, 'i': 7, 'f': 1, 'g': 1, 't': 1, 'x': 1, 'o': 2, 'd': 1}\n",
    "\n",
    "Hints:\n",
    "- What is the difference between a string and a set? How does one convert a string to a set?\n",
    "- What does the string method .count() return? "
   ]
  },
  {
   "cell_type": "code",
   "execution_count": 43,
   "metadata": {},
   "outputs": [
    {
     "name": "stdout",
     "output_type": "stream",
     "text": [
      "Input:\t supercalifragilisticexpialidocious \n",
      "Output:\t {'s': 3, 'u': 2, 'p': 2, 'e': 2, 'r': 2, 'c': 3, 'a': 3, 'l': 3, 'i': 7, 'f': 1, 'g': 1, 't': 1, 'x': 1, 'd': 1, 'o': 2}\n"
     ]
    }
   ],
   "source": [
    "string = \"supercalifragilisticexpialidocious\"\n",
    "\n",
    "dict = {char:string.count(char) for char in string}\n",
    "\n",
    "print(\"Input:\\t\", string,\n",
    "      \"\\nOutput:\\t\", dict)"
   ]
  },
  {
   "cell_type": "markdown",
   "metadata": {},
   "source": [
    "### 5. Search Algorithms\n",
    "\n",
    "Search algorithms are a fundamental concept in computer science, used to locate a specific element or set of elements in a collection of data. These collections can be unsorted or sorted arrays, trees, graphs, or databases. The goal of search algorithms is to find a target element with minimal computational effort, often measured by time complexity. In this problem, we will focus only on searching over lists (aka “arrays”). \n",
    "\n",
    "\n",
    "Consider a search algorithm that finds the position of a target value within a sorted array. The algorithm compares the target value to the middle element of the array. If they are not equal, it eliminates half of the array from consideration and continues the search in the remaining half. Implement this search algorithm.\n",
    "\n",
    "- Towards this end, import the random module and use the randint() method to generate a random array of 1000 elements in the range (0, 500).\n",
    "- Sort the array in ascending order and implement the search algorithm to determine if the number 27 is in the list\n",
    "- If yes, print the location of its first occurrence. If no, print “Number not found in list\".\n",
    "\n",
    "Key Points:\n",
    "- The array must be sorted before performing the search.\n",
    "- The algorithm works by repeatedly dividing the search interval in half.\n",
    "- If the target value is equal to the middle element, the search is successful.\n",
    "- If the target value is smaller than the middle element, the search continues in the left half; otherwise, it continues in the right half. "
   ]
  },
  {
   "cell_type": "code",
   "execution_count": 1,
   "metadata": {},
   "outputs": [
    {
     "ename": "TypeError",
     "evalue": "'int' object is not iterable",
     "output_type": "error",
     "traceback": [
      "\u001b[1;31m---------------------------------------------------------------------------\u001b[0m",
      "\u001b[1;31mTypeError\u001b[0m                                 Traceback (most recent call last)",
      "Cell \u001b[1;32mIn[1], line 3\u001b[0m\n\u001b[0;32m      1\u001b[0m \u001b[38;5;28;01mfrom\u001b[39;00m \u001b[38;5;21;01mrandom\u001b[39;00m \u001b[38;5;28;01mimport\u001b[39;00m randint\n\u001b[1;32m----> 3\u001b[0m array \u001b[38;5;241m=\u001b[39m \u001b[43m[\u001b[49m\u001b[43mnum\u001b[49m\u001b[43m \u001b[49m\u001b[38;5;28;43;01mfor\u001b[39;49;00m\u001b[43m \u001b[49m\u001b[43mval\u001b[49m\u001b[43m \u001b[49m\u001b[38;5;129;43;01min\u001b[39;49;00m\u001b[43m \u001b[49m\u001b[38;5;28;43mrange\u001b[39;49m\u001b[43m(\u001b[49m\u001b[38;5;241;43m1\u001b[39;49m\u001b[43m,\u001b[49m\u001b[43m \u001b[49m\u001b[38;5;241;43m1001\u001b[39;49m\u001b[43m)\u001b[49m\u001b[43m \u001b[49m\u001b[38;5;28;43;01mfor\u001b[39;49;00m\u001b[43m \u001b[49m\u001b[43mnum\u001b[49m\u001b[43m \u001b[49m\u001b[38;5;129;43;01min\u001b[39;49;00m\u001b[43m \u001b[49m\u001b[43mrandint\u001b[49m\u001b[43m(\u001b[49m\u001b[38;5;241;43m0\u001b[39;49m\u001b[43m,\u001b[49m\u001b[43m \u001b[49m\u001b[38;5;241;43m500\u001b[39;49m\u001b[43m)\u001b[49m\u001b[43m]\u001b[49m\n\u001b[0;32m      5\u001b[0m \u001b[38;5;28mprint\u001b[39m(array)\n",
      "\u001b[1;31mTypeError\u001b[0m: 'int' object is not iterable"
     ]
    }
   ],
   "source": [
    "from random import randint\n",
    "\n",
    "array = [num for val in range(1, 1001) for num in randint(0, 500)]\n",
    "\n",
    "print(array)"
   ]
  },
  {
   "cell_type": "code",
   "execution_count": 3,
   "metadata": {},
   "outputs": [
    {
     "name": "stdout",
     "output_type": "stream",
     "text": [
      "[379, 417, 296, 218, 54, 130, 187, 308, 148, 275, 73, 301, 312, 36, 211, 164, 156, 205, 11, 495, 196, 304, 418, 181, 119, 370, 150, 172, 0, 174, 448, 123, 72, 489, 73, 158, 368, 60, 82, 461, 144, 456, 208, 295, 178, 461, 463, 20, 390, 107, 305, 110, 392, 55, 414, 436, 11, 110, 187, 21, 7, 110, 342, 60, 61, 14, 327, 456, 431, 260, 252, 333, 264, 6, 265, 151, 472, 100, 440, 232, 75, 2, 104, 60, 469, 119, 302, 216, 105, 465, 270, 88, 213, 58, 346, 335, 189, 20, 93, 152, 463, 217, 404, 97, 343, 494, 259, 120, 304, 175, 314, 390, 215, 341, 143, 489, 105, 437, 468, 19, 115, 401, 334, 230, 258, 46, 467, 247, 259, 57, 86, 342, 276, 269, 52, 370, 381, 160, 22, 283, 253, 274, 2, 105, 67, 321, 322, 92, 225, 133, 474, 383, 91, 472, 493, 230, 377, 487, 19, 16, 262, 251, 338, 263, 162, 289, 440, 310, 263, 453, 342, 345, 381, 439, 315, 427, 39, 276, 143, 336, 485, 446, 395, 410, 172, 346, 14, 183, 217, 272, 170, 238, 133, 1, 280, 374, 176, 64, 234, 358, 110, 473, 216, 262, 170, 500, 27, 203, 380, 445, 170, 18, 322, 322, 89, 305, 163, 380, 491, 122, 185, 89, 289, 347, 320, 317, 291, 137, 172, 83, 44, 138, 132, 1, 338, 60, 277, 156, 291, 212, 53, 304, 140, 472, 260, 169, 126, 360, 171, 191, 165, 54, 434, 16, 416, 263, 460, 430, 394, 315, 12, 168, 64, 357, 334, 110, 71, 195, 466, 249, 205, 211, 323, 321, 472, 128, 128, 312, 290, 197, 6, 390, 252, 423, 243, 148, 217, 239, 35, 226, 155, 431, 419, 28, 466, 8, 392, 207, 13, 289, 492, 389, 137, 102, 496, 246, 13, 296, 464, 74, 216, 96, 437, 422, 341, 375, 68, 331, 161, 95, 229, 16, 269, 396, 196, 22, 315, 267, 203, 166, 421, 445, 9, 312, 411, 114, 346, 497, 193, 475, 342, 379, 297, 105, 391, 71, 113, 454, 118, 267, 101, 126, 3, 181, 156, 46, 297, 458, 467, 442, 192, 152, 374, 416, 492, 372, 413, 307, 463, 323, 313, 472, 165, 308, 393, 14, 499, 19, 484, 86, 435, 449, 217, 75, 49, 80, 478, 190, 176, 235, 466, 0, 228, 78, 204, 454, 450, 277, 357, 267, 233, 417, 338, 447, 291, 216, 158, 209, 104, 176, 281, 209, 209, 480, 132, 335, 169, 481, 268, 440, 282, 200, 269, 180, 385, 104, 429, 38, 8, 384, 317, 447, 489, 425, 148, 16, 318, 323, 110, 392, 393, 499, 91, 400, 104, 370, 81, 349, 123, 430, 493, 249, 458, 285, 305, 48, 316, 307, 109, 417, 463, 184, 191, 295, 466, 91, 125, 442, 144, 274, 218, 276, 360, 260, 94, 8, 378, 194, 179, 201, 208, 402, 204, 299, 256, 485, 342, 426, 424, 300, 20, 138, 84, 4, 65, 156, 267, 376, 127, 22, 348, 450, 116, 276, 240, 149, 374, 375, 366, 471, 268, 397, 392, 447, 157, 382, 280, 255, 190, 483, 186, 164, 237, 372, 394, 204, 60, 404, 381, 285, 115, 275, 166, 147, 50, 98, 487, 50, 104, 106, 187, 358, 153, 451, 385, 287, 177, 472, 311, 484, 54, 436, 378, 148, 173, 332, 240, 421, 227, 57, 493, 325, 37, 489, 447, 456, 74, 296, 149, 89, 396, 6, 346, 103, 414, 460, 98, 386, 261, 23, 483, 96, 127, 64, 191, 355, 209, 160, 3, 187, 277, 335, 258, 85, 266, 427, 139, 219, 476, 128, 59, 51, 145, 388, 5, 468, 258, 28, 428, 141, 390, 410, 271, 113, 18, 316, 139, 394, 92, 475, 459, 145, 340, 267, 452, 164, 284, 344, 441, 270, 36, 243, 496, 115, 45, 203, 227, 229, 138, 210, 406, 357, 340, 121, 246, 198, 308, 28, 324, 315, 418, 123, 389, 398, 446, 24, 330, 461, 220, 4, 395, 121, 402, 30, 132, 122, 66, 238, 106, 418, 72, 419, 28, 150, 80, 11, 433, 105, 93, 315, 174, 35, 219, 110, 335, 428, 256, 107, 89, 194, 108, 396, 394, 195, 56, 33, 446, 276, 177, 488, 480, 107, 231, 189, 24, 122, 10, 142, 319, 269, 77, 72, 94, 130, 426, 221, 378, 492, 372, 166, 393, 174, 303, 44, 93, 427, 178, 483, 496, 28, 321, 237, 58, 411, 96, 452, 139, 243, 170, 11, 212, 311, 379, 369, 53, 62, 180, 296, 89, 287, 145, 258, 5, 401, 461, 109, 336, 435, 445, 309, 206, 113, 151, 170, 209, 320, 249, 149, 149, 40, 342, 397, 177, 288, 113, 238, 361, 255, 427, 204, 259, 112, 354, 162, 131, 413, 346, 36, 420, 99, 69, 50, 17, 351, 203, 100, 184, 495, 12, 355, 42, 70, 270, 83, 34, 351, 31, 21, 263, 438, 306, 88, 107, 128, 293, 390, 429, 476, 264, 424, 174, 483, 470, 317, 301, 336, 352, 130, 252, 461, 103, 30, 328, 371, 398, 72, 489, 392, 487, 199, 59, 260, 57, 281, 191, 467, 405, 29, 112, 34, 20, 165, 11, 237, 162, 322, 212, 131, 242, 466, 224, 98, 171, 403, 233, 229, 254, 91, 460, 330, 78, 163, 118, 495, 264, 415, 281, 458, 284, 406, 463, 234, 241, 368, 344, 156, 51, 202, 307, 463, 97, 300, 467, 473, 340, 15, 38, 369, 490, 409, 158, 167, 150, 394, 454, 456, 479, 279, 473, 208, 355, 435, 494, 375, 453, 284, 398, 89, 35, 255, 333, 81, 313, 291, 336, 450, 345, 390, 365, 231, 144, 263, 230, 189, 471, 176, 254, 297, 134, 70, 353, 65, 355, 426, 452, 343, 226, 353, 297, 488, 383, 182, 7, 265, 258, 86, 51, 232, 162, 423, 378, 472, 256, 432, 163, 211, 43, 232, 310, 209, 243, 421, 148, 175, 81, 131, 216, 215, 107, 246, 3, 289, 197, 57, 23, 405, 388, 147, 270, 339, 215, 88, 218, 411, 302, 277, 352, 162, 307, 19]\n"
     ]
    }
   ],
   "source": [
    "array = []\n",
    "\n",
    "for i in range(1, 1001):\n",
    "    array.append(randint(0, 500))\n",
    "\n",
    "print(array)"
   ]
  }
 ],
 "metadata": {
  "kernelspec": {
   "display_name": "Python 3",
   "language": "python",
   "name": "python3"
  },
  "language_info": {
   "codemirror_mode": {
    "name": "ipython",
    "version": 3
   },
   "file_extension": ".py",
   "mimetype": "text/x-python",
   "name": "python",
   "nbconvert_exporter": "python",
   "pygments_lexer": "ipython3",
   "version": "3.12.5"
  }
 },
 "nbformat": 4,
 "nbformat_minor": 2
}
